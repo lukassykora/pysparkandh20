{
 "cells": [
  {
   "cell_type": "markdown",
   "metadata": {},
   "source": [
    "# Introduction\n",
    "The author follows the CRISP-DM methodology.\n",
    "![CRISP-DM](Data/crisp.png)"
   ]
  },
  {
   "cell_type": "markdown",
   "metadata": {},
   "source": [
    "# Business Understanding\n",
    "\n",
    "Many people struggle to get loans due to insufficient or non-existent credit histories. And, unfortunately, this population is often taken advantage of by untrustworthy lenders.\n",
    "\n",
    "Home Credit strives to broaden financial inclusion for the unbanked population by providing a positive and safe borrowing experience. In order to make sure this underserved population has a positive loan experience, Home Credit makes use of a variety of alternative data--including telco and transactional information--to predict their clients' repayment abilities.\n",
    "\n",
    "While Home Credit is currently using various statistical and machine learning methods to make these predictions, they're challenging Kagglers to help them unlock the full potential of their data. Doing so will ensure that clients capable of repayment are not rejected and that loans are given with a principal, maturity, and repayment calendar that will empower their clients to be successful."
   ]
  },
  {
   "cell_type": "markdown",
   "metadata": {},
   "source": [
    "# Data Understanding\n",
    "\n",
    "application_{train|test}.csv\n",
    "\n",
    "- This is the main table, broken into two files for Train (with TARGET) and Test (without TARGET).\n",
    "- Static data for all applications. One row represents one loan in our data sample.\n",
    "\n",
    "bureau.csv\n",
    "\n",
    "- All client's previous credits provided by other financial institutions that were reported to Credit Bureau (for clients who have a loan in our sample).\n",
    "- For every loan in our sample, there are as many rows as number of credits the client had in Credit Bureau before the application date.\n",
    "\n",
    "bureau_balance.csv\n",
    "\n",
    "- Monthly balances of previous credits in Credit Bureau.\n",
    "- This table has one row for each month of history of every previous credit reported to Credit Bureau – i.e the table has (#loans in sample * # of relative previous credits * # of months where we have some history observable for the previous credits) rows.\n",
    "\n",
    "POS_CASH_balance.csv\n",
    "\n",
    "- Monthly balance snapshots of previous POS (point of sales) and cash loans that the applicant had with Home Credit.\n",
    "- This table has one row for each month of history of every previous credit in Home Credit (consumer credit and cash loans) related to loans in our sample – i.e. the table has (#loans in sample * # of relative previous credits * # of months in which we have some history observable for the previous credits) rows.\n",
    "\n",
    "credit_card_balance.csv\n",
    "\n",
    "- Monthly balance snapshots of previous credit cards that the applicant has with Home Credit.\n",
    "- This table has one row for each month of history of every previous credit in Home Credit (consumer credit and cash loans) related to loans in our sample – i.e. the table has (#loans in sample * # of relative previous credit cards * # of months where we have some history observable for the previous credit card) rows.\n",
    "\n",
    "previous_application.csv\n",
    "\n",
    "- All previous applications for Home Credit loans of clients who have loans in our sample.\n",
    "- There is one row for each previous application related to loans in our data sample.\n",
    "\n",
    "installments_payments.csv\n",
    "\n",
    "- Repayment history for the previously disbursed credits in Home Credit related to the loans in our sample.\n",
    "- There is a) one row for every payment that was made plus b) one row each for missed payment.\n",
    "- One row is equivalent to one payment of one installment OR one installment corresponding to one payment of one previous Home Credit credit related to loans in our sample.\n",
    "\n",
    "HomeCredit_columns_description.csv\n",
    "\n",
    "- This file contains descriptions for the columns in the various data files."
   ]
  },
  {
   "cell_type": "markdown",
   "metadata": {},
   "source": [
    "![CRISP-DM](Data/home_credit.png)"
   ]
  },
  {
   "cell_type": "markdown",
   "metadata": {},
   "source": [
    "Start Spark"
   ]
  },
  {
   "cell_type": "code",
   "execution_count": 1,
   "metadata": {},
   "outputs": [],
   "source": [
    "import pandas as pd\n",
    "import findspark \n",
    "import os\n",
    "from pyspark import SparkContext \n",
    "from pyspark.sql import SparkSession\n",
    "findspark.init() \n",
    "spark = SparkSession\\\n",
    "    .builder\\\n",
    "    .appName(\"HomeCreditApp\")\\\n",
    "    .config(\"spark.driver.memory\", \"8G\")\\\n",
    "    .config(\"spark.executor.memory\", \"4G\")\\\n",
    "    .getOrCreate()"
   ]
  },
  {
   "cell_type": "code",
   "execution_count": 2,
   "metadata": {},
   "outputs": [],
   "source": [
    "sparkApplicationData = spark\\\n",
    "            .read\\\n",
    "            .option(\"header\", \"true\")\\\n",
    "            .option(\"inferSchema\", \"true\")\\\n",
    "            .option(\"delimiter\", \",\")\\\n",
    "            .csv(\"Data/application_train.csv\")\\\n",
    "            .cache()"
   ]
  },
  {
   "cell_type": "code",
   "execution_count": 3,
   "metadata": {},
   "outputs": [],
   "source": [
    "sparkApplicationDataTest = spark\\\n",
    "            .read\\\n",
    "            .option(\"header\", \"true\")\\\n",
    "            .option(\"inferSchema\", \"true\")\\\n",
    "            .option(\"delimiter\", \",\")\\\n",
    "            .csv(\"Data/application_test.csv\")\\\n",
    "            .cache()"
   ]
  },
  {
   "cell_type": "code",
   "execution_count": 4,
   "metadata": {},
   "outputs": [],
   "source": [
    "sparkPosCashData = spark\\\n",
    "            .read\\\n",
    "            .option(\"header\", \"true\")\\\n",
    "            .option(\"inferSchema\", \"true\")\\\n",
    "            .option(\"delimiter\", \",\")\\\n",
    "            .csv(\"Data/POS_CASH_balance.csv\")\\\n",
    "            .cache()\n",
    "sparkPosCashData1 = sparkPosCashData.withColumnRenamed(\"SK_ID_CURR\",\"SK_ID_CURR_MIN\")\n",
    "sparkPosCashData2 = sparkPosCashData.withColumnRenamed(\"SK_ID_CURR\",\"SK_ID_CURR_MAX\")\n",
    "sparkPosCashDataMin = sparkPosCashData1.groupBy('SK_ID_CURR_MIN').min()\n",
    "sparkPosCashDataMax = sparkPosCashData2.groupBy('SK_ID_CURR_MAX').max()"
   ]
  },
  {
   "cell_type": "code",
   "execution_count": 5,
   "metadata": {},
   "outputs": [],
   "source": [
    "sparkBureauData = spark\\\n",
    "            .read\\\n",
    "            .option(\"header\", \"true\")\\\n",
    "            .option(\"inferSchema\", \"true\")\\\n",
    "            .option(\"delimiter\", \",\")\\\n",
    "            .csv(\"Data/bureau.csv\")\\\n",
    "            .cache()\n",
    "sparkBureauData1 = sparkBureauData.withColumnRenamed(\"SK_ID_CURR\",\"SK_ID_CURR_BUR_MIN\")\n",
    "sparkBureauData2 = sparkBureauData.withColumnRenamed(\"SK_ID_CURR\",\"SK_ID_CURR_BUR_MAX\")\n",
    "sparkBureauDataMin = sparkBureauData1.groupBy('SK_ID_CURR_BUR_MIN').min()\n",
    "sparkBureauDataMax = sparkBureauData2.groupBy('SK_ID_CURR_BUR_MAX').max()"
   ]
  },
  {
   "cell_type": "markdown",
   "metadata": {},
   "source": [
    "Join tables"
   ]
  },
  {
   "cell_type": "code",
   "execution_count": 6,
   "metadata": {},
   "outputs": [],
   "source": [
    "sparkApplicationData = sparkApplicationData.join(sparkPosCashDataMin, sparkApplicationData.SK_ID_CURR == sparkPosCashDataMin.SK_ID_CURR_MIN, how='left')\n",
    "sparkApplicationData = sparkApplicationData.join(sparkPosCashDataMax, sparkApplicationData.SK_ID_CURR == sparkPosCashDataMax.SK_ID_CURR_MAX, how='left')\n",
    "sparkApplicationData = sparkApplicationData.join(sparkBureauDataMin, sparkApplicationData.SK_ID_CURR == sparkBureauDataMin.SK_ID_CURR_BUR_MIN, how='left')\n",
    "sparkApplicationData = sparkApplicationData.join(sparkBureauDataMax, sparkApplicationData.SK_ID_CURR == sparkBureauDataMax.SK_ID_CURR_BUR_MAX, how='left')"
   ]
  },
  {
   "cell_type": "code",
   "execution_count": 7,
   "metadata": {},
   "outputs": [],
   "source": [
    "sparkApplicationDataTest = sparkApplicationDataTest.join(sparkPosCashDataMin, sparkApplicationDataTest.SK_ID_CURR == sparkPosCashDataMin.SK_ID_CURR_MIN, how='left')\n",
    "sparkApplicationDataTest = sparkApplicationDataTest.join(sparkPosCashDataMax, sparkApplicationDataTest.SK_ID_CURR == sparkPosCashDataMax.SK_ID_CURR_MAX, how='left')\n",
    "sparkApplicationDataTest = sparkApplicationDataTest.join(sparkBureauDataMin, sparkApplicationDataTest.SK_ID_CURR == sparkBureauDataMin.SK_ID_CURR_BUR_MIN, how='left')\n",
    "sparkApplicationDataTest = sparkApplicationDataTest.join(sparkBureauDataMax, sparkApplicationDataTest.SK_ID_CURR == sparkBureauDataMax.SK_ID_CURR_BUR_MAX, how='left')"
   ]
  },
  {
   "cell_type": "markdown",
   "metadata": {},
   "source": [
    "Columns and null values"
   ]
  },
  {
   "cell_type": "code",
   "execution_count": 8,
   "metadata": {},
   "outputs": [
    {
     "name": "stdout",
     "output_type": "stream",
     "text": [
      "root\n",
      " |-- SK_ID_CURR: integer (nullable = true)\n",
      " |-- TARGET: integer (nullable = true)\n",
      " |-- NAME_CONTRACT_TYPE: string (nullable = true)\n",
      " |-- CODE_GENDER: string (nullable = true)\n",
      " |-- FLAG_OWN_CAR: string (nullable = true)\n",
      " |-- FLAG_OWN_REALTY: string (nullable = true)\n",
      " |-- CNT_CHILDREN: integer (nullable = true)\n",
      " |-- AMT_INCOME_TOTAL: double (nullable = true)\n",
      " |-- AMT_CREDIT: double (nullable = true)\n",
      " |-- AMT_ANNUITY: double (nullable = true)\n",
      " |-- AMT_GOODS_PRICE: double (nullable = true)\n",
      " |-- NAME_TYPE_SUITE: string (nullable = true)\n",
      " |-- NAME_INCOME_TYPE: string (nullable = true)\n",
      " |-- NAME_EDUCATION_TYPE: string (nullable = true)\n",
      " |-- NAME_FAMILY_STATUS: string (nullable = true)\n",
      " |-- NAME_HOUSING_TYPE: string (nullable = true)\n",
      " |-- REGION_POPULATION_RELATIVE: double (nullable = true)\n",
      " |-- DAYS_BIRTH: integer (nullable = true)\n",
      " |-- DAYS_EMPLOYED: integer (nullable = true)\n",
      " |-- DAYS_REGISTRATION: double (nullable = true)\n",
      " |-- DAYS_ID_PUBLISH: integer (nullable = true)\n",
      " |-- OWN_CAR_AGE: double (nullable = true)\n",
      " |-- FLAG_MOBIL: integer (nullable = true)\n",
      " |-- FLAG_EMP_PHONE: integer (nullable = true)\n",
      " |-- FLAG_WORK_PHONE: integer (nullable = true)\n",
      " |-- FLAG_CONT_MOBILE: integer (nullable = true)\n",
      " |-- FLAG_PHONE: integer (nullable = true)\n",
      " |-- FLAG_EMAIL: integer (nullable = true)\n",
      " |-- OCCUPATION_TYPE: string (nullable = true)\n",
      " |-- CNT_FAM_MEMBERS: double (nullable = true)\n",
      " |-- REGION_RATING_CLIENT: integer (nullable = true)\n",
      " |-- REGION_RATING_CLIENT_W_CITY: integer (nullable = true)\n",
      " |-- WEEKDAY_APPR_PROCESS_START: string (nullable = true)\n",
      " |-- HOUR_APPR_PROCESS_START: integer (nullable = true)\n",
      " |-- REG_REGION_NOT_LIVE_REGION: integer (nullable = true)\n",
      " |-- REG_REGION_NOT_WORK_REGION: integer (nullable = true)\n",
      " |-- LIVE_REGION_NOT_WORK_REGION: integer (nullable = true)\n",
      " |-- REG_CITY_NOT_LIVE_CITY: integer (nullable = true)\n",
      " |-- REG_CITY_NOT_WORK_CITY: integer (nullable = true)\n",
      " |-- LIVE_CITY_NOT_WORK_CITY: integer (nullable = true)\n",
      " |-- ORGANIZATION_TYPE: string (nullable = true)\n",
      " |-- EXT_SOURCE_1: double (nullable = true)\n",
      " |-- EXT_SOURCE_2: double (nullable = true)\n",
      " |-- EXT_SOURCE_3: double (nullable = true)\n",
      " |-- APARTMENTS_AVG: double (nullable = true)\n",
      " |-- BASEMENTAREA_AVG: double (nullable = true)\n",
      " |-- YEARS_BEGINEXPLUATATION_AVG: double (nullable = true)\n",
      " |-- YEARS_BUILD_AVG: double (nullable = true)\n",
      " |-- COMMONAREA_AVG: double (nullable = true)\n",
      " |-- ELEVATORS_AVG: double (nullable = true)\n",
      " |-- ENTRANCES_AVG: double (nullable = true)\n",
      " |-- FLOORSMAX_AVG: double (nullable = true)\n",
      " |-- FLOORSMIN_AVG: double (nullable = true)\n",
      " |-- LANDAREA_AVG: double (nullable = true)\n",
      " |-- LIVINGAPARTMENTS_AVG: double (nullable = true)\n",
      " |-- LIVINGAREA_AVG: double (nullable = true)\n",
      " |-- NONLIVINGAPARTMENTS_AVG: double (nullable = true)\n",
      " |-- NONLIVINGAREA_AVG: double (nullable = true)\n",
      " |-- APARTMENTS_MODE: double (nullable = true)\n",
      " |-- BASEMENTAREA_MODE: double (nullable = true)\n",
      " |-- YEARS_BEGINEXPLUATATION_MODE: double (nullable = true)\n",
      " |-- YEARS_BUILD_MODE: double (nullable = true)\n",
      " |-- COMMONAREA_MODE: double (nullable = true)\n",
      " |-- ELEVATORS_MODE: double (nullable = true)\n",
      " |-- ENTRANCES_MODE: double (nullable = true)\n",
      " |-- FLOORSMAX_MODE: double (nullable = true)\n",
      " |-- FLOORSMIN_MODE: double (nullable = true)\n",
      " |-- LANDAREA_MODE: double (nullable = true)\n",
      " |-- LIVINGAPARTMENTS_MODE: double (nullable = true)\n",
      " |-- LIVINGAREA_MODE: double (nullable = true)\n",
      " |-- NONLIVINGAPARTMENTS_MODE: double (nullable = true)\n",
      " |-- NONLIVINGAREA_MODE: double (nullable = true)\n",
      " |-- APARTMENTS_MEDI: double (nullable = true)\n",
      " |-- BASEMENTAREA_MEDI: double (nullable = true)\n",
      " |-- YEARS_BEGINEXPLUATATION_MEDI: double (nullable = true)\n",
      " |-- YEARS_BUILD_MEDI: double (nullable = true)\n",
      " |-- COMMONAREA_MEDI: double (nullable = true)\n",
      " |-- ELEVATORS_MEDI: double (nullable = true)\n",
      " |-- ENTRANCES_MEDI: double (nullable = true)\n",
      " |-- FLOORSMAX_MEDI: double (nullable = true)\n",
      " |-- FLOORSMIN_MEDI: double (nullable = true)\n",
      " |-- LANDAREA_MEDI: double (nullable = true)\n",
      " |-- LIVINGAPARTMENTS_MEDI: double (nullable = true)\n",
      " |-- LIVINGAREA_MEDI: double (nullable = true)\n",
      " |-- NONLIVINGAPARTMENTS_MEDI: double (nullable = true)\n",
      " |-- NONLIVINGAREA_MEDI: double (nullable = true)\n",
      " |-- FONDKAPREMONT_MODE: string (nullable = true)\n",
      " |-- HOUSETYPE_MODE: string (nullable = true)\n",
      " |-- TOTALAREA_MODE: double (nullable = true)\n",
      " |-- WALLSMATERIAL_MODE: string (nullable = true)\n",
      " |-- EMERGENCYSTATE_MODE: string (nullable = true)\n",
      " |-- OBS_30_CNT_SOCIAL_CIRCLE: double (nullable = true)\n",
      " |-- DEF_30_CNT_SOCIAL_CIRCLE: double (nullable = true)\n",
      " |-- OBS_60_CNT_SOCIAL_CIRCLE: double (nullable = true)\n",
      " |-- DEF_60_CNT_SOCIAL_CIRCLE: double (nullable = true)\n",
      " |-- DAYS_LAST_PHONE_CHANGE: double (nullable = true)\n",
      " |-- FLAG_DOCUMENT_2: integer (nullable = true)\n",
      " |-- FLAG_DOCUMENT_3: integer (nullable = true)\n",
      " |-- FLAG_DOCUMENT_4: integer (nullable = true)\n",
      " |-- FLAG_DOCUMENT_5: integer (nullable = true)\n",
      " |-- FLAG_DOCUMENT_6: integer (nullable = true)\n",
      " |-- FLAG_DOCUMENT_7: integer (nullable = true)\n",
      " |-- FLAG_DOCUMENT_8: integer (nullable = true)\n",
      " |-- FLAG_DOCUMENT_9: integer (nullable = true)\n",
      " |-- FLAG_DOCUMENT_10: integer (nullable = true)\n",
      " |-- FLAG_DOCUMENT_11: integer (nullable = true)\n",
      " |-- FLAG_DOCUMENT_12: integer (nullable = true)\n",
      " |-- FLAG_DOCUMENT_13: integer (nullable = true)\n",
      " |-- FLAG_DOCUMENT_14: integer (nullable = true)\n",
      " |-- FLAG_DOCUMENT_15: integer (nullable = true)\n",
      " |-- FLAG_DOCUMENT_16: integer (nullable = true)\n",
      " |-- FLAG_DOCUMENT_17: integer (nullable = true)\n",
      " |-- FLAG_DOCUMENT_18: integer (nullable = true)\n",
      " |-- FLAG_DOCUMENT_19: integer (nullable = true)\n",
      " |-- FLAG_DOCUMENT_20: integer (nullable = true)\n",
      " |-- FLAG_DOCUMENT_21: integer (nullable = true)\n",
      " |-- AMT_REQ_CREDIT_BUREAU_HOUR: double (nullable = true)\n",
      " |-- AMT_REQ_CREDIT_BUREAU_DAY: double (nullable = true)\n",
      " |-- AMT_REQ_CREDIT_BUREAU_WEEK: double (nullable = true)\n",
      " |-- AMT_REQ_CREDIT_BUREAU_MON: double (nullable = true)\n",
      " |-- AMT_REQ_CREDIT_BUREAU_QRT: double (nullable = true)\n",
      " |-- AMT_REQ_CREDIT_BUREAU_YEAR: double (nullable = true)\n",
      " |-- SK_ID_CURR_MIN: integer (nullable = true)\n",
      " |-- min(SK_ID_PREV): integer (nullable = true)\n",
      " |-- min(SK_ID_CURR_MIN): integer (nullable = true)\n",
      " |-- min(MONTHS_BALANCE): integer (nullable = true)\n",
      " |-- min(CNT_INSTALMENT): double (nullable = true)\n",
      " |-- min(CNT_INSTALMENT_FUTURE): double (nullable = true)\n",
      " |-- min(SK_DPD): integer (nullable = true)\n",
      " |-- min(SK_DPD_DEF): integer (nullable = true)\n",
      " |-- SK_ID_CURR_MAX: integer (nullable = true)\n",
      " |-- max(SK_ID_PREV): integer (nullable = true)\n",
      " |-- max(SK_ID_CURR_MAX): integer (nullable = true)\n",
      " |-- max(MONTHS_BALANCE): integer (nullable = true)\n",
      " |-- max(CNT_INSTALMENT): double (nullable = true)\n",
      " |-- max(CNT_INSTALMENT_FUTURE): double (nullable = true)\n",
      " |-- max(SK_DPD): integer (nullable = true)\n",
      " |-- max(SK_DPD_DEF): integer (nullable = true)\n",
      " |-- SK_ID_CURR_BUR_MIN: integer (nullable = true)\n",
      " |-- min(SK_ID_CURR_BUR_MIN): integer (nullable = true)\n",
      " |-- min(SK_ID_BUREAU): integer (nullable = true)\n",
      " |-- min(DAYS_CREDIT): integer (nullable = true)\n",
      " |-- min(CREDIT_DAY_OVERDUE): integer (nullable = true)\n",
      " |-- min(DAYS_CREDIT_ENDDATE): double (nullable = true)\n",
      " |-- min(DAYS_ENDDATE_FACT): double (nullable = true)\n",
      " |-- min(AMT_CREDIT_MAX_OVERDUE): double (nullable = true)\n",
      " |-- min(CNT_CREDIT_PROLONG): integer (nullable = true)\n",
      " |-- min(AMT_CREDIT_SUM): double (nullable = true)\n",
      " |-- min(AMT_CREDIT_SUM_DEBT): double (nullable = true)\n",
      " |-- min(AMT_CREDIT_SUM_LIMIT): double (nullable = true)\n",
      " |-- min(AMT_CREDIT_SUM_OVERDUE): double (nullable = true)\n",
      " |-- min(DAYS_CREDIT_UPDATE): integer (nullable = true)\n",
      " |-- min(AMT_ANNUITY): double (nullable = true)\n",
      " |-- SK_ID_CURR_BUR_MAX: integer (nullable = true)\n",
      " |-- max(SK_ID_CURR_BUR_MAX): integer (nullable = true)\n",
      " |-- max(SK_ID_BUREAU): integer (nullable = true)\n",
      " |-- max(DAYS_CREDIT): integer (nullable = true)\n",
      " |-- max(CREDIT_DAY_OVERDUE): integer (nullable = true)\n",
      " |-- max(DAYS_CREDIT_ENDDATE): double (nullable = true)\n",
      " |-- max(DAYS_ENDDATE_FACT): double (nullable = true)\n",
      " |-- max(AMT_CREDIT_MAX_OVERDUE): double (nullable = true)\n",
      " |-- max(CNT_CREDIT_PROLONG): integer (nullable = true)\n",
      " |-- max(AMT_CREDIT_SUM): double (nullable = true)\n",
      " |-- max(AMT_CREDIT_SUM_DEBT): double (nullable = true)\n",
      " |-- max(AMT_CREDIT_SUM_LIMIT): double (nullable = true)\n",
      " |-- max(AMT_CREDIT_SUM_OVERDUE): double (nullable = true)\n",
      " |-- max(DAYS_CREDIT_UPDATE): integer (nullable = true)\n",
      " |-- max(AMT_ANNUITY): double (nullable = true)\n",
      "\n"
     ]
    }
   ],
   "source": [
    "sparkApplicationData\\\n",
    "  .printSchema()"
   ]
  },
  {
   "cell_type": "code",
   "execution_count": 9,
   "metadata": {},
   "outputs": [
    {
     "data": {
      "text/html": [
       "Column <b>SK_ID_CURR</b> has <b>0</b> null records"
      ],
      "text/plain": [
       "<IPython.core.display.HTML object>"
      ]
     },
     "metadata": {},
     "output_type": "display_data"
    },
    {
     "data": {
      "text/html": [
       "Column <b>TARGET</b> has <b>0</b> null records"
      ],
      "text/plain": [
       "<IPython.core.display.HTML object>"
      ]
     },
     "metadata": {},
     "output_type": "display_data"
    },
    {
     "data": {
      "text/html": [
       "Column <b>NAME_CONTRACT_TYPE</b> has <b>0</b> null records"
      ],
      "text/plain": [
       "<IPython.core.display.HTML object>"
      ]
     },
     "metadata": {},
     "output_type": "display_data"
    },
    {
     "data": {
      "text/html": [
       "Column <b>CODE_GENDER</b> has <b>0</b> null records"
      ],
      "text/plain": [
       "<IPython.core.display.HTML object>"
      ]
     },
     "metadata": {},
     "output_type": "display_data"
    },
    {
     "data": {
      "text/html": [
       "Column <b>FLAG_OWN_CAR</b> has <b>0</b> null records"
      ],
      "text/plain": [
       "<IPython.core.display.HTML object>"
      ]
     },
     "metadata": {},
     "output_type": "display_data"
    },
    {
     "data": {
      "text/html": [
       "Column <b>FLAG_OWN_REALTY</b> has <b>0</b> null records"
      ],
      "text/plain": [
       "<IPython.core.display.HTML object>"
      ]
     },
     "metadata": {},
     "output_type": "display_data"
    },
    {
     "data": {
      "text/html": [
       "Column <b>CNT_CHILDREN</b> has <b>0</b> null records"
      ],
      "text/plain": [
       "<IPython.core.display.HTML object>"
      ]
     },
     "metadata": {},
     "output_type": "display_data"
    },
    {
     "data": {
      "text/html": [
       "Column <b>AMT_INCOME_TOTAL</b> has <b>0</b> null records"
      ],
      "text/plain": [
       "<IPython.core.display.HTML object>"
      ]
     },
     "metadata": {},
     "output_type": "display_data"
    },
    {
     "data": {
      "text/html": [
       "Column <b>AMT_CREDIT</b> has <b>0</b> null records"
      ],
      "text/plain": [
       "<IPython.core.display.HTML object>"
      ]
     },
     "metadata": {},
     "output_type": "display_data"
    },
    {
     "data": {
      "text/html": [
       "Column <b>AMT_ANNUITY</b> has <b>12</b> null records"
      ],
      "text/plain": [
       "<IPython.core.display.HTML object>"
      ]
     },
     "metadata": {},
     "output_type": "display_data"
    },
    {
     "data": {
      "text/html": [
       "Column <b>AMT_GOODS_PRICE</b> has <b>278</b> null records"
      ],
      "text/plain": [
       "<IPython.core.display.HTML object>"
      ]
     },
     "metadata": {},
     "output_type": "display_data"
    },
    {
     "data": {
      "text/html": [
       "Column <b>NAME_TYPE_SUITE</b> has <b>1292</b> null records"
      ],
      "text/plain": [
       "<IPython.core.display.HTML object>"
      ]
     },
     "metadata": {},
     "output_type": "display_data"
    },
    {
     "data": {
      "text/html": [
       "Column <b>NAME_INCOME_TYPE</b> has <b>0</b> null records"
      ],
      "text/plain": [
       "<IPython.core.display.HTML object>"
      ]
     },
     "metadata": {},
     "output_type": "display_data"
    },
    {
     "data": {
      "text/html": [
       "Column <b>NAME_EDUCATION_TYPE</b> has <b>0</b> null records"
      ],
      "text/plain": [
       "<IPython.core.display.HTML object>"
      ]
     },
     "metadata": {},
     "output_type": "display_data"
    },
    {
     "data": {
      "text/html": [
       "Column <b>NAME_FAMILY_STATUS</b> has <b>0</b> null records"
      ],
      "text/plain": [
       "<IPython.core.display.HTML object>"
      ]
     },
     "metadata": {},
     "output_type": "display_data"
    },
    {
     "data": {
      "text/html": [
       "Column <b>NAME_HOUSING_TYPE</b> has <b>0</b> null records"
      ],
      "text/plain": [
       "<IPython.core.display.HTML object>"
      ]
     },
     "metadata": {},
     "output_type": "display_data"
    },
    {
     "data": {
      "text/html": [
       "Column <b>REGION_POPULATION_RELATIVE</b> has <b>0</b> null records"
      ],
      "text/plain": [
       "<IPython.core.display.HTML object>"
      ]
     },
     "metadata": {},
     "output_type": "display_data"
    },
    {
     "data": {
      "text/html": [
       "Column <b>DAYS_BIRTH</b> has <b>0</b> null records"
      ],
      "text/plain": [
       "<IPython.core.display.HTML object>"
      ]
     },
     "metadata": {},
     "output_type": "display_data"
    },
    {
     "data": {
      "text/html": [
       "Column <b>DAYS_EMPLOYED</b> has <b>0</b> null records"
      ],
      "text/plain": [
       "<IPython.core.display.HTML object>"
      ]
     },
     "metadata": {},
     "output_type": "display_data"
    },
    {
     "data": {
      "text/html": [
       "Column <b>DAYS_REGISTRATION</b> has <b>0</b> null records"
      ],
      "text/plain": [
       "<IPython.core.display.HTML object>"
      ]
     },
     "metadata": {},
     "output_type": "display_data"
    },
    {
     "data": {
      "text/html": [
       "Column <b>DAYS_ID_PUBLISH</b> has <b>0</b> null records"
      ],
      "text/plain": [
       "<IPython.core.display.HTML object>"
      ]
     },
     "metadata": {},
     "output_type": "display_data"
    },
    {
     "data": {
      "text/html": [
       "Column <b>OWN_CAR_AGE</b> has <b>202929</b> null records"
      ],
      "text/plain": [
       "<IPython.core.display.HTML object>"
      ]
     },
     "metadata": {},
     "output_type": "display_data"
    },
    {
     "data": {
      "text/html": [
       "Column <b>FLAG_MOBIL</b> has <b>0</b> null records"
      ],
      "text/plain": [
       "<IPython.core.display.HTML object>"
      ]
     },
     "metadata": {},
     "output_type": "display_data"
    },
    {
     "data": {
      "text/html": [
       "Column <b>FLAG_EMP_PHONE</b> has <b>0</b> null records"
      ],
      "text/plain": [
       "<IPython.core.display.HTML object>"
      ]
     },
     "metadata": {},
     "output_type": "display_data"
    },
    {
     "data": {
      "text/html": [
       "Column <b>FLAG_WORK_PHONE</b> has <b>0</b> null records"
      ],
      "text/plain": [
       "<IPython.core.display.HTML object>"
      ]
     },
     "metadata": {},
     "output_type": "display_data"
    },
    {
     "data": {
      "text/html": [
       "Column <b>FLAG_CONT_MOBILE</b> has <b>0</b> null records"
      ],
      "text/plain": [
       "<IPython.core.display.HTML object>"
      ]
     },
     "metadata": {},
     "output_type": "display_data"
    },
    {
     "data": {
      "text/html": [
       "Column <b>FLAG_PHONE</b> has <b>0</b> null records"
      ],
      "text/plain": [
       "<IPython.core.display.HTML object>"
      ]
     },
     "metadata": {},
     "output_type": "display_data"
    },
    {
     "data": {
      "text/html": [
       "Column <b>FLAG_EMAIL</b> has <b>0</b> null records"
      ],
      "text/plain": [
       "<IPython.core.display.HTML object>"
      ]
     },
     "metadata": {},
     "output_type": "display_data"
    },
    {
     "data": {
      "text/html": [
       "Column <b>OCCUPATION_TYPE</b> has <b>96391</b> null records"
      ],
      "text/plain": [
       "<IPython.core.display.HTML object>"
      ]
     },
     "metadata": {},
     "output_type": "display_data"
    },
    {
     "data": {
      "text/html": [
       "Column <b>CNT_FAM_MEMBERS</b> has <b>2</b> null records"
      ],
      "text/plain": [
       "<IPython.core.display.HTML object>"
      ]
     },
     "metadata": {},
     "output_type": "display_data"
    },
    {
     "data": {
      "text/html": [
       "Column <b>REGION_RATING_CLIENT</b> has <b>0</b> null records"
      ],
      "text/plain": [
       "<IPython.core.display.HTML object>"
      ]
     },
     "metadata": {},
     "output_type": "display_data"
    },
    {
     "data": {
      "text/html": [
       "Column <b>REGION_RATING_CLIENT_W_CITY</b> has <b>0</b> null records"
      ],
      "text/plain": [
       "<IPython.core.display.HTML object>"
      ]
     },
     "metadata": {},
     "output_type": "display_data"
    },
    {
     "data": {
      "text/html": [
       "Column <b>WEEKDAY_APPR_PROCESS_START</b> has <b>0</b> null records"
      ],
      "text/plain": [
       "<IPython.core.display.HTML object>"
      ]
     },
     "metadata": {},
     "output_type": "display_data"
    },
    {
     "data": {
      "text/html": [
       "Column <b>HOUR_APPR_PROCESS_START</b> has <b>0</b> null records"
      ],
      "text/plain": [
       "<IPython.core.display.HTML object>"
      ]
     },
     "metadata": {},
     "output_type": "display_data"
    },
    {
     "data": {
      "text/html": [
       "Column <b>REG_REGION_NOT_LIVE_REGION</b> has <b>0</b> null records"
      ],
      "text/plain": [
       "<IPython.core.display.HTML object>"
      ]
     },
     "metadata": {},
     "output_type": "display_data"
    },
    {
     "data": {
      "text/html": [
       "Column <b>REG_REGION_NOT_WORK_REGION</b> has <b>0</b> null records"
      ],
      "text/plain": [
       "<IPython.core.display.HTML object>"
      ]
     },
     "metadata": {},
     "output_type": "display_data"
    },
    {
     "data": {
      "text/html": [
       "Column <b>LIVE_REGION_NOT_WORK_REGION</b> has <b>0</b> null records"
      ],
      "text/plain": [
       "<IPython.core.display.HTML object>"
      ]
     },
     "metadata": {},
     "output_type": "display_data"
    },
    {
     "data": {
      "text/html": [
       "Column <b>REG_CITY_NOT_LIVE_CITY</b> has <b>0</b> null records"
      ],
      "text/plain": [
       "<IPython.core.display.HTML object>"
      ]
     },
     "metadata": {},
     "output_type": "display_data"
    },
    {
     "data": {
      "text/html": [
       "Column <b>REG_CITY_NOT_WORK_CITY</b> has <b>0</b> null records"
      ],
      "text/plain": [
       "<IPython.core.display.HTML object>"
      ]
     },
     "metadata": {},
     "output_type": "display_data"
    },
    {
     "data": {
      "text/html": [
       "Column <b>LIVE_CITY_NOT_WORK_CITY</b> has <b>0</b> null records"
      ],
      "text/plain": [
       "<IPython.core.display.HTML object>"
      ]
     },
     "metadata": {},
     "output_type": "display_data"
    },
    {
     "data": {
      "text/html": [
       "Column <b>ORGANIZATION_TYPE</b> has <b>0</b> null records"
      ],
      "text/plain": [
       "<IPython.core.display.HTML object>"
      ]
     },
     "metadata": {},
     "output_type": "display_data"
    },
    {
     "data": {
      "text/html": [
       "Column <b>EXT_SOURCE_1</b> has <b>173378</b> null records"
      ],
      "text/plain": [
       "<IPython.core.display.HTML object>"
      ]
     },
     "metadata": {},
     "output_type": "display_data"
    },
    {
     "data": {
      "text/html": [
       "Column <b>EXT_SOURCE_2</b> has <b>660</b> null records"
      ],
      "text/plain": [
       "<IPython.core.display.HTML object>"
      ]
     },
     "metadata": {},
     "output_type": "display_data"
    },
    {
     "data": {
      "text/html": [
       "Column <b>EXT_SOURCE_3</b> has <b>60965</b> null records"
      ],
      "text/plain": [
       "<IPython.core.display.HTML object>"
      ]
     },
     "metadata": {},
     "output_type": "display_data"
    },
    {
     "data": {
      "text/html": [
       "Column <b>APARTMENTS_AVG</b> has <b>156061</b> null records"
      ],
      "text/plain": [
       "<IPython.core.display.HTML object>"
      ]
     },
     "metadata": {},
     "output_type": "display_data"
    },
    {
     "data": {
      "text/html": [
       "Column <b>BASEMENTAREA_AVG</b> has <b>179943</b> null records"
      ],
      "text/plain": [
       "<IPython.core.display.HTML object>"
      ]
     },
     "metadata": {},
     "output_type": "display_data"
    },
    {
     "data": {
      "text/html": [
       "Column <b>YEARS_BEGINEXPLUATATION_AVG</b> has <b>150007</b> null records"
      ],
      "text/plain": [
       "<IPython.core.display.HTML object>"
      ]
     },
     "metadata": {},
     "output_type": "display_data"
    },
    {
     "data": {
      "text/html": [
       "Column <b>YEARS_BUILD_AVG</b> has <b>204488</b> null records"
      ],
      "text/plain": [
       "<IPython.core.display.HTML object>"
      ]
     },
     "metadata": {},
     "output_type": "display_data"
    },
    {
     "data": {
      "text/html": [
       "Column <b>COMMONAREA_AVG</b> has <b>214865</b> null records"
      ],
      "text/plain": [
       "<IPython.core.display.HTML object>"
      ]
     },
     "metadata": {},
     "output_type": "display_data"
    },
    {
     "data": {
      "text/html": [
       "Column <b>ELEVATORS_AVG</b> has <b>163891</b> null records"
      ],
      "text/plain": [
       "<IPython.core.display.HTML object>"
      ]
     },
     "metadata": {},
     "output_type": "display_data"
    },
    {
     "data": {
      "text/html": [
       "Column <b>ENTRANCES_AVG</b> has <b>154828</b> null records"
      ],
      "text/plain": [
       "<IPython.core.display.HTML object>"
      ]
     },
     "metadata": {},
     "output_type": "display_data"
    },
    {
     "data": {
      "text/html": [
       "Column <b>FLOORSMAX_AVG</b> has <b>153020</b> null records"
      ],
      "text/plain": [
       "<IPython.core.display.HTML object>"
      ]
     },
     "metadata": {},
     "output_type": "display_data"
    },
    {
     "data": {
      "text/html": [
       "Column <b>FLOORSMIN_AVG</b> has <b>208642</b> null records"
      ],
      "text/plain": [
       "<IPython.core.display.HTML object>"
      ]
     },
     "metadata": {},
     "output_type": "display_data"
    },
    {
     "data": {
      "text/html": [
       "Column <b>LANDAREA_AVG</b> has <b>182590</b> null records"
      ],
      "text/plain": [
       "<IPython.core.display.HTML object>"
      ]
     },
     "metadata": {},
     "output_type": "display_data"
    },
    {
     "data": {
      "text/html": [
       "Column <b>LIVINGAPARTMENTS_AVG</b> has <b>210199</b> null records"
      ],
      "text/plain": [
       "<IPython.core.display.HTML object>"
      ]
     },
     "metadata": {},
     "output_type": "display_data"
    },
    {
     "data": {
      "text/html": [
       "Column <b>LIVINGAREA_AVG</b> has <b>154350</b> null records"
      ],
      "text/plain": [
       "<IPython.core.display.HTML object>"
      ]
     },
     "metadata": {},
     "output_type": "display_data"
    },
    {
     "data": {
      "text/html": [
       "Column <b>NONLIVINGAPARTMENTS_AVG</b> has <b>213514</b> null records"
      ],
      "text/plain": [
       "<IPython.core.display.HTML object>"
      ]
     },
     "metadata": {},
     "output_type": "display_data"
    },
    {
     "data": {
      "text/html": [
       "Column <b>NONLIVINGAREA_AVG</b> has <b>169682</b> null records"
      ],
      "text/plain": [
       "<IPython.core.display.HTML object>"
      ]
     },
     "metadata": {},
     "output_type": "display_data"
    },
    {
     "data": {
      "text/html": [
       "Column <b>APARTMENTS_MODE</b> has <b>156061</b> null records"
      ],
      "text/plain": [
       "<IPython.core.display.HTML object>"
      ]
     },
     "metadata": {},
     "output_type": "display_data"
    },
    {
     "data": {
      "text/html": [
       "Column <b>BASEMENTAREA_MODE</b> has <b>179943</b> null records"
      ],
      "text/plain": [
       "<IPython.core.display.HTML object>"
      ]
     },
     "metadata": {},
     "output_type": "display_data"
    },
    {
     "data": {
      "text/html": [
       "Column <b>YEARS_BEGINEXPLUATATION_MODE</b> has <b>150007</b> null records"
      ],
      "text/plain": [
       "<IPython.core.display.HTML object>"
      ]
     },
     "metadata": {},
     "output_type": "display_data"
    },
    {
     "data": {
      "text/html": [
       "Column <b>YEARS_BUILD_MODE</b> has <b>204488</b> null records"
      ],
      "text/plain": [
       "<IPython.core.display.HTML object>"
      ]
     },
     "metadata": {},
     "output_type": "display_data"
    },
    {
     "data": {
      "text/html": [
       "Column <b>COMMONAREA_MODE</b> has <b>214865</b> null records"
      ],
      "text/plain": [
       "<IPython.core.display.HTML object>"
      ]
     },
     "metadata": {},
     "output_type": "display_data"
    },
    {
     "data": {
      "text/html": [
       "Column <b>ELEVATORS_MODE</b> has <b>163891</b> null records"
      ],
      "text/plain": [
       "<IPython.core.display.HTML object>"
      ]
     },
     "metadata": {},
     "output_type": "display_data"
    },
    {
     "data": {
      "text/html": [
       "Column <b>ENTRANCES_MODE</b> has <b>154828</b> null records"
      ],
      "text/plain": [
       "<IPython.core.display.HTML object>"
      ]
     },
     "metadata": {},
     "output_type": "display_data"
    },
    {
     "data": {
      "text/html": [
       "Column <b>FLOORSMAX_MODE</b> has <b>153020</b> null records"
      ],
      "text/plain": [
       "<IPython.core.display.HTML object>"
      ]
     },
     "metadata": {},
     "output_type": "display_data"
    },
    {
     "data": {
      "text/html": [
       "Column <b>FLOORSMIN_MODE</b> has <b>208642</b> null records"
      ],
      "text/plain": [
       "<IPython.core.display.HTML object>"
      ]
     },
     "metadata": {},
     "output_type": "display_data"
    },
    {
     "data": {
      "text/html": [
       "Column <b>LANDAREA_MODE</b> has <b>182590</b> null records"
      ],
      "text/plain": [
       "<IPython.core.display.HTML object>"
      ]
     },
     "metadata": {},
     "output_type": "display_data"
    },
    {
     "data": {
      "text/html": [
       "Column <b>LIVINGAPARTMENTS_MODE</b> has <b>210199</b> null records"
      ],
      "text/plain": [
       "<IPython.core.display.HTML object>"
      ]
     },
     "metadata": {},
     "output_type": "display_data"
    },
    {
     "data": {
      "text/html": [
       "Column <b>LIVINGAREA_MODE</b> has <b>154350</b> null records"
      ],
      "text/plain": [
       "<IPython.core.display.HTML object>"
      ]
     },
     "metadata": {},
     "output_type": "display_data"
    },
    {
     "data": {
      "text/html": [
       "Column <b>NONLIVINGAPARTMENTS_MODE</b> has <b>213514</b> null records"
      ],
      "text/plain": [
       "<IPython.core.display.HTML object>"
      ]
     },
     "metadata": {},
     "output_type": "display_data"
    },
    {
     "data": {
      "text/html": [
       "Column <b>NONLIVINGAREA_MODE</b> has <b>169682</b> null records"
      ],
      "text/plain": [
       "<IPython.core.display.HTML object>"
      ]
     },
     "metadata": {},
     "output_type": "display_data"
    },
    {
     "data": {
      "text/html": [
       "Column <b>APARTMENTS_MEDI</b> has <b>156061</b> null records"
      ],
      "text/plain": [
       "<IPython.core.display.HTML object>"
      ]
     },
     "metadata": {},
     "output_type": "display_data"
    },
    {
     "data": {
      "text/html": [
       "Column <b>BASEMENTAREA_MEDI</b> has <b>179943</b> null records"
      ],
      "text/plain": [
       "<IPython.core.display.HTML object>"
      ]
     },
     "metadata": {},
     "output_type": "display_data"
    },
    {
     "data": {
      "text/html": [
       "Column <b>YEARS_BEGINEXPLUATATION_MEDI</b> has <b>150007</b> null records"
      ],
      "text/plain": [
       "<IPython.core.display.HTML object>"
      ]
     },
     "metadata": {},
     "output_type": "display_data"
    },
    {
     "data": {
      "text/html": [
       "Column <b>YEARS_BUILD_MEDI</b> has <b>204488</b> null records"
      ],
      "text/plain": [
       "<IPython.core.display.HTML object>"
      ]
     },
     "metadata": {},
     "output_type": "display_data"
    },
    {
     "data": {
      "text/html": [
       "Column <b>COMMONAREA_MEDI</b> has <b>214865</b> null records"
      ],
      "text/plain": [
       "<IPython.core.display.HTML object>"
      ]
     },
     "metadata": {},
     "output_type": "display_data"
    },
    {
     "data": {
      "text/html": [
       "Column <b>ELEVATORS_MEDI</b> has <b>163891</b> null records"
      ],
      "text/plain": [
       "<IPython.core.display.HTML object>"
      ]
     },
     "metadata": {},
     "output_type": "display_data"
    },
    {
     "data": {
      "text/html": [
       "Column <b>ENTRANCES_MEDI</b> has <b>154828</b> null records"
      ],
      "text/plain": [
       "<IPython.core.display.HTML object>"
      ]
     },
     "metadata": {},
     "output_type": "display_data"
    },
    {
     "data": {
      "text/html": [
       "Column <b>FLOORSMAX_MEDI</b> has <b>153020</b> null records"
      ],
      "text/plain": [
       "<IPython.core.display.HTML object>"
      ]
     },
     "metadata": {},
     "output_type": "display_data"
    },
    {
     "data": {
      "text/html": [
       "Column <b>FLOORSMIN_MEDI</b> has <b>208642</b> null records"
      ],
      "text/plain": [
       "<IPython.core.display.HTML object>"
      ]
     },
     "metadata": {},
     "output_type": "display_data"
    },
    {
     "data": {
      "text/html": [
       "Column <b>LANDAREA_MEDI</b> has <b>182590</b> null records"
      ],
      "text/plain": [
       "<IPython.core.display.HTML object>"
      ]
     },
     "metadata": {},
     "output_type": "display_data"
    },
    {
     "data": {
      "text/html": [
       "Column <b>LIVINGAPARTMENTS_MEDI</b> has <b>210199</b> null records"
      ],
      "text/plain": [
       "<IPython.core.display.HTML object>"
      ]
     },
     "metadata": {},
     "output_type": "display_data"
    },
    {
     "data": {
      "text/html": [
       "Column <b>LIVINGAREA_MEDI</b> has <b>154350</b> null records"
      ],
      "text/plain": [
       "<IPython.core.display.HTML object>"
      ]
     },
     "metadata": {},
     "output_type": "display_data"
    },
    {
     "data": {
      "text/html": [
       "Column <b>NONLIVINGAPARTMENTS_MEDI</b> has <b>213514</b> null records"
      ],
      "text/plain": [
       "<IPython.core.display.HTML object>"
      ]
     },
     "metadata": {},
     "output_type": "display_data"
    },
    {
     "data": {
      "text/html": [
       "Column <b>NONLIVINGAREA_MEDI</b> has <b>169682</b> null records"
      ],
      "text/plain": [
       "<IPython.core.display.HTML object>"
      ]
     },
     "metadata": {},
     "output_type": "display_data"
    },
    {
     "data": {
      "text/html": [
       "Column <b>FONDKAPREMONT_MODE</b> has <b>210295</b> null records"
      ],
      "text/plain": [
       "<IPython.core.display.HTML object>"
      ]
     },
     "metadata": {},
     "output_type": "display_data"
    },
    {
     "data": {
      "text/html": [
       "Column <b>HOUSETYPE_MODE</b> has <b>154297</b> null records"
      ],
      "text/plain": [
       "<IPython.core.display.HTML object>"
      ]
     },
     "metadata": {},
     "output_type": "display_data"
    },
    {
     "data": {
      "text/html": [
       "Column <b>TOTALAREA_MODE</b> has <b>148431</b> null records"
      ],
      "text/plain": [
       "<IPython.core.display.HTML object>"
      ]
     },
     "metadata": {},
     "output_type": "display_data"
    },
    {
     "data": {
      "text/html": [
       "Column <b>WALLSMATERIAL_MODE</b> has <b>156341</b> null records"
      ],
      "text/plain": [
       "<IPython.core.display.HTML object>"
      ]
     },
     "metadata": {},
     "output_type": "display_data"
    },
    {
     "data": {
      "text/html": [
       "Column <b>EMERGENCYSTATE_MODE</b> has <b>145755</b> null records"
      ],
      "text/plain": [
       "<IPython.core.display.HTML object>"
      ]
     },
     "metadata": {},
     "output_type": "display_data"
    },
    {
     "data": {
      "text/html": [
       "Column <b>OBS_30_CNT_SOCIAL_CIRCLE</b> has <b>1021</b> null records"
      ],
      "text/plain": [
       "<IPython.core.display.HTML object>"
      ]
     },
     "metadata": {},
     "output_type": "display_data"
    },
    {
     "data": {
      "text/html": [
       "Column <b>DEF_30_CNT_SOCIAL_CIRCLE</b> has <b>1021</b> null records"
      ],
      "text/plain": [
       "<IPython.core.display.HTML object>"
      ]
     },
     "metadata": {},
     "output_type": "display_data"
    },
    {
     "data": {
      "text/html": [
       "Column <b>OBS_60_CNT_SOCIAL_CIRCLE</b> has <b>1021</b> null records"
      ],
      "text/plain": [
       "<IPython.core.display.HTML object>"
      ]
     },
     "metadata": {},
     "output_type": "display_data"
    },
    {
     "data": {
      "text/html": [
       "Column <b>DEF_60_CNT_SOCIAL_CIRCLE</b> has <b>1021</b> null records"
      ],
      "text/plain": [
       "<IPython.core.display.HTML object>"
      ]
     },
     "metadata": {},
     "output_type": "display_data"
    },
    {
     "data": {
      "text/html": [
       "Column <b>DAYS_LAST_PHONE_CHANGE</b> has <b>1</b> null records"
      ],
      "text/plain": [
       "<IPython.core.display.HTML object>"
      ]
     },
     "metadata": {},
     "output_type": "display_data"
    },
    {
     "data": {
      "text/html": [
       "Column <b>FLAG_DOCUMENT_2</b> has <b>0</b> null records"
      ],
      "text/plain": [
       "<IPython.core.display.HTML object>"
      ]
     },
     "metadata": {},
     "output_type": "display_data"
    },
    {
     "data": {
      "text/html": [
       "Column <b>FLAG_DOCUMENT_3</b> has <b>0</b> null records"
      ],
      "text/plain": [
       "<IPython.core.display.HTML object>"
      ]
     },
     "metadata": {},
     "output_type": "display_data"
    },
    {
     "data": {
      "text/html": [
       "Column <b>FLAG_DOCUMENT_4</b> has <b>0</b> null records"
      ],
      "text/plain": [
       "<IPython.core.display.HTML object>"
      ]
     },
     "metadata": {},
     "output_type": "display_data"
    },
    {
     "data": {
      "text/html": [
       "Column <b>FLAG_DOCUMENT_5</b> has <b>0</b> null records"
      ],
      "text/plain": [
       "<IPython.core.display.HTML object>"
      ]
     },
     "metadata": {},
     "output_type": "display_data"
    },
    {
     "data": {
      "text/html": [
       "Column <b>FLAG_DOCUMENT_6</b> has <b>0</b> null records"
      ],
      "text/plain": [
       "<IPython.core.display.HTML object>"
      ]
     },
     "metadata": {},
     "output_type": "display_data"
    },
    {
     "data": {
      "text/html": [
       "Column <b>FLAG_DOCUMENT_7</b> has <b>0</b> null records"
      ],
      "text/plain": [
       "<IPython.core.display.HTML object>"
      ]
     },
     "metadata": {},
     "output_type": "display_data"
    },
    {
     "data": {
      "text/html": [
       "Column <b>FLAG_DOCUMENT_8</b> has <b>0</b> null records"
      ],
      "text/plain": [
       "<IPython.core.display.HTML object>"
      ]
     },
     "metadata": {},
     "output_type": "display_data"
    },
    {
     "data": {
      "text/html": [
       "Column <b>FLAG_DOCUMENT_9</b> has <b>0</b> null records"
      ],
      "text/plain": [
       "<IPython.core.display.HTML object>"
      ]
     },
     "metadata": {},
     "output_type": "display_data"
    },
    {
     "data": {
      "text/html": [
       "Column <b>FLAG_DOCUMENT_10</b> has <b>0</b> null records"
      ],
      "text/plain": [
       "<IPython.core.display.HTML object>"
      ]
     },
     "metadata": {},
     "output_type": "display_data"
    },
    {
     "data": {
      "text/html": [
       "Column <b>FLAG_DOCUMENT_11</b> has <b>0</b> null records"
      ],
      "text/plain": [
       "<IPython.core.display.HTML object>"
      ]
     },
     "metadata": {},
     "output_type": "display_data"
    },
    {
     "data": {
      "text/html": [
       "Column <b>FLAG_DOCUMENT_12</b> has <b>0</b> null records"
      ],
      "text/plain": [
       "<IPython.core.display.HTML object>"
      ]
     },
     "metadata": {},
     "output_type": "display_data"
    },
    {
     "data": {
      "text/html": [
       "Column <b>FLAG_DOCUMENT_13</b> has <b>0</b> null records"
      ],
      "text/plain": [
       "<IPython.core.display.HTML object>"
      ]
     },
     "metadata": {},
     "output_type": "display_data"
    },
    {
     "data": {
      "text/html": [
       "Column <b>FLAG_DOCUMENT_14</b> has <b>0</b> null records"
      ],
      "text/plain": [
       "<IPython.core.display.HTML object>"
      ]
     },
     "metadata": {},
     "output_type": "display_data"
    },
    {
     "data": {
      "text/html": [
       "Column <b>FLAG_DOCUMENT_15</b> has <b>0</b> null records"
      ],
      "text/plain": [
       "<IPython.core.display.HTML object>"
      ]
     },
     "metadata": {},
     "output_type": "display_data"
    },
    {
     "data": {
      "text/html": [
       "Column <b>FLAG_DOCUMENT_16</b> has <b>0</b> null records"
      ],
      "text/plain": [
       "<IPython.core.display.HTML object>"
      ]
     },
     "metadata": {},
     "output_type": "display_data"
    },
    {
     "data": {
      "text/html": [
       "Column <b>FLAG_DOCUMENT_17</b> has <b>0</b> null records"
      ],
      "text/plain": [
       "<IPython.core.display.HTML object>"
      ]
     },
     "metadata": {},
     "output_type": "display_data"
    },
    {
     "data": {
      "text/html": [
       "Column <b>FLAG_DOCUMENT_18</b> has <b>0</b> null records"
      ],
      "text/plain": [
       "<IPython.core.display.HTML object>"
      ]
     },
     "metadata": {},
     "output_type": "display_data"
    },
    {
     "data": {
      "text/html": [
       "Column <b>FLAG_DOCUMENT_19</b> has <b>0</b> null records"
      ],
      "text/plain": [
       "<IPython.core.display.HTML object>"
      ]
     },
     "metadata": {},
     "output_type": "display_data"
    },
    {
     "data": {
      "text/html": [
       "Column <b>FLAG_DOCUMENT_20</b> has <b>0</b> null records"
      ],
      "text/plain": [
       "<IPython.core.display.HTML object>"
      ]
     },
     "metadata": {},
     "output_type": "display_data"
    },
    {
     "data": {
      "text/html": [
       "Column <b>FLAG_DOCUMENT_21</b> has <b>0</b> null records"
      ],
      "text/plain": [
       "<IPython.core.display.HTML object>"
      ]
     },
     "metadata": {},
     "output_type": "display_data"
    },
    {
     "data": {
      "text/html": [
       "Column <b>AMT_REQ_CREDIT_BUREAU_HOUR</b> has <b>41519</b> null records"
      ],
      "text/plain": [
       "<IPython.core.display.HTML object>"
      ]
     },
     "metadata": {},
     "output_type": "display_data"
    },
    {
     "data": {
      "text/html": [
       "Column <b>AMT_REQ_CREDIT_BUREAU_DAY</b> has <b>41519</b> null records"
      ],
      "text/plain": [
       "<IPython.core.display.HTML object>"
      ]
     },
     "metadata": {},
     "output_type": "display_data"
    },
    {
     "data": {
      "text/html": [
       "Column <b>AMT_REQ_CREDIT_BUREAU_WEEK</b> has <b>41519</b> null records"
      ],
      "text/plain": [
       "<IPython.core.display.HTML object>"
      ]
     },
     "metadata": {},
     "output_type": "display_data"
    },
    {
     "data": {
      "text/html": [
       "Column <b>AMT_REQ_CREDIT_BUREAU_MON</b> has <b>41519</b> null records"
      ],
      "text/plain": [
       "<IPython.core.display.HTML object>"
      ]
     },
     "metadata": {},
     "output_type": "display_data"
    },
    {
     "data": {
      "text/html": [
       "Column <b>AMT_REQ_CREDIT_BUREAU_QRT</b> has <b>41519</b> null records"
      ],
      "text/plain": [
       "<IPython.core.display.HTML object>"
      ]
     },
     "metadata": {},
     "output_type": "display_data"
    },
    {
     "data": {
      "text/html": [
       "Column <b>AMT_REQ_CREDIT_BUREAU_YEAR</b> has <b>41519</b> null records"
      ],
      "text/plain": [
       "<IPython.core.display.HTML object>"
      ]
     },
     "metadata": {},
     "output_type": "display_data"
    },
    {
     "data": {
      "text/html": [
       "Column <b>SK_ID_CURR_MIN</b> has <b>18067</b> null records"
      ],
      "text/plain": [
       "<IPython.core.display.HTML object>"
      ]
     },
     "metadata": {},
     "output_type": "display_data"
    },
    {
     "data": {
      "text/html": [
       "Column <b>min(SK_ID_PREV)</b> has <b>18067</b> null records"
      ],
      "text/plain": [
       "<IPython.core.display.HTML object>"
      ]
     },
     "metadata": {},
     "output_type": "display_data"
    },
    {
     "data": {
      "text/html": [
       "Column <b>min(SK_ID_CURR_MIN)</b> has <b>18067</b> null records"
      ],
      "text/plain": [
       "<IPython.core.display.HTML object>"
      ]
     },
     "metadata": {},
     "output_type": "display_data"
    },
    {
     "data": {
      "text/html": [
       "Column <b>min(MONTHS_BALANCE)</b> has <b>18067</b> null records"
      ],
      "text/plain": [
       "<IPython.core.display.HTML object>"
      ]
     },
     "metadata": {},
     "output_type": "display_data"
    },
    {
     "data": {
      "text/html": [
       "Column <b>min(CNT_INSTALMENT)</b> has <b>18091</b> null records"
      ],
      "text/plain": [
       "<IPython.core.display.HTML object>"
      ]
     },
     "metadata": {},
     "output_type": "display_data"
    },
    {
     "data": {
      "text/html": [
       "Column <b>min(CNT_INSTALMENT_FUTURE)</b> has <b>18091</b> null records"
      ],
      "text/plain": [
       "<IPython.core.display.HTML object>"
      ]
     },
     "metadata": {},
     "output_type": "display_data"
    },
    {
     "data": {
      "text/html": [
       "Column <b>min(SK_DPD)</b> has <b>18067</b> null records"
      ],
      "text/plain": [
       "<IPython.core.display.HTML object>"
      ]
     },
     "metadata": {},
     "output_type": "display_data"
    },
    {
     "data": {
      "text/html": [
       "Column <b>min(SK_DPD_DEF)</b> has <b>18067</b> null records"
      ],
      "text/plain": [
       "<IPython.core.display.HTML object>"
      ]
     },
     "metadata": {},
     "output_type": "display_data"
    },
    {
     "data": {
      "text/html": [
       "Column <b>SK_ID_CURR_MAX</b> has <b>18067</b> null records"
      ],
      "text/plain": [
       "<IPython.core.display.HTML object>"
      ]
     },
     "metadata": {},
     "output_type": "display_data"
    },
    {
     "data": {
      "text/html": [
       "Column <b>max(SK_ID_PREV)</b> has <b>18067</b> null records"
      ],
      "text/plain": [
       "<IPython.core.display.HTML object>"
      ]
     },
     "metadata": {},
     "output_type": "display_data"
    },
    {
     "data": {
      "text/html": [
       "Column <b>max(SK_ID_CURR_MAX)</b> has <b>18067</b> null records"
      ],
      "text/plain": [
       "<IPython.core.display.HTML object>"
      ]
     },
     "metadata": {},
     "output_type": "display_data"
    },
    {
     "data": {
      "text/html": [
       "Column <b>max(MONTHS_BALANCE)</b> has <b>18067</b> null records"
      ],
      "text/plain": [
       "<IPython.core.display.HTML object>"
      ]
     },
     "metadata": {},
     "output_type": "display_data"
    },
    {
     "data": {
      "text/html": [
       "Column <b>max(CNT_INSTALMENT)</b> has <b>18091</b> null records"
      ],
      "text/plain": [
       "<IPython.core.display.HTML object>"
      ]
     },
     "metadata": {},
     "output_type": "display_data"
    },
    {
     "data": {
      "text/html": [
       "Column <b>max(CNT_INSTALMENT_FUTURE)</b> has <b>18091</b> null records"
      ],
      "text/plain": [
       "<IPython.core.display.HTML object>"
      ]
     },
     "metadata": {},
     "output_type": "display_data"
    },
    {
     "data": {
      "text/html": [
       "Column <b>max(SK_DPD)</b> has <b>18067</b> null records"
      ],
      "text/plain": [
       "<IPython.core.display.HTML object>"
      ]
     },
     "metadata": {},
     "output_type": "display_data"
    },
    {
     "data": {
      "text/html": [
       "Column <b>max(SK_DPD_DEF)</b> has <b>18067</b> null records"
      ],
      "text/plain": [
       "<IPython.core.display.HTML object>"
      ]
     },
     "metadata": {},
     "output_type": "display_data"
    },
    {
     "data": {
      "text/html": [
       "Column <b>SK_ID_CURR_BUR_MIN</b> has <b>44020</b> null records"
      ],
      "text/plain": [
       "<IPython.core.display.HTML object>"
      ]
     },
     "metadata": {},
     "output_type": "display_data"
    },
    {
     "data": {
      "text/html": [
       "Column <b>min(SK_ID_CURR_BUR_MIN)</b> has <b>44020</b> null records"
      ],
      "text/plain": [
       "<IPython.core.display.HTML object>"
      ]
     },
     "metadata": {},
     "output_type": "display_data"
    },
    {
     "data": {
      "text/html": [
       "Column <b>min(SK_ID_BUREAU)</b> has <b>44020</b> null records"
      ],
      "text/plain": [
       "<IPython.core.display.HTML object>"
      ]
     },
     "metadata": {},
     "output_type": "display_data"
    },
    {
     "data": {
      "text/html": [
       "Column <b>min(DAYS_CREDIT)</b> has <b>44020</b> null records"
      ],
      "text/plain": [
       "<IPython.core.display.HTML object>"
      ]
     },
     "metadata": {},
     "output_type": "display_data"
    },
    {
     "data": {
      "text/html": [
       "Column <b>min(CREDIT_DAY_OVERDUE)</b> has <b>44020</b> null records"
      ],
      "text/plain": [
       "<IPython.core.display.HTML object>"
      ]
     },
     "metadata": {},
     "output_type": "display_data"
    },
    {
     "data": {
      "text/html": [
       "Column <b>min(DAYS_CREDIT_ENDDATE)</b> has <b>46269</b> null records"
      ],
      "text/plain": [
       "<IPython.core.display.HTML object>"
      ]
     },
     "metadata": {},
     "output_type": "display_data"
    },
    {
     "data": {
      "text/html": [
       "Column <b>min(DAYS_ENDDATE_FACT)</b> has <b>77156</b> null records"
      ],
      "text/plain": [
       "<IPython.core.display.HTML object>"
      ]
     },
     "metadata": {},
     "output_type": "display_data"
    },
    {
     "data": {
      "text/html": [
       "Column <b>min(AMT_CREDIT_MAX_OVERDUE)</b> has <b>123625</b> null records"
      ],
      "text/plain": [
       "<IPython.core.display.HTML object>"
      ]
     },
     "metadata": {},
     "output_type": "display_data"
    },
    {
     "data": {
      "text/html": [
       "Column <b>min(CNT_CREDIT_PROLONG)</b> has <b>44020</b> null records"
      ],
      "text/plain": [
       "<IPython.core.display.HTML object>"
      ]
     },
     "metadata": {},
     "output_type": "display_data"
    },
    {
     "data": {
      "text/html": [
       "Column <b>min(AMT_CREDIT_SUM)</b> has <b>44021</b> null records"
      ],
      "text/plain": [
       "<IPython.core.display.HTML object>"
      ]
     },
     "metadata": {},
     "output_type": "display_data"
    },
    {
     "data": {
      "text/html": [
       "Column <b>min(AMT_CREDIT_SUM_DEBT)</b> has <b>51380</b> null records"
      ],
      "text/plain": [
       "<IPython.core.display.HTML object>"
      ]
     },
     "metadata": {},
     "output_type": "display_data"
    },
    {
     "data": {
      "text/html": [
       "Column <b>min(AMT_CREDIT_SUM_LIMIT)</b> has <b>65069</b> null records"
      ],
      "text/plain": [
       "<IPython.core.display.HTML object>"
      ]
     },
     "metadata": {},
     "output_type": "display_data"
    },
    {
     "data": {
      "text/html": [
       "Column <b>min(AMT_CREDIT_SUM_OVERDUE)</b> has <b>44020</b> null records"
      ],
      "text/plain": [
       "<IPython.core.display.HTML object>"
      ]
     },
     "metadata": {},
     "output_type": "display_data"
    },
    {
     "data": {
      "text/html": [
       "Column <b>min(DAYS_CREDIT_UPDATE)</b> has <b>44020</b> null records"
      ],
      "text/plain": [
       "<IPython.core.display.HTML object>"
      ]
     },
     "metadata": {},
     "output_type": "display_data"
    },
    {
     "data": {
      "text/html": [
       "Column <b>min(AMT_ANNUITY)</b> has <b>227502</b> null records"
      ],
      "text/plain": [
       "<IPython.core.display.HTML object>"
      ]
     },
     "metadata": {},
     "output_type": "display_data"
    },
    {
     "data": {
      "text/html": [
       "Column <b>SK_ID_CURR_BUR_MAX</b> has <b>44020</b> null records"
      ],
      "text/plain": [
       "<IPython.core.display.HTML object>"
      ]
     },
     "metadata": {},
     "output_type": "display_data"
    },
    {
     "data": {
      "text/html": [
       "Column <b>max(SK_ID_CURR_BUR_MAX)</b> has <b>44020</b> null records"
      ],
      "text/plain": [
       "<IPython.core.display.HTML object>"
      ]
     },
     "metadata": {},
     "output_type": "display_data"
    },
    {
     "data": {
      "text/html": [
       "Column <b>max(SK_ID_BUREAU)</b> has <b>44020</b> null records"
      ],
      "text/plain": [
       "<IPython.core.display.HTML object>"
      ]
     },
     "metadata": {},
     "output_type": "display_data"
    },
    {
     "data": {
      "text/html": [
       "Column <b>max(DAYS_CREDIT)</b> has <b>44020</b> null records"
      ],
      "text/plain": [
       "<IPython.core.display.HTML object>"
      ]
     },
     "metadata": {},
     "output_type": "display_data"
    },
    {
     "data": {
      "text/html": [
       "Column <b>max(CREDIT_DAY_OVERDUE)</b> has <b>44020</b> null records"
      ],
      "text/plain": [
       "<IPython.core.display.HTML object>"
      ]
     },
     "metadata": {},
     "output_type": "display_data"
    },
    {
     "data": {
      "text/html": [
       "Column <b>max(DAYS_CREDIT_ENDDATE)</b> has <b>46269</b> null records"
      ],
      "text/plain": [
       "<IPython.core.display.HTML object>"
      ]
     },
     "metadata": {},
     "output_type": "display_data"
    },
    {
     "data": {
      "text/html": [
       "Column <b>max(DAYS_ENDDATE_FACT)</b> has <b>77156</b> null records"
      ],
      "text/plain": [
       "<IPython.core.display.HTML object>"
      ]
     },
     "metadata": {},
     "output_type": "display_data"
    },
    {
     "data": {
      "text/html": [
       "Column <b>max(AMT_CREDIT_MAX_OVERDUE)</b> has <b>123625</b> null records"
      ],
      "text/plain": [
       "<IPython.core.display.HTML object>"
      ]
     },
     "metadata": {},
     "output_type": "display_data"
    },
    {
     "data": {
      "text/html": [
       "Column <b>max(CNT_CREDIT_PROLONG)</b> has <b>44020</b> null records"
      ],
      "text/plain": [
       "<IPython.core.display.HTML object>"
      ]
     },
     "metadata": {},
     "output_type": "display_data"
    },
    {
     "data": {
      "text/html": [
       "Column <b>max(AMT_CREDIT_SUM)</b> has <b>44021</b> null records"
      ],
      "text/plain": [
       "<IPython.core.display.HTML object>"
      ]
     },
     "metadata": {},
     "output_type": "display_data"
    },
    {
     "data": {
      "text/html": [
       "Column <b>max(AMT_CREDIT_SUM_DEBT)</b> has <b>51380</b> null records"
      ],
      "text/plain": [
       "<IPython.core.display.HTML object>"
      ]
     },
     "metadata": {},
     "output_type": "display_data"
    },
    {
     "data": {
      "text/html": [
       "Column <b>max(AMT_CREDIT_SUM_LIMIT)</b> has <b>65069</b> null records"
      ],
      "text/plain": [
       "<IPython.core.display.HTML object>"
      ]
     },
     "metadata": {},
     "output_type": "display_data"
    },
    {
     "data": {
      "text/html": [
       "Column <b>max(AMT_CREDIT_SUM_OVERDUE)</b> has <b>44020</b> null records"
      ],
      "text/plain": [
       "<IPython.core.display.HTML object>"
      ]
     },
     "metadata": {},
     "output_type": "display_data"
    },
    {
     "data": {
      "text/html": [
       "Column <b>max(DAYS_CREDIT_UPDATE)</b> has <b>44020</b> null records"
      ],
      "text/plain": [
       "<IPython.core.display.HTML object>"
      ]
     },
     "metadata": {},
     "output_type": "display_data"
    },
    {
     "data": {
      "text/html": [
       "Column <b>max(AMT_ANNUITY)</b> has <b>227502</b> null records"
      ],
      "text/plain": [
       "<IPython.core.display.HTML object>"
      ]
     },
     "metadata": {},
     "output_type": "display_data"
    }
   ],
   "source": [
    "from pyspark.sql.functions import isnull\n",
    "from IPython.core.display import HTML\n",
    "for c in sparkApplicationData.columns:\n",
    "  nullCnt = sparkApplicationData.where(isnull(c)).count()\n",
    "  display(HTML('Column <b>{}</b> has <b>{}</b> null records'.format(str(c), nullCnt))) "
   ]
  },
  {
   "cell_type": "code",
   "execution_count": 10,
   "metadata": {},
   "outputs": [],
   "source": [
    "def displayPandas(sparkData):\n",
    "    display(\n",
    "    sparkData\n",
    "      .limit(5)\n",
    "      .toPandas()\n",
    "    )"
   ]
  },
  {
   "cell_type": "markdown",
   "metadata": {},
   "source": [
    "First 5 rows."
   ]
  },
  {
   "cell_type": "code",
   "execution_count": 11,
   "metadata": {},
   "outputs": [
    {
     "data": {
      "text/html": [
       "<div>\n",
       "<style scoped>\n",
       "    .dataframe tbody tr th:only-of-type {\n",
       "        vertical-align: middle;\n",
       "    }\n",
       "\n",
       "    .dataframe tbody tr th {\n",
       "        vertical-align: top;\n",
       "    }\n",
       "\n",
       "    .dataframe thead th {\n",
       "        text-align: right;\n",
       "    }\n",
       "</style>\n",
       "<table border=\"1\" class=\"dataframe\">\n",
       "  <thead>\n",
       "    <tr style=\"text-align: right;\">\n",
       "      <th></th>\n",
       "      <th>SK_ID_CURR</th>\n",
       "      <th>TARGET</th>\n",
       "      <th>NAME_CONTRACT_TYPE</th>\n",
       "      <th>CODE_GENDER</th>\n",
       "      <th>FLAG_OWN_CAR</th>\n",
       "      <th>FLAG_OWN_REALTY</th>\n",
       "      <th>CNT_CHILDREN</th>\n",
       "      <th>AMT_INCOME_TOTAL</th>\n",
       "      <th>AMT_CREDIT</th>\n",
       "      <th>AMT_ANNUITY</th>\n",
       "      <th>...</th>\n",
       "      <th>max(DAYS_CREDIT_ENDDATE)</th>\n",
       "      <th>max(DAYS_ENDDATE_FACT)</th>\n",
       "      <th>max(AMT_CREDIT_MAX_OVERDUE)</th>\n",
       "      <th>max(CNT_CREDIT_PROLONG)</th>\n",
       "      <th>max(AMT_CREDIT_SUM)</th>\n",
       "      <th>max(AMT_CREDIT_SUM_DEBT)</th>\n",
       "      <th>max(AMT_CREDIT_SUM_LIMIT)</th>\n",
       "      <th>max(AMT_CREDIT_SUM_OVERDUE)</th>\n",
       "      <th>max(DAYS_CREDIT_UPDATE)</th>\n",
       "      <th>max(AMT_ANNUITY)</th>\n",
       "    </tr>\n",
       "  </thead>\n",
       "  <tbody>\n",
       "    <tr>\n",
       "      <td>0</td>\n",
       "      <td>351232</td>\n",
       "      <td>0</td>\n",
       "      <td>Cash loans</td>\n",
       "      <td>F</td>\n",
       "      <td>N</td>\n",
       "      <td>N</td>\n",
       "      <td>0</td>\n",
       "      <td>180000.0</td>\n",
       "      <td>495000.0</td>\n",
       "      <td>25146.0</td>\n",
       "      <td>...</td>\n",
       "      <td>333.0</td>\n",
       "      <td>NaN</td>\n",
       "      <td>0.0</td>\n",
       "      <td>0</td>\n",
       "      <td>450000.0</td>\n",
       "      <td>153814.455</td>\n",
       "      <td>0.0</td>\n",
       "      <td>0.0</td>\n",
       "      <td>-30</td>\n",
       "      <td>NaN</td>\n",
       "    </tr>\n",
       "    <tr>\n",
       "      <td>1</td>\n",
       "      <td>100003</td>\n",
       "      <td>0</td>\n",
       "      <td>Cash loans</td>\n",
       "      <td>F</td>\n",
       "      <td>N</td>\n",
       "      <td>N</td>\n",
       "      <td>0</td>\n",
       "      <td>270000.0</td>\n",
       "      <td>1293502.5</td>\n",
       "      <td>35698.5</td>\n",
       "      <td>...</td>\n",
       "      <td>1216.0</td>\n",
       "      <td>-540.0</td>\n",
       "      <td>0.0</td>\n",
       "      <td>0</td>\n",
       "      <td>810000.0</td>\n",
       "      <td>0.000</td>\n",
       "      <td>810000.0</td>\n",
       "      <td>0.0</td>\n",
       "      <td>-43</td>\n",
       "      <td>NaN</td>\n",
       "    </tr>\n",
       "    <tr>\n",
       "      <td>2</td>\n",
       "      <td>351234</td>\n",
       "      <td>0</td>\n",
       "      <td>Cash loans</td>\n",
       "      <td>F</td>\n",
       "      <td>N</td>\n",
       "      <td>Y</td>\n",
       "      <td>1</td>\n",
       "      <td>90000.0</td>\n",
       "      <td>107820.0</td>\n",
       "      <td>7798.5</td>\n",
       "      <td>...</td>\n",
       "      <td>1612.0</td>\n",
       "      <td>-195.0</td>\n",
       "      <td>NaN</td>\n",
       "      <td>0</td>\n",
       "      <td>882900.0</td>\n",
       "      <td>830155.500</td>\n",
       "      <td>0.0</td>\n",
       "      <td>0.0</td>\n",
       "      <td>-10</td>\n",
       "      <td>NaN</td>\n",
       "    </tr>\n",
       "    <tr>\n",
       "      <td>3</td>\n",
       "      <td>100007</td>\n",
       "      <td>0</td>\n",
       "      <td>Cash loans</td>\n",
       "      <td>M</td>\n",
       "      <td>N</td>\n",
       "      <td>Y</td>\n",
       "      <td>0</td>\n",
       "      <td>121500.0</td>\n",
       "      <td>513000.0</td>\n",
       "      <td>21865.5</td>\n",
       "      <td>...</td>\n",
       "      <td>-783.0</td>\n",
       "      <td>-783.0</td>\n",
       "      <td>0.0</td>\n",
       "      <td>0</td>\n",
       "      <td>146250.0</td>\n",
       "      <td>0.000</td>\n",
       "      <td>0.0</td>\n",
       "      <td>0.0</td>\n",
       "      <td>-783</td>\n",
       "      <td>NaN</td>\n",
       "    </tr>\n",
       "    <tr>\n",
       "      <td>4</td>\n",
       "      <td>373969</td>\n",
       "      <td>0</td>\n",
       "      <td>Cash loans</td>\n",
       "      <td>M</td>\n",
       "      <td>N</td>\n",
       "      <td>Y</td>\n",
       "      <td>0</td>\n",
       "      <td>202500.0</td>\n",
       "      <td>463284.0</td>\n",
       "      <td>22662.0</td>\n",
       "      <td>...</td>\n",
       "      <td>10151.0</td>\n",
       "      <td>-197.0</td>\n",
       "      <td>30798.0</td>\n",
       "      <td>0</td>\n",
       "      <td>1165500.0</td>\n",
       "      <td>121221.000</td>\n",
       "      <td>0.0</td>\n",
       "      <td>0.0</td>\n",
       "      <td>-29</td>\n",
       "      <td>29907.0</td>\n",
       "    </tr>\n",
       "  </tbody>\n",
       "</table>\n",
       "<p>5 rows × 168 columns</p>\n",
       "</div>"
      ],
      "text/plain": [
       "   SK_ID_CURR  TARGET NAME_CONTRACT_TYPE CODE_GENDER FLAG_OWN_CAR  \\\n",
       "0      351232       0         Cash loans           F            N   \n",
       "1      100003       0         Cash loans           F            N   \n",
       "2      351234       0         Cash loans           F            N   \n",
       "3      100007       0         Cash loans           M            N   \n",
       "4      373969       0         Cash loans           M            N   \n",
       "\n",
       "  FLAG_OWN_REALTY  CNT_CHILDREN  AMT_INCOME_TOTAL  AMT_CREDIT  AMT_ANNUITY  \\\n",
       "0               N             0          180000.0    495000.0      25146.0   \n",
       "1               N             0          270000.0   1293502.5      35698.5   \n",
       "2               Y             1           90000.0    107820.0       7798.5   \n",
       "3               Y             0          121500.0    513000.0      21865.5   \n",
       "4               Y             0          202500.0    463284.0      22662.0   \n",
       "\n",
       "   ...  max(DAYS_CREDIT_ENDDATE) max(DAYS_ENDDATE_FACT)  \\\n",
       "0  ...                     333.0                    NaN   \n",
       "1  ...                    1216.0                 -540.0   \n",
       "2  ...                    1612.0                 -195.0   \n",
       "3  ...                    -783.0                 -783.0   \n",
       "4  ...                   10151.0                 -197.0   \n",
       "\n",
       "  max(AMT_CREDIT_MAX_OVERDUE) max(CNT_CREDIT_PROLONG) max(AMT_CREDIT_SUM)  \\\n",
       "0                         0.0                       0            450000.0   \n",
       "1                         0.0                       0            810000.0   \n",
       "2                         NaN                       0            882900.0   \n",
       "3                         0.0                       0            146250.0   \n",
       "4                     30798.0                       0           1165500.0   \n",
       "\n",
       "  max(AMT_CREDIT_SUM_DEBT)  max(AMT_CREDIT_SUM_LIMIT)  \\\n",
       "0               153814.455                        0.0   \n",
       "1                    0.000                   810000.0   \n",
       "2               830155.500                        0.0   \n",
       "3                    0.000                        0.0   \n",
       "4               121221.000                        0.0   \n",
       "\n",
       "   max(AMT_CREDIT_SUM_OVERDUE)  max(DAYS_CREDIT_UPDATE)  max(AMT_ANNUITY)  \n",
       "0                          0.0                      -30               NaN  \n",
       "1                          0.0                      -43               NaN  \n",
       "2                          0.0                      -10               NaN  \n",
       "3                          0.0                     -783               NaN  \n",
       "4                          0.0                      -29           29907.0  \n",
       "\n",
       "[5 rows x 168 columns]"
      ]
     },
     "metadata": {},
     "output_type": "display_data"
    }
   ],
   "source": [
    "displayPandas(sparkApplicationData)"
   ]
  },
  {
   "cell_type": "markdown",
   "metadata": {},
   "source": [
    "Number of rows"
   ]
  },
  {
   "cell_type": "code",
   "execution_count": 12,
   "metadata": {},
   "outputs": [
    {
     "name": "stdout",
     "output_type": "stream",
     "text": [
      "307511\n"
     ]
    }
   ],
   "source": [
    "print(sparkApplicationData.count())"
   ]
  },
  {
   "cell_type": "markdown",
   "metadata": {},
   "source": [
    "# Data Preparation"
   ]
  },
  {
   "cell_type": "markdown",
   "metadata": {},
   "source": [
    "Null values replaced with average value."
   ]
  },
  {
   "cell_type": "code",
   "execution_count": 13,
   "metadata": {},
   "outputs": [],
   "source": [
    "## filter numeric cols\n",
    "num_cols = [col_type[0] for col_type in filter(lambda dtype: dtype[1] in {\"bigint\", \"double\", \"int\"}, sparkApplicationData.dtypes)]\n",
    "### Compute a dict with <col_name, median_value>\n",
    "median_dict = dict()\n",
    "for c in num_cols:\n",
    "   median_dict[c] = sparkApplicationData.stat.approxQuantile(c, [0.5], 0.001)[0]"
   ]
  },
  {
   "cell_type": "code",
   "execution_count": 14,
   "metadata": {},
   "outputs": [],
   "source": [
    "sparkApplicationData = sparkApplicationData.na.fill(median_dict)"
   ]
  },
  {
   "cell_type": "code",
   "execution_count": 15,
   "metadata": {},
   "outputs": [],
   "source": [
    "sparkApplicationData.write\\\n",
    "        .format(\"com.databricks.spark.csv\")\\\n",
    "        .option(\"header\", \"true\")\\\n",
    "        .mode(\"overwrite\")\\\n",
    "        .save('Data/preparedTrain.csv')\\"
   ]
  },
  {
   "cell_type": "markdown",
   "metadata": {},
   "source": [
    "# Modeling"
   ]
  },
  {
   "cell_type": "markdown",
   "metadata": {},
   "source": [
    "Data is transfered to H20"
   ]
  },
  {
   "cell_type": "code",
   "execution_count": 16,
   "metadata": {},
   "outputs": [
    {
     "name": "stdout",
     "output_type": "stream",
     "text": [
      "Checking whether there is an H2O instance running at http://localhost:54321..... not found.\n",
      "Attempting to start a local H2O server...\n",
      "  Java Version: openjdk version \"1.8.0_152-release\"; OpenJDK Runtime Environment (build 1.8.0_152-release-1056-b12); OpenJDK 64-Bit Server VM (build 25.152-b12, mixed mode)\n",
      "  Starting server from /opt/anaconda3/lib/python3.7/site-packages/h2o/backend/bin/h2o.jar\n",
      "  Ice root: /var/folders/nn/9m2w7tv942d9z8drr7__jjk40000gp/T/tmpwm99icmy\n",
      "  JVM stdout: /var/folders/nn/9m2w7tv942d9z8drr7__jjk40000gp/T/tmpwm99icmy/h2o_lukas_sykora_started_from_python.out\n",
      "  JVM stderr: /var/folders/nn/9m2w7tv942d9z8drr7__jjk40000gp/T/tmpwm99icmy/h2o_lukas_sykora_started_from_python.err\n",
      "  Server is running at http://127.0.0.1:54321\n",
      "Connecting to H2O server at http://127.0.0.1:54321... successful.\n",
      "Warning: Your H2O cluster version is too old (2 years, 1 month and 20 days)! Please download and install the latest version from http://h2o.ai/download/\n"
     ]
    },
    {
     "data": {
      "text/html": [
       "<div style=\"overflow:auto\"><table style=\"width:50%\"><tr><td>H2O cluster uptime:</td>\n",
       "<td>02 secs</td></tr>\n",
       "<tr><td>H2O cluster timezone:</td>\n",
       "<td>Europe/Prague</td></tr>\n",
       "<tr><td>H2O data parsing timezone:</td>\n",
       "<td>UTC</td></tr>\n",
       "<tr><td>H2O cluster version:</td>\n",
       "<td>3.18.0.2</td></tr>\n",
       "<tr><td>H2O cluster version age:</td>\n",
       "<td>2 years, 1 month and 20 days !!!</td></tr>\n",
       "<tr><td>H2O cluster name:</td>\n",
       "<td>H2O_from_python_lukas_sykora_ciaqhv</td></tr>\n",
       "<tr><td>H2O cluster total nodes:</td>\n",
       "<td>1</td></tr>\n",
       "<tr><td>H2O cluster free memory:</td>\n",
       "<td>3.556 Gb</td></tr>\n",
       "<tr><td>H2O cluster total cores:</td>\n",
       "<td>16</td></tr>\n",
       "<tr><td>H2O cluster allowed cores:</td>\n",
       "<td>16</td></tr>\n",
       "<tr><td>H2O cluster status:</td>\n",
       "<td>accepting new members, healthy</td></tr>\n",
       "<tr><td>H2O connection url:</td>\n",
       "<td>http://127.0.0.1:54321</td></tr>\n",
       "<tr><td>H2O connection proxy:</td>\n",
       "<td>None</td></tr>\n",
       "<tr><td>H2O internal security:</td>\n",
       "<td>False</td></tr>\n",
       "<tr><td>H2O API Extensions:</td>\n",
       "<td>XGBoost, Algos, AutoML, Core V3, Core V4</td></tr>\n",
       "<tr><td>Python version:</td>\n",
       "<td>3.7.4 final</td></tr></table></div>"
      ],
      "text/plain": [
       "--------------------------  ----------------------------------------\n",
       "H2O cluster uptime:         02 secs\n",
       "H2O cluster timezone:       Europe/Prague\n",
       "H2O data parsing timezone:  UTC\n",
       "H2O cluster version:        3.18.0.2\n",
       "H2O cluster version age:    2 years, 1 month and 20 days !!!\n",
       "H2O cluster name:           H2O_from_python_lukas_sykora_ciaqhv\n",
       "H2O cluster total nodes:    1\n",
       "H2O cluster free memory:    3.556 Gb\n",
       "H2O cluster total cores:    16\n",
       "H2O cluster allowed cores:  16\n",
       "H2O cluster status:         accepting new members, healthy\n",
       "H2O connection url:         http://127.0.0.1:54321\n",
       "H2O connection proxy:\n",
       "H2O internal security:      False\n",
       "H2O API Extensions:         XGBoost, Algos, AutoML, Core V3, Core V4\n",
       "Python version:             3.7.4 final\n",
       "--------------------------  ----------------------------------------"
      ]
     },
     "metadata": {},
     "output_type": "display_data"
    }
   ],
   "source": [
    "import h2o\n",
    "h2o.init()"
   ]
  },
  {
   "cell_type": "code",
   "execution_count": 17,
   "metadata": {},
   "outputs": [
    {
     "name": "stdout",
     "output_type": "stream",
     "text": [
      "Parse progress: |█████████████████████████████████████████████████████████| 100%\n"
     ]
    }
   ],
   "source": [
    "df_train = h2o.import_file('Data/preparedTrain.csv')"
   ]
  },
  {
   "cell_type": "code",
   "execution_count": 18,
   "metadata": {},
   "outputs": [
    {
     "name": "stdout",
     "output_type": "stream",
     "text": [
      "Rows:307511\n",
      "Cols:168\n",
      "\n",
      "\n"
     ]
    },
    {
     "data": {
      "text/html": [
       "<table>\n",
       "<thead>\n",
       "<tr><th>       </th><th>SK_ID_CURR        </th><th>TARGET             </th><th>NAME_CONTRACT_TYPE  </th><th>CODE_GENDER  </th><th>FLAG_OWN_CAR  </th><th>FLAG_OWN_REALTY  </th><th>CNT_CHILDREN      </th><th>AMT_INCOME_TOTAL  </th><th>AMT_CREDIT        </th><th>AMT_ANNUITY       </th><th>AMT_GOODS_PRICE  </th><th>NAME_TYPE_SUITE  </th><th>NAME_INCOME_TYPE    </th><th>NAME_EDUCATION_TYPE          </th><th>NAME_FAMILY_STATUS  </th><th>NAME_HOUSING_TYPE  </th><th>REGION_POPULATION_RELATIVE  </th><th>DAYS_BIRTH         </th><th>DAYS_EMPLOYED     </th><th>DAYS_REGISTRATION  </th><th>DAYS_ID_PUBLISH   </th><th>OWN_CAR_AGE      </th><th>FLAG_MOBIL          </th><th>FLAG_EMP_PHONE     </th><th>FLAG_WORK_PHONE   </th><th>FLAG_CONT_MOBILE   </th><th>FLAG_PHONE         </th><th>FLAG_EMAIL        </th><th>OCCUPATION_TYPE  </th><th>CNT_FAM_MEMBERS   </th><th>REGION_RATING_CLIENT  </th><th>REGION_RATING_CLIENT_W_CITY  </th><th>WEEKDAY_APPR_PROCESS_START  </th><th>HOUR_APPR_PROCESS_START  </th><th>REG_REGION_NOT_LIVE_REGION  </th><th>REG_REGION_NOT_WORK_REGION  </th><th>LIVE_REGION_NOT_WORK_REGION  </th><th>REG_CITY_NOT_LIVE_CITY  </th><th>REG_CITY_NOT_WORK_CITY  </th><th>LIVE_CITY_NOT_WORK_CITY  </th><th>ORGANIZATION_TYPE     </th><th>EXT_SOURCE_1        </th><th>EXT_SOURCE_2         </th><th>EXT_SOURCE_3         </th><th>APARTMENTS_AVG     </th><th>BASEMENTAREA_AVG   </th><th>YEARS_BEGINEXPLUATATION_AVG  </th><th>YEARS_BUILD_AVG    </th><th>COMMONAREA_AVG      </th><th>ELEVATORS_AVG       </th><th>ENTRANCES_AVG      </th><th>FLOORSMAX_AVG      </th><th>FLOORSMIN_AVG      </th><th>LANDAREA_AVG        </th><th>LIVINGAPARTMENTS_AVG  </th><th>LIVINGAREA_AVG     </th><th>NONLIVINGAPARTMENTS_AVG  </th><th>NONLIVINGAREA_AVG   </th><th>APARTMENTS_MODE    </th><th>BASEMENTAREA_MODE  </th><th>YEARS_BEGINEXPLUATATION_MODE  </th><th>YEARS_BUILD_MODE   </th><th>COMMONAREA_MODE     </th><th>ELEVATORS_MODE     </th><th>ENTRANCES_MODE     </th><th>FLOORSMAX_MODE     </th><th>FLOORSMIN_MODE     </th><th>LANDAREA_MODE      </th><th>LIVINGAPARTMENTS_MODE  </th><th>LIVINGAREA_MODE    </th><th>NONLIVINGAPARTMENTS_MODE  </th><th>NONLIVINGAREA_MODE  </th><th>APARTMENTS_MEDI    </th><th>BASEMENTAREA_MEDI   </th><th>YEARS_BEGINEXPLUATATION_MEDI  </th><th>YEARS_BUILD_MEDI   </th><th>COMMONAREA_MEDI     </th><th>ELEVATORS_MEDI     </th><th>ENTRANCES_MEDI     </th><th>FLOORSMAX_MEDI    </th><th>FLOORSMIN_MEDI     </th><th>LANDAREA_MEDI       </th><th>LIVINGAPARTMENTS_MEDI  </th><th>LIVINGAREA_MEDI    </th><th>NONLIVINGAPARTMENTS_MEDI  </th><th>NONLIVINGAREA_MEDI  </th><th>FONDKAPREMONT_MODE  </th><th>HOUSETYPE_MODE  </th><th>TOTALAREA_MODE     </th><th>WALLSMATERIAL_MODE  </th><th>EMERGENCYSTATE_MODE  </th><th>OBS_30_CNT_SOCIAL_CIRCLE  </th><th>DEF_30_CNT_SOCIAL_CIRCLE  </th><th>OBS_60_CNT_SOCIAL_CIRCLE  </th><th>DEF_60_CNT_SOCIAL_CIRCLE  </th><th>DAYS_LAST_PHONE_CHANGE  </th><th>FLAG_DOCUMENT_2       </th><th>FLAG_DOCUMENT_3   </th><th>FLAG_DOCUMENT_4      </th><th>FLAG_DOCUMENT_5     </th><th>FLAG_DOCUMENT_6    </th><th>FLAG_DOCUMENT_7       </th><th>FLAG_DOCUMENT_8    </th><th>FLAG_DOCUMENT_9    </th><th>FLAG_DOCUMENT_10     </th><th>FLAG_DOCUMENT_11    </th><th>FLAG_DOCUMENT_12     </th><th>FLAG_DOCUMENT_13    </th><th>FLAG_DOCUMENT_14     </th><th>FLAG_DOCUMENT_15     </th><th>FLAG_DOCUMENT_16    </th><th>FLAG_DOCUMENT_17     </th><th>FLAG_DOCUMENT_18    </th><th>FLAG_DOCUMENT_19     </th><th>FLAG_DOCUMENT_20     </th><th>FLAG_DOCUMENT_21     </th><th>AMT_REQ_CREDIT_BUREAU_HOUR  </th><th>AMT_REQ_CREDIT_BUREAU_DAY  </th><th>AMT_REQ_CREDIT_BUREAU_WEEK  </th><th>AMT_REQ_CREDIT_BUREAU_MON  </th><th>AMT_REQ_CREDIT_BUREAU_QRT  </th><th>AMT_REQ_CREDIT_BUREAU_YEAR  </th><th>SK_ID_CURR_MIN   </th><th>min(SK_ID_PREV)   </th><th>min(SK_ID_CURR_MIN)  </th><th>min(MONTHS_BALANCE)  </th><th>min(CNT_INSTALMENT)  </th><th>min(CNT_INSTALMENT_FUTURE)  </th><th>min(SK_DPD)        </th><th>min(SK_DPD_DEF)      </th><th>SK_ID_CURR_MAX   </th><th>max(SK_ID_PREV)   </th><th>max(SK_ID_CURR_MAX)  </th><th>max(MONTHS_BALANCE)  </th><th>max(CNT_INSTALMENT)  </th><th>max(CNT_INSTALMENT_FUTURE)  </th><th>max(SK_DPD)      </th><th>max(SK_DPD_DEF)   </th><th>SK_ID_CURR_BUR_MIN  </th><th>min(SK_ID_CURR_BUR_MIN)  </th><th>min(SK_ID_BUREAU)  </th><th>min(DAYS_CREDIT)   </th><th>min(CREDIT_DAY_OVERDUE)  </th><th>min(DAYS_CREDIT_ENDDATE)  </th><th>min(DAYS_ENDDATE_FACT)  </th><th>min(AMT_CREDIT_MAX_OVERDUE)  </th><th>min(CNT_CREDIT_PROLONG)  </th><th>min(AMT_CREDIT_SUM)  </th><th>min(AMT_CREDIT_SUM_DEBT)  </th><th>min(AMT_CREDIT_SUM_LIMIT)  </th><th>min(AMT_CREDIT_SUM_OVERDUE)  </th><th>min(DAYS_CREDIT_UPDATE)  </th><th>min(AMT_ANNUITY)  </th><th>SK_ID_CURR_BUR_MAX  </th><th>max(SK_ID_CURR_BUR_MAX)  </th><th>max(SK_ID_BUREAU)  </th><th>max(DAYS_CREDIT)   </th><th>max(CREDIT_DAY_OVERDUE)  </th><th>max(DAYS_CREDIT_ENDDATE)  </th><th>max(DAYS_ENDDATE_FACT)  </th><th>max(AMT_CREDIT_MAX_OVERDUE)  </th><th>max(CNT_CREDIT_PROLONG)  </th><th>max(AMT_CREDIT_SUM)  </th><th>max(AMT_CREDIT_SUM_DEBT)  </th><th>max(AMT_CREDIT_SUM_LIMIT)  </th><th>max(AMT_CREDIT_SUM_OVERDUE)  </th><th>max(DAYS_CREDIT_UPDATE)  </th><th>max(AMT_ANNUITY)  </th></tr>\n",
       "</thead>\n",
       "<tbody>\n",
       "<tr><td>type   </td><td>int               </td><td>int                </td><td>enum                </td><td>enum         </td><td>enum          </td><td>enum             </td><td>int               </td><td>real              </td><td>real              </td><td>real              </td><td>real             </td><td>enum             </td><td>enum                </td><td>enum                         </td><td>enum                </td><td>enum               </td><td>real                        </td><td>int                </td><td>int               </td><td>real               </td><td>int               </td><td>int              </td><td>int                 </td><td>int                </td><td>int               </td><td>int                </td><td>int                </td><td>int               </td><td>enum             </td><td>int               </td><td>int                   </td><td>int                          </td><td>enum                        </td><td>int                      </td><td>int                         </td><td>int                         </td><td>int                          </td><td>int                     </td><td>int                     </td><td>int                      </td><td>enum                  </td><td>real                </td><td>real                 </td><td>real                 </td><td>real               </td><td>real               </td><td>real                         </td><td>real               </td><td>real                </td><td>real                </td><td>real               </td><td>real               </td><td>real               </td><td>real                </td><td>real                  </td><td>real               </td><td>real                     </td><td>real                </td><td>real               </td><td>real               </td><td>real                          </td><td>real               </td><td>real                </td><td>real               </td><td>real               </td><td>real               </td><td>real               </td><td>real               </td><td>real                   </td><td>real               </td><td>real                      </td><td>real                </td><td>real               </td><td>real                </td><td>real                          </td><td>real               </td><td>real                </td><td>real               </td><td>real               </td><td>real              </td><td>real               </td><td>real                </td><td>real                   </td><td>real               </td><td>real                      </td><td>real                </td><td>enum                </td><td>enum            </td><td>real               </td><td>enum                </td><td>enum                 </td><td>int                       </td><td>int                       </td><td>int                       </td><td>int                       </td><td>int                     </td><td>int                   </td><td>int               </td><td>int                  </td><td>int                 </td><td>int                </td><td>int                   </td><td>int                </td><td>int                </td><td>int                  </td><td>int                 </td><td>int                  </td><td>int                 </td><td>int                  </td><td>int                  </td><td>int                 </td><td>int                  </td><td>int                 </td><td>int                  </td><td>int                  </td><td>int                  </td><td>int                         </td><td>int                        </td><td>int                         </td><td>int                        </td><td>int                        </td><td>int                         </td><td>int              </td><td>int               </td><td>int                  </td><td>int                  </td><td>int                  </td><td>int                         </td><td>int                </td><td>int                  </td><td>int              </td><td>int               </td><td>int                  </td><td>int                  </td><td>int                  </td><td>int                         </td><td>int              </td><td>int               </td><td>int                 </td><td>int                      </td><td>int                </td><td>int                </td><td>int                      </td><td>int                       </td><td>int                     </td><td>real                         </td><td>int                      </td><td>real                 </td><td>real                      </td><td>real                       </td><td>real                         </td><td>int                      </td><td>real              </td><td>int                 </td><td>int                      </td><td>int                </td><td>int                </td><td>int                      </td><td>int                       </td><td>int                     </td><td>real                         </td><td>int                      </td><td>real                 </td><td>real                      </td><td>real                       </td><td>real                         </td><td>int                      </td><td>real              </td></tr>\n",
       "<tr><td>mins   </td><td>100002.0          </td><td>0.0                </td><td>                    </td><td>             </td><td>              </td><td>                 </td><td>0.0               </td><td>25650.0           </td><td>45000.0           </td><td>1615.5            </td><td>40500.0          </td><td>                 </td><td>                    </td><td>                             </td><td>                    </td><td>                   </td><td>0.00029                     </td><td>-25229.0           </td><td>-17912.0          </td><td>-24672.0           </td><td>-7197.0           </td><td>0.0              </td><td>0.0                 </td><td>0.0                </td><td>0.0               </td><td>0.0                </td><td>0.0                </td><td>0.0               </td><td>                 </td><td>1.0               </td><td>1.0                   </td><td>1.0                          </td><td>                            </td><td>0.0                      </td><td>0.0                         </td><td>0.0                         </td><td>0.0                          </td><td>0.0                     </td><td>0.0                     </td><td>0.0                      </td><td>                      </td><td>0.014568132412445587</td><td>8.173616518884396e-08</td><td>0.0005272652387098817</td><td>0.0                </td><td>0.0                </td><td>0.0                          </td><td>0.0                </td><td>0.0                 </td><td>0.0                 </td><td>0.0                </td><td>0.0                </td><td>0.0                </td><td>0.0                 </td><td>0.0                   </td><td>0.0                </td><td>0.0                      </td><td>0.0                 </td><td>0.0                </td><td>0.0                </td><td>0.0                           </td><td>0.0                </td><td>0.0                 </td><td>0.0                </td><td>0.0                </td><td>0.0                </td><td>0.0                </td><td>0.0                </td><td>0.0                    </td><td>0.0                </td><td>0.0                       </td><td>0.0                 </td><td>0.0                </td><td>0.0                 </td><td>0.0                           </td><td>0.0                </td><td>0.0                 </td><td>0.0                </td><td>0.0                </td><td>0.0               </td><td>0.0                </td><td>0.0                 </td><td>0.0                    </td><td>0.0                </td><td>0.0                       </td><td>0.0                 </td><td>                    </td><td>                </td><td>0.0                </td><td>                    </td><td>                     </td><td>0.0                       </td><td>0.0                       </td><td>0.0                       </td><td>0.0                       </td><td>-4292.0                 </td><td>0.0                   </td><td>0.0               </td><td>0.0                  </td><td>0.0                 </td><td>0.0                </td><td>0.0                   </td><td>0.0                </td><td>0.0                </td><td>0.0                  </td><td>0.0                 </td><td>0.0                  </td><td>0.0                 </td><td>0.0                  </td><td>0.0                  </td><td>0.0                 </td><td>0.0                  </td><td>0.0                 </td><td>0.0                  </td><td>0.0                  </td><td>0.0                  </td><td>0.0                         </td><td>0.0                        </td><td>0.0                         </td><td>0.0                        </td><td>0.0                        </td><td>0.0                         </td><td>100002.0         </td><td>1000001.0         </td><td>100002.0             </td><td>-96.0                </td><td>1.0                  </td><td>0.0                         </td><td>0.0                </td><td>0.0                  </td><td>100002.0         </td><td>1000001.0         </td><td>100002.0             </td><td>-96.0                </td><td>1.0                  </td><td>0.0                         </td><td>0.0              </td><td>0.0               </td><td>100002.0            </td><td>100002.0                 </td><td>5000000.0          </td><td>-2922.0            </td><td>0.0                      </td><td>-42060.0                  </td><td>-42023.0                </td><td>0.0                          </td><td>0.0                      </td><td>0.0                  </td><td>-4705600.32               </td><td>-586406.115                </td><td>0.0                          </td><td>-41947.0                 </td><td>0.0               </td><td>100002.0            </td><td>100002.0                 </td><td>5000004.0          </td><td>-2922.0            </td><td>0.0                      </td><td>-41875.0                  </td><td>-2887.0                 </td><td>0.0                          </td><td>0.0                      </td><td>0.0                  </td><td>-25959.645                </td><td>-1747.035                  </td><td>0.0                          </td><td>-41890.0                 </td><td>0.0               </td></tr>\n",
       "<tr><td>mean   </td><td>278180.51857657125</td><td>0.08072881945686496</td><td>                    </td><td>             </td><td>              </td><td>                 </td><td>0.4170517477423572</td><td>168797.91929698447</td><td>599025.9997057016 </td><td>27108.489245913155</td><td>538316.2943667056</td><td>                 </td><td>                    </td><td>                             </td><td>                    </td><td>                   </td><td>0.020868112057780046        </td><td>-16036.995066843137</td><td>63815.04590404896 </td><td>-4986.120327538419 </td><td>-2994.202373248436</td><td>10.04105219000296</td><td>0.9999967480838083  </td><td>0.8198893698111612 </td><td>0.1993684778755882</td><td>0.9981334001060125 </td><td>0.28106636835755466</td><td>0.0567199222141647</td><td>                 </td><td>2.1526644575316003</td><td>2.0524631639193394    </td><td>2.031520823645333            </td><td>                            </td><td>12.063418869568894       </td><td>0.015144173704355291        </td><td>0.05076891558350758         </td><td>0.04065870814377372          </td><td>0.07817281333025486     </td><td>0.23045354475124466     </td><td>0.17955455252007246      </td><td>                      </td><td>0.5051814566179053  </td><td>0.5145052561855019   </td><td>0.5160505172018083   </td><td>0.10229652662831575</td><td>0.08139559950700948</td><td>0.9798642188409522           </td><td>0.7542858694485726 </td><td>0.028256123520784618</td><td>0.036868859975740714</td><td>0.14377109436735597</td><td>0.19663346059165365</td><td>0.21588563368464866</td><td>0.05556629096194934 </td><td>0.08356656932597532   </td><td>0.09093610049721798</td><td>0.002692550185196627     </td><td>0.01469663361635844 </td><td>0.09888885275648676</td><td>0.08008639983610341</td><td>0.9792774102389835            </td><td>0.7630703887015424 </td><td>0.026165891626641003</td><td>0.03478970150661277</td><td>0.1415208948622976 </td><td>0.19464054293992733</td><td>0.21465262608492056</td><td>0.05370122987470367</td><td>0.08613303328986605    </td><td>0.08952416238768694</td><td>0.0024687123387456063     </td><td>0.012773779474555382</td><td>0.1023966684118617 </td><td>0.08095935722624557 </td><td>0.9798731339691912            </td><td>0.7575774401566122 </td><td>0.028108662129159606</td><td>0.03646549229133267</td><td>0.1435169350039511 </td><td>0.1964398805245991</td><td>0.21579928717997077</td><td>0.056261985099720024</td><td>0.08455507998087872    </td><td>0.0918387839784593 </td><td>0.002644358413194975      </td><td>0.014366129666906223</td><td>                    </td><td>                </td><td>0.08635418602911765</td><td>                    </td><td>                     </td><td>1.4175232755901415        </td><td>0.1429444800348606        </td><td>1.4006263190585053        </td><td>0.09971675809971028       </td><td>-962.8581091408113      </td><td>4.2274910491006824e-05</td><td>0.7100233812774177</td><td>8.129790479039775e-05</td><td>0.015114906458630749</td><td>0.0880553866365756 </td><td>0.00019186305530533867</td><td>0.08137595077899652</td><td>0.00389579559755586</td><td>2.276341334131137e-05</td><td>0.003912055178513939</td><td>6.503832383231819e-06</td><td>0.003525077151711646</td><td>0.0029364803210291664</td><td>0.0012097128232811183</td><td>0.009928100133003373</td><td>0.0002666571277125046</td><td>0.008129790479039774</td><td>0.0005951006630657115</td><td>0.0005072989258920819</td><td>0.0003349473677364387</td><td>0.005538013274321894        </td><td>0.0060550679487888235      </td><td>0.029722513991369416        </td><td>0.23129253912868158        </td><td>0.22963080995476584        </td><td>1.778463209446166           </td><td>278285.4507676148</td><td>1574398.2311266914</td><td>278293.7348517614    </td><td>-52.60326622462286   </td><td>7.6703402479911285   </td><td>0.53037777510398            </td><td>0.04860964323227462</td><td>0.0009918344384428524</td><td>278260.1872485862</td><td>2234750.635860181 </td><td>278269.0001040613    </td><td>-12.057747527730715  </td><td>19.930457772242296   </td><td>19.824019303374513          </td><td>14.77537063714794</td><td>1.3825326573683543</td><td>278153.1515945772   </td><td>278194.8080556468        </td><td>5860084.794882135  </td><td>-1770.0512827183418</td><td>0.1358650584857127       </td><td>-1064.3985385888634       </td><td>-1462.2356793740707     </td><td>1796.6669589868327           </td><td>0.0012454839013888934    </td><td>108192.1077304877    </td><td>33155.29421700362         </td><td>846.980911027573           </td><td>11.304606680736624           </td><td>-1162.6999489449158      </td><td>1880.5065726754492</td><td>278182.0677634296   </td><td>278173.7651010858        </td><td>5912504.316541522  </td><td>-462.05680772395135</td><td>4.089541512336144        </td><td>3903.5566597617644        </td><td>-481.0738867877897      </td><td>5618.772449398558            </td><td>0.03362156150511689      </td><td>900705.2858187511    </td><td>459705.113886004          </td><td>17566.078941423235         </td><td>158.49182964186645           </td><td>-123.53007859881436      </td><td>18319.472429142374</td></tr>\n",
       "<tr><td>maxs   </td><td>456255.0          </td><td>1.0                </td><td>                    </td><td>             </td><td>              </td><td>                 </td><td>19.0              </td><td>117000000.0       </td><td>4050000.0         </td><td>258025.5          </td><td>4050000.0        </td><td>                 </td><td>                    </td><td>                             </td><td>                    </td><td>                   </td><td>0.072508                    </td><td>-7489.0            </td><td>365243.0          </td><td>0.0                </td><td>0.0               </td><td>91.0             </td><td>1.0                 </td><td>1.0                </td><td>1.0               </td><td>1.0                </td><td>1.0                </td><td>1.0               </td><td>                 </td><td>20.0              </td><td>3.0                   </td><td>3.0                          </td><td>                            </td><td>23.0                     </td><td>1.0                         </td><td>1.0                         </td><td>1.0                          </td><td>1.0                     </td><td>1.0                     </td><td>1.0                      </td><td>                      </td><td>0.962692770561306   </td><td>0.8549996664047012   </td><td>0.8960095494948396   </td><td>1.0                </td><td>1.0                </td><td>1.0                          </td><td>1.0                </td><td>1.0                 </td><td>1.0                 </td><td>1.0                </td><td>1.0                </td><td>1.0                </td><td>1.0                 </td><td>1.0                   </td><td>1.0                </td><td>1.0                      </td><td>1.0                 </td><td>1.0                </td><td>1.0                </td><td>1.0                           </td><td>1.0                </td><td>1.0                 </td><td>1.0                </td><td>1.0                </td><td>1.0                </td><td>1.0                </td><td>1.0                </td><td>1.0                    </td><td>1.0                </td><td>1.0                       </td><td>1.0                 </td><td>1.0                </td><td>1.0                 </td><td>1.0                           </td><td>1.0                </td><td>1.0                 </td><td>1.0                </td><td>1.0                </td><td>1.0               </td><td>1.0                </td><td>1.0                 </td><td>1.0                    </td><td>1.0                </td><td>1.0                       </td><td>1.0                 </td><td>                    </td><td>                </td><td>1.0                </td><td>                    </td><td>                     </td><td>348.0                     </td><td>34.0                      </td><td>344.0                     </td><td>24.0                      </td><td>0.0                     </td><td>1.0                   </td><td>1.0               </td><td>1.0                  </td><td>1.0                 </td><td>1.0                </td><td>1.0                   </td><td>1.0                </td><td>1.0                </td><td>1.0                  </td><td>1.0                 </td><td>1.0                  </td><td>1.0                 </td><td>1.0                  </td><td>1.0                  </td><td>1.0                 </td><td>1.0                  </td><td>1.0                 </td><td>1.0                  </td><td>1.0                  </td><td>1.0                  </td><td>4.0                         </td><td>9.0                        </td><td>8.0                         </td><td>27.0                       </td><td>261.0                      </td><td>25.0                        </td><td>456255.0         </td><td>2843492.0         </td><td>456255.0             </td><td>-1.0                 </td><td>72.0                 </td><td>60.0                        </td><td>882.0              </td><td>176.0                </td><td>456255.0         </td><td>2843499.0         </td><td>456255.0             </td><td>-1.0                 </td><td>84.0                 </td><td>84.0                        </td><td>4231.0           </td><td>3373.0            </td><td>456255.0            </td><td>456255.0                 </td><td>6843450.0          </td><td>0.0                </td><td>2776.0                   </td><td>31198.0                   </td><td>0.0                     </td><td>115987185.0                  </td><td>6.0                      </td><td>142290000.0          </td><td>43650000.0                </td><td>4500000.0                  </td><td>1617403.5                    </td><td>14.0                     </td><td>24016036.5        </td><td>456255.0            </td><td>456255.0                 </td><td>6843457.0          </td><td>0.0                </td><td>2792.0                   </td><td>31199.0                   </td><td>0.0                     </td><td>115987185.0                  </td><td>9.0                      </td><td>396000000.0          </td><td>170100000.0               </td><td>4705600.32                 </td><td>3756681.0                    </td><td>372.0                    </td><td>59586682.5        </td></tr>\n",
       "<tr><td>sigma  </td><td>102790.17534842459</td><td>0.27241864564839396</td><td>                    </td><td>             </td><td>              </td><td>                 </td><td>0.7221213844376252</td><td>237123.14627885606</td><td>402490.77699585486</td><td>14493.460853462104</td><td>369288.9822457966</td><td>                 </td><td>                    </td><td>                             </td><td>                    </td><td>                   </td><td>0.013831280122704698        </td><td>4363.98863178556   </td><td>141275.76651872724</td><td>3522.8863209630717 </td><td>1509.4504190030232</td><td>7.115228485299287</td><td>0.001803307015351493</td><td>0.38428019893876436</td><td>0.3995262281502265</td><td>0.04316389414243238</td><td>0.44952054685675835</td><td>0.2313070397227076</td><td>                 </td><td>0.910678690929807 </td><td>0.50903390281568      </td><td>0.5027370329147687           </td><td>                            </td><td>3.2658322554378705       </td><td>0.12212647628215204         </td><td>0.21952582879696064         </td><td>0.19749861882842365          </td><td>0.2684437723734045      </td><td>0.4211238359138973      </td><td>0.38381661538559586      </td><td>                      </td><td>0.13942082231189812 </td><td>0.19087044868536024  </td><td>0.17477702607675097  </td><td>0.07741245072532081</td><td>0.05342719983649598</td><td>0.04244066754506352          </td><td>0.06558010194877982</td><td>0.04309606976418751 </td><td>0.10004783570965027 </td><td>0.07074560013654849</td><td>0.10676120070539133</td><td>0.09216694758404487</td><td>0.052504198624111625</td><td>0.05337752382052059   </td><td>0.07973421158153338</td><td>0.026699722949213533     </td><td>0.048145480588317205</td><td>0.07724090874067097</td><td>0.05466230523624734</td><td>0.046270465041427525          </td><td>0.06377983391752674</td><td>0.04225460495234098 </td><td>0.09772639303283909</td><td>0.07124530071288661</td><td>0.10558789050531196</td><td>0.09184558254764884</td><td>0.05292988172925927</td><td>0.05663929584147873    </td><td>0.08061653222602308</td><td>0.025854010131538794      </td><td>0.04875531170185468 </td><td>0.07804681681379652</td><td>0.053256378513783065</td><td>0.042921962163349446          </td><td>0.06487802312944912</td><td>0.04317374755290888 </td><td>0.09981049885657717</td><td>0.07094892437140812</td><td>0.1069979560084584</td><td>0.09246354756365781</td><td>0.05314150362431249 </td><td>0.053991228001002645   </td><td>0.08096788132439933</td><td>0.02651553358107985       </td><td>0.04860998337785964 </td><td>                    </td><td>                </td><td>0.07908868340436653</td><td>                    </td><td>                     </td><td>2.398395406060292         </td><td>0.44603255574314715       </td><td>2.3772242660544616        </td><td>0.36173465013167366       </td><td>826.8072284640924       </td><td>0.006501789045489791  </td><td>0.4537519684327392</td><td>0.00901618321655089  </td><td>0.1220102228135413  </td><td>0.28337589286298986</td><td>0.01385015767701742   </td><td>0.27341204894451304</td><td>0.06229471080039369</td><td>0.004771055354069213 </td><td>0.06242406326684518 </td><td>0.0025502570915978662</td><td>0.0592677180737531  </td><td>0.05410976737642879  </td><td>0.0347599388276926   </td><td>0.09914416233784906 </td><td>0.016327488741596615 </td><td>0.08979823610939557 </td><td>0.024387465065862264 </td><td>0.02251762026844613  </td><td>0.01829853182243764  </td><td>0.07801413049717408         </td><td>0.103037120108819          </td><td>0.19072793759960446         </td><td>0.8568100735735288         </td><td>0.7440589926520406         </td><td>1.7655231477150397          </td><td>99765.68399960894</td><td>468771.4093229992 </td><td>99765.77184360975    </td><td>28.73027977981553    </td><td>5.481433736586726    </td><td>2.6864343380670626          </td><td>4.756568119141501  </td><td>0.3935047815552928   </td><td>99765.48415560435</td><td>478167.40739803464</td><td>99765.54222823461    </td><td>18.217914670562948   </td><td>13.677503587464022   </td><td>13.722643031504296          </td><td>148.6474412106905</td><td>29.698788475771305</td><td>95168.86513507235   </td><td>95169.00674377337        </td><td>495625.09376321046 </td><td>799.8649342042485  </td><td>15.605771306511597       </td><td>2435.0145509613276        </td><td>685.8034701806281       </td><td>220205.3431927375            </td><td>0.04382165542141169      </td><td>537694.3732670379    </td><td>369645.0011775253         </td><td>18524.273511949            </td><td>3820.6733844485716           </td><td>1036.035370700296        </td><td>50456.96158848698 </td><td>95168.95184849249   </td><td>95168.92156837024        </td><td>499803.72123153775 </td><td>502.0552963987279  </td><td>82.53162099678595        </td><td>8710.138831580385         </td><td>468.843609763406        </td><td>284580.5906184915            </td><td>0.21948131727896886      </td><td>1941138.2903624882   </td><td>1233655.0787601464        </td><td>76250.11901967948          </td><td>13318.805079703177           </td><td>325.7064856754069        </td><td>262700.4098636841 </td></tr>\n",
       "<tr><td>zeros  </td><td>0                 </td><td>282686             </td><td>                    </td><td>             </td><td>              </td><td>                 </td><td>215371            </td><td>0                 </td><td>0                 </td><td>0                 </td><td>0                </td><td>                 </td><td>                    </td><td>                             </td><td>                    </td><td>                   </td><td>0                           </td><td>0                  </td><td>2                 </td><td>80                 </td><td>16                </td><td>2134             </td><td>1                   </td><td>55386              </td><td>246203            </td><td>574                </td><td>221080             </td><td>290069            </td><td>                 </td><td>0                 </td><td>0                     </td><td>0                            </td><td>                            </td><td>40                       </td><td>302854                      </td><td>291899                      </td><td>295008                       </td><td>283472                  </td><td>236644                  </td><td>252296                   </td><td>                      </td><td>0                   </td><td>0                    </td><td>0                    </td><td>751                </td><td>14745              </td><td>514                          </td><td>102                </td><td>8442                </td><td>249609              </td><td>323                </td><td>2938               </td><td>2320               </td><td>15600               </td><td>418                   </td><td>284                </td><td>268063                   </td><td>58735               </td><td>976                </td><td>16598              </td><td>142                           </td><td>103                </td><td>9690                </td><td>253389             </td><td>387                </td><td>3415               </td><td>2517               </td><td>17453              </td><td>519                    </td><td>444                </td><td>272769                    </td><td>67126               </td><td>771                </td><td>14991               </td><td>548                           </td><td>101                </td><td>8691                </td><td>250917             </td><td>329                </td><td>2995              </td><td>2351               </td><td>15919               </td><td>433                    </td><td>299                </td><td>269611                    </td><td>60954               </td><td>                    </td><td>                </td><td>582                </td><td>                    </td><td>                     </td><td>164931                    </td><td>272345                    </td><td>165687                    </td><td>281742                    </td><td>37672                   </td><td>307498                </td><td>89171             </td><td>307486               </td><td>302863              </td><td>280433             </td><td>307452                </td><td>282487             </td><td>306313             </td><td>307504               </td><td>306308              </td><td>307509               </td><td>306427              </td><td>306608               </td><td>307139               </td><td>304458              </td><td>307429               </td><td>305011              </td><td>307328               </td><td>307355               </td><td>307408               </td><td>305885                      </td><td>306022                     </td><td>298975                      </td><td>263752                     </td><td>256936                     </td><td>71801                       </td><td>0                </td><td>0                 </td><td>0                    </td><td>0                    </td><td>0                    </td><td>280015                      </td><td>307447             </td><td>307509               </td><td>0                </td><td>0                 </td><td>0                    </td><td>0                    </td><td>0                    </td><td>497                         </td><td>252828           </td><td>267621            </td><td>0                   </td><td>0                        </td><td>0                  </td><td>1                  </td><td>307364                   </td><td>70                        </td><td>3                       </td><td>289680                       </td><td>307204                   </td><td>43079                </td><td>273765                    </td><td>303986                     </td><td>307363                       </td><td>14                       </td><td>280543            </td><td>0                   </td><td>0                        </td><td>0                  </td><td>4                  </td><td>304114                   </td><td>124                       </td><td>27                      </td><td>237071                       </td><td>299003                   </td><td>1082                 </td><td>70847                     </td><td>258718                     </td><td>304177                       </td><td>345                      </td><td>19737             </td></tr>\n",
       "<tr><td>missing</td><td>0                 </td><td>0                  </td><td>0                   </td><td>0            </td><td>0             </td><td>0                </td><td>0                 </td><td>0                 </td><td>0                 </td><td>0                 </td><td>0                </td><td>0                </td><td>0                   </td><td>0                            </td><td>0                   </td><td>0                  </td><td>0                           </td><td>0                  </td><td>0                 </td><td>0                  </td><td>0                 </td><td>0                </td><td>0                   </td><td>0                  </td><td>0                 </td><td>0                  </td><td>0                  </td><td>0                 </td><td>0                </td><td>0                 </td><td>0                     </td><td>0                            </td><td>0                           </td><td>0                        </td><td>0                           </td><td>0                           </td><td>0                            </td><td>0                       </td><td>0                       </td><td>0                        </td><td>0                     </td><td>0                   </td><td>0                    </td><td>0                    </td><td>0                  </td><td>0                  </td><td>0                            </td><td>0                  </td><td>0                   </td><td>0                   </td><td>0                  </td><td>0                  </td><td>0                  </td><td>0                   </td><td>0                     </td><td>0                  </td><td>0                        </td><td>0                   </td><td>0                  </td><td>0                  </td><td>0                             </td><td>0                  </td><td>0                   </td><td>0                  </td><td>0                  </td><td>0                  </td><td>0                  </td><td>0                  </td><td>0                      </td><td>0                  </td><td>0                         </td><td>0                   </td><td>0                  </td><td>0                   </td><td>0                             </td><td>0                  </td><td>0                   </td><td>0                  </td><td>0                  </td><td>0                 </td><td>0                  </td><td>0                   </td><td>0                      </td><td>0                  </td><td>0                         </td><td>0                   </td><td>0                   </td><td>0               </td><td>0                  </td><td>0                   </td><td>0                    </td><td>0                         </td><td>0                         </td><td>0                         </td><td>0                         </td><td>0                       </td><td>0                     </td><td>0                 </td><td>0                    </td><td>0                   </td><td>0                  </td><td>0                     </td><td>0                  </td><td>0                  </td><td>0                    </td><td>0                   </td><td>0                    </td><td>0                   </td><td>0                    </td><td>0                    </td><td>0                   </td><td>0                    </td><td>0                   </td><td>0                    </td><td>0                    </td><td>0                    </td><td>0                           </td><td>0                          </td><td>0                           </td><td>0                          </td><td>0                          </td><td>0                           </td><td>0                </td><td>0                 </td><td>0                    </td><td>0                    </td><td>0                    </td><td>0                           </td><td>0                  </td><td>0                    </td><td>0                </td><td>0                 </td><td>0                    </td><td>0                    </td><td>0                    </td><td>0                           </td><td>0                </td><td>0                 </td><td>0                   </td><td>0                        </td><td>0                  </td><td>0                  </td><td>0                        </td><td>0                         </td><td>0                       </td><td>0                            </td><td>0                        </td><td>0                    </td><td>0                         </td><td>0                          </td><td>0                            </td><td>0                        </td><td>0                 </td><td>0                   </td><td>0                        </td><td>0                  </td><td>0                  </td><td>0                        </td><td>0                         </td><td>0                       </td><td>0                            </td><td>0                        </td><td>0                    </td><td>0                         </td><td>0                          </td><td>0                            </td><td>0                        </td><td>0                 </td></tr>\n",
       "<tr><td>0      </td><td>100086.0          </td><td>0.0                </td><td>Cash loans          </td><td>F            </td><td>N             </td><td>Y                </td><td>1.0               </td><td>135000.0          </td><td>675000.0          </td><td>21775.5           </td><td>675000.0         </td><td>Unaccompanied    </td><td>Commercial associate</td><td>Higher education             </td><td>Widow               </td><td>House / apartment  </td><td>0.019101                    </td><td>-14264.0           </td><td>-2492.0           </td><td>-4327.0            </td><td>-4517.0           </td><td>9.0              </td><td>1.0                 </td><td>1.0                </td><td>0.0               </td><td>1.0                </td><td>0.0                </td><td>0.0               </td><td>Laborers         </td><td>2.0               </td><td>2.0                   </td><td>2.0                          </td><td>THURSDAY                    </td><td>12.0                     </td><td>0.0                         </td><td>0.0                         </td><td>0.0                          </td><td>0.0                     </td><td>0.0                     </td><td>0.0                      </td><td>Self-employed         </td><td>0.5075423507243337  </td><td>0.5698732368655826   </td><td>0.1986200451074864   </td><td>0.0876             </td><td>0.0764             </td><td>0.9821                       </td><td>0.7552             </td><td>0.0212              </td><td>0.0                 </td><td>0.1379             </td><td>0.1667             </td><td>0.2083             </td><td>0.0482              </td><td>0.0756                </td><td>0.0746             </td><td>0.0                      </td><td>0.0036              </td><td>0.084              </td><td>0.0748             </td><td>0.9816                        </td><td>0.7648             </td><td>0.0191              </td><td>0.0                </td><td>0.1379             </td><td>0.1667             </td><td>0.2083             </td><td>0.046              </td><td>0.0771                 </td><td>0.0732             </td><td>0.0                       </td><td>0.0012              </td><td>0.0874             </td><td>0.076               </td><td>0.9821                        </td><td>0.7585             </td><td>0.021               </td><td>0.0                </td><td>0.1379             </td><td>0.1667            </td><td>0.2083             </td><td>0.0488              </td><td>0.0765                 </td><td>0.0752             </td><td>0.0                       </td><td>0.0031              </td><td>                    </td><td>                </td><td>0.069              </td><td>                    </td><td>                     </td><td>0.0                       </td><td>0.0                       </td><td>0.0                       </td><td>0.0                       </td><td>-1597.0                 </td><td>0.0                   </td><td>1.0               </td><td>0.0                  </td><td>0.0                 </td><td>0.0                </td><td>0.0                   </td><td>0.0                </td><td>0.0                </td><td>0.0                  </td><td>0.0                 </td><td>0.0                  </td><td>0.0                 </td><td>0.0                  </td><td>0.0                  </td><td>0.0                 </td><td>0.0                  </td><td>0.0                 </td><td>0.0                  </td><td>0.0                  </td><td>0.0                  </td><td>0.0                         </td><td>0.0                        </td><td>0.0                         </td><td>1.0                        </td><td>4.0                        </td><td>2.0                         </td><td>100086.0         </td><td>1817195.0         </td><td>100086.0             </td><td>-96.0                </td><td>10.0                 </td><td>0.0                         </td><td>0.0                </td><td>0.0                  </td><td>100086.0         </td><td>1817195.0         </td><td>100086.0             </td><td>-91.0                </td><td>10.0                 </td><td>5.0                         </td><td>0.0              </td><td>0.0               </td><td>100086.0            </td><td>100086.0                 </td><td>5990278.0          </td><td>-1364.0            </td><td>0.0                      </td><td>-1182.0                   </td><td>-1027.0                 </td><td>14453.865                    </td><td>0.0                      </td><td>53572.95             </td><td>0.0                       </td><td>0.0                        </td><td>0.0                          </td><td>-1027.0                  </td><td>0.0               </td><td>100086.0            </td><td>100086.0                 </td><td>5990283.0          </td><td>-218.0             </td><td>0.0                      </td><td>979.0                     </td><td>-448.0                  </td><td>14453.865                    </td><td>0.0                      </td><td>297000.0             </td><td>202212.0                  </td><td>0.0                        </td><td>0.0                          </td><td>-2.0                     </td><td>12510.0           </td></tr>\n",
       "<tr><td>1      </td><td>100259.0          </td><td>0.0                </td><td>Cash loans          </td><td>M            </td><td>Y             </td><td>Y                </td><td>0.0               </td><td>180000.0          </td><td>427500.0          </td><td>21955.5           </td><td>427500.0         </td><td>Unaccompanied    </td><td>Pensioner           </td><td>Secondary / secondary special</td><td>Married             </td><td>House / apartment  </td><td>0.018209                    </td><td>-20672.0           </td><td>365243.0          </td><td>-3315.0            </td><td>-3299.0           </td><td>25.0             </td><td>1.0                 </td><td>0.0                </td><td>0.0               </td><td>1.0                </td><td>0.0                </td><td>0.0               </td><td>                 </td><td>2.0               </td><td>3.0                   </td><td>3.0                          </td><td>FRIDAY                      </td><td>8.0                      </td><td>0.0                         </td><td>0.0                         </td><td>0.0                          </td><td>0.0                     </td><td>0.0                     </td><td>0.0                      </td><td>XNA                   </td><td>0.5075423507243337  </td><td>0.37916204131473     </td><td>0.3791004853998145   </td><td>0.0876             </td><td>0.0764             </td><td>0.9821                       </td><td>0.7552             </td><td>0.0212              </td><td>0.0                 </td><td>0.1379             </td><td>0.1667             </td><td>0.2083             </td><td>0.0482              </td><td>0.0756                </td><td>0.0746             </td><td>0.0                      </td><td>0.0036              </td><td>0.084              </td><td>0.0748             </td><td>0.9816                        </td><td>0.7648             </td><td>0.0191              </td><td>0.0                </td><td>0.1379             </td><td>0.1667             </td><td>0.2083             </td><td>0.046              </td><td>0.0771                 </td><td>0.0732             </td><td>0.0                       </td><td>0.0012              </td><td>0.0874             </td><td>0.076               </td><td>0.9821                        </td><td>0.7585             </td><td>0.021               </td><td>0.0                </td><td>0.1379             </td><td>0.1667            </td><td>0.2083             </td><td>0.0488              </td><td>0.0765                 </td><td>0.0752             </td><td>0.0                       </td><td>0.0031              </td><td>                    </td><td>                </td><td>0.069              </td><td>                    </td><td>                     </td><td>2.0                       </td><td>0.0                       </td><td>2.0                       </td><td>0.0                       </td><td>-1838.0                 </td><td>0.0                   </td><td>1.0               </td><td>0.0                  </td><td>0.0                 </td><td>0.0                </td><td>0.0                   </td><td>0.0                </td><td>0.0                </td><td>0.0                  </td><td>0.0                 </td><td>0.0                  </td><td>0.0                 </td><td>0.0                  </td><td>0.0                  </td><td>0.0                 </td><td>0.0                  </td><td>0.0                 </td><td>0.0                  </td><td>0.0                  </td><td>0.0                  </td><td>0.0                         </td><td>0.0                        </td><td>0.0                         </td><td>0.0                        </td><td>0.0                        </td><td>4.0                         </td><td>100259.0         </td><td>1118888.0         </td><td>100259.0             </td><td>-60.0                </td><td>6.0                  </td><td>0.0                         </td><td>0.0                </td><td>0.0                  </td><td>100259.0         </td><td>2563399.0         </td><td>100259.0             </td><td>-2.0                 </td><td>36.0                 </td><td>36.0                        </td><td>3.0              </td><td>3.0               </td><td>100259.0            </td><td>100259.0                 </td><td>6413841.0          </td><td>-1025.0            </td><td>0.0                      </td><td>122.0                     </td><td>-1447.0                 </td><td>0.0                          </td><td>0.0                      </td><td>189154.98            </td><td>41962.5                   </td><td>0.0                        </td><td>0.0                          </td><td>-29.0                    </td><td>0.0               </td><td>100259.0            </td><td>100259.0                 </td><td>6413842.0          </td><td>-609.0             </td><td>0.0                      </td><td>801.0                     </td><td>-344.0                  </td><td>0.0                          </td><td>0.0                      </td><td>544500.0             </td><td>318483.0                  </td><td>0.0                        </td><td>0.0                          </td><td>-10.0                    </td><td>12510.0           </td></tr>\n",
       "<tr><td>2      </td><td>100556.0          </td><td>0.0                </td><td>Cash loans          </td><td>F            </td><td>N             </td><td>Y                </td><td>0.0               </td><td>58500.0           </td><td>50940.0           </td><td>4959.0            </td><td>45000.0          </td><td>Unaccompanied    </td><td>Pensioner           </td><td>Secondary / secondary special</td><td>Widow               </td><td>House / apartment  </td><td>0.0105                      </td><td>-22735.0           </td><td>365243.0          </td><td>-1583.0            </td><td>-4711.0           </td><td>9.0              </td><td>1.0                 </td><td>0.0                </td><td>0.0               </td><td>1.0                </td><td>0.0                </td><td>0.0               </td><td>                 </td><td>1.0               </td><td>3.0                   </td><td>3.0                          </td><td>THURSDAY                    </td><td>10.0                     </td><td>0.0                         </td><td>0.0                         </td><td>0.0                          </td><td>0.0                     </td><td>0.0                     </td><td>0.0                      </td><td>XNA                   </td><td>0.5075423507243337  </td><td>0.7421584798141769   </td><td>0.5370699579791587   </td><td>0.0742             </td><td>0.0764             </td><td>0.9851                       </td><td>0.7552             </td><td>0.0212              </td><td>0.0                 </td><td>0.069              </td><td>0.3333             </td><td>0.2083             </td><td>0.0482              </td><td>0.0756                </td><td>0.0746             </td><td>0.0                      </td><td>0.0036              </td><td>0.0756             </td><td>0.0748             </td><td>0.9851                        </td><td>0.7648             </td><td>0.0191              </td><td>0.0                </td><td>0.069              </td><td>0.3333             </td><td>0.2083             </td><td>0.046              </td><td>0.0771                 </td><td>0.0732             </td><td>0.0                       </td><td>0.0012              </td><td>0.0749             </td><td>0.076               </td><td>0.9851                        </td><td>0.7585             </td><td>0.021               </td><td>0.0                </td><td>0.069              </td><td>0.3333            </td><td>0.2083             </td><td>0.0488              </td><td>0.0765                 </td><td>0.0752             </td><td>0.0                       </td><td>0.0031              </td><td>                    </td><td>block of flats  </td><td>0.0602             </td><td>Stone, brick        </td><td>No                   </td><td>0.0                       </td><td>0.0                       </td><td>0.0                       </td><td>0.0                       </td><td>-1086.0                 </td><td>0.0                   </td><td>1.0               </td><td>0.0                  </td><td>0.0                 </td><td>0.0                </td><td>0.0                   </td><td>0.0                </td><td>0.0                </td><td>0.0                  </td><td>0.0                 </td><td>0.0                  </td><td>0.0                 </td><td>0.0                  </td><td>0.0                  </td><td>0.0                 </td><td>0.0                  </td><td>0.0                 </td><td>0.0                  </td><td>0.0                  </td><td>0.0                  </td><td>0.0                         </td><td>0.0                        </td><td>0.0                         </td><td>0.0                        </td><td>0.0                        </td><td>1.0                         </td><td>100556.0         </td><td>1081230.0         </td><td>100556.0             </td><td>-85.0                </td><td>9.0                  </td><td>0.0                         </td><td>0.0                </td><td>0.0                  </td><td>100556.0         </td><td>1777802.0         </td><td>100556.0             </td><td>-9.0                 </td><td>12.0                 </td><td>12.0                        </td><td>0.0              </td><td>0.0               </td><td>278352.0            </td><td>278643.0                 </td><td>5829497.0          </td><td>-1816.0            </td><td>0.0                      </td><td>-1261.0                   </td><td>-1447.0                 </td><td>0.0                          </td><td>0.0                      </td><td>39721.5              </td><td>0.0                       </td><td>0.0                        </td><td>0.0                          </td><td>-1051.0                  </td><td>0.0               </td><td>278554.0            </td><td>278496.0                 </td><td>5887795.0          </td><td>-299.0             </td><td>0.0                      </td><td>914.0                     </td><td>-344.0                  </td><td>0.0                          </td><td>0.0                      </td><td>450000.0             </td><td>151020.0                  </td><td>0.0                        </td><td>0.0                          </td><td>-19.0                    </td><td>12510.0           </td></tr>\n",
       "<tr><td>3      </td><td>100630.0          </td><td>0.0                </td><td>Cash loans          </td><td>F            </td><td>Y             </td><td>N                </td><td>0.0               </td><td>202500.0          </td><td>675000.0          </td><td>18693.0           </td><td>675000.0         </td><td>Unaccompanied    </td><td>Working             </td><td>Higher education             </td><td>Single / not married</td><td>House / apartment  </td><td>0.010006                    </td><td>-9524.0            </td><td>-797.0            </td><td>-1673.0            </td><td>-2188.0           </td><td>8.0              </td><td>1.0                 </td><td>1.0                </td><td>1.0               </td><td>1.0                </td><td>1.0                </td><td>0.0               </td><td>Laborers         </td><td>1.0               </td><td>2.0                   </td><td>1.0                          </td><td>FRIDAY                      </td><td>17.0                     </td><td>0.0                         </td><td>0.0                         </td><td>0.0                          </td><td>0.0                     </td><td>0.0                     </td><td>0.0                      </td><td>Industry: type 9      </td><td>0.3260915867569756  </td><td>0.7562046572029202   </td><td>0.3706496323299817   </td><td>0.6639             </td><td>0.0873             </td><td>0.9965                       </td><td>0.7552             </td><td>0.0212              </td><td>0.48                </td><td>0.3793             </td><td>0.625              </td><td>0.2083             </td><td>0.0482              </td><td>0.0756                </td><td>0.7641             </td><td>0.0                      </td><td>0.6811              </td><td>0.6765             </td><td>0.0906             </td><td>0.9965                        </td><td>0.7648             </td><td>0.0191              </td><td>0.4834             </td><td>0.3793             </td><td>0.625              </td><td>0.2083             </td><td>0.046              </td><td>0.0771                 </td><td>0.7961             </td><td>0.0                       </td><td>0.7211              </td><td>0.6703             </td><td>0.0873              </td><td>0.9965                        </td><td>0.7585             </td><td>0.021               </td><td>0.48               </td><td>0.3793             </td><td>0.625             </td><td>0.2083             </td><td>0.0488              </td><td>0.0765                 </td><td>0.7778             </td><td>0.0                       </td><td>0.6954              </td><td>                    </td><td>block of flats  </td><td>0.7628             </td><td>Mixed               </td><td>No                   </td><td>0.0                       </td><td>0.0                       </td><td>0.0                       </td><td>0.0                       </td><td>-1289.0                 </td><td>0.0                   </td><td>0.0               </td><td>0.0                  </td><td>0.0                 </td><td>0.0                </td><td>0.0                   </td><td>1.0                </td><td>0.0                </td><td>0.0                  </td><td>0.0                 </td><td>0.0                  </td><td>0.0                 </td><td>0.0                  </td><td>0.0                  </td><td>1.0                 </td><td>0.0                  </td><td>0.0                 </td><td>0.0                  </td><td>0.0                  </td><td>0.0                  </td><td>0.0                         </td><td>0.0                        </td><td>0.0                         </td><td>0.0                        </td><td>0.0                        </td><td>1.0                         </td><td>100630.0         </td><td>1621761.0         </td><td>100630.0             </td><td>-43.0                </td><td>6.0                  </td><td>0.0                         </td><td>0.0                </td><td>0.0                  </td><td>100630.0         </td><td>2459666.0         </td><td>100630.0             </td><td>-11.0                </td><td>18.0                 </td><td>18.0                        </td><td>0.0              </td><td>0.0               </td><td>100630.0            </td><td>100630.0                 </td><td>6301131.0          </td><td>-1245.0            </td><td>0.0                      </td><td>-1065.0                   </td><td>-1065.0                 </td><td>0.0                          </td><td>0.0                      </td><td>0.0                  </td><td>0.0                       </td><td>0.0                        </td><td>0.0                          </td><td>-1060.0                  </td><td>0.0               </td><td>100630.0            </td><td>100630.0                 </td><td>6301142.0          </td><td>-219.0             </td><td>0.0                      </td><td>3186.0                    </td><td>-226.0                  </td><td>16897.5                      </td><td>0.0                      </td><td>1440000.0            </td><td>1375069.5                 </td><td>0.0                        </td><td>0.0                          </td><td>-5.0                     </td><td>12510.0           </td></tr>\n",
       "<tr><td>4      </td><td>101134.0          </td><td>0.0                </td><td>Cash loans          </td><td>F            </td><td>Y             </td><td>N                </td><td>0.0               </td><td>135000.0          </td><td>450000.0          </td><td>23107.5           </td><td>450000.0         </td><td>Unaccompanied    </td><td>State servant       </td><td>Secondary / secondary special</td><td>Married             </td><td>House / apartment  </td><td>0.004849                    </td><td>-15175.0           </td><td>-3046.0           </td><td>-3141.0            </td><td>-3160.0           </td><td>12.0             </td><td>1.0                 </td><td>1.0                </td><td>0.0               </td><td>1.0                </td><td>1.0                </td><td>0.0               </td><td>Managers         </td><td>2.0               </td><td>2.0                   </td><td>2.0                          </td><td>FRIDAY                      </td><td>16.0                     </td><td>0.0                         </td><td>0.0                         </td><td>0.0                          </td><td>0.0                     </td><td>1.0                     </td><td>1.0                      </td><td>Hotel                 </td><td>0.4935547528006813  </td><td>0.4102190440498561   </td><td>0.5136937663039473   </td><td>0.0876             </td><td>0.0764             </td><td>0.9821                       </td><td>0.7552             </td><td>0.0212              </td><td>0.0                 </td><td>0.1379             </td><td>0.1667             </td><td>0.2083             </td><td>0.0482              </td><td>0.0756                </td><td>0.0746             </td><td>0.0                      </td><td>0.0036              </td><td>0.084              </td><td>0.0748             </td><td>0.9816                        </td><td>0.7648             </td><td>0.0191              </td><td>0.0                </td><td>0.1379             </td><td>0.1667             </td><td>0.2083             </td><td>0.046              </td><td>0.0771                 </td><td>0.0732             </td><td>0.0                       </td><td>0.0012              </td><td>0.0874             </td><td>0.076               </td><td>0.9821                        </td><td>0.7585             </td><td>0.021               </td><td>0.0                </td><td>0.1379             </td><td>0.1667            </td><td>0.2083             </td><td>0.0488              </td><td>0.0765                 </td><td>0.0752             </td><td>0.0                       </td><td>0.0031              </td><td>                    </td><td>                </td><td>0.069              </td><td>                    </td><td>                     </td><td>0.0                       </td><td>0.0                       </td><td>0.0                       </td><td>0.0                       </td><td>-1371.0                 </td><td>0.0                   </td><td>0.0               </td><td>0.0                  </td><td>1.0                 </td><td>0.0                </td><td>0.0                   </td><td>0.0                </td><td>0.0                </td><td>0.0                  </td><td>0.0                 </td><td>0.0                  </td><td>0.0                 </td><td>0.0                  </td><td>0.0                  </td><td>0.0                 </td><td>0.0                  </td><td>0.0                 </td><td>0.0                  </td><td>0.0                  </td><td>0.0                  </td><td>0.0                         </td><td>0.0                        </td><td>0.0                         </td><td>0.0                        </td><td>0.0                        </td><td>4.0                         </td><td>101134.0         </td><td>1214834.0         </td><td>101134.0             </td><td>-87.0                </td><td>7.0                  </td><td>0.0                         </td><td>0.0                </td><td>0.0                  </td><td>101134.0         </td><td>2541232.0         </td><td>101134.0             </td><td>-2.0                 </td><td>60.0                 </td><td>60.0                        </td><td>2.0              </td><td>2.0               </td><td>101134.0            </td><td>101134.0                 </td><td>5024970.0          </td><td>-2440.0            </td><td>0.0                      </td><td>-1435.0                   </td><td>-1435.0                 </td><td>0.0                          </td><td>0.0                      </td><td>29295.0              </td><td>0.0                       </td><td>0.0                        </td><td>0.0                          </td><td>-1429.0                  </td><td>0.0               </td><td>101134.0            </td><td>101134.0                 </td><td>5872210.0          </td><td>-345.0             </td><td>0.0                      </td><td>30983.0                   </td><td>-309.0                  </td><td>0.0                          </td><td>1.0                      </td><td>532192.5             </td><td>398205.0                  </td><td>0.0                        </td><td>0.0                          </td><td>-4.0                     </td><td>21384.0           </td></tr>\n",
       "<tr><td>5      </td><td>101768.0          </td><td>0.0                </td><td>Cash loans          </td><td>F            </td><td>N             </td><td>Y                </td><td>0.0               </td><td>135000.0          </td><td>331920.0          </td><td>18135.0           </td><td>225000.0         </td><td>Unaccompanied    </td><td>Pensioner           </td><td>Secondary / secondary special</td><td>Married             </td><td>House / apartment  </td><td>0.010276                    </td><td>-21692.0           </td><td>365243.0          </td><td>-7603.0            </td><td>-4936.0           </td><td>9.0              </td><td>1.0                 </td><td>0.0                </td><td>0.0               </td><td>1.0                </td><td>0.0                </td><td>1.0               </td><td>                 </td><td>2.0               </td><td>2.0                   </td><td>2.0                          </td><td>FRIDAY                      </td><td>12.0                     </td><td>0.0                         </td><td>0.0                         </td><td>0.0                          </td><td>0.0                     </td><td>0.0                     </td><td>0.0                      </td><td>XNA                   </td><td>0.8095859745436543  </td><td>0.5844944119064738   </td><td>0.3825018041447388   </td><td>0.0876             </td><td>0.0764             </td><td>0.9821                       </td><td>0.7552             </td><td>0.0212              </td><td>0.0                 </td><td>0.1379             </td><td>0.1667             </td><td>0.2083             </td><td>0.0482              </td><td>0.0756                </td><td>0.0746             </td><td>0.0                      </td><td>0.0036              </td><td>0.084              </td><td>0.0748             </td><td>0.9816                        </td><td>0.7648             </td><td>0.0191              </td><td>0.0                </td><td>0.1379             </td><td>0.1667             </td><td>0.2083             </td><td>0.046              </td><td>0.0771                 </td><td>0.0732             </td><td>0.0                       </td><td>0.0012              </td><td>0.0874             </td><td>0.076               </td><td>0.9821                        </td><td>0.7585             </td><td>0.021               </td><td>0.0                </td><td>0.1379             </td><td>0.1667            </td><td>0.2083             </td><td>0.0488              </td><td>0.0765                 </td><td>0.0752             </td><td>0.0                       </td><td>0.0031              </td><td>                    </td><td>                </td><td>0.069              </td><td>                    </td><td>                     </td><td>0.0                       </td><td>0.0                       </td><td>0.0                       </td><td>0.0                       </td><td>-1532.0                 </td><td>0.0                   </td><td>0.0               </td><td>0.0                  </td><td>0.0                 </td><td>1.0                </td><td>0.0                   </td><td>0.0                </td><td>0.0                </td><td>0.0                  </td><td>0.0                 </td><td>0.0                  </td><td>0.0                 </td><td>0.0                  </td><td>0.0                  </td><td>0.0                 </td><td>0.0                  </td><td>0.0                 </td><td>0.0                  </td><td>0.0                  </td><td>0.0                  </td><td>0.0                         </td><td>0.0                        </td><td>0.0                         </td><td>0.0                        </td><td>0.0                        </td><td>2.0                         </td><td>101768.0         </td><td>1538205.0         </td><td>101768.0             </td><td>-50.0                </td><td>15.0                 </td><td>0.0                         </td><td>0.0                </td><td>0.0                  </td><td>101768.0         </td><td>1538205.0         </td><td>101768.0             </td><td>-35.0                </td><td>24.0                 </td><td>24.0                        </td><td>0.0              </td><td>0.0               </td><td>101768.0            </td><td>101768.0                 </td><td>6068752.0          </td><td>-2817.0            </td><td>0.0                      </td><td>-2633.0                   </td><td>-2633.0                 </td><td>0.0                          </td><td>0.0                      </td><td>0.0                  </td><td>0.0                       </td><td>0.0                        </td><td>0.0                          </td><td>-1084.0                  </td><td>0.0               </td><td>101768.0            </td><td>101768.0                 </td><td>6068765.0          </td><td>-112.0             </td><td>0.0                      </td><td>30960.0                   </td><td>-109.0                  </td><td>0.0                          </td><td>0.0                      </td><td>1301670.0            </td><td>790065.0                  </td><td>0.0                        </td><td>0.0                          </td><td>-14.0                    </td><td>12510.0           </td></tr>\n",
       "<tr><td>6      </td><td>101845.0          </td><td>0.0                </td><td>Cash loans          </td><td>F            </td><td>N             </td><td>N                </td><td>0.0               </td><td>135000.0          </td><td>284400.0          </td><td>16011.0           </td><td>225000.0         </td><td>Unaccompanied    </td><td>Pensioner           </td><td>Secondary / secondary special</td><td>Widow               </td><td>House / apartment  </td><td>0.008019                    </td><td>-24485.0           </td><td>365243.0          </td><td>-3644.0            </td><td>-4574.0           </td><td>9.0              </td><td>1.0                 </td><td>0.0                </td><td>0.0               </td><td>1.0                </td><td>0.0                </td><td>0.0               </td><td>                 </td><td>1.0               </td><td>2.0                   </td><td>2.0                          </td><td>FRIDAY                      </td><td>15.0                     </td><td>0.0                         </td><td>0.0                         </td><td>0.0                          </td><td>0.0                     </td><td>0.0                     </td><td>0.0                      </td><td>XNA                   </td><td>0.5075423507243337  </td><td>0.5454752433775882   </td><td>0.28371188263500075  </td><td>0.0227             </td><td>0.0764             </td><td>0.9801                       </td><td>0.7552             </td><td>0.0212              </td><td>0.0                 </td><td>0.1379             </td><td>0.0417             </td><td>0.2083             </td><td>0.0482              </td><td>0.0756                </td><td>0.0117             </td><td>0.0                      </td><td>0.0036              </td><td>0.0231             </td><td>0.0748             </td><td>0.9801                        </td><td>0.7648             </td><td>0.0191              </td><td>0.0                </td><td>0.1379             </td><td>0.0417             </td><td>0.2083             </td><td>0.046              </td><td>0.0771                 </td><td>0.0122             </td><td>0.0                       </td><td>0.0012              </td><td>0.0229             </td><td>0.076               </td><td>0.9801                        </td><td>0.7585             </td><td>0.021               </td><td>0.0                </td><td>0.1379             </td><td>0.0417            </td><td>0.2083             </td><td>0.0488              </td><td>0.0765                 </td><td>0.0119             </td><td>0.0                       </td><td>0.0031              </td><td>                    </td><td>block of flats  </td><td>0.0154             </td><td>Stone, brick        </td><td>No                   </td><td>2.0                       </td><td>0.0                       </td><td>2.0                       </td><td>0.0                       </td><td>-1499.0                 </td><td>0.0                   </td><td>1.0               </td><td>0.0                  </td><td>0.0                 </td><td>0.0                </td><td>0.0                   </td><td>0.0                </td><td>0.0                </td><td>0.0                  </td><td>0.0                 </td><td>0.0                  </td><td>0.0                 </td><td>0.0                  </td><td>0.0                  </td><td>0.0                 </td><td>0.0                  </td><td>0.0                 </td><td>0.0                  </td><td>0.0                  </td><td>0.0                  </td><td>0.0                         </td><td>0.0                        </td><td>0.0                         </td><td>0.0                        </td><td>0.0                        </td><td>2.0                         </td><td>101845.0         </td><td>1101714.0         </td><td>101845.0             </td><td>-85.0                </td><td>6.0                  </td><td>0.0                         </td><td>0.0                </td><td>0.0                  </td><td>101845.0         </td><td>2335420.0         </td><td>101845.0             </td><td>-9.0                 </td><td>12.0                 </td><td>12.0                        </td><td>0.0              </td><td>0.0               </td><td>101845.0            </td><td>101845.0                 </td><td>6447328.0          </td><td>-2319.0            </td><td>0.0                      </td><td>-2074.0                   </td><td>-2195.0                 </td><td>0.0                          </td><td>0.0                      </td><td>0.0                  </td><td>0.0                       </td><td>0.0                        </td><td>0.0                          </td><td>-2195.0                  </td><td>0.0               </td><td>101845.0            </td><td>101845.0                 </td><td>6447335.0          </td><td>-438.0             </td><td>0.0                      </td><td>1200.0                    </td><td>-613.0                  </td><td>11777.625                    </td><td>0.0                      </td><td>529411.77            </td><td>407356.965                </td><td>0.0                        </td><td>0.0                          </td><td>-9.0                     </td><td>12510.0           </td></tr>\n",
       "<tr><td>7      </td><td>102101.0          </td><td>0.0                </td><td>Cash loans          </td><td>M            </td><td>Y             </td><td>Y                </td><td>0.0               </td><td>225000.0          </td><td>225000.0          </td><td>17775.0           </td><td>225000.0         </td><td>Unaccompanied    </td><td>Commercial associate</td><td>Higher education             </td><td>Married             </td><td>House / apartment  </td><td>0.072508                    </td><td>-13891.0           </td><td>-587.0            </td><td>-5928.0            </td><td>-4672.0           </td><td>3.0              </td><td>1.0                 </td><td>1.0                </td><td>0.0               </td><td>1.0                </td><td>1.0                </td><td>0.0               </td><td>Core staff       </td><td>2.0               </td><td>1.0                   </td><td>1.0                          </td><td>THURSDAY                    </td><td>11.0                     </td><td>0.0                         </td><td>0.0                         </td><td>0.0                          </td><td>0.0                     </td><td>0.0                     </td><td>0.0                      </td><td>Telecom               </td><td>0.5075423507243337  </td><td>0.740531535746971    </td><td>0.5370699579791587   </td><td>0.1969             </td><td>0.093              </td><td>0.9796                       </td><td>0.7212             </td><td>0.0411              </td><td>0.32                </td><td>0.1379             </td><td>0.4583             </td><td>0.5                </td><td>0.0184              </td><td>0.1605                </td><td>0.1905             </td><td>0.0                      </td><td>0.0011              </td><td>0.2006             </td><td>0.0947             </td><td>0.9796                        </td><td>0.7321             </td><td>0.0291              </td><td>0.3222             </td><td>0.1379             </td><td>0.4583             </td><td>0.5                </td><td>0.0186             </td><td>0.1754                 </td><td>0.1981             </td><td>0.0                       </td><td>0.0011              </td><td>0.1988             </td><td>0.093               </td><td>0.9796                        </td><td>0.7249             </td><td>0.0413              </td><td>0.32               </td><td>0.1379             </td><td>0.4583            </td><td>0.5                </td><td>0.0187              </td><td>0.1633                 </td><td>0.1939             </td><td>0.0                       </td><td>0.0011              </td><td>reg oper account    </td><td>block of flats  </td><td>0.1498             </td><td>Panel               </td><td>No                   </td><td>1.0                       </td><td>0.0                       </td><td>1.0                       </td><td>0.0                       </td><td>-652.0                  </td><td>0.0                   </td><td>1.0               </td><td>0.0                  </td><td>0.0                 </td><td>0.0                </td><td>0.0                   </td><td>0.0                </td><td>0.0                </td><td>0.0                  </td><td>0.0                 </td><td>0.0                  </td><td>0.0                 </td><td>0.0                  </td><td>0.0                  </td><td>0.0                 </td><td>0.0                  </td><td>0.0                 </td><td>0.0                  </td><td>0.0                  </td><td>0.0                  </td><td>0.0                         </td><td>0.0                        </td><td>0.0                         </td><td>0.0                        </td><td>0.0                        </td><td>1.0                         </td><td>102101.0         </td><td>2208684.0         </td><td>102101.0             </td><td>-22.0                </td><td>12.0                 </td><td>0.0                         </td><td>0.0                </td><td>0.0                  </td><td>102101.0         </td><td>2208684.0         </td><td>102101.0             </td><td>-10.0                </td><td>12.0                 </td><td>12.0                        </td><td>0.0              </td><td>0.0               </td><td>278352.0            </td><td>278643.0                 </td><td>5829497.0          </td><td>-1816.0            </td><td>0.0                      </td><td>-1261.0                   </td><td>-1447.0                 </td><td>0.0                          </td><td>0.0                      </td><td>39721.5              </td><td>0.0                       </td><td>0.0                        </td><td>0.0                          </td><td>-1051.0                  </td><td>0.0               </td><td>278554.0            </td><td>278496.0                 </td><td>5887795.0          </td><td>-299.0             </td><td>0.0                      </td><td>914.0                     </td><td>-344.0                  </td><td>0.0                          </td><td>0.0                      </td><td>450000.0             </td><td>151020.0                  </td><td>0.0                        </td><td>0.0                          </td><td>-19.0                    </td><td>12510.0           </td></tr>\n",
       "<tr><td>8      </td><td>102190.0          </td><td>0.0                </td><td>Cash loans          </td><td>M            </td><td>Y             </td><td>N                </td><td>0.0               </td><td>166500.0          </td><td>497520.0          </td><td>33376.5           </td><td>450000.0         </td><td>Unaccompanied    </td><td>State servant       </td><td>Secondary / secondary special</td><td>Civil marriage      </td><td>House / apartment  </td><td>0.010276                    </td><td>-14009.0           </td><td>-1189.0           </td><td>-2313.0            </td><td>-4438.0           </td><td>10.0             </td><td>1.0                 </td><td>1.0                </td><td>0.0               </td><td>1.0                </td><td>0.0                </td><td>0.0               </td><td>Drivers          </td><td>2.0               </td><td>2.0                   </td><td>2.0                          </td><td>THURSDAY                    </td><td>14.0                     </td><td>0.0                         </td><td>0.0                         </td><td>0.0                          </td><td>1.0                     </td><td>1.0                     </td><td>0.0                      </td><td>Business Entity Type 1</td><td>0.5075423507243337  </td><td>0.6304391814237671   </td><td>0.524496446363472    </td><td>0.0876             </td><td>0.0764             </td><td>0.9821                       </td><td>0.7552             </td><td>0.0212              </td><td>0.0                 </td><td>0.1379             </td><td>0.1667             </td><td>0.2083             </td><td>0.0482              </td><td>0.0756                </td><td>0.0746             </td><td>0.0                      </td><td>0.0036              </td><td>0.084              </td><td>0.0748             </td><td>0.9816                        </td><td>0.7648             </td><td>0.0191              </td><td>0.0                </td><td>0.1379             </td><td>0.1667             </td><td>0.2083             </td><td>0.046              </td><td>0.0771                 </td><td>0.0732             </td><td>0.0                       </td><td>0.0012              </td><td>0.0874             </td><td>0.076               </td><td>0.9821                        </td><td>0.7585             </td><td>0.021               </td><td>0.0                </td><td>0.1379             </td><td>0.1667            </td><td>0.2083             </td><td>0.0488              </td><td>0.0765                 </td><td>0.0752             </td><td>0.0                       </td><td>0.0031              </td><td>                    </td><td>                </td><td>0.069              </td><td>                    </td><td>                     </td><td>0.0                       </td><td>0.0                       </td><td>0.0                       </td><td>0.0                       </td><td>0.0                     </td><td>0.0                   </td><td>1.0               </td><td>0.0                  </td><td>0.0                 </td><td>0.0                </td><td>0.0                   </td><td>0.0                </td><td>0.0                </td><td>0.0                  </td><td>0.0                 </td><td>0.0                  </td><td>0.0                 </td><td>0.0                  </td><td>0.0                  </td><td>0.0                 </td><td>0.0                  </td><td>0.0                 </td><td>0.0                  </td><td>0.0                  </td><td>0.0                  </td><td>0.0                         </td><td>0.0                        </td><td>0.0                         </td><td>0.0                        </td><td>1.0                        </td><td>3.0                         </td><td>102190.0         </td><td>1730283.0         </td><td>102190.0             </td><td>-63.0                </td><td>10.0                 </td><td>0.0                         </td><td>0.0                </td><td>0.0                  </td><td>102190.0         </td><td>1840386.0         </td><td>102190.0             </td><td>-10.0                </td><td>12.0                 </td><td>12.0                        </td><td>0.0              </td><td>0.0               </td><td>102190.0            </td><td>102190.0                 </td><td>5762805.0          </td><td>-868.0             </td><td>0.0                      </td><td>-658.0                    </td><td>-686.0                  </td><td>0.0                          </td><td>0.0                      </td><td>40323.96             </td><td>0.0                       </td><td>0.0                        </td><td>0.0                          </td><td>-686.0                   </td><td>0.0               </td><td>102190.0            </td><td>102190.0                 </td><td>5762807.0          </td><td>-309.0             </td><td>0.0                      </td><td>959.0                     </td><td>-686.0                  </td><td>0.0                          </td><td>0.0                      </td><td>855000.0             </td><td>572562.0                  </td><td>0.0                        </td><td>0.0                          </td><td>-56.0                    </td><td>12510.0           </td></tr>\n",
       "<tr><td>9      </td><td>102331.0          </td><td>0.0                </td><td>Revolving loans     </td><td>F            </td><td>N             </td><td>N                </td><td>1.0               </td><td>54000.0           </td><td>180000.0          </td><td>9000.0            </td><td>180000.0         </td><td>Unaccompanied    </td><td>Working             </td><td>Secondary / secondary special</td><td>Married             </td><td>House / apartment  </td><td>0.00963                     </td><td>-11833.0           </td><td>-2308.0           </td><td>-4760.0            </td><td>-3607.0           </td><td>9.0              </td><td>1.0                 </td><td>1.0                </td><td>1.0               </td><td>1.0                </td><td>1.0                </td><td>0.0               </td><td>                 </td><td>3.0               </td><td>2.0                   </td><td>2.0                          </td><td>FRIDAY                      </td><td>15.0                     </td><td>0.0                         </td><td>0.0                         </td><td>0.0                          </td><td>0.0                     </td><td>0.0                     </td><td>0.0                      </td><td>Kindergarten          </td><td>0.2019169829425332  </td><td>0.1255545334102073   </td><td>0.3842068130556564   </td><td>0.0289             </td><td>0.0764             </td><td>0.9762                       </td><td>0.7552             </td><td>0.0212              </td><td>0.0                 </td><td>0.069              </td><td>0.125              </td><td>0.2083             </td><td>0.0179              </td><td>0.0756                </td><td>0.0205             </td><td>0.0                      </td><td>0.018000000000000002</td><td>0.0294             </td><td>0.0748             </td><td>0.9762                        </td><td>0.7648             </td><td>0.0191              </td><td>0.0                </td><td>0.069              </td><td>0.125              </td><td>0.2083             </td><td>0.0183             </td><td>0.0771                 </td><td>0.0214             </td><td>0.0                       </td><td>0.019               </td><td>0.0291             </td><td>0.076               </td><td>0.9762                        </td><td>0.7585             </td><td>0.021               </td><td>0.0                </td><td>0.069              </td><td>0.125             </td><td>0.2083             </td><td>0.0182              </td><td>0.0765                 </td><td>0.0209             </td><td>0.0                       </td><td>0.0183              </td><td>                    </td><td>block of flats  </td><td>0.02               </td><td>Stone, brick        </td><td>No                   </td><td>0.0                       </td><td>0.0                       </td><td>0.0                       </td><td>0.0                       </td><td>-1683.0                 </td><td>0.0                   </td><td>0.0               </td><td>0.0                  </td><td>0.0                 </td><td>0.0                </td><td>0.0                   </td><td>0.0                </td><td>0.0                </td><td>0.0                  </td><td>0.0                 </td><td>0.0                  </td><td>0.0                 </td><td>0.0                  </td><td>0.0                  </td><td>0.0                 </td><td>0.0                  </td><td>0.0                 </td><td>0.0                  </td><td>0.0                  </td><td>0.0                  </td><td>0.0                         </td><td>0.0                        </td><td>0.0                         </td><td>0.0                        </td><td>0.0                        </td><td>0.0                         </td><td>102331.0         </td><td>1053051.0         </td><td>102331.0             </td><td>-55.0                </td><td>6.0                  </td><td>0.0                         </td><td>0.0                </td><td>0.0                  </td><td>102331.0         </td><td>1975796.0         </td><td>102331.0             </td><td>-19.0                </td><td>36.0                 </td><td>36.0                        </td><td>0.0              </td><td>0.0               </td><td>102331.0            </td><td>102331.0                 </td><td>6812981.0          </td><td>-1655.0            </td><td>0.0                      </td><td>-1351.0                   </td><td>-956.0                  </td><td>0.0                          </td><td>0.0                      </td><td>22500.0              </td><td>0.0                       </td><td>0.0                        </td><td>0.0                          </td><td>-953.0                   </td><td>0.0               </td><td>102331.0            </td><td>102331.0                 </td><td>6812983.0          </td><td>-4.0               </td><td>0.0                      </td><td>-1123.0                   </td><td>-956.0                  </td><td>0.0                          </td><td>0.0                      </td><td>120438.0             </td><td>0.0                       </td><td>0.0                        </td><td>0.0                          </td><td>-2.0                     </td><td>12510.0           </td></tr>\n",
       "</tbody>\n",
       "</table>"
      ]
     },
     "metadata": {},
     "output_type": "display_data"
    }
   ],
   "source": [
    "df_train.describe()"
   ]
  },
  {
   "cell_type": "code",
   "execution_count": 19,
   "metadata": {},
   "outputs": [
    {
     "data": {
      "text/html": [
       "<table>\n",
       "<thead>\n",
       "<tr><th style=\"text-align: right;\">  SK_ID_CURR</th><th style=\"text-align: right;\">  TARGET</th><th>NAME_CONTRACT_TYPE  </th><th>CODE_GENDER  </th><th>FLAG_OWN_CAR  </th><th>FLAG_OWN_REALTY  </th><th style=\"text-align: right;\">  CNT_CHILDREN</th><th style=\"text-align: right;\">  AMT_INCOME_TOTAL</th><th style=\"text-align: right;\">  AMT_CREDIT</th><th style=\"text-align: right;\">  AMT_ANNUITY</th><th style=\"text-align: right;\">  AMT_GOODS_PRICE</th><th>NAME_TYPE_SUITE  </th><th>NAME_INCOME_TYPE    </th><th>NAME_EDUCATION_TYPE          </th><th>NAME_FAMILY_STATUS  </th><th>NAME_HOUSING_TYPE  </th><th style=\"text-align: right;\">  REGION_POPULATION_RELATIVE</th><th style=\"text-align: right;\">  DAYS_BIRTH</th><th style=\"text-align: right;\">  DAYS_EMPLOYED</th><th style=\"text-align: right;\">  DAYS_REGISTRATION</th><th style=\"text-align: right;\">  DAYS_ID_PUBLISH</th><th style=\"text-align: right;\">  OWN_CAR_AGE</th><th style=\"text-align: right;\">  FLAG_MOBIL</th><th style=\"text-align: right;\">  FLAG_EMP_PHONE</th><th style=\"text-align: right;\">  FLAG_WORK_PHONE</th><th style=\"text-align: right;\">  FLAG_CONT_MOBILE</th><th style=\"text-align: right;\">  FLAG_PHONE</th><th style=\"text-align: right;\">  FLAG_EMAIL</th><th>OCCUPATION_TYPE  </th><th style=\"text-align: right;\">  CNT_FAM_MEMBERS</th><th style=\"text-align: right;\">  REGION_RATING_CLIENT</th><th style=\"text-align: right;\">  REGION_RATING_CLIENT_W_CITY</th><th>WEEKDAY_APPR_PROCESS_START  </th><th style=\"text-align: right;\">  HOUR_APPR_PROCESS_START</th><th style=\"text-align: right;\">  REG_REGION_NOT_LIVE_REGION</th><th style=\"text-align: right;\">  REG_REGION_NOT_WORK_REGION</th><th style=\"text-align: right;\">  LIVE_REGION_NOT_WORK_REGION</th><th style=\"text-align: right;\">  REG_CITY_NOT_LIVE_CITY</th><th style=\"text-align: right;\">  REG_CITY_NOT_WORK_CITY</th><th style=\"text-align: right;\">  LIVE_CITY_NOT_WORK_CITY</th><th>ORGANIZATION_TYPE     </th><th style=\"text-align: right;\">  EXT_SOURCE_1</th><th style=\"text-align: right;\">  EXT_SOURCE_2</th><th style=\"text-align: right;\">  EXT_SOURCE_3</th><th style=\"text-align: right;\">  APARTMENTS_AVG</th><th style=\"text-align: right;\">  BASEMENTAREA_AVG</th><th style=\"text-align: right;\">  YEARS_BEGINEXPLUATATION_AVG</th><th style=\"text-align: right;\">  YEARS_BUILD_AVG</th><th style=\"text-align: right;\">  COMMONAREA_AVG</th><th style=\"text-align: right;\">  ELEVATORS_AVG</th><th style=\"text-align: right;\">  ENTRANCES_AVG</th><th style=\"text-align: right;\">  FLOORSMAX_AVG</th><th style=\"text-align: right;\">  FLOORSMIN_AVG</th><th style=\"text-align: right;\">  LANDAREA_AVG</th><th style=\"text-align: right;\">  LIVINGAPARTMENTS_AVG</th><th style=\"text-align: right;\">  LIVINGAREA_AVG</th><th style=\"text-align: right;\">  NONLIVINGAPARTMENTS_AVG</th><th style=\"text-align: right;\">  NONLIVINGAREA_AVG</th><th style=\"text-align: right;\">  APARTMENTS_MODE</th><th style=\"text-align: right;\">  BASEMENTAREA_MODE</th><th style=\"text-align: right;\">  YEARS_BEGINEXPLUATATION_MODE</th><th style=\"text-align: right;\">  YEARS_BUILD_MODE</th><th style=\"text-align: right;\">  COMMONAREA_MODE</th><th style=\"text-align: right;\">  ELEVATORS_MODE</th><th style=\"text-align: right;\">  ENTRANCES_MODE</th><th style=\"text-align: right;\">  FLOORSMAX_MODE</th><th style=\"text-align: right;\">  FLOORSMIN_MODE</th><th style=\"text-align: right;\">  LANDAREA_MODE</th><th style=\"text-align: right;\">  LIVINGAPARTMENTS_MODE</th><th style=\"text-align: right;\">  LIVINGAREA_MODE</th><th style=\"text-align: right;\">  NONLIVINGAPARTMENTS_MODE</th><th style=\"text-align: right;\">  NONLIVINGAREA_MODE</th><th style=\"text-align: right;\">  APARTMENTS_MEDI</th><th style=\"text-align: right;\">  BASEMENTAREA_MEDI</th><th style=\"text-align: right;\">  YEARS_BEGINEXPLUATATION_MEDI</th><th style=\"text-align: right;\">  YEARS_BUILD_MEDI</th><th style=\"text-align: right;\">  COMMONAREA_MEDI</th><th style=\"text-align: right;\">  ELEVATORS_MEDI</th><th style=\"text-align: right;\">  ENTRANCES_MEDI</th><th style=\"text-align: right;\">  FLOORSMAX_MEDI</th><th style=\"text-align: right;\">  FLOORSMIN_MEDI</th><th style=\"text-align: right;\">  LANDAREA_MEDI</th><th style=\"text-align: right;\">  LIVINGAPARTMENTS_MEDI</th><th style=\"text-align: right;\">  LIVINGAREA_MEDI</th><th style=\"text-align: right;\">  NONLIVINGAPARTMENTS_MEDI</th><th style=\"text-align: right;\">  NONLIVINGAREA_MEDI</th><th>FONDKAPREMONT_MODE  </th><th>HOUSETYPE_MODE  </th><th style=\"text-align: right;\">  TOTALAREA_MODE</th><th>WALLSMATERIAL_MODE  </th><th>EMERGENCYSTATE_MODE  </th><th style=\"text-align: right;\">  OBS_30_CNT_SOCIAL_CIRCLE</th><th style=\"text-align: right;\">  DEF_30_CNT_SOCIAL_CIRCLE</th><th style=\"text-align: right;\">  OBS_60_CNT_SOCIAL_CIRCLE</th><th style=\"text-align: right;\">  DEF_60_CNT_SOCIAL_CIRCLE</th><th style=\"text-align: right;\">  DAYS_LAST_PHONE_CHANGE</th><th style=\"text-align: right;\">  FLAG_DOCUMENT_2</th><th style=\"text-align: right;\">  FLAG_DOCUMENT_3</th><th style=\"text-align: right;\">  FLAG_DOCUMENT_4</th><th style=\"text-align: right;\">  FLAG_DOCUMENT_5</th><th style=\"text-align: right;\">  FLAG_DOCUMENT_6</th><th style=\"text-align: right;\">  FLAG_DOCUMENT_7</th><th style=\"text-align: right;\">  FLAG_DOCUMENT_8</th><th style=\"text-align: right;\">  FLAG_DOCUMENT_9</th><th style=\"text-align: right;\">  FLAG_DOCUMENT_10</th><th style=\"text-align: right;\">  FLAG_DOCUMENT_11</th><th style=\"text-align: right;\">  FLAG_DOCUMENT_12</th><th style=\"text-align: right;\">  FLAG_DOCUMENT_13</th><th style=\"text-align: right;\">  FLAG_DOCUMENT_14</th><th style=\"text-align: right;\">  FLAG_DOCUMENT_15</th><th style=\"text-align: right;\">  FLAG_DOCUMENT_16</th><th style=\"text-align: right;\">  FLAG_DOCUMENT_17</th><th style=\"text-align: right;\">  FLAG_DOCUMENT_18</th><th style=\"text-align: right;\">  FLAG_DOCUMENT_19</th><th style=\"text-align: right;\">  FLAG_DOCUMENT_20</th><th style=\"text-align: right;\">  FLAG_DOCUMENT_21</th><th style=\"text-align: right;\">  AMT_REQ_CREDIT_BUREAU_HOUR</th><th style=\"text-align: right;\">  AMT_REQ_CREDIT_BUREAU_DAY</th><th style=\"text-align: right;\">  AMT_REQ_CREDIT_BUREAU_WEEK</th><th style=\"text-align: right;\">  AMT_REQ_CREDIT_BUREAU_MON</th><th style=\"text-align: right;\">  AMT_REQ_CREDIT_BUREAU_QRT</th><th style=\"text-align: right;\">  AMT_REQ_CREDIT_BUREAU_YEAR</th><th style=\"text-align: right;\">  SK_ID_CURR_MIN</th><th style=\"text-align: right;\">  min(SK_ID_PREV)</th><th style=\"text-align: right;\">  min(SK_ID_CURR_MIN)</th><th style=\"text-align: right;\">  min(MONTHS_BALANCE)</th><th style=\"text-align: right;\">  min(CNT_INSTALMENT)</th><th style=\"text-align: right;\">  min(CNT_INSTALMENT_FUTURE)</th><th style=\"text-align: right;\">  min(SK_DPD)</th><th style=\"text-align: right;\">  min(SK_DPD_DEF)</th><th style=\"text-align: right;\">  SK_ID_CURR_MAX</th><th style=\"text-align: right;\">  max(SK_ID_PREV)</th><th style=\"text-align: right;\">  max(SK_ID_CURR_MAX)</th><th style=\"text-align: right;\">  max(MONTHS_BALANCE)</th><th style=\"text-align: right;\">  max(CNT_INSTALMENT)</th><th style=\"text-align: right;\">  max(CNT_INSTALMENT_FUTURE)</th><th style=\"text-align: right;\">  max(SK_DPD)</th><th style=\"text-align: right;\">  max(SK_DPD_DEF)</th><th style=\"text-align: right;\">  SK_ID_CURR_BUR_MIN</th><th style=\"text-align: right;\">  min(SK_ID_CURR_BUR_MIN)</th><th style=\"text-align: right;\">  min(SK_ID_BUREAU)</th><th style=\"text-align: right;\">  min(DAYS_CREDIT)</th><th style=\"text-align: right;\">  min(CREDIT_DAY_OVERDUE)</th><th style=\"text-align: right;\">  min(DAYS_CREDIT_ENDDATE)</th><th style=\"text-align: right;\">  min(DAYS_ENDDATE_FACT)</th><th style=\"text-align: right;\">  min(AMT_CREDIT_MAX_OVERDUE)</th><th style=\"text-align: right;\">  min(CNT_CREDIT_PROLONG)</th><th style=\"text-align: right;\">  min(AMT_CREDIT_SUM)</th><th style=\"text-align: right;\">  min(AMT_CREDIT_SUM_DEBT)</th><th style=\"text-align: right;\">  min(AMT_CREDIT_SUM_LIMIT)</th><th style=\"text-align: right;\">  min(AMT_CREDIT_SUM_OVERDUE)</th><th style=\"text-align: right;\">  min(DAYS_CREDIT_UPDATE)</th><th style=\"text-align: right;\">  min(AMT_ANNUITY)</th><th style=\"text-align: right;\">  SK_ID_CURR_BUR_MAX</th><th style=\"text-align: right;\">  max(SK_ID_CURR_BUR_MAX)</th><th style=\"text-align: right;\">  max(SK_ID_BUREAU)</th><th style=\"text-align: right;\">  max(DAYS_CREDIT)</th><th style=\"text-align: right;\">  max(CREDIT_DAY_OVERDUE)</th><th style=\"text-align: right;\">  max(DAYS_CREDIT_ENDDATE)</th><th style=\"text-align: right;\">  max(DAYS_ENDDATE_FACT)</th><th style=\"text-align: right;\">  max(AMT_CREDIT_MAX_OVERDUE)</th><th style=\"text-align: right;\">  max(CNT_CREDIT_PROLONG)</th><th style=\"text-align: right;\">  max(AMT_CREDIT_SUM)</th><th style=\"text-align: right;\">  max(AMT_CREDIT_SUM_DEBT)</th><th style=\"text-align: right;\">  max(AMT_CREDIT_SUM_LIMIT)</th><th style=\"text-align: right;\">  max(AMT_CREDIT_SUM_OVERDUE)</th><th style=\"text-align: right;\">  max(DAYS_CREDIT_UPDATE)</th><th style=\"text-align: right;\">  max(AMT_ANNUITY)</th></tr>\n",
       "</thead>\n",
       "<tbody>\n",
       "<tr><td style=\"text-align: right;\">      100086</td><td style=\"text-align: right;\">       0</td><td>Cash loans          </td><td>F            </td><td>N             </td><td>Y                </td><td style=\"text-align: right;\">             1</td><td style=\"text-align: right;\">            135000</td><td style=\"text-align: right;\">      675000</td><td style=\"text-align: right;\">      21775.5</td><td style=\"text-align: right;\">           675000</td><td>Unaccompanied    </td><td>Commercial associate</td><td>Higher education             </td><td>Widow               </td><td>House / apartment  </td><td style=\"text-align: right;\">                    0.019101</td><td style=\"text-align: right;\">      -14264</td><td style=\"text-align: right;\">          -2492</td><td style=\"text-align: right;\">              -4327</td><td style=\"text-align: right;\">            -4517</td><td style=\"text-align: right;\">            9</td><td style=\"text-align: right;\">           1</td><td style=\"text-align: right;\">               1</td><td style=\"text-align: right;\">                0</td><td style=\"text-align: right;\">                 1</td><td style=\"text-align: right;\">           0</td><td style=\"text-align: right;\">           0</td><td>Laborers         </td><td style=\"text-align: right;\">                2</td><td style=\"text-align: right;\">                     2</td><td style=\"text-align: right;\">                            2</td><td>THURSDAY                    </td><td style=\"text-align: right;\">                       12</td><td style=\"text-align: right;\">                           0</td><td style=\"text-align: right;\">                           0</td><td style=\"text-align: right;\">                            0</td><td style=\"text-align: right;\">                       0</td><td style=\"text-align: right;\">                       0</td><td style=\"text-align: right;\">                        0</td><td>Self-employed         </td><td style=\"text-align: right;\">      0.507542</td><td style=\"text-align: right;\">      0.569873</td><td style=\"text-align: right;\">      0.19862 </td><td style=\"text-align: right;\">          0.0876</td><td style=\"text-align: right;\">            0.0764</td><td style=\"text-align: right;\">                       0.9821</td><td style=\"text-align: right;\">           0.7552</td><td style=\"text-align: right;\">          0.0212</td><td style=\"text-align: right;\">           0   </td><td style=\"text-align: right;\">         0.1379</td><td style=\"text-align: right;\">         0.1667</td><td style=\"text-align: right;\">         0.2083</td><td style=\"text-align: right;\">        0.0482</td><td style=\"text-align: right;\">                0.0756</td><td style=\"text-align: right;\">          0.0746</td><td style=\"text-align: right;\">                        0</td><td style=\"text-align: right;\">             0.0036</td><td style=\"text-align: right;\">           0.084 </td><td style=\"text-align: right;\">             0.0748</td><td style=\"text-align: right;\">                        0.9816</td><td style=\"text-align: right;\">            0.7648</td><td style=\"text-align: right;\">           0.0191</td><td style=\"text-align: right;\">          0     </td><td style=\"text-align: right;\">          0.1379</td><td style=\"text-align: right;\">          0.1667</td><td style=\"text-align: right;\">          0.2083</td><td style=\"text-align: right;\">         0.046 </td><td style=\"text-align: right;\">                 0.0771</td><td style=\"text-align: right;\">           0.0732</td><td style=\"text-align: right;\">                         0</td><td style=\"text-align: right;\">              0.0012</td><td style=\"text-align: right;\">           0.0874</td><td style=\"text-align: right;\">             0.076 </td><td style=\"text-align: right;\">                        0.9821</td><td style=\"text-align: right;\">            0.7585</td><td style=\"text-align: right;\">           0.021 </td><td style=\"text-align: right;\">            0   </td><td style=\"text-align: right;\">          0.1379</td><td style=\"text-align: right;\">          0.1667</td><td style=\"text-align: right;\">          0.2083</td><td style=\"text-align: right;\">         0.0488</td><td style=\"text-align: right;\">                 0.0765</td><td style=\"text-align: right;\">           0.0752</td><td style=\"text-align: right;\">                         0</td><td style=\"text-align: right;\">              0.0031</td><td>                    </td><td>                </td><td style=\"text-align: right;\">          0.069 </td><td>                    </td><td>                     </td><td style=\"text-align: right;\">                         0</td><td style=\"text-align: right;\">                         0</td><td style=\"text-align: right;\">                         0</td><td style=\"text-align: right;\">                         0</td><td style=\"text-align: right;\">                   -1597</td><td style=\"text-align: right;\">                0</td><td style=\"text-align: right;\">                1</td><td style=\"text-align: right;\">                0</td><td style=\"text-align: right;\">                0</td><td style=\"text-align: right;\">                0</td><td style=\"text-align: right;\">                0</td><td style=\"text-align: right;\">                0</td><td style=\"text-align: right;\">                0</td><td style=\"text-align: right;\">                 0</td><td style=\"text-align: right;\">                 0</td><td style=\"text-align: right;\">                 0</td><td style=\"text-align: right;\">                 0</td><td style=\"text-align: right;\">                 0</td><td style=\"text-align: right;\">                 0</td><td style=\"text-align: right;\">                 0</td><td style=\"text-align: right;\">                 0</td><td style=\"text-align: right;\">                 0</td><td style=\"text-align: right;\">                 0</td><td style=\"text-align: right;\">                 0</td><td style=\"text-align: right;\">                 0</td><td style=\"text-align: right;\">                           0</td><td style=\"text-align: right;\">                          0</td><td style=\"text-align: right;\">                           0</td><td style=\"text-align: right;\">                          1</td><td style=\"text-align: right;\">                          4</td><td style=\"text-align: right;\">                           2</td><td style=\"text-align: right;\">          100086</td><td style=\"text-align: right;\">      1.8172e+06 </td><td style=\"text-align: right;\">               100086</td><td style=\"text-align: right;\">                  -96</td><td style=\"text-align: right;\">                   10</td><td style=\"text-align: right;\">                           0</td><td style=\"text-align: right;\">            0</td><td style=\"text-align: right;\">                0</td><td style=\"text-align: right;\">          100086</td><td style=\"text-align: right;\">      1.8172e+06 </td><td style=\"text-align: right;\">               100086</td><td style=\"text-align: right;\">                  -91</td><td style=\"text-align: right;\">                   10</td><td style=\"text-align: right;\">                           5</td><td style=\"text-align: right;\">            0</td><td style=\"text-align: right;\">                0</td><td style=\"text-align: right;\">              100086</td><td style=\"text-align: right;\">                   100086</td><td style=\"text-align: right;\">        5.99028e+06</td><td style=\"text-align: right;\">             -1364</td><td style=\"text-align: right;\">                        0</td><td style=\"text-align: right;\">                     -1182</td><td style=\"text-align: right;\">                   -1027</td><td style=\"text-align: right;\">                      14453.9</td><td style=\"text-align: right;\">                        0</td><td style=\"text-align: right;\">              53572.9</td><td style=\"text-align: right;\">                       0  </td><td style=\"text-align: right;\">                          0</td><td style=\"text-align: right;\">                            0</td><td style=\"text-align: right;\">                    -1027</td><td style=\"text-align: right;\">                 0</td><td style=\"text-align: right;\">              100086</td><td style=\"text-align: right;\">                   100086</td><td style=\"text-align: right;\">        5.99028e+06</td><td style=\"text-align: right;\">              -218</td><td style=\"text-align: right;\">                        0</td><td style=\"text-align: right;\">                       979</td><td style=\"text-align: right;\">                    -448</td><td style=\"text-align: right;\">                      14453.9</td><td style=\"text-align: right;\">                        0</td><td style=\"text-align: right;\">     297000          </td><td style=\"text-align: right;\">          202212          </td><td style=\"text-align: right;\">                          0</td><td style=\"text-align: right;\">                            0</td><td style=\"text-align: right;\">                       -2</td><td style=\"text-align: right;\">             12510</td></tr>\n",
       "<tr><td style=\"text-align: right;\">      100259</td><td style=\"text-align: right;\">       0</td><td>Cash loans          </td><td>M            </td><td>Y             </td><td>Y                </td><td style=\"text-align: right;\">             0</td><td style=\"text-align: right;\">            180000</td><td style=\"text-align: right;\">      427500</td><td style=\"text-align: right;\">      21955.5</td><td style=\"text-align: right;\">           427500</td><td>Unaccompanied    </td><td>Pensioner           </td><td>Secondary / secondary special</td><td>Married             </td><td>House / apartment  </td><td style=\"text-align: right;\">                    0.018209</td><td style=\"text-align: right;\">      -20672</td><td style=\"text-align: right;\">         365243</td><td style=\"text-align: right;\">              -3315</td><td style=\"text-align: right;\">            -3299</td><td style=\"text-align: right;\">           25</td><td style=\"text-align: right;\">           1</td><td style=\"text-align: right;\">               0</td><td style=\"text-align: right;\">                0</td><td style=\"text-align: right;\">                 1</td><td style=\"text-align: right;\">           0</td><td style=\"text-align: right;\">           0</td><td>                 </td><td style=\"text-align: right;\">                2</td><td style=\"text-align: right;\">                     3</td><td style=\"text-align: right;\">                            3</td><td>FRIDAY                      </td><td style=\"text-align: right;\">                        8</td><td style=\"text-align: right;\">                           0</td><td style=\"text-align: right;\">                           0</td><td style=\"text-align: right;\">                            0</td><td style=\"text-align: right;\">                       0</td><td style=\"text-align: right;\">                       0</td><td style=\"text-align: right;\">                        0</td><td>XNA                   </td><td style=\"text-align: right;\">      0.507542</td><td style=\"text-align: right;\">      0.379162</td><td style=\"text-align: right;\">      0.3791  </td><td style=\"text-align: right;\">          0.0876</td><td style=\"text-align: right;\">            0.0764</td><td style=\"text-align: right;\">                       0.9821</td><td style=\"text-align: right;\">           0.7552</td><td style=\"text-align: right;\">          0.0212</td><td style=\"text-align: right;\">           0   </td><td style=\"text-align: right;\">         0.1379</td><td style=\"text-align: right;\">         0.1667</td><td style=\"text-align: right;\">         0.2083</td><td style=\"text-align: right;\">        0.0482</td><td style=\"text-align: right;\">                0.0756</td><td style=\"text-align: right;\">          0.0746</td><td style=\"text-align: right;\">                        0</td><td style=\"text-align: right;\">             0.0036</td><td style=\"text-align: right;\">           0.084 </td><td style=\"text-align: right;\">             0.0748</td><td style=\"text-align: right;\">                        0.9816</td><td style=\"text-align: right;\">            0.7648</td><td style=\"text-align: right;\">           0.0191</td><td style=\"text-align: right;\">          0     </td><td style=\"text-align: right;\">          0.1379</td><td style=\"text-align: right;\">          0.1667</td><td style=\"text-align: right;\">          0.2083</td><td style=\"text-align: right;\">         0.046 </td><td style=\"text-align: right;\">                 0.0771</td><td style=\"text-align: right;\">           0.0732</td><td style=\"text-align: right;\">                         0</td><td style=\"text-align: right;\">              0.0012</td><td style=\"text-align: right;\">           0.0874</td><td style=\"text-align: right;\">             0.076 </td><td style=\"text-align: right;\">                        0.9821</td><td style=\"text-align: right;\">            0.7585</td><td style=\"text-align: right;\">           0.021 </td><td style=\"text-align: right;\">            0   </td><td style=\"text-align: right;\">          0.1379</td><td style=\"text-align: right;\">          0.1667</td><td style=\"text-align: right;\">          0.2083</td><td style=\"text-align: right;\">         0.0488</td><td style=\"text-align: right;\">                 0.0765</td><td style=\"text-align: right;\">           0.0752</td><td style=\"text-align: right;\">                         0</td><td style=\"text-align: right;\">              0.0031</td><td>                    </td><td>                </td><td style=\"text-align: right;\">          0.069 </td><td>                    </td><td>                     </td><td style=\"text-align: right;\">                         2</td><td style=\"text-align: right;\">                         0</td><td style=\"text-align: right;\">                         2</td><td style=\"text-align: right;\">                         0</td><td style=\"text-align: right;\">                   -1838</td><td style=\"text-align: right;\">                0</td><td style=\"text-align: right;\">                1</td><td style=\"text-align: right;\">                0</td><td style=\"text-align: right;\">                0</td><td style=\"text-align: right;\">                0</td><td style=\"text-align: right;\">                0</td><td style=\"text-align: right;\">                0</td><td style=\"text-align: right;\">                0</td><td style=\"text-align: right;\">                 0</td><td style=\"text-align: right;\">                 0</td><td style=\"text-align: right;\">                 0</td><td style=\"text-align: right;\">                 0</td><td style=\"text-align: right;\">                 0</td><td style=\"text-align: right;\">                 0</td><td style=\"text-align: right;\">                 0</td><td style=\"text-align: right;\">                 0</td><td style=\"text-align: right;\">                 0</td><td style=\"text-align: right;\">                 0</td><td style=\"text-align: right;\">                 0</td><td style=\"text-align: right;\">                 0</td><td style=\"text-align: right;\">                           0</td><td style=\"text-align: right;\">                          0</td><td style=\"text-align: right;\">                           0</td><td style=\"text-align: right;\">                          0</td><td style=\"text-align: right;\">                          0</td><td style=\"text-align: right;\">                           4</td><td style=\"text-align: right;\">          100259</td><td style=\"text-align: right;\">      1.11889e+06</td><td style=\"text-align: right;\">               100259</td><td style=\"text-align: right;\">                  -60</td><td style=\"text-align: right;\">                    6</td><td style=\"text-align: right;\">                           0</td><td style=\"text-align: right;\">            0</td><td style=\"text-align: right;\">                0</td><td style=\"text-align: right;\">          100259</td><td style=\"text-align: right;\">      2.5634e+06 </td><td style=\"text-align: right;\">               100259</td><td style=\"text-align: right;\">                   -2</td><td style=\"text-align: right;\">                   36</td><td style=\"text-align: right;\">                          36</td><td style=\"text-align: right;\">            3</td><td style=\"text-align: right;\">                3</td><td style=\"text-align: right;\">              100259</td><td style=\"text-align: right;\">                   100259</td><td style=\"text-align: right;\">        6.41384e+06</td><td style=\"text-align: right;\">             -1025</td><td style=\"text-align: right;\">                        0</td><td style=\"text-align: right;\">                       122</td><td style=\"text-align: right;\">                   -1447</td><td style=\"text-align: right;\">                          0  </td><td style=\"text-align: right;\">                        0</td><td style=\"text-align: right;\">             189155  </td><td style=\"text-align: right;\">                   41962.5</td><td style=\"text-align: right;\">                          0</td><td style=\"text-align: right;\">                            0</td><td style=\"text-align: right;\">                      -29</td><td style=\"text-align: right;\">                 0</td><td style=\"text-align: right;\">              100259</td><td style=\"text-align: right;\">                   100259</td><td style=\"text-align: right;\">        6.41384e+06</td><td style=\"text-align: right;\">              -609</td><td style=\"text-align: right;\">                        0</td><td style=\"text-align: right;\">                       801</td><td style=\"text-align: right;\">                    -344</td><td style=\"text-align: right;\">                          0  </td><td style=\"text-align: right;\">                        0</td><td style=\"text-align: right;\">     544500          </td><td style=\"text-align: right;\">          318483          </td><td style=\"text-align: right;\">                          0</td><td style=\"text-align: right;\">                            0</td><td style=\"text-align: right;\">                      -10</td><td style=\"text-align: right;\">             12510</td></tr>\n",
       "<tr><td style=\"text-align: right;\">      100556</td><td style=\"text-align: right;\">       0</td><td>Cash loans          </td><td>F            </td><td>N             </td><td>Y                </td><td style=\"text-align: right;\">             0</td><td style=\"text-align: right;\">             58500</td><td style=\"text-align: right;\">       50940</td><td style=\"text-align: right;\">       4959  </td><td style=\"text-align: right;\">            45000</td><td>Unaccompanied    </td><td>Pensioner           </td><td>Secondary / secondary special</td><td>Widow               </td><td>House / apartment  </td><td style=\"text-align: right;\">                    0.0105  </td><td style=\"text-align: right;\">      -22735</td><td style=\"text-align: right;\">         365243</td><td style=\"text-align: right;\">              -1583</td><td style=\"text-align: right;\">            -4711</td><td style=\"text-align: right;\">            9</td><td style=\"text-align: right;\">           1</td><td style=\"text-align: right;\">               0</td><td style=\"text-align: right;\">                0</td><td style=\"text-align: right;\">                 1</td><td style=\"text-align: right;\">           0</td><td style=\"text-align: right;\">           0</td><td>                 </td><td style=\"text-align: right;\">                1</td><td style=\"text-align: right;\">                     3</td><td style=\"text-align: right;\">                            3</td><td>THURSDAY                    </td><td style=\"text-align: right;\">                       10</td><td style=\"text-align: right;\">                           0</td><td style=\"text-align: right;\">                           0</td><td style=\"text-align: right;\">                            0</td><td style=\"text-align: right;\">                       0</td><td style=\"text-align: right;\">                       0</td><td style=\"text-align: right;\">                        0</td><td>XNA                   </td><td style=\"text-align: right;\">      0.507542</td><td style=\"text-align: right;\">      0.742158</td><td style=\"text-align: right;\">      0.53707 </td><td style=\"text-align: right;\">          0.0742</td><td style=\"text-align: right;\">            0.0764</td><td style=\"text-align: right;\">                       0.9851</td><td style=\"text-align: right;\">           0.7552</td><td style=\"text-align: right;\">          0.0212</td><td style=\"text-align: right;\">           0   </td><td style=\"text-align: right;\">         0.069 </td><td style=\"text-align: right;\">         0.3333</td><td style=\"text-align: right;\">         0.2083</td><td style=\"text-align: right;\">        0.0482</td><td style=\"text-align: right;\">                0.0756</td><td style=\"text-align: right;\">          0.0746</td><td style=\"text-align: right;\">                        0</td><td style=\"text-align: right;\">             0.0036</td><td style=\"text-align: right;\">           0.0756</td><td style=\"text-align: right;\">             0.0748</td><td style=\"text-align: right;\">                        0.9851</td><td style=\"text-align: right;\">            0.7648</td><td style=\"text-align: right;\">           0.0191</td><td style=\"text-align: right;\">          0     </td><td style=\"text-align: right;\">          0.069 </td><td style=\"text-align: right;\">          0.3333</td><td style=\"text-align: right;\">          0.2083</td><td style=\"text-align: right;\">         0.046 </td><td style=\"text-align: right;\">                 0.0771</td><td style=\"text-align: right;\">           0.0732</td><td style=\"text-align: right;\">                         0</td><td style=\"text-align: right;\">              0.0012</td><td style=\"text-align: right;\">           0.0749</td><td style=\"text-align: right;\">             0.076 </td><td style=\"text-align: right;\">                        0.9851</td><td style=\"text-align: right;\">            0.7585</td><td style=\"text-align: right;\">           0.021 </td><td style=\"text-align: right;\">            0   </td><td style=\"text-align: right;\">          0.069 </td><td style=\"text-align: right;\">          0.3333</td><td style=\"text-align: right;\">          0.2083</td><td style=\"text-align: right;\">         0.0488</td><td style=\"text-align: right;\">                 0.0765</td><td style=\"text-align: right;\">           0.0752</td><td style=\"text-align: right;\">                         0</td><td style=\"text-align: right;\">              0.0031</td><td>                    </td><td>block of flats  </td><td style=\"text-align: right;\">          0.0602</td><td>Stone, brick        </td><td>No                   </td><td style=\"text-align: right;\">                         0</td><td style=\"text-align: right;\">                         0</td><td style=\"text-align: right;\">                         0</td><td style=\"text-align: right;\">                         0</td><td style=\"text-align: right;\">                   -1086</td><td style=\"text-align: right;\">                0</td><td style=\"text-align: right;\">                1</td><td style=\"text-align: right;\">                0</td><td style=\"text-align: right;\">                0</td><td style=\"text-align: right;\">                0</td><td style=\"text-align: right;\">                0</td><td style=\"text-align: right;\">                0</td><td style=\"text-align: right;\">                0</td><td style=\"text-align: right;\">                 0</td><td style=\"text-align: right;\">                 0</td><td style=\"text-align: right;\">                 0</td><td style=\"text-align: right;\">                 0</td><td style=\"text-align: right;\">                 0</td><td style=\"text-align: right;\">                 0</td><td style=\"text-align: right;\">                 0</td><td style=\"text-align: right;\">                 0</td><td style=\"text-align: right;\">                 0</td><td style=\"text-align: right;\">                 0</td><td style=\"text-align: right;\">                 0</td><td style=\"text-align: right;\">                 0</td><td style=\"text-align: right;\">                           0</td><td style=\"text-align: right;\">                          0</td><td style=\"text-align: right;\">                           0</td><td style=\"text-align: right;\">                          0</td><td style=\"text-align: right;\">                          0</td><td style=\"text-align: right;\">                           1</td><td style=\"text-align: right;\">          100556</td><td style=\"text-align: right;\">      1.08123e+06</td><td style=\"text-align: right;\">               100556</td><td style=\"text-align: right;\">                  -85</td><td style=\"text-align: right;\">                    9</td><td style=\"text-align: right;\">                           0</td><td style=\"text-align: right;\">            0</td><td style=\"text-align: right;\">                0</td><td style=\"text-align: right;\">          100556</td><td style=\"text-align: right;\">      1.7778e+06 </td><td style=\"text-align: right;\">               100556</td><td style=\"text-align: right;\">                   -9</td><td style=\"text-align: right;\">                   12</td><td style=\"text-align: right;\">                          12</td><td style=\"text-align: right;\">            0</td><td style=\"text-align: right;\">                0</td><td style=\"text-align: right;\">              278352</td><td style=\"text-align: right;\">                   278643</td><td style=\"text-align: right;\">        5.8295e+06 </td><td style=\"text-align: right;\">             -1816</td><td style=\"text-align: right;\">                        0</td><td style=\"text-align: right;\">                     -1261</td><td style=\"text-align: right;\">                   -1447</td><td style=\"text-align: right;\">                          0  </td><td style=\"text-align: right;\">                        0</td><td style=\"text-align: right;\">              39721.5</td><td style=\"text-align: right;\">                       0  </td><td style=\"text-align: right;\">                          0</td><td style=\"text-align: right;\">                            0</td><td style=\"text-align: right;\">                    -1051</td><td style=\"text-align: right;\">                 0</td><td style=\"text-align: right;\">              278554</td><td style=\"text-align: right;\">                   278496</td><td style=\"text-align: right;\">        5.8878e+06 </td><td style=\"text-align: right;\">              -299</td><td style=\"text-align: right;\">                        0</td><td style=\"text-align: right;\">                       914</td><td style=\"text-align: right;\">                    -344</td><td style=\"text-align: right;\">                          0  </td><td style=\"text-align: right;\">                        0</td><td style=\"text-align: right;\">     450000          </td><td style=\"text-align: right;\">          151020          </td><td style=\"text-align: right;\">                          0</td><td style=\"text-align: right;\">                            0</td><td style=\"text-align: right;\">                      -19</td><td style=\"text-align: right;\">             12510</td></tr>\n",
       "<tr><td style=\"text-align: right;\">      100630</td><td style=\"text-align: right;\">       0</td><td>Cash loans          </td><td>F            </td><td>Y             </td><td>N                </td><td style=\"text-align: right;\">             0</td><td style=\"text-align: right;\">            202500</td><td style=\"text-align: right;\">      675000</td><td style=\"text-align: right;\">      18693  </td><td style=\"text-align: right;\">           675000</td><td>Unaccompanied    </td><td>Working             </td><td>Higher education             </td><td>Single / not married</td><td>House / apartment  </td><td style=\"text-align: right;\">                    0.010006</td><td style=\"text-align: right;\">       -9524</td><td style=\"text-align: right;\">           -797</td><td style=\"text-align: right;\">              -1673</td><td style=\"text-align: right;\">            -2188</td><td style=\"text-align: right;\">            8</td><td style=\"text-align: right;\">           1</td><td style=\"text-align: right;\">               1</td><td style=\"text-align: right;\">                1</td><td style=\"text-align: right;\">                 1</td><td style=\"text-align: right;\">           1</td><td style=\"text-align: right;\">           0</td><td>Laborers         </td><td style=\"text-align: right;\">                1</td><td style=\"text-align: right;\">                     2</td><td style=\"text-align: right;\">                            1</td><td>FRIDAY                      </td><td style=\"text-align: right;\">                       17</td><td style=\"text-align: right;\">                           0</td><td style=\"text-align: right;\">                           0</td><td style=\"text-align: right;\">                            0</td><td style=\"text-align: right;\">                       0</td><td style=\"text-align: right;\">                       0</td><td style=\"text-align: right;\">                        0</td><td>Industry: type 9      </td><td style=\"text-align: right;\">      0.326092</td><td style=\"text-align: right;\">      0.756205</td><td style=\"text-align: right;\">      0.37065 </td><td style=\"text-align: right;\">          0.6639</td><td style=\"text-align: right;\">            0.0873</td><td style=\"text-align: right;\">                       0.9965</td><td style=\"text-align: right;\">           0.7552</td><td style=\"text-align: right;\">          0.0212</td><td style=\"text-align: right;\">           0.48</td><td style=\"text-align: right;\">         0.3793</td><td style=\"text-align: right;\">         0.625 </td><td style=\"text-align: right;\">         0.2083</td><td style=\"text-align: right;\">        0.0482</td><td style=\"text-align: right;\">                0.0756</td><td style=\"text-align: right;\">          0.7641</td><td style=\"text-align: right;\">                        0</td><td style=\"text-align: right;\">             0.6811</td><td style=\"text-align: right;\">           0.6765</td><td style=\"text-align: right;\">             0.0906</td><td style=\"text-align: right;\">                        0.9965</td><td style=\"text-align: right;\">            0.7648</td><td style=\"text-align: right;\">           0.0191</td><td style=\"text-align: right;\">          0.4834</td><td style=\"text-align: right;\">          0.3793</td><td style=\"text-align: right;\">          0.625 </td><td style=\"text-align: right;\">          0.2083</td><td style=\"text-align: right;\">         0.046 </td><td style=\"text-align: right;\">                 0.0771</td><td style=\"text-align: right;\">           0.7961</td><td style=\"text-align: right;\">                         0</td><td style=\"text-align: right;\">              0.7211</td><td style=\"text-align: right;\">           0.6703</td><td style=\"text-align: right;\">             0.0873</td><td style=\"text-align: right;\">                        0.9965</td><td style=\"text-align: right;\">            0.7585</td><td style=\"text-align: right;\">           0.021 </td><td style=\"text-align: right;\">            0.48</td><td style=\"text-align: right;\">          0.3793</td><td style=\"text-align: right;\">          0.625 </td><td style=\"text-align: right;\">          0.2083</td><td style=\"text-align: right;\">         0.0488</td><td style=\"text-align: right;\">                 0.0765</td><td style=\"text-align: right;\">           0.7778</td><td style=\"text-align: right;\">                         0</td><td style=\"text-align: right;\">              0.6954</td><td>                    </td><td>block of flats  </td><td style=\"text-align: right;\">          0.7628</td><td>Mixed               </td><td>No                   </td><td style=\"text-align: right;\">                         0</td><td style=\"text-align: right;\">                         0</td><td style=\"text-align: right;\">                         0</td><td style=\"text-align: right;\">                         0</td><td style=\"text-align: right;\">                   -1289</td><td style=\"text-align: right;\">                0</td><td style=\"text-align: right;\">                0</td><td style=\"text-align: right;\">                0</td><td style=\"text-align: right;\">                0</td><td style=\"text-align: right;\">                0</td><td style=\"text-align: right;\">                0</td><td style=\"text-align: right;\">                1</td><td style=\"text-align: right;\">                0</td><td style=\"text-align: right;\">                 0</td><td style=\"text-align: right;\">                 0</td><td style=\"text-align: right;\">                 0</td><td style=\"text-align: right;\">                 0</td><td style=\"text-align: right;\">                 0</td><td style=\"text-align: right;\">                 0</td><td style=\"text-align: right;\">                 1</td><td style=\"text-align: right;\">                 0</td><td style=\"text-align: right;\">                 0</td><td style=\"text-align: right;\">                 0</td><td style=\"text-align: right;\">                 0</td><td style=\"text-align: right;\">                 0</td><td style=\"text-align: right;\">                           0</td><td style=\"text-align: right;\">                          0</td><td style=\"text-align: right;\">                           0</td><td style=\"text-align: right;\">                          0</td><td style=\"text-align: right;\">                          0</td><td style=\"text-align: right;\">                           1</td><td style=\"text-align: right;\">          100630</td><td style=\"text-align: right;\">      1.62176e+06</td><td style=\"text-align: right;\">               100630</td><td style=\"text-align: right;\">                  -43</td><td style=\"text-align: right;\">                    6</td><td style=\"text-align: right;\">                           0</td><td style=\"text-align: right;\">            0</td><td style=\"text-align: right;\">                0</td><td style=\"text-align: right;\">          100630</td><td style=\"text-align: right;\">      2.45967e+06</td><td style=\"text-align: right;\">               100630</td><td style=\"text-align: right;\">                  -11</td><td style=\"text-align: right;\">                   18</td><td style=\"text-align: right;\">                          18</td><td style=\"text-align: right;\">            0</td><td style=\"text-align: right;\">                0</td><td style=\"text-align: right;\">              100630</td><td style=\"text-align: right;\">                   100630</td><td style=\"text-align: right;\">        6.30113e+06</td><td style=\"text-align: right;\">             -1245</td><td style=\"text-align: right;\">                        0</td><td style=\"text-align: right;\">                     -1065</td><td style=\"text-align: right;\">                   -1065</td><td style=\"text-align: right;\">                          0  </td><td style=\"text-align: right;\">                        0</td><td style=\"text-align: right;\">                  0  </td><td style=\"text-align: right;\">                       0  </td><td style=\"text-align: right;\">                          0</td><td style=\"text-align: right;\">                            0</td><td style=\"text-align: right;\">                    -1060</td><td style=\"text-align: right;\">                 0</td><td style=\"text-align: right;\">              100630</td><td style=\"text-align: right;\">                   100630</td><td style=\"text-align: right;\">        6.30114e+06</td><td style=\"text-align: right;\">              -219</td><td style=\"text-align: right;\">                        0</td><td style=\"text-align: right;\">                      3186</td><td style=\"text-align: right;\">                    -226</td><td style=\"text-align: right;\">                      16897.5</td><td style=\"text-align: right;\">                        0</td><td style=\"text-align: right;\">          1.44e+06   </td><td style=\"text-align: right;\">               1.37507e+06</td><td style=\"text-align: right;\">                          0</td><td style=\"text-align: right;\">                            0</td><td style=\"text-align: right;\">                       -5</td><td style=\"text-align: right;\">             12510</td></tr>\n",
       "<tr><td style=\"text-align: right;\">      101134</td><td style=\"text-align: right;\">       0</td><td>Cash loans          </td><td>F            </td><td>Y             </td><td>N                </td><td style=\"text-align: right;\">             0</td><td style=\"text-align: right;\">            135000</td><td style=\"text-align: right;\">      450000</td><td style=\"text-align: right;\">      23107.5</td><td style=\"text-align: right;\">           450000</td><td>Unaccompanied    </td><td>State servant       </td><td>Secondary / secondary special</td><td>Married             </td><td>House / apartment  </td><td style=\"text-align: right;\">                    0.004849</td><td style=\"text-align: right;\">      -15175</td><td style=\"text-align: right;\">          -3046</td><td style=\"text-align: right;\">              -3141</td><td style=\"text-align: right;\">            -3160</td><td style=\"text-align: right;\">           12</td><td style=\"text-align: right;\">           1</td><td style=\"text-align: right;\">               1</td><td style=\"text-align: right;\">                0</td><td style=\"text-align: right;\">                 1</td><td style=\"text-align: right;\">           1</td><td style=\"text-align: right;\">           0</td><td>Managers         </td><td style=\"text-align: right;\">                2</td><td style=\"text-align: right;\">                     2</td><td style=\"text-align: right;\">                            2</td><td>FRIDAY                      </td><td style=\"text-align: right;\">                       16</td><td style=\"text-align: right;\">                           0</td><td style=\"text-align: right;\">                           0</td><td style=\"text-align: right;\">                            0</td><td style=\"text-align: right;\">                       0</td><td style=\"text-align: right;\">                       1</td><td style=\"text-align: right;\">                        1</td><td>Hotel                 </td><td style=\"text-align: right;\">      0.493555</td><td style=\"text-align: right;\">      0.410219</td><td style=\"text-align: right;\">      0.513694</td><td style=\"text-align: right;\">          0.0876</td><td style=\"text-align: right;\">            0.0764</td><td style=\"text-align: right;\">                       0.9821</td><td style=\"text-align: right;\">           0.7552</td><td style=\"text-align: right;\">          0.0212</td><td style=\"text-align: right;\">           0   </td><td style=\"text-align: right;\">         0.1379</td><td style=\"text-align: right;\">         0.1667</td><td style=\"text-align: right;\">         0.2083</td><td style=\"text-align: right;\">        0.0482</td><td style=\"text-align: right;\">                0.0756</td><td style=\"text-align: right;\">          0.0746</td><td style=\"text-align: right;\">                        0</td><td style=\"text-align: right;\">             0.0036</td><td style=\"text-align: right;\">           0.084 </td><td style=\"text-align: right;\">             0.0748</td><td style=\"text-align: right;\">                        0.9816</td><td style=\"text-align: right;\">            0.7648</td><td style=\"text-align: right;\">           0.0191</td><td style=\"text-align: right;\">          0     </td><td style=\"text-align: right;\">          0.1379</td><td style=\"text-align: right;\">          0.1667</td><td style=\"text-align: right;\">          0.2083</td><td style=\"text-align: right;\">         0.046 </td><td style=\"text-align: right;\">                 0.0771</td><td style=\"text-align: right;\">           0.0732</td><td style=\"text-align: right;\">                         0</td><td style=\"text-align: right;\">              0.0012</td><td style=\"text-align: right;\">           0.0874</td><td style=\"text-align: right;\">             0.076 </td><td style=\"text-align: right;\">                        0.9821</td><td style=\"text-align: right;\">            0.7585</td><td style=\"text-align: right;\">           0.021 </td><td style=\"text-align: right;\">            0   </td><td style=\"text-align: right;\">          0.1379</td><td style=\"text-align: right;\">          0.1667</td><td style=\"text-align: right;\">          0.2083</td><td style=\"text-align: right;\">         0.0488</td><td style=\"text-align: right;\">                 0.0765</td><td style=\"text-align: right;\">           0.0752</td><td style=\"text-align: right;\">                         0</td><td style=\"text-align: right;\">              0.0031</td><td>                    </td><td>                </td><td style=\"text-align: right;\">          0.069 </td><td>                    </td><td>                     </td><td style=\"text-align: right;\">                         0</td><td style=\"text-align: right;\">                         0</td><td style=\"text-align: right;\">                         0</td><td style=\"text-align: right;\">                         0</td><td style=\"text-align: right;\">                   -1371</td><td style=\"text-align: right;\">                0</td><td style=\"text-align: right;\">                0</td><td style=\"text-align: right;\">                0</td><td style=\"text-align: right;\">                1</td><td style=\"text-align: right;\">                0</td><td style=\"text-align: right;\">                0</td><td style=\"text-align: right;\">                0</td><td style=\"text-align: right;\">                0</td><td style=\"text-align: right;\">                 0</td><td style=\"text-align: right;\">                 0</td><td style=\"text-align: right;\">                 0</td><td style=\"text-align: right;\">                 0</td><td style=\"text-align: right;\">                 0</td><td style=\"text-align: right;\">                 0</td><td style=\"text-align: right;\">                 0</td><td style=\"text-align: right;\">                 0</td><td style=\"text-align: right;\">                 0</td><td style=\"text-align: right;\">                 0</td><td style=\"text-align: right;\">                 0</td><td style=\"text-align: right;\">                 0</td><td style=\"text-align: right;\">                           0</td><td style=\"text-align: right;\">                          0</td><td style=\"text-align: right;\">                           0</td><td style=\"text-align: right;\">                          0</td><td style=\"text-align: right;\">                          0</td><td style=\"text-align: right;\">                           4</td><td style=\"text-align: right;\">          101134</td><td style=\"text-align: right;\">      1.21483e+06</td><td style=\"text-align: right;\">               101134</td><td style=\"text-align: right;\">                  -87</td><td style=\"text-align: right;\">                    7</td><td style=\"text-align: right;\">                           0</td><td style=\"text-align: right;\">            0</td><td style=\"text-align: right;\">                0</td><td style=\"text-align: right;\">          101134</td><td style=\"text-align: right;\">      2.54123e+06</td><td style=\"text-align: right;\">               101134</td><td style=\"text-align: right;\">                   -2</td><td style=\"text-align: right;\">                   60</td><td style=\"text-align: right;\">                          60</td><td style=\"text-align: right;\">            2</td><td style=\"text-align: right;\">                2</td><td style=\"text-align: right;\">              101134</td><td style=\"text-align: right;\">                   101134</td><td style=\"text-align: right;\">        5.02497e+06</td><td style=\"text-align: right;\">             -2440</td><td style=\"text-align: right;\">                        0</td><td style=\"text-align: right;\">                     -1435</td><td style=\"text-align: right;\">                   -1435</td><td style=\"text-align: right;\">                          0  </td><td style=\"text-align: right;\">                        0</td><td style=\"text-align: right;\">              29295  </td><td style=\"text-align: right;\">                       0  </td><td style=\"text-align: right;\">                          0</td><td style=\"text-align: right;\">                            0</td><td style=\"text-align: right;\">                    -1429</td><td style=\"text-align: right;\">                 0</td><td style=\"text-align: right;\">              101134</td><td style=\"text-align: right;\">                   101134</td><td style=\"text-align: right;\">        5.87221e+06</td><td style=\"text-align: right;\">              -345</td><td style=\"text-align: right;\">                        0</td><td style=\"text-align: right;\">                     30983</td><td style=\"text-align: right;\">                    -309</td><td style=\"text-align: right;\">                          0  </td><td style=\"text-align: right;\">                        1</td><td style=\"text-align: right;\">     532192          </td><td style=\"text-align: right;\">          398205          </td><td style=\"text-align: right;\">                          0</td><td style=\"text-align: right;\">                            0</td><td style=\"text-align: right;\">                       -4</td><td style=\"text-align: right;\">             21384</td></tr>\n",
       "<tr><td style=\"text-align: right;\">      101768</td><td style=\"text-align: right;\">       0</td><td>Cash loans          </td><td>F            </td><td>N             </td><td>Y                </td><td style=\"text-align: right;\">             0</td><td style=\"text-align: right;\">            135000</td><td style=\"text-align: right;\">      331920</td><td style=\"text-align: right;\">      18135  </td><td style=\"text-align: right;\">           225000</td><td>Unaccompanied    </td><td>Pensioner           </td><td>Secondary / secondary special</td><td>Married             </td><td>House / apartment  </td><td style=\"text-align: right;\">                    0.010276</td><td style=\"text-align: right;\">      -21692</td><td style=\"text-align: right;\">         365243</td><td style=\"text-align: right;\">              -7603</td><td style=\"text-align: right;\">            -4936</td><td style=\"text-align: right;\">            9</td><td style=\"text-align: right;\">           1</td><td style=\"text-align: right;\">               0</td><td style=\"text-align: right;\">                0</td><td style=\"text-align: right;\">                 1</td><td style=\"text-align: right;\">           0</td><td style=\"text-align: right;\">           1</td><td>                 </td><td style=\"text-align: right;\">                2</td><td style=\"text-align: right;\">                     2</td><td style=\"text-align: right;\">                            2</td><td>FRIDAY                      </td><td style=\"text-align: right;\">                       12</td><td style=\"text-align: right;\">                           0</td><td style=\"text-align: right;\">                           0</td><td style=\"text-align: right;\">                            0</td><td style=\"text-align: right;\">                       0</td><td style=\"text-align: right;\">                       0</td><td style=\"text-align: right;\">                        0</td><td>XNA                   </td><td style=\"text-align: right;\">      0.809586</td><td style=\"text-align: right;\">      0.584494</td><td style=\"text-align: right;\">      0.382502</td><td style=\"text-align: right;\">          0.0876</td><td style=\"text-align: right;\">            0.0764</td><td style=\"text-align: right;\">                       0.9821</td><td style=\"text-align: right;\">           0.7552</td><td style=\"text-align: right;\">          0.0212</td><td style=\"text-align: right;\">           0   </td><td style=\"text-align: right;\">         0.1379</td><td style=\"text-align: right;\">         0.1667</td><td style=\"text-align: right;\">         0.2083</td><td style=\"text-align: right;\">        0.0482</td><td style=\"text-align: right;\">                0.0756</td><td style=\"text-align: right;\">          0.0746</td><td style=\"text-align: right;\">                        0</td><td style=\"text-align: right;\">             0.0036</td><td style=\"text-align: right;\">           0.084 </td><td style=\"text-align: right;\">             0.0748</td><td style=\"text-align: right;\">                        0.9816</td><td style=\"text-align: right;\">            0.7648</td><td style=\"text-align: right;\">           0.0191</td><td style=\"text-align: right;\">          0     </td><td style=\"text-align: right;\">          0.1379</td><td style=\"text-align: right;\">          0.1667</td><td style=\"text-align: right;\">          0.2083</td><td style=\"text-align: right;\">         0.046 </td><td style=\"text-align: right;\">                 0.0771</td><td style=\"text-align: right;\">           0.0732</td><td style=\"text-align: right;\">                         0</td><td style=\"text-align: right;\">              0.0012</td><td style=\"text-align: right;\">           0.0874</td><td style=\"text-align: right;\">             0.076 </td><td style=\"text-align: right;\">                        0.9821</td><td style=\"text-align: right;\">            0.7585</td><td style=\"text-align: right;\">           0.021 </td><td style=\"text-align: right;\">            0   </td><td style=\"text-align: right;\">          0.1379</td><td style=\"text-align: right;\">          0.1667</td><td style=\"text-align: right;\">          0.2083</td><td style=\"text-align: right;\">         0.0488</td><td style=\"text-align: right;\">                 0.0765</td><td style=\"text-align: right;\">           0.0752</td><td style=\"text-align: right;\">                         0</td><td style=\"text-align: right;\">              0.0031</td><td>                    </td><td>                </td><td style=\"text-align: right;\">          0.069 </td><td>                    </td><td>                     </td><td style=\"text-align: right;\">                         0</td><td style=\"text-align: right;\">                         0</td><td style=\"text-align: right;\">                         0</td><td style=\"text-align: right;\">                         0</td><td style=\"text-align: right;\">                   -1532</td><td style=\"text-align: right;\">                0</td><td style=\"text-align: right;\">                0</td><td style=\"text-align: right;\">                0</td><td style=\"text-align: right;\">                0</td><td style=\"text-align: right;\">                1</td><td style=\"text-align: right;\">                0</td><td style=\"text-align: right;\">                0</td><td style=\"text-align: right;\">                0</td><td style=\"text-align: right;\">                 0</td><td style=\"text-align: right;\">                 0</td><td style=\"text-align: right;\">                 0</td><td style=\"text-align: right;\">                 0</td><td style=\"text-align: right;\">                 0</td><td style=\"text-align: right;\">                 0</td><td style=\"text-align: right;\">                 0</td><td style=\"text-align: right;\">                 0</td><td style=\"text-align: right;\">                 0</td><td style=\"text-align: right;\">                 0</td><td style=\"text-align: right;\">                 0</td><td style=\"text-align: right;\">                 0</td><td style=\"text-align: right;\">                           0</td><td style=\"text-align: right;\">                          0</td><td style=\"text-align: right;\">                           0</td><td style=\"text-align: right;\">                          0</td><td style=\"text-align: right;\">                          0</td><td style=\"text-align: right;\">                           2</td><td style=\"text-align: right;\">          101768</td><td style=\"text-align: right;\">      1.53820e+06</td><td style=\"text-align: right;\">               101768</td><td style=\"text-align: right;\">                  -50</td><td style=\"text-align: right;\">                   15</td><td style=\"text-align: right;\">                           0</td><td style=\"text-align: right;\">            0</td><td style=\"text-align: right;\">                0</td><td style=\"text-align: right;\">          101768</td><td style=\"text-align: right;\">      1.53820e+06</td><td style=\"text-align: right;\">               101768</td><td style=\"text-align: right;\">                  -35</td><td style=\"text-align: right;\">                   24</td><td style=\"text-align: right;\">                          24</td><td style=\"text-align: right;\">            0</td><td style=\"text-align: right;\">                0</td><td style=\"text-align: right;\">              101768</td><td style=\"text-align: right;\">                   101768</td><td style=\"text-align: right;\">        6.06875e+06</td><td style=\"text-align: right;\">             -2817</td><td style=\"text-align: right;\">                        0</td><td style=\"text-align: right;\">                     -2633</td><td style=\"text-align: right;\">                   -2633</td><td style=\"text-align: right;\">                          0  </td><td style=\"text-align: right;\">                        0</td><td style=\"text-align: right;\">                  0  </td><td style=\"text-align: right;\">                       0  </td><td style=\"text-align: right;\">                          0</td><td style=\"text-align: right;\">                            0</td><td style=\"text-align: right;\">                    -1084</td><td style=\"text-align: right;\">                 0</td><td style=\"text-align: right;\">              101768</td><td style=\"text-align: right;\">                   101768</td><td style=\"text-align: right;\">        6.06876e+06</td><td style=\"text-align: right;\">              -112</td><td style=\"text-align: right;\">                        0</td><td style=\"text-align: right;\">                     30960</td><td style=\"text-align: right;\">                    -109</td><td style=\"text-align: right;\">                          0  </td><td style=\"text-align: right;\">                        0</td><td style=\"text-align: right;\">          1.30167e+06</td><td style=\"text-align: right;\">          790065          </td><td style=\"text-align: right;\">                          0</td><td style=\"text-align: right;\">                            0</td><td style=\"text-align: right;\">                      -14</td><td style=\"text-align: right;\">             12510</td></tr>\n",
       "<tr><td style=\"text-align: right;\">      101845</td><td style=\"text-align: right;\">       0</td><td>Cash loans          </td><td>F            </td><td>N             </td><td>N                </td><td style=\"text-align: right;\">             0</td><td style=\"text-align: right;\">            135000</td><td style=\"text-align: right;\">      284400</td><td style=\"text-align: right;\">      16011  </td><td style=\"text-align: right;\">           225000</td><td>Unaccompanied    </td><td>Pensioner           </td><td>Secondary / secondary special</td><td>Widow               </td><td>House / apartment  </td><td style=\"text-align: right;\">                    0.008019</td><td style=\"text-align: right;\">      -24485</td><td style=\"text-align: right;\">         365243</td><td style=\"text-align: right;\">              -3644</td><td style=\"text-align: right;\">            -4574</td><td style=\"text-align: right;\">            9</td><td style=\"text-align: right;\">           1</td><td style=\"text-align: right;\">               0</td><td style=\"text-align: right;\">                0</td><td style=\"text-align: right;\">                 1</td><td style=\"text-align: right;\">           0</td><td style=\"text-align: right;\">           0</td><td>                 </td><td style=\"text-align: right;\">                1</td><td style=\"text-align: right;\">                     2</td><td style=\"text-align: right;\">                            2</td><td>FRIDAY                      </td><td style=\"text-align: right;\">                       15</td><td style=\"text-align: right;\">                           0</td><td style=\"text-align: right;\">                           0</td><td style=\"text-align: right;\">                            0</td><td style=\"text-align: right;\">                       0</td><td style=\"text-align: right;\">                       0</td><td style=\"text-align: right;\">                        0</td><td>XNA                   </td><td style=\"text-align: right;\">      0.507542</td><td style=\"text-align: right;\">      0.545475</td><td style=\"text-align: right;\">      0.283712</td><td style=\"text-align: right;\">          0.0227</td><td style=\"text-align: right;\">            0.0764</td><td style=\"text-align: right;\">                       0.9801</td><td style=\"text-align: right;\">           0.7552</td><td style=\"text-align: right;\">          0.0212</td><td style=\"text-align: right;\">           0   </td><td style=\"text-align: right;\">         0.1379</td><td style=\"text-align: right;\">         0.0417</td><td style=\"text-align: right;\">         0.2083</td><td style=\"text-align: right;\">        0.0482</td><td style=\"text-align: right;\">                0.0756</td><td style=\"text-align: right;\">          0.0117</td><td style=\"text-align: right;\">                        0</td><td style=\"text-align: right;\">             0.0036</td><td style=\"text-align: right;\">           0.0231</td><td style=\"text-align: right;\">             0.0748</td><td style=\"text-align: right;\">                        0.9801</td><td style=\"text-align: right;\">            0.7648</td><td style=\"text-align: right;\">           0.0191</td><td style=\"text-align: right;\">          0     </td><td style=\"text-align: right;\">          0.1379</td><td style=\"text-align: right;\">          0.0417</td><td style=\"text-align: right;\">          0.2083</td><td style=\"text-align: right;\">         0.046 </td><td style=\"text-align: right;\">                 0.0771</td><td style=\"text-align: right;\">           0.0122</td><td style=\"text-align: right;\">                         0</td><td style=\"text-align: right;\">              0.0012</td><td style=\"text-align: right;\">           0.0229</td><td style=\"text-align: right;\">             0.076 </td><td style=\"text-align: right;\">                        0.9801</td><td style=\"text-align: right;\">            0.7585</td><td style=\"text-align: right;\">           0.021 </td><td style=\"text-align: right;\">            0   </td><td style=\"text-align: right;\">          0.1379</td><td style=\"text-align: right;\">          0.0417</td><td style=\"text-align: right;\">          0.2083</td><td style=\"text-align: right;\">         0.0488</td><td style=\"text-align: right;\">                 0.0765</td><td style=\"text-align: right;\">           0.0119</td><td style=\"text-align: right;\">                         0</td><td style=\"text-align: right;\">              0.0031</td><td>                    </td><td>block of flats  </td><td style=\"text-align: right;\">          0.0154</td><td>Stone, brick        </td><td>No                   </td><td style=\"text-align: right;\">                         2</td><td style=\"text-align: right;\">                         0</td><td style=\"text-align: right;\">                         2</td><td style=\"text-align: right;\">                         0</td><td style=\"text-align: right;\">                   -1499</td><td style=\"text-align: right;\">                0</td><td style=\"text-align: right;\">                1</td><td style=\"text-align: right;\">                0</td><td style=\"text-align: right;\">                0</td><td style=\"text-align: right;\">                0</td><td style=\"text-align: right;\">                0</td><td style=\"text-align: right;\">                0</td><td style=\"text-align: right;\">                0</td><td style=\"text-align: right;\">                 0</td><td style=\"text-align: right;\">                 0</td><td style=\"text-align: right;\">                 0</td><td style=\"text-align: right;\">                 0</td><td style=\"text-align: right;\">                 0</td><td style=\"text-align: right;\">                 0</td><td style=\"text-align: right;\">                 0</td><td style=\"text-align: right;\">                 0</td><td style=\"text-align: right;\">                 0</td><td style=\"text-align: right;\">                 0</td><td style=\"text-align: right;\">                 0</td><td style=\"text-align: right;\">                 0</td><td style=\"text-align: right;\">                           0</td><td style=\"text-align: right;\">                          0</td><td style=\"text-align: right;\">                           0</td><td style=\"text-align: right;\">                          0</td><td style=\"text-align: right;\">                          0</td><td style=\"text-align: right;\">                           2</td><td style=\"text-align: right;\">          101845</td><td style=\"text-align: right;\">      1.10171e+06</td><td style=\"text-align: right;\">               101845</td><td style=\"text-align: right;\">                  -85</td><td style=\"text-align: right;\">                    6</td><td style=\"text-align: right;\">                           0</td><td style=\"text-align: right;\">            0</td><td style=\"text-align: right;\">                0</td><td style=\"text-align: right;\">          101845</td><td style=\"text-align: right;\">      2.33542e+06</td><td style=\"text-align: right;\">               101845</td><td style=\"text-align: right;\">                   -9</td><td style=\"text-align: right;\">                   12</td><td style=\"text-align: right;\">                          12</td><td style=\"text-align: right;\">            0</td><td style=\"text-align: right;\">                0</td><td style=\"text-align: right;\">              101845</td><td style=\"text-align: right;\">                   101845</td><td style=\"text-align: right;\">        6.44733e+06</td><td style=\"text-align: right;\">             -2319</td><td style=\"text-align: right;\">                        0</td><td style=\"text-align: right;\">                     -2074</td><td style=\"text-align: right;\">                   -2195</td><td style=\"text-align: right;\">                          0  </td><td style=\"text-align: right;\">                        0</td><td style=\"text-align: right;\">                  0  </td><td style=\"text-align: right;\">                       0  </td><td style=\"text-align: right;\">                          0</td><td style=\"text-align: right;\">                            0</td><td style=\"text-align: right;\">                    -2195</td><td style=\"text-align: right;\">                 0</td><td style=\"text-align: right;\">              101845</td><td style=\"text-align: right;\">                   101845</td><td style=\"text-align: right;\">        6.44734e+06</td><td style=\"text-align: right;\">              -438</td><td style=\"text-align: right;\">                        0</td><td style=\"text-align: right;\">                      1200</td><td style=\"text-align: right;\">                    -613</td><td style=\"text-align: right;\">                      11777.6</td><td style=\"text-align: right;\">                        0</td><td style=\"text-align: right;\">     529412          </td><td style=\"text-align: right;\">          407357          </td><td style=\"text-align: right;\">                          0</td><td style=\"text-align: right;\">                            0</td><td style=\"text-align: right;\">                       -9</td><td style=\"text-align: right;\">             12510</td></tr>\n",
       "<tr><td style=\"text-align: right;\">      102101</td><td style=\"text-align: right;\">       0</td><td>Cash loans          </td><td>M            </td><td>Y             </td><td>Y                </td><td style=\"text-align: right;\">             0</td><td style=\"text-align: right;\">            225000</td><td style=\"text-align: right;\">      225000</td><td style=\"text-align: right;\">      17775  </td><td style=\"text-align: right;\">           225000</td><td>Unaccompanied    </td><td>Commercial associate</td><td>Higher education             </td><td>Married             </td><td>House / apartment  </td><td style=\"text-align: right;\">                    0.072508</td><td style=\"text-align: right;\">      -13891</td><td style=\"text-align: right;\">           -587</td><td style=\"text-align: right;\">              -5928</td><td style=\"text-align: right;\">            -4672</td><td style=\"text-align: right;\">            3</td><td style=\"text-align: right;\">           1</td><td style=\"text-align: right;\">               1</td><td style=\"text-align: right;\">                0</td><td style=\"text-align: right;\">                 1</td><td style=\"text-align: right;\">           1</td><td style=\"text-align: right;\">           0</td><td>Core staff       </td><td style=\"text-align: right;\">                2</td><td style=\"text-align: right;\">                     1</td><td style=\"text-align: right;\">                            1</td><td>THURSDAY                    </td><td style=\"text-align: right;\">                       11</td><td style=\"text-align: right;\">                           0</td><td style=\"text-align: right;\">                           0</td><td style=\"text-align: right;\">                            0</td><td style=\"text-align: right;\">                       0</td><td style=\"text-align: right;\">                       0</td><td style=\"text-align: right;\">                        0</td><td>Telecom               </td><td style=\"text-align: right;\">      0.507542</td><td style=\"text-align: right;\">      0.740532</td><td style=\"text-align: right;\">      0.53707 </td><td style=\"text-align: right;\">          0.1969</td><td style=\"text-align: right;\">            0.093 </td><td style=\"text-align: right;\">                       0.9796</td><td style=\"text-align: right;\">           0.7212</td><td style=\"text-align: right;\">          0.0411</td><td style=\"text-align: right;\">           0.32</td><td style=\"text-align: right;\">         0.1379</td><td style=\"text-align: right;\">         0.4583</td><td style=\"text-align: right;\">         0.5   </td><td style=\"text-align: right;\">        0.0184</td><td style=\"text-align: right;\">                0.1605</td><td style=\"text-align: right;\">          0.1905</td><td style=\"text-align: right;\">                        0</td><td style=\"text-align: right;\">             0.0011</td><td style=\"text-align: right;\">           0.2006</td><td style=\"text-align: right;\">             0.0947</td><td style=\"text-align: right;\">                        0.9796</td><td style=\"text-align: right;\">            0.7321</td><td style=\"text-align: right;\">           0.0291</td><td style=\"text-align: right;\">          0.3222</td><td style=\"text-align: right;\">          0.1379</td><td style=\"text-align: right;\">          0.4583</td><td style=\"text-align: right;\">          0.5   </td><td style=\"text-align: right;\">         0.0186</td><td style=\"text-align: right;\">                 0.1754</td><td style=\"text-align: right;\">           0.1981</td><td style=\"text-align: right;\">                         0</td><td style=\"text-align: right;\">              0.0011</td><td style=\"text-align: right;\">           0.1988</td><td style=\"text-align: right;\">             0.093 </td><td style=\"text-align: right;\">                        0.9796</td><td style=\"text-align: right;\">            0.7249</td><td style=\"text-align: right;\">           0.0413</td><td style=\"text-align: right;\">            0.32</td><td style=\"text-align: right;\">          0.1379</td><td style=\"text-align: right;\">          0.4583</td><td style=\"text-align: right;\">          0.5   </td><td style=\"text-align: right;\">         0.0187</td><td style=\"text-align: right;\">                 0.1633</td><td style=\"text-align: right;\">           0.1939</td><td style=\"text-align: right;\">                         0</td><td style=\"text-align: right;\">              0.0011</td><td>reg oper account    </td><td>block of flats  </td><td style=\"text-align: right;\">          0.1498</td><td>Panel               </td><td>No                   </td><td style=\"text-align: right;\">                         1</td><td style=\"text-align: right;\">                         0</td><td style=\"text-align: right;\">                         1</td><td style=\"text-align: right;\">                         0</td><td style=\"text-align: right;\">                    -652</td><td style=\"text-align: right;\">                0</td><td style=\"text-align: right;\">                1</td><td style=\"text-align: right;\">                0</td><td style=\"text-align: right;\">                0</td><td style=\"text-align: right;\">                0</td><td style=\"text-align: right;\">                0</td><td style=\"text-align: right;\">                0</td><td style=\"text-align: right;\">                0</td><td style=\"text-align: right;\">                 0</td><td style=\"text-align: right;\">                 0</td><td style=\"text-align: right;\">                 0</td><td style=\"text-align: right;\">                 0</td><td style=\"text-align: right;\">                 0</td><td style=\"text-align: right;\">                 0</td><td style=\"text-align: right;\">                 0</td><td style=\"text-align: right;\">                 0</td><td style=\"text-align: right;\">                 0</td><td style=\"text-align: right;\">                 0</td><td style=\"text-align: right;\">                 0</td><td style=\"text-align: right;\">                 0</td><td style=\"text-align: right;\">                           0</td><td style=\"text-align: right;\">                          0</td><td style=\"text-align: right;\">                           0</td><td style=\"text-align: right;\">                          0</td><td style=\"text-align: right;\">                          0</td><td style=\"text-align: right;\">                           1</td><td style=\"text-align: right;\">          102101</td><td style=\"text-align: right;\">      2.20868e+06</td><td style=\"text-align: right;\">               102101</td><td style=\"text-align: right;\">                  -22</td><td style=\"text-align: right;\">                   12</td><td style=\"text-align: right;\">                           0</td><td style=\"text-align: right;\">            0</td><td style=\"text-align: right;\">                0</td><td style=\"text-align: right;\">          102101</td><td style=\"text-align: right;\">      2.20868e+06</td><td style=\"text-align: right;\">               102101</td><td style=\"text-align: right;\">                  -10</td><td style=\"text-align: right;\">                   12</td><td style=\"text-align: right;\">                          12</td><td style=\"text-align: right;\">            0</td><td style=\"text-align: right;\">                0</td><td style=\"text-align: right;\">              278352</td><td style=\"text-align: right;\">                   278643</td><td style=\"text-align: right;\">        5.8295e+06 </td><td style=\"text-align: right;\">             -1816</td><td style=\"text-align: right;\">                        0</td><td style=\"text-align: right;\">                     -1261</td><td style=\"text-align: right;\">                   -1447</td><td style=\"text-align: right;\">                          0  </td><td style=\"text-align: right;\">                        0</td><td style=\"text-align: right;\">              39721.5</td><td style=\"text-align: right;\">                       0  </td><td style=\"text-align: right;\">                          0</td><td style=\"text-align: right;\">                            0</td><td style=\"text-align: right;\">                    -1051</td><td style=\"text-align: right;\">                 0</td><td style=\"text-align: right;\">              278554</td><td style=\"text-align: right;\">                   278496</td><td style=\"text-align: right;\">        5.8878e+06 </td><td style=\"text-align: right;\">              -299</td><td style=\"text-align: right;\">                        0</td><td style=\"text-align: right;\">                       914</td><td style=\"text-align: right;\">                    -344</td><td style=\"text-align: right;\">                          0  </td><td style=\"text-align: right;\">                        0</td><td style=\"text-align: right;\">     450000          </td><td style=\"text-align: right;\">          151020          </td><td style=\"text-align: right;\">                          0</td><td style=\"text-align: right;\">                            0</td><td style=\"text-align: right;\">                      -19</td><td style=\"text-align: right;\">             12510</td></tr>\n",
       "<tr><td style=\"text-align: right;\">      102190</td><td style=\"text-align: right;\">       0</td><td>Cash loans          </td><td>M            </td><td>Y             </td><td>N                </td><td style=\"text-align: right;\">             0</td><td style=\"text-align: right;\">            166500</td><td style=\"text-align: right;\">      497520</td><td style=\"text-align: right;\">      33376.5</td><td style=\"text-align: right;\">           450000</td><td>Unaccompanied    </td><td>State servant       </td><td>Secondary / secondary special</td><td>Civil marriage      </td><td>House / apartment  </td><td style=\"text-align: right;\">                    0.010276</td><td style=\"text-align: right;\">      -14009</td><td style=\"text-align: right;\">          -1189</td><td style=\"text-align: right;\">              -2313</td><td style=\"text-align: right;\">            -4438</td><td style=\"text-align: right;\">           10</td><td style=\"text-align: right;\">           1</td><td style=\"text-align: right;\">               1</td><td style=\"text-align: right;\">                0</td><td style=\"text-align: right;\">                 1</td><td style=\"text-align: right;\">           0</td><td style=\"text-align: right;\">           0</td><td>Drivers          </td><td style=\"text-align: right;\">                2</td><td style=\"text-align: right;\">                     2</td><td style=\"text-align: right;\">                            2</td><td>THURSDAY                    </td><td style=\"text-align: right;\">                       14</td><td style=\"text-align: right;\">                           0</td><td style=\"text-align: right;\">                           0</td><td style=\"text-align: right;\">                            0</td><td style=\"text-align: right;\">                       1</td><td style=\"text-align: right;\">                       1</td><td style=\"text-align: right;\">                        0</td><td>Business Entity Type 1</td><td style=\"text-align: right;\">      0.507542</td><td style=\"text-align: right;\">      0.630439</td><td style=\"text-align: right;\">      0.524496</td><td style=\"text-align: right;\">          0.0876</td><td style=\"text-align: right;\">            0.0764</td><td style=\"text-align: right;\">                       0.9821</td><td style=\"text-align: right;\">           0.7552</td><td style=\"text-align: right;\">          0.0212</td><td style=\"text-align: right;\">           0   </td><td style=\"text-align: right;\">         0.1379</td><td style=\"text-align: right;\">         0.1667</td><td style=\"text-align: right;\">         0.2083</td><td style=\"text-align: right;\">        0.0482</td><td style=\"text-align: right;\">                0.0756</td><td style=\"text-align: right;\">          0.0746</td><td style=\"text-align: right;\">                        0</td><td style=\"text-align: right;\">             0.0036</td><td style=\"text-align: right;\">           0.084 </td><td style=\"text-align: right;\">             0.0748</td><td style=\"text-align: right;\">                        0.9816</td><td style=\"text-align: right;\">            0.7648</td><td style=\"text-align: right;\">           0.0191</td><td style=\"text-align: right;\">          0     </td><td style=\"text-align: right;\">          0.1379</td><td style=\"text-align: right;\">          0.1667</td><td style=\"text-align: right;\">          0.2083</td><td style=\"text-align: right;\">         0.046 </td><td style=\"text-align: right;\">                 0.0771</td><td style=\"text-align: right;\">           0.0732</td><td style=\"text-align: right;\">                         0</td><td style=\"text-align: right;\">              0.0012</td><td style=\"text-align: right;\">           0.0874</td><td style=\"text-align: right;\">             0.076 </td><td style=\"text-align: right;\">                        0.9821</td><td style=\"text-align: right;\">            0.7585</td><td style=\"text-align: right;\">           0.021 </td><td style=\"text-align: right;\">            0   </td><td style=\"text-align: right;\">          0.1379</td><td style=\"text-align: right;\">          0.1667</td><td style=\"text-align: right;\">          0.2083</td><td style=\"text-align: right;\">         0.0488</td><td style=\"text-align: right;\">                 0.0765</td><td style=\"text-align: right;\">           0.0752</td><td style=\"text-align: right;\">                         0</td><td style=\"text-align: right;\">              0.0031</td><td>                    </td><td>                </td><td style=\"text-align: right;\">          0.069 </td><td>                    </td><td>                     </td><td style=\"text-align: right;\">                         0</td><td style=\"text-align: right;\">                         0</td><td style=\"text-align: right;\">                         0</td><td style=\"text-align: right;\">                         0</td><td style=\"text-align: right;\">                       0</td><td style=\"text-align: right;\">                0</td><td style=\"text-align: right;\">                1</td><td style=\"text-align: right;\">                0</td><td style=\"text-align: right;\">                0</td><td style=\"text-align: right;\">                0</td><td style=\"text-align: right;\">                0</td><td style=\"text-align: right;\">                0</td><td style=\"text-align: right;\">                0</td><td style=\"text-align: right;\">                 0</td><td style=\"text-align: right;\">                 0</td><td style=\"text-align: right;\">                 0</td><td style=\"text-align: right;\">                 0</td><td style=\"text-align: right;\">                 0</td><td style=\"text-align: right;\">                 0</td><td style=\"text-align: right;\">                 0</td><td style=\"text-align: right;\">                 0</td><td style=\"text-align: right;\">                 0</td><td style=\"text-align: right;\">                 0</td><td style=\"text-align: right;\">                 0</td><td style=\"text-align: right;\">                 0</td><td style=\"text-align: right;\">                           0</td><td style=\"text-align: right;\">                          0</td><td style=\"text-align: right;\">                           0</td><td style=\"text-align: right;\">                          0</td><td style=\"text-align: right;\">                          1</td><td style=\"text-align: right;\">                           3</td><td style=\"text-align: right;\">          102190</td><td style=\"text-align: right;\">      1.73028e+06</td><td style=\"text-align: right;\">               102190</td><td style=\"text-align: right;\">                  -63</td><td style=\"text-align: right;\">                   10</td><td style=\"text-align: right;\">                           0</td><td style=\"text-align: right;\">            0</td><td style=\"text-align: right;\">                0</td><td style=\"text-align: right;\">          102190</td><td style=\"text-align: right;\">      1.84039e+06</td><td style=\"text-align: right;\">               102190</td><td style=\"text-align: right;\">                  -10</td><td style=\"text-align: right;\">                   12</td><td style=\"text-align: right;\">                          12</td><td style=\"text-align: right;\">            0</td><td style=\"text-align: right;\">                0</td><td style=\"text-align: right;\">              102190</td><td style=\"text-align: right;\">                   102190</td><td style=\"text-align: right;\">        5.76280e+06</td><td style=\"text-align: right;\">              -868</td><td style=\"text-align: right;\">                        0</td><td style=\"text-align: right;\">                      -658</td><td style=\"text-align: right;\">                    -686</td><td style=\"text-align: right;\">                          0  </td><td style=\"text-align: right;\">                        0</td><td style=\"text-align: right;\">              40324  </td><td style=\"text-align: right;\">                       0  </td><td style=\"text-align: right;\">                          0</td><td style=\"text-align: right;\">                            0</td><td style=\"text-align: right;\">                     -686</td><td style=\"text-align: right;\">                 0</td><td style=\"text-align: right;\">              102190</td><td style=\"text-align: right;\">                   102190</td><td style=\"text-align: right;\">        5.76281e+06</td><td style=\"text-align: right;\">              -309</td><td style=\"text-align: right;\">                        0</td><td style=\"text-align: right;\">                       959</td><td style=\"text-align: right;\">                    -686</td><td style=\"text-align: right;\">                          0  </td><td style=\"text-align: right;\">                        0</td><td style=\"text-align: right;\">     855000          </td><td style=\"text-align: right;\">          572562          </td><td style=\"text-align: right;\">                          0</td><td style=\"text-align: right;\">                            0</td><td style=\"text-align: right;\">                      -56</td><td style=\"text-align: right;\">             12510</td></tr>\n",
       "<tr><td style=\"text-align: right;\">      102331</td><td style=\"text-align: right;\">       0</td><td>Revolving loans     </td><td>F            </td><td>N             </td><td>N                </td><td style=\"text-align: right;\">             1</td><td style=\"text-align: right;\">             54000</td><td style=\"text-align: right;\">      180000</td><td style=\"text-align: right;\">       9000  </td><td style=\"text-align: right;\">           180000</td><td>Unaccompanied    </td><td>Working             </td><td>Secondary / secondary special</td><td>Married             </td><td>House / apartment  </td><td style=\"text-align: right;\">                    0.00963 </td><td style=\"text-align: right;\">      -11833</td><td style=\"text-align: right;\">          -2308</td><td style=\"text-align: right;\">              -4760</td><td style=\"text-align: right;\">            -3607</td><td style=\"text-align: right;\">            9</td><td style=\"text-align: right;\">           1</td><td style=\"text-align: right;\">               1</td><td style=\"text-align: right;\">                1</td><td style=\"text-align: right;\">                 1</td><td style=\"text-align: right;\">           1</td><td style=\"text-align: right;\">           0</td><td>                 </td><td style=\"text-align: right;\">                3</td><td style=\"text-align: right;\">                     2</td><td style=\"text-align: right;\">                            2</td><td>FRIDAY                      </td><td style=\"text-align: right;\">                       15</td><td style=\"text-align: right;\">                           0</td><td style=\"text-align: right;\">                           0</td><td style=\"text-align: right;\">                            0</td><td style=\"text-align: right;\">                       0</td><td style=\"text-align: right;\">                       0</td><td style=\"text-align: right;\">                        0</td><td>Kindergarten          </td><td style=\"text-align: right;\">      0.201917</td><td style=\"text-align: right;\">      0.125555</td><td style=\"text-align: right;\">      0.384207</td><td style=\"text-align: right;\">          0.0289</td><td style=\"text-align: right;\">            0.0764</td><td style=\"text-align: right;\">                       0.9762</td><td style=\"text-align: right;\">           0.7552</td><td style=\"text-align: right;\">          0.0212</td><td style=\"text-align: right;\">           0   </td><td style=\"text-align: right;\">         0.069 </td><td style=\"text-align: right;\">         0.125 </td><td style=\"text-align: right;\">         0.2083</td><td style=\"text-align: right;\">        0.0179</td><td style=\"text-align: right;\">                0.0756</td><td style=\"text-align: right;\">          0.0205</td><td style=\"text-align: right;\">                        0</td><td style=\"text-align: right;\">             0.018 </td><td style=\"text-align: right;\">           0.0294</td><td style=\"text-align: right;\">             0.0748</td><td style=\"text-align: right;\">                        0.9762</td><td style=\"text-align: right;\">            0.7648</td><td style=\"text-align: right;\">           0.0191</td><td style=\"text-align: right;\">          0     </td><td style=\"text-align: right;\">          0.069 </td><td style=\"text-align: right;\">          0.125 </td><td style=\"text-align: right;\">          0.2083</td><td style=\"text-align: right;\">         0.0183</td><td style=\"text-align: right;\">                 0.0771</td><td style=\"text-align: right;\">           0.0214</td><td style=\"text-align: right;\">                         0</td><td style=\"text-align: right;\">              0.019 </td><td style=\"text-align: right;\">           0.0291</td><td style=\"text-align: right;\">             0.076 </td><td style=\"text-align: right;\">                        0.9762</td><td style=\"text-align: right;\">            0.7585</td><td style=\"text-align: right;\">           0.021 </td><td style=\"text-align: right;\">            0   </td><td style=\"text-align: right;\">          0.069 </td><td style=\"text-align: right;\">          0.125 </td><td style=\"text-align: right;\">          0.2083</td><td style=\"text-align: right;\">         0.0182</td><td style=\"text-align: right;\">                 0.0765</td><td style=\"text-align: right;\">           0.0209</td><td style=\"text-align: right;\">                         0</td><td style=\"text-align: right;\">              0.0183</td><td>                    </td><td>block of flats  </td><td style=\"text-align: right;\">          0.02  </td><td>Stone, brick        </td><td>No                   </td><td style=\"text-align: right;\">                         0</td><td style=\"text-align: right;\">                         0</td><td style=\"text-align: right;\">                         0</td><td style=\"text-align: right;\">                         0</td><td style=\"text-align: right;\">                   -1683</td><td style=\"text-align: right;\">                0</td><td style=\"text-align: right;\">                0</td><td style=\"text-align: right;\">                0</td><td style=\"text-align: right;\">                0</td><td style=\"text-align: right;\">                0</td><td style=\"text-align: right;\">                0</td><td style=\"text-align: right;\">                0</td><td style=\"text-align: right;\">                0</td><td style=\"text-align: right;\">                 0</td><td style=\"text-align: right;\">                 0</td><td style=\"text-align: right;\">                 0</td><td style=\"text-align: right;\">                 0</td><td style=\"text-align: right;\">                 0</td><td style=\"text-align: right;\">                 0</td><td style=\"text-align: right;\">                 0</td><td style=\"text-align: right;\">                 0</td><td style=\"text-align: right;\">                 0</td><td style=\"text-align: right;\">                 0</td><td style=\"text-align: right;\">                 0</td><td style=\"text-align: right;\">                 0</td><td style=\"text-align: right;\">                           0</td><td style=\"text-align: right;\">                          0</td><td style=\"text-align: right;\">                           0</td><td style=\"text-align: right;\">                          0</td><td style=\"text-align: right;\">                          0</td><td style=\"text-align: right;\">                           0</td><td style=\"text-align: right;\">          102331</td><td style=\"text-align: right;\">      1.05305e+06</td><td style=\"text-align: right;\">               102331</td><td style=\"text-align: right;\">                  -55</td><td style=\"text-align: right;\">                    6</td><td style=\"text-align: right;\">                           0</td><td style=\"text-align: right;\">            0</td><td style=\"text-align: right;\">                0</td><td style=\"text-align: right;\">          102331</td><td style=\"text-align: right;\">      1.9758e+06 </td><td style=\"text-align: right;\">               102331</td><td style=\"text-align: right;\">                  -19</td><td style=\"text-align: right;\">                   36</td><td style=\"text-align: right;\">                          36</td><td style=\"text-align: right;\">            0</td><td style=\"text-align: right;\">                0</td><td style=\"text-align: right;\">              102331</td><td style=\"text-align: right;\">                   102331</td><td style=\"text-align: right;\">        6.81298e+06</td><td style=\"text-align: right;\">             -1655</td><td style=\"text-align: right;\">                        0</td><td style=\"text-align: right;\">                     -1351</td><td style=\"text-align: right;\">                    -956</td><td style=\"text-align: right;\">                          0  </td><td style=\"text-align: right;\">                        0</td><td style=\"text-align: right;\">              22500  </td><td style=\"text-align: right;\">                       0  </td><td style=\"text-align: right;\">                          0</td><td style=\"text-align: right;\">                            0</td><td style=\"text-align: right;\">                     -953</td><td style=\"text-align: right;\">                 0</td><td style=\"text-align: right;\">              102331</td><td style=\"text-align: right;\">                   102331</td><td style=\"text-align: right;\">        6.81298e+06</td><td style=\"text-align: right;\">                -4</td><td style=\"text-align: right;\">                        0</td><td style=\"text-align: right;\">                     -1123</td><td style=\"text-align: right;\">                    -956</td><td style=\"text-align: right;\">                          0  </td><td style=\"text-align: right;\">                        0</td><td style=\"text-align: right;\">     120438          </td><td style=\"text-align: right;\">               0          </td><td style=\"text-align: right;\">                          0</td><td style=\"text-align: right;\">                            0</td><td style=\"text-align: right;\">                       -2</td><td style=\"text-align: right;\">             12510</td></tr>\n",
       "</tbody>\n",
       "</table>"
      ]
     },
     "metadata": {},
     "output_type": "display_data"
    },
    {
     "data": {
      "text/plain": []
     },
     "execution_count": 19,
     "metadata": {},
     "output_type": "execute_result"
    }
   ],
   "source": [
    "df_train.head()"
   ]
  },
  {
   "cell_type": "markdown",
   "metadata": {},
   "source": [
    "Select predictors:"
   ]
  },
  {
   "cell_type": "code",
   "execution_count": 20,
   "metadata": {},
   "outputs": [],
   "source": [
    "notFeatures = ['TARGET', 'SK_ID_CURR', 'SK_ID_CURR_MIN', 'SK_ID_CURR_MAX', 'SK_ID_CURR_BUR_MIN', 'SK_ID_CURR_BUR_MAX']\n",
    "predictors = df_train.drop(notFeatures).names"
   ]
  },
  {
   "cell_type": "markdown",
   "metadata": {},
   "source": [
    "Nominal target"
   ]
  },
  {
   "cell_type": "code",
   "execution_count": 21,
   "metadata": {},
   "outputs": [],
   "source": [
    "df_train[\"TARGET\"] = df_train[\"TARGET\"].asfactor()"
   ]
  },
  {
   "cell_type": "markdown",
   "metadata": {},
   "source": [
    "## Gradient Boosting"
   ]
  },
  {
   "cell_type": "code",
   "execution_count": 22,
   "metadata": {},
   "outputs": [
    {
     "name": "stdout",
     "output_type": "stream",
     "text": [
      "gbm Model Build progress: |███████████████████████████████████████████████| 100%\n"
     ]
    }
   ],
   "source": [
    "from h2o.estimators import H2OGradientBoostingEstimator\n",
    "\n",
    "gbm_model = H2OGradientBoostingEstimator(stopping_metric=\"logloss\",\n",
    "                                         stopping_rounds= 5,  # early stopping\n",
    "                                         score_tree_interval=5,\n",
    "                                         ntrees=40,\n",
    "                                         model_id=\"gbm\",\n",
    "                                         nfolds=5,\n",
    "                                         seed=25,\n",
    "                                         fold_assignment='stratified')\n",
    "gbm_model.train(\n",
    "    x = predictors,\n",
    "    y = \"TARGET\",\n",
    "    training_frame = df_train\n",
    ")"
   ]
  },
  {
   "cell_type": "markdown",
   "metadata": {},
   "source": [
    "## Auto ML"
   ]
  },
  {
   "cell_type": "code",
   "execution_count": 23,
   "metadata": {},
   "outputs": [
    {
     "name": "stdout",
     "output_type": "stream",
     "text": [
      "AutoML progress: |████████████████████████████████████████████████████████| 100%\n",
      "Parse progress: |█████████████████████████████████████████████████████████| 100%\n"
     ]
    }
   ],
   "source": [
    "from h2o.automl import H2OAutoML\n",
    "\n",
    "aml = H2OAutoML(max_models=3, seed=42)\n",
    "aml.train(\n",
    "    x=predictors, \n",
    "    y='TARGET', \n",
    "    training_frame = df_train\n",
    ")"
   ]
  },
  {
   "cell_type": "markdown",
   "metadata": {},
   "source": [
    "# Evaluation"
   ]
  },
  {
   "cell_type": "markdown",
   "metadata": {},
   "source": [
    "The performance of models."
   ]
  },
  {
   "cell_type": "markdown",
   "metadata": {},
   "source": [
    "## Gradient Boosting"
   ]
  },
  {
   "cell_type": "code",
   "execution_count": 24,
   "metadata": {},
   "outputs": [
    {
     "name": "stdout",
     "output_type": "stream",
     "text": [
      "Model Details\n",
      "=============\n",
      "H2OGradientBoostingEstimator :  Gradient Boosting Machine\n",
      "Model Key:  gbm\n",
      "\n",
      "\n",
      "ModelMetricsBinomial: gbm\n",
      "** Reported on train data. **\n",
      "\n",
      "MSE: 0.06683380015571444\n",
      "RMSE: 0.25852233976141104\n",
      "LogLoss: 0.24333605992109617\n",
      "Mean Per-Class Error: 0.3006414532341276\n",
      "AUC: 0.7703138475273442\n",
      "Gini: 0.5406276950546884\n",
      "Confusion Matrix (Act/Pred) for max f1 @ threshold = 0.14960663284347686: \n"
     ]
    },
    {
     "data": {
      "text/html": [
       "<div style=\"overflow:auto\"><table style=\"width:50%\"><tr><td><b></b></td>\n",
       "<td><b>0</b></td>\n",
       "<td><b>1</b></td>\n",
       "<td><b>Error</b></td>\n",
       "<td><b>Rate</b></td></tr>\n",
       "<tr><td>0</td>\n",
       "<td>256023.0</td>\n",
       "<td>26663.0</td>\n",
       "<td>0.0943</td>\n",
       "<td> (26663.0/282686.0)</td></tr>\n",
       "<tr><td>1</td>\n",
       "<td>14873.0</td>\n",
       "<td>9952.0</td>\n",
       "<td>0.5991</td>\n",
       "<td> (14873.0/24825.0)</td></tr>\n",
       "<tr><td>Total</td>\n",
       "<td>270896.0</td>\n",
       "<td>36615.0</td>\n",
       "<td>0.1351</td>\n",
       "<td> (41536.0/307511.0)</td></tr></table></div>"
      ],
      "text/plain": [
       "       0       1      Error    Rate\n",
       "-----  ------  -----  -------  ------------------\n",
       "0      256023  26663  0.0943   (26663.0/282686.0)\n",
       "1      14873   9952   0.5991   (14873.0/24825.0)\n",
       "Total  270896  36615  0.1351   (41536.0/307511.0)"
      ]
     },
     "metadata": {},
     "output_type": "display_data"
    },
    {
     "name": "stdout",
     "output_type": "stream",
     "text": [
      "Maximum Metrics: Maximum metrics at their respective thresholds\n",
      "\n"
     ]
    },
    {
     "data": {
      "text/html": [
       "<div style=\"overflow:auto\"><table style=\"width:50%\"><tr><td><b>metric</b></td>\n",
       "<td><b>threshold</b></td>\n",
       "<td><b>value</b></td>\n",
       "<td><b>idx</b></td></tr>\n",
       "<tr><td>max f1</td>\n",
       "<td>0.1496066</td>\n",
       "<td>0.3239583</td>\n",
       "<td>197.0</td></tr>\n",
       "<tr><td>max f2</td>\n",
       "<td>0.0856367</td>\n",
       "<td>0.4316295</td>\n",
       "<td>272.0</td></tr>\n",
       "<tr><td>max f0point5</td>\n",
       "<td>0.2136757</td>\n",
       "<td>0.3273459</td>\n",
       "<td>145.0</td></tr>\n",
       "<tr><td>max accuracy</td>\n",
       "<td>0.3954076</td>\n",
       "<td>0.9208809</td>\n",
       "<td>58.0</td></tr>\n",
       "<tr><td>max precision</td>\n",
       "<td>0.8277505</td>\n",
       "<td>1.0</td>\n",
       "<td>0.0</td></tr>\n",
       "<tr><td>max recall</td>\n",
       "<td>0.0180957</td>\n",
       "<td>1.0</td>\n",
       "<td>398.0</td></tr>\n",
       "<tr><td>max specificity</td>\n",
       "<td>0.8277505</td>\n",
       "<td>1.0</td>\n",
       "<td>0.0</td></tr>\n",
       "<tr><td>max absolute_mcc</td>\n",
       "<td>0.1496066</td>\n",
       "<td>0.2578635</td>\n",
       "<td>197.0</td></tr>\n",
       "<tr><td>max min_per_class_accuracy</td>\n",
       "<td>0.0801262</td>\n",
       "<td>0.6986692</td>\n",
       "<td>280.0</td></tr>\n",
       "<tr><td>max mean_per_class_accuracy</td>\n",
       "<td>0.0835387</td>\n",
       "<td>0.6993585</td>\n",
       "<td>275.0</td></tr></table></div>"
      ],
      "text/plain": [
       "metric                       threshold    value     idx\n",
       "---------------------------  -----------  --------  -----\n",
       "max f1                       0.149607     0.323958  197\n",
       "max f2                       0.0856367    0.431629  272\n",
       "max f0point5                 0.213676     0.327346  145\n",
       "max accuracy                 0.395408     0.920881  58\n",
       "max precision                0.827751     1         0\n",
       "max recall                   0.0180957    1         398\n",
       "max specificity              0.827751     1         0\n",
       "max absolute_mcc             0.149607     0.257864  197\n",
       "max min_per_class_accuracy   0.0801262    0.698669  280\n",
       "max mean_per_class_accuracy  0.0835387    0.699359  275"
      ]
     },
     "metadata": {},
     "output_type": "display_data"
    },
    {
     "name": "stdout",
     "output_type": "stream",
     "text": [
      "Gains/Lift Table: Avg response rate:  8.07 %\n",
      "\n"
     ]
    },
    {
     "data": {
      "text/html": [
       "<div style=\"overflow:auto\"><table style=\"width:50%\"><tr><td><b></b></td>\n",
       "<td><b>group</b></td>\n",
       "<td><b>cumulative_data_fraction</b></td>\n",
       "<td><b>lower_threshold</b></td>\n",
       "<td><b>lift</b></td>\n",
       "<td><b>cumulative_lift</b></td>\n",
       "<td><b>response_rate</b></td>\n",
       "<td><b>cumulative_response_rate</b></td>\n",
       "<td><b>capture_rate</b></td>\n",
       "<td><b>cumulative_capture_rate</b></td>\n",
       "<td><b>gain</b></td>\n",
       "<td><b>cumulative_gain</b></td></tr>\n",
       "<tr><td></td>\n",
       "<td>1</td>\n",
       "<td>0.0100029</td>\n",
       "<td>0.3499006</td>\n",
       "<td>7.0593869</td>\n",
       "<td>7.0593869</td>\n",
       "<td>0.5698960</td>\n",
       "<td>0.5698960</td>\n",
       "<td>0.0706143</td>\n",
       "<td>0.0706143</td>\n",
       "<td>605.9386879</td>\n",
       "<td>605.9386879</td></tr>\n",
       "<tr><td></td>\n",
       "<td>2</td>\n",
       "<td>0.0200025</td>\n",
       "<td>0.2934035</td>\n",
       "<td>4.8904066</td>\n",
       "<td>5.9750730</td>\n",
       "<td>0.3947967</td>\n",
       "<td>0.4823606</td>\n",
       "<td>0.0489023</td>\n",
       "<td>0.1195166</td>\n",
       "<td>389.0406556</td>\n",
       "<td>497.5073029</td></tr>\n",
       "<tr><td></td>\n",
       "<td>3</td>\n",
       "<td>0.0300022</td>\n",
       "<td>0.2607298</td>\n",
       "<td>3.9034629</td>\n",
       "<td>5.2846112</td>\n",
       "<td>0.3151220</td>\n",
       "<td>0.4266204</td>\n",
       "<td>0.0390332</td>\n",
       "<td>0.1585498</td>\n",
       "<td>290.3462894</td>\n",
       "<td>428.4611164</td></tr>\n",
       "<tr><td></td>\n",
       "<td>4</td>\n",
       "<td>0.0400018</td>\n",
       "<td>0.2371098</td>\n",
       "<td>3.6013373</td>\n",
       "<td>4.8638269</td>\n",
       "<td>0.2907317</td>\n",
       "<td>0.3926510</td>\n",
       "<td>0.0360121</td>\n",
       "<td>0.1945619</td>\n",
       "<td>260.1337283</td>\n",
       "<td>386.3826904</td></tr>\n",
       "<tr><td></td>\n",
       "<td>5</td>\n",
       "<td>0.0500015</td>\n",
       "<td>0.2186717</td>\n",
       "<td>3.1985031</td>\n",
       "<td>4.5307838</td>\n",
       "<td>0.2582114</td>\n",
       "<td>0.3657648</td>\n",
       "<td>0.0319839</td>\n",
       "<td>0.2265458</td>\n",
       "<td>219.8503135</td>\n",
       "<td>353.0783811</td></tr>\n",
       "<tr><td></td>\n",
       "<td>6</td>\n",
       "<td>0.1000029</td>\n",
       "<td>0.1624727</td>\n",
       "<td>2.6182517</td>\n",
       "<td>3.5745177</td>\n",
       "<td>0.2113684</td>\n",
       "<td>0.2885666</td>\n",
       "<td>0.1309164</td>\n",
       "<td>0.3574622</td>\n",
       "<td>161.8251669</td>\n",
       "<td>257.4517740</td></tr>\n",
       "<tr><td></td>\n",
       "<td>7</td>\n",
       "<td>0.1500011</td>\n",
       "<td>0.1317826</td>\n",
       "<td>2.0036971</td>\n",
       "<td>3.0509335</td>\n",
       "<td>0.1617561</td>\n",
       "<td>0.2462983</td>\n",
       "<td>0.1001813</td>\n",
       "<td>0.4576435</td>\n",
       "<td>100.3697052</td>\n",
       "<td>205.0933547</td></tr>\n",
       "<tr><td></td>\n",
       "<td>8</td>\n",
       "<td>0.2000026</td>\n",
       "<td>0.1119895</td>\n",
       "<td>1.5999532</td>\n",
       "<td>2.6881826</td>\n",
       "<td>0.1291623</td>\n",
       "<td>0.2170138</td>\n",
       "<td>0.08</td>\n",
       "<td>0.5376435</td>\n",
       "<td>59.9953174</td>\n",
       "<td>168.8182556</td></tr>\n",
       "<tr><td></td>\n",
       "<td>9</td>\n",
       "<td>0.3000023</td>\n",
       "<td>0.0861439</td>\n",
       "<td>1.2837907</td>\n",
       "<td>2.2200570</td>\n",
       "<td>0.1036389</td>\n",
       "<td>0.1792226</td>\n",
       "<td>0.1283787</td>\n",
       "<td>0.6660222</td>\n",
       "<td>28.3790680</td>\n",
       "<td>122.0057005</td></tr>\n",
       "<tr><td></td>\n",
       "<td>10</td>\n",
       "<td>0.4000020</td>\n",
       "<td>0.0694689</td>\n",
       "<td>0.9325307</td>\n",
       "<td>1.8981781</td>\n",
       "<td>0.0752821</td>\n",
       "<td>0.1532377</td>\n",
       "<td>0.0932528</td>\n",
       "<td>0.7592749</td>\n",
       "<td>-6.7469274</td>\n",
       "<td>89.8178052</td></tr>\n",
       "<tr><td></td>\n",
       "<td>11</td>\n",
       "<td>0.5000016</td>\n",
       "<td>0.0573996</td>\n",
       "<td>0.7331343</td>\n",
       "<td>1.6651708</td>\n",
       "<td>0.0591851</td>\n",
       "<td>0.1344273</td>\n",
       "<td>0.0733132</td>\n",
       "<td>0.8325881</td>\n",
       "<td>-26.6865692</td>\n",
       "<td>66.5170819</td></tr>\n",
       "<tr><td></td>\n",
       "<td>12</td>\n",
       "<td>0.6000013</td>\n",
       "<td>0.0483291</td>\n",
       "<td>0.5800623</td>\n",
       "<td>1.4843204</td>\n",
       "<td>0.0468277</td>\n",
       "<td>0.1198274</td>\n",
       "<td>0.0580060</td>\n",
       "<td>0.8905942</td>\n",
       "<td>-41.9937691</td>\n",
       "<td>48.4320381</td></tr>\n",
       "<tr><td></td>\n",
       "<td>13</td>\n",
       "<td>0.7000010</td>\n",
       "<td>0.0412053</td>\n",
       "<td>0.4165170</td>\n",
       "<td>1.3317777</td>\n",
       "<td>0.0336249</td>\n",
       "<td>0.1075128</td>\n",
       "<td>0.0416516</td>\n",
       "<td>0.9322457</td>\n",
       "<td>-58.3483036</td>\n",
       "<td>33.1777744</td></tr>\n",
       "<tr><td></td>\n",
       "<td>14</td>\n",
       "<td>0.8000007</td>\n",
       "<td>0.0351895</td>\n",
       "<td>0.3218540</td>\n",
       "<td>1.2055378</td>\n",
       "<td>0.0259829</td>\n",
       "<td>0.0973216</td>\n",
       "<td>0.0321853</td>\n",
       "<td>0.9644310</td>\n",
       "<td>-67.8145983</td>\n",
       "<td>20.5537791</td></tr>\n",
       "<tr><td></td>\n",
       "<td>15</td>\n",
       "<td>0.9000003</td>\n",
       "<td>0.0293236</td>\n",
       "<td>0.2388729</td>\n",
       "<td>1.0981310</td>\n",
       "<td>0.0192839</td>\n",
       "<td>0.0886508</td>\n",
       "<td>0.0238872</td>\n",
       "<td>0.9883182</td>\n",
       "<td>-76.1127118</td>\n",
       "<td>9.8130967</td></tr>\n",
       "<tr><td></td>\n",
       "<td>16</td>\n",
       "<td>1.0</td>\n",
       "<td>0.0132766</td>\n",
       "<td>0.1168181</td>\n",
       "<td>1.0</td>\n",
       "<td>0.0094306</td>\n",
       "<td>0.0807288</td>\n",
       "<td>0.0116818</td>\n",
       "<td>1.0</td>\n",
       "<td>-88.3181896</td>\n",
       "<td>0.0</td></tr></table></div>"
      ],
      "text/plain": [
       "    group    cumulative_data_fraction    lower_threshold    lift      cumulative_lift    response_rate    cumulative_response_rate    capture_rate    cumulative_capture_rate    gain      cumulative_gain\n",
       "--  -------  --------------------------  -----------------  --------  -----------------  ---------------  --------------------------  --------------  -------------------------  --------  -----------------\n",
       "    1        0.0100029                   0.349901           7.05939   7.05939            0.569896         0.569896                    0.0706143       0.0706143                  605.939   605.939\n",
       "    2        0.0200025                   0.293404           4.89041   5.97507            0.394797         0.482361                    0.0489023       0.119517                   389.041   497.507\n",
       "    3        0.0300022                   0.26073            3.90346   5.28461            0.315122         0.42662                     0.0390332       0.15855                    290.346   428.461\n",
       "    4        0.0400018                   0.23711            3.60134   4.86383            0.290732         0.392651                    0.0360121       0.194562                   260.134   386.383\n",
       "    5        0.0500015                   0.218672           3.1985    4.53078            0.258211         0.365765                    0.0319839       0.226546                   219.85    353.078\n",
       "    6        0.100003                    0.162473           2.61825   3.57452            0.211368         0.288567                    0.130916        0.357462                   161.825   257.452\n",
       "    7        0.150001                    0.131783           2.0037    3.05093            0.161756         0.246298                    0.100181        0.457644                   100.37    205.093\n",
       "    8        0.200003                    0.111989           1.59995   2.68818            0.129162         0.217014                    0.08            0.537644                   59.9953   168.818\n",
       "    9        0.300002                    0.0861439          1.28379   2.22006            0.103639         0.179223                    0.128379        0.666022                   28.3791   122.006\n",
       "    10       0.400002                    0.0694689          0.932531  1.89818            0.0752821        0.153238                    0.0932528       0.759275                   -6.74693  89.8178\n",
       "    11       0.500002                    0.0573996          0.733134  1.66517            0.0591851        0.134427                    0.0733132       0.832588                   -26.6866  66.5171\n",
       "    12       0.600001                    0.0483291          0.580062  1.48432            0.0468277        0.119827                    0.058006        0.890594                   -41.9938  48.432\n",
       "    13       0.700001                    0.0412053          0.416517  1.33178            0.0336249        0.107513                    0.0416516       0.932246                   -58.3483  33.1778\n",
       "    14       0.800001                    0.0351895          0.321854  1.20554            0.0259829        0.0973216                   0.0321853       0.964431                   -67.8146  20.5538\n",
       "    15       0.9                         0.0293236          0.238873  1.09813            0.0192839        0.0886508                   0.0238872       0.988318                   -76.1127  9.8131\n",
       "    16       1                           0.0132766          0.116818  1                  0.00943059       0.0807288                   0.0116818       1                          -88.3182  0"
      ]
     },
     "metadata": {},
     "output_type": "display_data"
    },
    {
     "name": "stdout",
     "output_type": "stream",
     "text": [
      "\n",
      "\n",
      "ModelMetricsBinomial: gbm\n",
      "** Reported on cross-validation data. **\n",
      "\n",
      "MSE: 0.06825048118219941\n",
      "RMSE: 0.26124793048405076\n",
      "LogLoss: 0.2486340757271487\n",
      "Mean Per-Class Error: 0.3113252674767535\n",
      "AUC: 0.7532525068345415\n",
      "Gini: 0.506505013669083\n",
      "Confusion Matrix (Act/Pred) for max f1 @ threshold = 0.12971962254673425: \n"
     ]
    },
    {
     "data": {
      "text/html": [
       "<div style=\"overflow:auto\"><table style=\"width:50%\"><tr><td><b></b></td>\n",
       "<td><b>0</b></td>\n",
       "<td><b>1</b></td>\n",
       "<td><b>Error</b></td>\n",
       "<td><b>Rate</b></td></tr>\n",
       "<tr><td>0</td>\n",
       "<td>245421.0</td>\n",
       "<td>37265.0</td>\n",
       "<td>0.1318</td>\n",
       "<td> (37265.0/282686.0)</td></tr>\n",
       "<tr><td>1</td>\n",
       "<td>13851.0</td>\n",
       "<td>10974.0</td>\n",
       "<td>0.5579</td>\n",
       "<td> (13851.0/24825.0)</td></tr>\n",
       "<tr><td>Total</td>\n",
       "<td>259272.0</td>\n",
       "<td>48239.0</td>\n",
       "<td>0.1662</td>\n",
       "<td> (51116.0/307511.0)</td></tr></table></div>"
      ],
      "text/plain": [
       "       0       1      Error    Rate\n",
       "-----  ------  -----  -------  ------------------\n",
       "0      245421  37265  0.1318   (37265.0/282686.0)\n",
       "1      13851   10974  0.5579   (13851.0/24825.0)\n",
       "Total  259272  48239  0.1662   (51116.0/307511.0)"
      ]
     },
     "metadata": {},
     "output_type": "display_data"
    },
    {
     "name": "stdout",
     "output_type": "stream",
     "text": [
      "Maximum Metrics: Maximum metrics at their respective thresholds\n",
      "\n"
     ]
    },
    {
     "data": {
      "text/html": [
       "<div style=\"overflow:auto\"><table style=\"width:50%\"><tr><td><b>metric</b></td>\n",
       "<td><b>threshold</b></td>\n",
       "<td><b>value</b></td>\n",
       "<td><b>idx</b></td></tr>\n",
       "<tr><td>max f1</td>\n",
       "<td>0.1297196</td>\n",
       "<td>0.3003942</td>\n",
       "<td>217.0</td></tr>\n",
       "<tr><td>max f2</td>\n",
       "<td>0.0811757</td>\n",
       "<td>0.4179791</td>\n",
       "<td>279.0</td></tr>\n",
       "<tr><td>max f0point5</td>\n",
       "<td>0.2169724</td>\n",
       "<td>0.2908701</td>\n",
       "<td>141.0</td></tr>\n",
       "<tr><td>max accuracy</td>\n",
       "<td>0.4595633</td>\n",
       "<td>0.9195606</td>\n",
       "<td>36.0</td></tr>\n",
       "<tr><td>max precision</td>\n",
       "<td>0.7552948</td>\n",
       "<td>1.0</td>\n",
       "<td>0.0</td></tr>\n",
       "<tr><td>max recall</td>\n",
       "<td>0.0164276</td>\n",
       "<td>1.0</td>\n",
       "<td>399.0</td></tr>\n",
       "<tr><td>max specificity</td>\n",
       "<td>0.7552948</td>\n",
       "<td>1.0</td>\n",
       "<td>0.0</td></tr>\n",
       "<tr><td>max absolute_mcc</td>\n",
       "<td>0.1284970</td>\n",
       "<td>0.2324021</td>\n",
       "<td>218.0</td></tr>\n",
       "<tr><td>max min_per_class_accuracy</td>\n",
       "<td>0.0787762</td>\n",
       "<td>0.6858409</td>\n",
       "<td>283.0</td></tr>\n",
       "<tr><td>max mean_per_class_accuracy</td>\n",
       "<td>0.0764410</td>\n",
       "<td>0.6886747</td>\n",
       "<td>286.0</td></tr></table></div>"
      ],
      "text/plain": [
       "metric                       threshold    value     idx\n",
       "---------------------------  -----------  --------  -----\n",
       "max f1                       0.12972      0.300394  217\n",
       "max f2                       0.0811757    0.417979  279\n",
       "max f0point5                 0.216972     0.29087   141\n",
       "max accuracy                 0.459563     0.919561  36\n",
       "max precision                0.755295     1         0\n",
       "max recall                   0.0164276    1         399\n",
       "max specificity              0.755295     1         0\n",
       "max absolute_mcc             0.128497     0.232402  218\n",
       "max min_per_class_accuracy   0.0787762    0.685841  283\n",
       "max mean_per_class_accuracy  0.076441     0.688675  286"
      ]
     },
     "metadata": {},
     "output_type": "display_data"
    },
    {
     "name": "stdout",
     "output_type": "stream",
     "text": [
      "Gains/Lift Table: Avg response rate:  8.07 %\n",
      "\n"
     ]
    },
    {
     "data": {
      "text/html": [
       "<div style=\"overflow:auto\"><table style=\"width:50%\"><tr><td><b></b></td>\n",
       "<td><b>group</b></td>\n",
       "<td><b>cumulative_data_fraction</b></td>\n",
       "<td><b>lower_threshold</b></td>\n",
       "<td><b>lift</b></td>\n",
       "<td><b>cumulative_lift</b></td>\n",
       "<td><b>response_rate</b></td>\n",
       "<td><b>cumulative_response_rate</b></td>\n",
       "<td><b>capture_rate</b></td>\n",
       "<td><b>cumulative_capture_rate</b></td>\n",
       "<td><b>gain</b></td>\n",
       "<td><b>cumulative_gain</b></td></tr>\n",
       "<tr><td></td>\n",
       "<td>1</td>\n",
       "<td>0.0100029</td>\n",
       "<td>0.3466109</td>\n",
       "<td>5.6297906</td>\n",
       "<td>5.6297906</td>\n",
       "<td>0.4544863</td>\n",
       "<td>0.4544863</td>\n",
       "<td>0.0563142</td>\n",
       "<td>0.0563142</td>\n",
       "<td>462.9790563</td>\n",
       "<td>462.9790563</td></tr>\n",
       "<tr><td></td>\n",
       "<td>2</td>\n",
       "<td>0.0200025</td>\n",
       "<td>0.2917660</td>\n",
       "<td>4.3707505</td>\n",
       "<td>5.0003729</td>\n",
       "<td>0.3528455</td>\n",
       "<td>0.4036742</td>\n",
       "<td>0.0437059</td>\n",
       "<td>0.1000201</td>\n",
       "<td>337.0750506</td>\n",
       "<td>400.0372878</td></tr>\n",
       "<tr><td></td>\n",
       "<td>3</td>\n",
       "<td>0.0300022</td>\n",
       "<td>0.2597636</td>\n",
       "<td>3.7020458</td>\n",
       "<td>4.5676441</td>\n",
       "<td>0.2988618</td>\n",
       "<td>0.3687405</td>\n",
       "<td>0.0370191</td>\n",
       "<td>0.1370393</td>\n",
       "<td>270.2045820</td>\n",
       "<td>356.7644101</td></tr>\n",
       "<tr><td></td>\n",
       "<td>4</td>\n",
       "<td>0.0400018</td>\n",
       "<td>0.2370853</td>\n",
       "<td>3.4079769</td>\n",
       "<td>4.2777509</td>\n",
       "<td>0.2751220</td>\n",
       "<td>0.3453378</td>\n",
       "<td>0.0340785</td>\n",
       "<td>0.1711178</td>\n",
       "<td>240.7976892</td>\n",
       "<td>327.7750867</td></tr>\n",
       "<tr><td></td>\n",
       "<td>5</td>\n",
       "<td>0.0500015</td>\n",
       "<td>0.2191290</td>\n",
       "<td>3.0897379</td>\n",
       "<td>4.0401637</td>\n",
       "<td>0.2494309</td>\n",
       "<td>0.3261576</td>\n",
       "<td>0.0308963</td>\n",
       "<td>0.2020141</td>\n",
       "<td>208.9737915</td>\n",
       "<td>304.0163729</td></tr>\n",
       "<tr><td></td>\n",
       "<td>6</td>\n",
       "<td>0.1000029</td>\n",
       "<td>0.1630660</td>\n",
       "<td>2.5699147</td>\n",
       "<td>3.3050392</td>\n",
       "<td>0.2074662</td>\n",
       "<td>0.2668119</td>\n",
       "<td>0.1284995</td>\n",
       "<td>0.3305136</td>\n",
       "<td>156.9914715</td>\n",
       "<td>230.5039222</td></tr>\n",
       "<tr><td></td>\n",
       "<td>7</td>\n",
       "<td>0.1500011</td>\n",
       "<td>0.1323325</td>\n",
       "<td>1.9682476</td>\n",
       "<td>2.8594614</td>\n",
       "<td>0.1588943</td>\n",
       "<td>0.2308409</td>\n",
       "<td>0.0984089</td>\n",
       "<td>0.4289225</td>\n",
       "<td>96.8247647</td>\n",
       "<td>185.9461351</td></tr>\n",
       "<tr><td></td>\n",
       "<td>8</td>\n",
       "<td>0.2000026</td>\n",
       "<td>0.1118768</td>\n",
       "<td>1.6418452</td>\n",
       "<td>2.5550524</td>\n",
       "<td>0.1325442</td>\n",
       "<td>0.2062664</td>\n",
       "<td>0.0820947</td>\n",
       "<td>0.5110171</td>\n",
       "<td>64.1845200</td>\n",
       "<td>155.5052364</td></tr>\n",
       "<tr><td></td>\n",
       "<td>9</td>\n",
       "<td>0.3000023</td>\n",
       "<td>0.0860125</td>\n",
       "<td>1.3272954</td>\n",
       "<td>2.1458045</td>\n",
       "<td>0.1071510</td>\n",
       "<td>0.1732283</td>\n",
       "<td>0.1327291</td>\n",
       "<td>0.6437462</td>\n",
       "<td>32.7295354</td>\n",
       "<td>114.5804463</td></tr>\n",
       "<tr><td></td>\n",
       "<td>10</td>\n",
       "<td>0.4000020</td>\n",
       "<td>0.0692425</td>\n",
       "<td>0.9812721</td>\n",
       "<td>1.8546737</td>\n",
       "<td>0.0792169</td>\n",
       "<td>0.1497256</td>\n",
       "<td>0.0981269</td>\n",
       "<td>0.7418731</td>\n",
       "<td>-1.8727927</td>\n",
       "<td>85.4673733</td></tr>\n",
       "<tr><td></td>\n",
       "<td>11</td>\n",
       "<td>0.5000016</td>\n",
       "<td>0.0574252</td>\n",
       "<td>0.7476359</td>\n",
       "<td>1.6332676</td>\n",
       "<td>0.0603558</td>\n",
       "<td>0.1318518</td>\n",
       "<td>0.0747633</td>\n",
       "<td>0.8166365</td>\n",
       "<td>-25.2364135</td>\n",
       "<td>63.3267599</td></tr>\n",
       "<tr><td></td>\n",
       "<td>12</td>\n",
       "<td>0.6000013</td>\n",
       "<td>0.0484041</td>\n",
       "<td>0.5989949</td>\n",
       "<td>1.4608897</td>\n",
       "<td>0.0483562</td>\n",
       "<td>0.1179359</td>\n",
       "<td>0.0598993</td>\n",
       "<td>0.8765358</td>\n",
       "<td>-40.1005101</td>\n",
       "<td>46.0889750</td></tr>\n",
       "<tr><td></td>\n",
       "<td>13</td>\n",
       "<td>0.7000010</td>\n",
       "<td>0.0412284</td>\n",
       "<td>0.4551878</td>\n",
       "<td>1.3172187</td>\n",
       "<td>0.0367468</td>\n",
       "<td>0.1063375</td>\n",
       "<td>0.0455186</td>\n",
       "<td>0.9220544</td>\n",
       "<td>-54.4812216</td>\n",
       "<td>31.7218708</td></tr>\n",
       "<tr><td></td>\n",
       "<td>14</td>\n",
       "<td>0.8000007</td>\n",
       "<td>0.0351104</td>\n",
       "<td>0.3589136</td>\n",
       "<td>1.1974311</td>\n",
       "<td>0.0289747</td>\n",
       "<td>0.0966672</td>\n",
       "<td>0.0358912</td>\n",
       "<td>0.9579456</td>\n",
       "<td>-64.1086446</td>\n",
       "<td>19.7431051</td></tr>\n",
       "<tr><td></td>\n",
       "<td>15</td>\n",
       "<td>0.9000003</td>\n",
       "<td>0.0291767</td>\n",
       "<td>0.2614309</td>\n",
       "<td>1.0934314</td>\n",
       "<td>0.0211050</td>\n",
       "<td>0.0882714</td>\n",
       "<td>0.0261430</td>\n",
       "<td>0.9840886</td>\n",
       "<td>-73.8569140</td>\n",
       "<td>9.3431405</td></tr>\n",
       "<tr><td></td>\n",
       "<td>16</td>\n",
       "<td>1.0</td>\n",
       "<td>0.0130737</td>\n",
       "<td>0.1591143</td>\n",
       "<td>1.0</td>\n",
       "<td>0.0128451</td>\n",
       "<td>0.0807288</td>\n",
       "<td>0.0159114</td>\n",
       "<td>1.0</td>\n",
       "<td>-84.0885686</td>\n",
       "<td>0.0</td></tr></table></div>"
      ],
      "text/plain": [
       "    group    cumulative_data_fraction    lower_threshold    lift      cumulative_lift    response_rate    cumulative_response_rate    capture_rate    cumulative_capture_rate    gain      cumulative_gain\n",
       "--  -------  --------------------------  -----------------  --------  -----------------  ---------------  --------------------------  --------------  -------------------------  --------  -----------------\n",
       "    1        0.0100029                   0.346611           5.62979   5.62979            0.454486         0.454486                    0.0563142       0.0563142                  462.979   462.979\n",
       "    2        0.0200025                   0.291766           4.37075   5.00037            0.352846         0.403674                    0.0437059       0.10002                    337.075   400.037\n",
       "    3        0.0300022                   0.259764           3.70205   4.56764            0.298862         0.368741                    0.0370191       0.137039                   270.205   356.764\n",
       "    4        0.0400018                   0.237085           3.40798   4.27775            0.275122         0.345338                    0.0340785       0.171118                   240.798   327.775\n",
       "    5        0.0500015                   0.219129           3.08974   4.04016            0.249431         0.326158                    0.0308963       0.202014                   208.974   304.016\n",
       "    6        0.100003                    0.163066           2.56991   3.30504            0.207466         0.266812                    0.128499        0.330514                   156.991   230.504\n",
       "    7        0.150001                    0.132333           1.96825   2.85946            0.158894         0.230841                    0.0984089       0.428922                   96.8248   185.946\n",
       "    8        0.200003                    0.111877           1.64185   2.55505            0.132544         0.206266                    0.0820947       0.511017                   64.1845   155.505\n",
       "    9        0.300002                    0.0860125          1.3273    2.1458             0.107151         0.173228                    0.132729        0.643746                   32.7295   114.58\n",
       "    10       0.400002                    0.0692425          0.981272  1.85467            0.0792169        0.149726                    0.0981269       0.741873                   -1.87279  85.4674\n",
       "    11       0.500002                    0.0574252          0.747636  1.63327            0.0603558        0.131852                    0.0747633       0.816636                   -25.2364  63.3268\n",
       "    12       0.600001                    0.0484041          0.598995  1.46089            0.0483562        0.117936                    0.0598993       0.876536                   -40.1005  46.089\n",
       "    13       0.700001                    0.0412284          0.455188  1.31722            0.0367468        0.106338                    0.0455186       0.922054                   -54.4812  31.7219\n",
       "    14       0.800001                    0.0351104          0.358914  1.19743            0.0289747        0.0966672                   0.0358912       0.957946                   -64.1086  19.7431\n",
       "    15       0.9                         0.0291767          0.261431  1.09343            0.021105         0.0882714                   0.026143        0.984089                   -73.8569  9.34314\n",
       "    16       1                           0.0130737          0.159114  1                  0.0128451        0.0807288                   0.0159114       1                          -84.0886  0"
      ]
     },
     "metadata": {},
     "output_type": "display_data"
    },
    {
     "name": "stdout",
     "output_type": "stream",
     "text": [
      "\n",
      "Cross-Validation Metrics Summary: \n"
     ]
    },
    {
     "data": {
      "text/html": [
       "<div style=\"overflow:auto\"><table style=\"width:50%\"><tr><td><b></b></td>\n",
       "<td><b>mean</b></td>\n",
       "<td><b>sd</b></td>\n",
       "<td><b>cv_1_valid</b></td>\n",
       "<td><b>cv_2_valid</b></td>\n",
       "<td><b>cv_3_valid</b></td>\n",
       "<td><b>cv_4_valid</b></td>\n",
       "<td><b>cv_5_valid</b></td></tr>\n",
       "<tr><td>accuracy</td>\n",
       "<td>0.8458955</td>\n",
       "<td>0.0058852</td>\n",
       "<td>0.8399714</td>\n",
       "<td>0.8571127</td>\n",
       "<td>0.8511772</td>\n",
       "<td>0.8334796</td>\n",
       "<td>0.8477368</td></tr>\n",
       "<tr><td>auc</td>\n",
       "<td>0.7532814</td>\n",
       "<td>0.0013809</td>\n",
       "<td>0.7539521</td>\n",
       "<td>0.7532675</td>\n",
       "<td>0.7555376</td>\n",
       "<td>0.7539794</td>\n",
       "<td>0.7496704</td></tr>\n",
       "<tr><td>err</td>\n",
       "<td>0.1541045</td>\n",
       "<td>0.0058852</td>\n",
       "<td>0.1600286</td>\n",
       "<td>0.1428873</td>\n",
       "<td>0.1488229</td>\n",
       "<td>0.1665203</td>\n",
       "<td>0.1522632</td></tr>\n",
       "<tr><td>err_count</td>\n",
       "<td>9477.6</td>\n",
       "<td>360.0363</td>\n",
       "<td>9840.0</td>\n",
       "<td>8795.0</td>\n",
       "<td>9166.0</td>\n",
       "<td>10242.0</td>\n",
       "<td>9345.0</td></tr>\n",
       "<tr><td>f0point5</td>\n",
       "<td>0.2600220</td>\n",
       "<td>0.0037604</td>\n",
       "<td>0.2564288</td>\n",
       "<td>0.2683168</td>\n",
       "<td>0.2633535</td>\n",
       "<td>0.2531487</td>\n",
       "<td>0.2588619</td></tr>\n",
       "<tr><td>f1</td>\n",
       "<td>0.3013736</td>\n",
       "<td>0.0006981</td>\n",
       "<td>0.3015332</td>\n",
       "<td>0.3013742</td>\n",
       "<td>0.3021166</td>\n",
       "<td>0.3023161</td>\n",
       "<td>0.2995278</td></tr>\n",
       "<tr><td>f2</td>\n",
       "<td>0.3588823</td>\n",
       "<td>0.0076066</td>\n",
       "<td>0.3658915</td>\n",
       "<td>0.3437217</td>\n",
       "<td>0.3542604</td>\n",
       "<td>0.375186</td>\n",
       "<td>0.3553516</td></tr>\n",
       "<tr><td>lift_top_group</td>\n",
       "<td>5.64796</td>\n",
       "<td>0.1954293</td>\n",
       "<td>5.482048</td>\n",
       "<td>5.6533284</td>\n",
       "<td>5.3058376</td>\n",
       "<td>6.1348624</td>\n",
       "<td>5.663726</td></tr>\n",
       "<tr><td>logloss</td>\n",
       "<td>0.2486339</td>\n",
       "<td>0.0005701</td>\n",
       "<td>0.2494345</td>\n",
       "<td>0.2497805</td>\n",
       "<td>0.2478488</td>\n",
       "<td>0.2480910</td>\n",
       "<td>0.2480147</td></tr>\n",
       "<tr><td>max_per_class_error</td>\n",
       "<td>0.5882102</td>\n",
       "<td>0.0163917</td>\n",
       "<td>0.5734083</td>\n",
       "<td>0.6207517</td>\n",
       "<td>0.5996771</td>\n",
       "<td>0.5529815</td>\n",
       "<td>0.5942323</td></tr>\n",
       "<tr><td>mcc</td>\n",
       "<td>0.2325905</td>\n",
       "<td>0.0010134</td>\n",
       "<td>0.2326682</td>\n",
       "<td>0.2315922</td>\n",
       "<td>0.2332306</td>\n",
       "<td>0.2348304</td>\n",
       "<td>0.2306308</td></tr>\n",
       "<tr><td>mean_per_class_accuracy</td>\n",
       "<td>0.6479052</td>\n",
       "<td>0.0042747</td>\n",
       "<td>0.6514926</td>\n",
       "<td>0.6393147</td>\n",
       "<td>0.6454769</td>\n",
       "<td>0.6572134</td>\n",
       "<td>0.6460282</td></tr>\n",
       "<tr><td>mean_per_class_error</td>\n",
       "<td>0.3520948</td>\n",
       "<td>0.0042747</td>\n",
       "<td>0.3485074</td>\n",
       "<td>0.3606853</td>\n",
       "<td>0.3545230</td>\n",
       "<td>0.3427866</td>\n",
       "<td>0.3539718</td></tr>\n",
       "<tr><td>mse</td>\n",
       "<td>0.0682503</td>\n",
       "<td>0.0002194</td>\n",
       "<td>0.0685713</td>\n",
       "<td>0.0686713</td>\n",
       "<td>0.0680677</td>\n",
       "<td>0.0680464</td>\n",
       "<td>0.0678950</td></tr>\n",
       "<tr><td>precision</td>\n",
       "<td>0.2383148</td>\n",
       "<td>0.0053062</td>\n",
       "<td>0.2331760</td>\n",
       "<td>0.2500330</td>\n",
       "<td>0.2426021</td>\n",
       "<td>0.2283862</td>\n",
       "<td>0.2373767</td></tr>\n",
       "<tr><td>r2</td>\n",
       "<td>0.0803257</td>\n",
       "<td>0.0009889</td>\n",
       "<td>0.0785542</td>\n",
       "<td>0.0802220</td>\n",
       "<td>0.0800736</td>\n",
       "<td>0.0828565</td>\n",
       "<td>0.0799223</td></tr>\n",
       "<tr><td>recall</td>\n",
       "<td>0.4117898</td>\n",
       "<td>0.0163917</td>\n",
       "<td>0.4265917</td>\n",
       "<td>0.3792483</td>\n",
       "<td>0.4003229</td>\n",
       "<td>0.4470185</td>\n",
       "<td>0.4057677</td></tr>\n",
       "<tr><td>rmse</td>\n",
       "<td>0.2612470</td>\n",
       "<td>0.0004198</td>\n",
       "<td>0.2618612</td>\n",
       "<td>0.262052</td>\n",
       "<td>0.2608979</td>\n",
       "<td>0.2608571</td>\n",
       "<td>0.2605667</td></tr>\n",
       "<tr><td>specificity</td>\n",
       "<td>0.8840206</td>\n",
       "<td>0.0078672</td>\n",
       "<td>0.8763936</td>\n",
       "<td>0.8993811</td>\n",
       "<td>0.8906311</td>\n",
       "<td>0.8674083</td>\n",
       "<td>0.8862888</td></tr></table></div>"
      ],
      "text/plain": [
       "                         mean       sd           cv_1_valid    cv_2_valid    cv_3_valid    cv_4_valid    cv_5_valid\n",
       "-----------------------  ---------  -----------  ------------  ------------  ------------  ------------  ------------\n",
       "accuracy                 0.845896   0.00588523   0.839971      0.857113      0.851177      0.83348       0.847737\n",
       "auc                      0.753281   0.00138085   0.753952      0.753267      0.755538      0.753979      0.74967\n",
       "err                      0.154104   0.00588523   0.160029      0.142887      0.148823      0.16652       0.152263\n",
       "err_count                9477.6     360.036      9840          8795          9166          10242         9345\n",
       "f0point5                 0.260022   0.00376035   0.256429      0.268317      0.263354      0.253149      0.258862\n",
       "f1                       0.301374   0.000698064  0.301533      0.301374      0.302117      0.302316      0.299528\n",
       "f2                       0.358882   0.00760664   0.365891      0.343722      0.35426       0.375186      0.355352\n",
       "lift_top_group           5.64796    0.195429     5.48205       5.65333       5.30584       6.13486       5.66373\n",
       "logloss                  0.248634   0.000570092  0.249434      0.24978       0.247849      0.248091      0.248015\n",
       "max_per_class_error      0.58821    0.0163917    0.573408      0.620752      0.599677      0.552982      0.594232\n",
       "mcc                      0.23259    0.0010134    0.232668      0.231592      0.233231      0.23483       0.230631\n",
       "mean_per_class_accuracy  0.647905   0.00427468   0.651493      0.639315      0.645477      0.657213      0.646028\n",
       "mean_per_class_error     0.352095   0.00427468   0.348507      0.360685      0.354523      0.342787      0.353972\n",
       "mse                      0.0682503  0.000219409  0.0685713     0.0686713     0.0680677     0.0680464     0.067895\n",
       "precision                0.238315   0.00530623   0.233176      0.250033      0.242602      0.228386      0.237377\n",
       "r2                       0.0803257  0.000988947  0.0785542     0.080222      0.0800736     0.0828565     0.0799223\n",
       "recall                   0.41179    0.0163917    0.426592      0.379248      0.400323      0.447019      0.405768\n",
       "rmse                     0.261247   0.000419773  0.261861      0.262052      0.260898      0.260857      0.260567\n",
       "specificity              0.884021   0.0078672    0.876394      0.899381      0.890631      0.867408      0.886289"
      ]
     },
     "metadata": {},
     "output_type": "display_data"
    },
    {
     "name": "stdout",
     "output_type": "stream",
     "text": [
      "Scoring History: \n"
     ]
    },
    {
     "data": {
      "text/html": [
       "<div style=\"overflow:auto\"><table style=\"width:50%\"><tr><td><b></b></td>\n",
       "<td><b>timestamp</b></td>\n",
       "<td><b>duration</b></td>\n",
       "<td><b>number_of_trees</b></td>\n",
       "<td><b>training_rmse</b></td>\n",
       "<td><b>training_logloss</b></td>\n",
       "<td><b>training_auc</b></td>\n",
       "<td><b>training_lift</b></td>\n",
       "<td><b>training_classification_error</b></td></tr>\n",
       "<tr><td></td>\n",
       "<td>2020-04-10 08:49:46</td>\n",
       "<td> 1 min 57.397 sec</td>\n",
       "<td>0.0</td>\n",
       "<td>0.2724182</td>\n",
       "<td>0.2805458</td>\n",
       "<td>0.5</td>\n",
       "<td>1.0</td>\n",
       "<td>0.9192712</td></tr>\n",
       "<tr><td></td>\n",
       "<td>2020-04-10 08:49:49</td>\n",
       "<td> 2 min  0.465 sec</td>\n",
       "<td>5.0</td>\n",
       "<td>0.2668205</td>\n",
       "<td>0.2637221</td>\n",
       "<td>0.7272609</td>\n",
       "<td>5.1727002</td>\n",
       "<td>0.1596658</td></tr>\n",
       "<tr><td></td>\n",
       "<td>2020-04-10 08:49:52</td>\n",
       "<td> 2 min  3.088 sec</td>\n",
       "<td>10.0</td>\n",
       "<td>0.2642831</td>\n",
       "<td>0.2571275</td>\n",
       "<td>0.7354758</td>\n",
       "<td>5.5411959</td>\n",
       "<td>0.1553993</td></tr>\n",
       "<tr><td></td>\n",
       "<td>2020-04-10 08:49:54</td>\n",
       "<td> 2 min  5.723 sec</td>\n",
       "<td>15.0</td>\n",
       "<td>0.2628213</td>\n",
       "<td>0.2533722</td>\n",
       "<td>0.7422740</td>\n",
       "<td>5.8821887</td>\n",
       "<td>0.1511100</td></tr>\n",
       "<tr><td></td>\n",
       "<td>2020-04-10 08:49:57</td>\n",
       "<td> 2 min  8.402 sec</td>\n",
       "<td>20.0</td>\n",
       "<td>0.2616419</td>\n",
       "<td>0.2504927</td>\n",
       "<td>0.7502357</td>\n",
       "<td>6.2298183</td>\n",
       "<td>0.1475427</td></tr>\n",
       "<tr><td></td>\n",
       "<td>2020-04-10 08:50:00</td>\n",
       "<td> 2 min 10.983 sec</td>\n",
       "<td>25.0</td>\n",
       "<td>0.2606626</td>\n",
       "<td>0.2481332</td>\n",
       "<td>0.7572998</td>\n",
       "<td>6.5358727</td>\n",
       "<td>0.1468598</td></tr>\n",
       "<tr><td></td>\n",
       "<td>2020-04-10 08:50:02</td>\n",
       "<td> 2 min 13.550 sec</td>\n",
       "<td>30.0</td>\n",
       "<td>0.2598579</td>\n",
       "<td>0.2463295</td>\n",
       "<td>0.7622297</td>\n",
       "<td>6.7050081</td>\n",
       "<td>0.1324766</td></tr>\n",
       "<tr><td></td>\n",
       "<td>2020-04-10 08:50:05</td>\n",
       "<td> 2 min 16.129 sec</td>\n",
       "<td>35.0</td>\n",
       "<td>0.2591319</td>\n",
       "<td>0.2446676</td>\n",
       "<td>0.7668082</td>\n",
       "<td>6.9103867</td>\n",
       "<td>0.1383690</td></tr>\n",
       "<tr><td></td>\n",
       "<td>2020-04-10 08:50:07</td>\n",
       "<td> 2 min 18.720 sec</td>\n",
       "<td>40.0</td>\n",
       "<td>0.2585223</td>\n",
       "<td>0.2433361</td>\n",
       "<td>0.7703138</td>\n",
       "<td>7.0593869</td>\n",
       "<td>0.1350716</td></tr></table></div>"
      ],
      "text/plain": [
       "    timestamp            duration          number_of_trees    training_rmse    training_logloss    training_auc    training_lift    training_classification_error\n",
       "--  -------------------  ----------------  -----------------  ---------------  ------------------  --------------  ---------------  -------------------------------\n",
       "    2020-04-10 08:49:46  1 min 57.397 sec  0                  0.272418         0.280546            0.5             1                0.919271\n",
       "    2020-04-10 08:49:49  2 min  0.465 sec  5                  0.266821         0.263722            0.727261        5.1727           0.159666\n",
       "    2020-04-10 08:49:52  2 min  3.088 sec  10                 0.264283         0.257127            0.735476        5.5412           0.155399\n",
       "    2020-04-10 08:49:54  2 min  5.723 sec  15                 0.262821         0.253372            0.742274        5.88219          0.15111\n",
       "    2020-04-10 08:49:57  2 min  8.402 sec  20                 0.261642         0.250493            0.750236        6.22982          0.147543\n",
       "    2020-04-10 08:50:00  2 min 10.983 sec  25                 0.260663         0.248133            0.7573          6.53587          0.14686\n",
       "    2020-04-10 08:50:02  2 min 13.550 sec  30                 0.259858         0.24633             0.76223         6.70501          0.132477\n",
       "    2020-04-10 08:50:05  2 min 16.129 sec  35                 0.259132         0.244668            0.766808        6.91039          0.138369\n",
       "    2020-04-10 08:50:07  2 min 18.720 sec  40                 0.258522         0.243336            0.770314        7.05939          0.135072"
      ]
     },
     "metadata": {},
     "output_type": "display_data"
    },
    {
     "name": "stdout",
     "output_type": "stream",
     "text": [
      "Variable Importances: \n"
     ]
    },
    {
     "data": {
      "text/html": [
       "<div style=\"overflow:auto\"><table style=\"width:50%\"><tr><td><b>variable</b></td>\n",
       "<td><b>relative_importance</b></td>\n",
       "<td><b>scaled_importance</b></td>\n",
       "<td><b>percentage</b></td></tr>\n",
       "<tr><td>EXT_SOURCE_3</td>\n",
       "<td>3074.6318359</td>\n",
       "<td>1.0</td>\n",
       "<td>0.2882274</td></tr>\n",
       "<tr><td>EXT_SOURCE_2</td>\n",
       "<td>2961.3374023</td>\n",
       "<td>0.9631519</td>\n",
       "<td>0.2776068</td></tr>\n",
       "<tr><td>ORGANIZATION_TYPE</td>\n",
       "<td>979.1815186</td>\n",
       "<td>0.3184711</td>\n",
       "<td>0.0917921</td></tr>\n",
       "<tr><td>EXT_SOURCE_1</td>\n",
       "<td>691.2372437</td>\n",
       "<td>0.2248195</td>\n",
       "<td>0.0647992</td></tr>\n",
       "<tr><td>OCCUPATION_TYPE</td>\n",
       "<td>268.5284729</td>\n",
       "<td>0.0873368</td>\n",
       "<td>0.0251729</td></tr>\n",
       "<tr><td>---</td>\n",
       "<td>---</td>\n",
       "<td>---</td>\n",
       "<td>---</td></tr>\n",
       "<tr><td>max(CREDIT_DAY_OVERDUE)</td>\n",
       "<td>0.0</td>\n",
       "<td>0.0</td>\n",
       "<td>0.0</td></tr>\n",
       "<tr><td>max(AMT_CREDIT_MAX_OVERDUE)</td>\n",
       "<td>0.0</td>\n",
       "<td>0.0</td>\n",
       "<td>0.0</td></tr>\n",
       "<tr><td>max(CNT_CREDIT_PROLONG)</td>\n",
       "<td>0.0</td>\n",
       "<td>0.0</td>\n",
       "<td>0.0</td></tr>\n",
       "<tr><td>max(AMT_CREDIT_SUM)</td>\n",
       "<td>0.0</td>\n",
       "<td>0.0</td>\n",
       "<td>0.0</td></tr>\n",
       "<tr><td>max(AMT_ANNUITY)</td>\n",
       "<td>0.0</td>\n",
       "<td>0.0</td>\n",
       "<td>0.0</td></tr></table></div>"
      ],
      "text/plain": [
       "variable                     relative_importance    scaled_importance    percentage\n",
       "---------------------------  ---------------------  -------------------  -------------------\n",
       "EXT_SOURCE_3                 3074.6318359375        1.0                  0.2882274316567876\n",
       "EXT_SOURCE_2                 2961.33740234375       0.9631518699996792   0.2776067897854397\n",
       "ORGANIZATION_TYPE            979.1815185546875      0.31847114412516997  0.09179211992799638\n",
       "EXT_SOURCE_1                 691.2372436523438      0.22481951678665796  0.06479915190973846\n",
       "OCCUPATION_TYPE              268.5284729003906      0.08733678932278159  0.02517285847565529\n",
       "---                          ---                    ---                  ---\n",
       "max(CREDIT_DAY_OVERDUE)      0.0                    0.0                  0.0\n",
       "max(AMT_CREDIT_MAX_OVERDUE)  0.0                    0.0                  0.0\n",
       "max(CNT_CREDIT_PROLONG)      0.0                    0.0                  0.0\n",
       "max(AMT_CREDIT_SUM)          0.0                    0.0                  0.0\n",
       "max(AMT_ANNUITY)             0.0                    0.0                  0.0"
      ]
     },
     "metadata": {},
     "output_type": "display_data"
    },
    {
     "name": "stdout",
     "output_type": "stream",
     "text": [
      "\n",
      "See the whole table with table.as_data_frame()\n"
     ]
    },
    {
     "data": {
      "text/plain": []
     },
     "execution_count": 24,
     "metadata": {},
     "output_type": "execute_result"
    }
   ],
   "source": [
    "gbm_model"
   ]
  },
  {
   "cell_type": "code",
   "execution_count": 32,
   "metadata": {},
   "outputs": [
    {
     "name": "stdout",
     "output_type": "stream",
     "text": [
      "Training Data\n"
     ]
    },
    {
     "data": {
      "image/png": "[encoded data removed]",
      "text/plain": [
       "<Figure size 432x288 with 1 Axes>"
      ]
     },
     "metadata": {
      "needs_background": "light"
     },
     "output_type": "display_data"
    },
    {
     "name": "stdout",
     "output_type": "stream",
     "text": [
      "X-Val\n"
     ]
    },
    {
     "data": {
      "image/png": "[encoded data removed]",
      "text/plain": [
       "<Figure size 432x288 with 1 Axes>"
      ]
     },
     "metadata": {
      "needs_background": "light"
     },
     "output_type": "display_data"
    }
   ],
   "source": [
    "print(\"Training Data\")\n",
    "gbm_model.model_performance(train = True).plot()\n",
    "print(\"X-Val\")\n",
    "gbm_model.model_performance(xval=True).plot()"
   ]
  },
  {
   "cell_type": "code",
   "execution_count": 26,
   "metadata": {},
   "outputs": [
    {
     "data": {
      "image/png": "[encoded data removed]",
      "text/plain": [
       "<Figure size 1008x720 with 1 Axes>"
      ]
     },
     "metadata": {
      "needs_background": "light"
     },
     "output_type": "display_data"
    }
   ],
   "source": [
    "gbm_model.varimp_plot(20)"
   ]
  },
  {
   "cell_type": "markdown",
   "metadata": {},
   "source": [
    "## Auto ML"
   ]
  },
  {
   "cell_type": "code",
   "execution_count": 27,
   "metadata": {},
   "outputs": [
    {
     "data": {
      "text/html": [
       "<table>\n",
       "<thead>\n",
       "<tr><th>model_id                                             </th><th style=\"text-align: right;\">     auc</th><th style=\"text-align: right;\">  logloss</th></tr>\n",
       "</thead>\n",
       "<tbody>\n",
       "<tr><td>GLM_grid_0_AutoML_20200410_085008_model_0            </td><td style=\"text-align: right;\">0.751253</td><td style=\"text-align: right;\"> 0.248761</td></tr>\n",
       "<tr><td>StackedEnsemble_AllModels_0_AutoML_20200410_085008   </td><td style=\"text-align: right;\">0.750832</td><td style=\"text-align: right;\"> 0.25169 </td></tr>\n",
       "<tr><td>StackedEnsemble_BestOfFamily_0_AutoML_20200410_085008</td><td style=\"text-align: right;\">0.750832</td><td style=\"text-align: right;\"> 0.25169 </td></tr>\n",
       "<tr><td>DRF_0_AutoML_20200410_085008                         </td><td style=\"text-align: right;\">0.719212</td><td style=\"text-align: right;\"> 0.256384</td></tr>\n",
       "<tr><td>XRT_0_AutoML_20200410_085008                         </td><td style=\"text-align: right;\">0.7163  </td><td style=\"text-align: right;\"> 0.257949</td></tr>\n",
       "</tbody>\n",
       "</table>"
      ]
     },
     "metadata": {},
     "output_type": "display_data"
    },
    {
     "data": {
      "text/plain": []
     },
     "execution_count": 27,
     "metadata": {},
     "output_type": "execute_result"
    }
   ],
   "source": [
    "aml.leaderboard"
   ]
  },
  {
   "cell_type": "code",
   "execution_count": 28,
   "metadata": {},
   "outputs": [
    {
     "name": "stdout",
     "output_type": "stream",
     "text": [
      "Training Data\n"
     ]
    },
    {
     "data": {
      "image/png": "[encoded data removed]",
      "text/plain": [
       "<Figure size 432x288 with 1 Axes>"
      ]
     },
     "metadata": {
      "needs_background": "light"
     },
     "output_type": "display_data"
    },
    {
     "name": "stdout",
     "output_type": "stream",
     "text": [
      "X-Val\n"
     ]
    },
    {
     "data": {
      "image/png": "[encoded data removed]",
      "text/plain": [
       "<Figure size 432x288 with 1 Axes>"
      ]
     },
     "metadata": {
      "needs_background": "light"
     },
     "output_type": "display_data"
    }
   ],
   "source": [
    "print(\"Training Data\")\n",
    "aml.leader.model_performance(train = True).plot()\n",
    "print(\"X-Val\")\n",
    "aml.leader.model_performance(xval=True).plot()"
   ]
  },
  {
   "cell_type": "code",
   "execution_count": 29,
   "metadata": {},
   "outputs": [
    {
     "name": "stdout",
     "output_type": "stream",
     "text": [
      "Variable importance does not apply to GLM. Will use std_coef_plot() instead.\n"
     ]
    },
    {
     "data": {
      "image/png": "[encoded data removed]",
      "text/plain": [
       "<Figure size 1008x720 with 1 Axes>"
      ]
     },
     "metadata": {
      "needs_background": "light"
     },
     "output_type": "display_data"
    }
   ],
   "source": [
    "try:\n",
    "    aml.leader.varimp_plot(20)\n",
    "except:\n",
    "    print('No variable importance')"
   ]
  },
  {
   "cell_type": "markdown",
   "metadata": {},
   "source": [
    "# Deployment"
   ]
  },
  {
   "cell_type": "markdown",
   "metadata": {},
   "source": [
    "Use the model for new data."
   ]
  },
  {
   "cell_type": "markdown",
   "metadata": {},
   "source": [
    "Auto ML"
   ]
  },
  {
   "cell_type": "code",
   "execution_count": 30,
   "metadata": {},
   "outputs": [
    {
     "name": "stdout",
     "output_type": "stream",
     "text": [
      "Parse progress: |█████████████████████████████████████████████████████████| 100%\n",
      "glm prediction progress: |████████████████████████████████████████████████| 100%\n"
     ]
    }
   ],
   "source": [
    "notFeatures = ['TARGET', 'SK_ID_CURR', 'SK_ID_CURR_MIN', 'SK_ID_CURR_MAX', 'SK_ID_CURR_BUR_MIN', 'SK_ID_CURR_BUR_MAX']\n",
    "for notFeature in notFeatures:\n",
    "    if notFeature in median_dict:\n",
    "        del median_dict[notFeature]\n",
    "sparkApplicationDataTest = sparkApplicationDataTest.na.fill(median_dict)\n",
    "sparkApplicationDataTest.write\\\n",
    "        .format(\"com.databricks.spark.csv\")\\\n",
    "        .option(\"header\", \"true\")\\\n",
    "        .mode(\"overwrite\")\\\n",
    "        .save('Data/preparedTest.csv')\n",
    "df_test = h2o.import_file('Data/preparedTest.csv')\n",
    "pred = aml.leader.predict(df_test)"
   ]
  },
  {
   "cell_type": "code",
   "execution_count": 34,
   "metadata": {},
   "outputs": [],
   "source": [
    "pred['SK_ID_CURR'] = df_test['SK_ID_CURR']\n",
    "predFrame = pred.as_data_frame()\n",
    "predFrame.to_csv('Data/pred.csv', index=False) "
   ]
  },
  {
   "cell_type": "markdown",
   "metadata": {},
   "source": [
    "Gradient Boosting"
   ]
  },
  {
   "cell_type": "code",
   "execution_count": 35,
   "metadata": {},
   "outputs": [
    {
     "name": "stdout",
     "output_type": "stream",
     "text": [
      "gbm prediction progress: |████████████████████████████████████████████████| 100%\n"
     ]
    }
   ],
   "source": [
    "pred2 = gbm_model.predict(df_test)"
   ]
  },
  {
   "cell_type": "code",
   "execution_count": 36,
   "metadata": {},
   "outputs": [],
   "source": [
    "pred2['SK_ID_CURR'] = df_test['SK_ID_CURR']\n",
    "predFrame2 = pred2.as_data_frame()\n",
    "predFrame2.to_csv('Data/pred2.csv', index=False)"
   ]
  },
  {
   "cell_type": "code",
   "execution_count": null,
   "metadata": {},
   "outputs": [],
   "source": [
    "spark.stop() #closing the spark session"
   ]
  },
  {
   "cell_type": "markdown",
   "metadata": {},
   "source": [
    "## Kaggle Result\n",
    "![CRISP-DM](Data/result.png)"
   ]
  },
  {
   "cell_type": "code",
   "execution_count": null,
   "metadata": {},
   "outputs": [],
   "source": []
  }
 ],
 "metadata": {
  "kernelspec": {
   "display_name": "Python 3",
   "language": "python",
   "name": "python3"
  },
  "language_info": {
   "codemirror_mode": {
    "name": "ipython",
    "version": 3
   },
   "file_extension": ".py",
   "mimetype": "text/x-python",
   "name": "python",
   "nbconvert_exporter": "python",
   "pygments_lexer": "ipython3",
   "version": "3.7.4"
  }
 },
 "nbformat": 4,
 "nbformat_minor": 2
}
