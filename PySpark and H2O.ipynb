{
 "cells": [
  {
   "cell_type": "markdown",
   "metadata": {},
   "source": [
    "# Introduction\n",
    "The author follows the CRISP-DM methodology.\n",
    "![CRISP-DM](./data/crisp.png)"
   ]
  },
  {
   "cell_type": "markdown",
   "metadata": {},
   "source": [
    "# Business Understanding\n",
    "\n",
    "Many people struggle to get loans due to insufficient or non-existent credit histories. And, unfortunately, this population is often taken advantage of by untrustworthy lenders.\n",
    "\n",
    "Home Credit strives to broaden financial inclusion for the unbanked population by providing a positive and safe borrowing experience. In order to make sure this underserved population has a positive loan experience, Home Credit makes use of a variety of alternative data--including telco and transactional information--to predict their clients' repayment abilities.\n",
    "\n",
    "While Home Credit is currently using various statistical and machine learning methods to make these predictions, they're challenging Kagglers to help them unlock the full potential of their data. Doing so will ensure that clients capable of repayment are not rejected and that loans are given with a principal, maturity, and repayment calendar that will empower their clients to be successful."
   ]
  },
  {
   "cell_type": "markdown",
   "metadata": {},
   "source": [
    "# Data Understanding\n",
    "\n",
    "application_{train|test}.csv\n",
    "\n",
    "- This is the main table, broken into two files for Train (with TARGET) and Test (without TARGET).\n",
    "- Static data for all applications. One row represents one loan in our data sample.\n",
    "\n",
    "bureau.csv\n",
    "\n",
    "- All client's previous credits provided by other financial institutions that were reported to Credit Bureau (for clients who have a loan in our sample).\n",
    "- For every loan in our sample, there are as many rows as number of credits the client had in Credit Bureau before the application date.\n",
    "\n",
    "bureau_balance.csv\n",
    "\n",
    "- Monthly balances of previous credits in Credit Bureau.\n",
    "- This table has one row for each month of history of every previous credit reported to Credit Bureau – i.e the table has (#loans in sample * # of relative previous credits * # of months where we have some history observable for the previous credits) rows.\n",
    "\n",
    "POS_CASH_balance.csv\n",
    "\n",
    "- Monthly balance snapshots of previous POS (point of sales) and cash loans that the applicant had with Home Credit.\n",
    "- This table has one row for each month of history of every previous credit in Home Credit (consumer credit and cash loans) related to loans in our sample – i.e. the table has (#loans in sample * # of relative previous credits * # of months in which we have some history observable for the previous credits) rows.\n",
    "\n",
    "credit_card_balance.csv\n",
    "\n",
    "- Monthly balance snapshots of previous credit cards that the applicant has with Home Credit.\n",
    "- This table has one row for each month of history of every previous credit in Home Credit (consumer credit and cash loans) related to loans in our sample – i.e. the table has (#loans in sample * # of relative previous credit cards * # of months where we have some history observable for the previous credit card) rows.\n",
    "\n",
    "previous_application.csv\n",
    "\n",
    "- All previous applications for Home Credit loans of clients who have loans in our sample.\n",
    "- There is one row for each previous application related to loans in our data sample.\n",
    "\n",
    "installments_payments.csv\n",
    "\n",
    "- Repayment history for the previously disbursed credits in Home Credit related to the loans in our sample.\n",
    "- There is a) one row for every payment that was made plus b) one row each for missed payment.\n",
    "- One row is equivalent to one payment of one installment OR one installment corresponding to one payment of one previous Home Credit credit related to loans in our sample.\n",
    "\n",
    "HomeCredit_columns_description.csv\n",
    "\n",
    "- This file contains descriptions for the columns in the various data files."
   ]
  },
  {
   "cell_type": "markdown",
   "metadata": {},
   "source": [
    "![CRISP-DM](./data/home_credit.png)"
   ]
  },
  {
   "cell_type": "markdown",
   "metadata": {},
   "source": [
    "Start Spark"
   ]
  },
  {
   "cell_type": "code",
   "execution_count": 1,
   "metadata": {},
   "outputs": [],
   "source": [
    "import pandas as pd\n",
    "import findspark \n",
    "import os\n",
    "from pyspark import SparkContext \n",
    "from pyspark.sql import SparkSession\n",
    "findspark.init() \n",
    "spark = SparkSession\\\n",
    "    .builder\\\n",
    "    .appName(\"HomeCreditApp\")\\\n",
    "    .config(\"spark.driver.memory\", \"8G\")\\\n",
    "    .config(\"spark.executor.memory\", \"4G\")\\\n",
    "    .getOrCreate()"
   ]
  },
  {
   "cell_type": "code",
   "execution_count": 2,
   "metadata": {},
   "outputs": [],
   "source": [
    "sparkApplicationData = spark\\\n",
    "            .read\\\n",
    "            .option(\"header\", \"true\")\\\n",
    "            .option(\"inferSchema\", \"true\")\\\n",
    "            .option(\"delimiter\", \",\")\\\n",
    "            .csv(\"Data/application_train.csv\")\\\n",
    "            .cache()"
   ]
  },
  {
   "cell_type": "code",
   "execution_count": 3,
   "metadata": {},
   "outputs": [],
   "source": [
    "sparkApplicationDataTest = spark\\\n",
    "            .read\\\n",
    "            .option(\"header\", \"true\")\\\n",
    "            .option(\"inferSchema\", \"true\")\\\n",
    "            .option(\"delimiter\", \",\")\\\n",
    "            .csv(\"Data/application_test.csv\")\\\n",
    "            .cache()"
   ]
  },
  {
   "cell_type": "code",
   "execution_count": 4,
   "metadata": {},
   "outputs": [],
   "source": [
    "sparkPosCashData = spark\\\n",
    "            .read\\\n",
    "            .option(\"header\", \"true\")\\\n",
    "            .option(\"inferSchema\", \"true\")\\\n",
    "            .option(\"delimiter\", \",\")\\\n",
    "            .csv(\"Data/POS_CASH_balance.csv\")\\\n",
    "            .cache()\n",
    "sparkPosCashData1 = sparkPosCashData.withColumnRenamed(\"SK_ID_CURR\",\"SK_ID_CURR_MIN\")\n",
    "sparkPosCashData2 = sparkPosCashData.withColumnRenamed(\"SK_ID_CURR\",\"SK_ID_CURR_MAX\")\n",
    "sparkPosCashDataMin = sparkPosCashData1.groupBy('SK_ID_CURR_MIN').min()\n",
    "sparkPosCashDataMax = sparkPosCashData2.groupBy('SK_ID_CURR_MAX').max()"
   ]
  },
  {
   "cell_type": "code",
   "execution_count": 5,
   "metadata": {},
   "outputs": [],
   "source": [
    "sparkBureauData = spark\\\n",
    "            .read\\\n",
    "            .option(\"header\", \"true\")\\\n",
    "            .option(\"inferSchema\", \"true\")\\\n",
    "            .option(\"delimiter\", \",\")\\\n",
    "            .csv(\"Data/bureau.csv\")\\\n",
    "            .cache()\n",
    "sparkBureauData1 = sparkBureauData.withColumnRenamed(\"SK_ID_CURR\",\"SK_ID_CURR_BUR_MIN\")\n",
    "sparkBureauData2 = sparkBureauData.withColumnRenamed(\"SK_ID_CURR\",\"SK_ID_CURR_BUR_MAX\")\n",
    "sparkBureauDataMin = sparkBureauData1.groupBy('SK_ID_CURR_BUR_MIN').min()\n",
    "sparkBureauDataMax = sparkBureauData2.groupBy('SK_ID_CURR_BUR_MAX').max()"
   ]
  },
  {
   "cell_type": "markdown",
   "metadata": {},
   "source": [
    "Join tables"
   ]
  },
  {
   "cell_type": "code",
   "execution_count": 6,
   "metadata": {},
   "outputs": [],
   "source": [
    "sparkApplicationData = sparkApplicationData.join(sparkPosCashDataMin, sparkApplicationData.SK_ID_CURR == sparkPosCashDataMin.SK_ID_CURR_MIN, how='left')\n",
    "sparkApplicationData = sparkApplicationData.join(sparkPosCashDataMax, sparkApplicationData.SK_ID_CURR == sparkPosCashDataMax.SK_ID_CURR_MAX, how='left')\n",
    "sparkApplicationData = sparkApplicationData.join(sparkBureauDataMin, sparkApplicationData.SK_ID_CURR == sparkBureauDataMin.SK_ID_CURR_BUR_MIN, how='left')\n",
    "sparkApplicationData = sparkApplicationData.join(sparkBureauDataMax, sparkApplicationData.SK_ID_CURR == sparkBureauDataMax.SK_ID_CURR_BUR_MAX, how='left')"
   ]
  },
  {
   "cell_type": "code",
   "execution_count": 7,
   "metadata": {},
   "outputs": [],
   "source": [
    "sparkApplicationDataTest = sparkApplicationDataTest.join(sparkPosCashDataMin, sparkApplicationDataTest.SK_ID_CURR == sparkPosCashDataMin.SK_ID_CURR_MIN, how='left')\n",
    "sparkApplicationDataTest = sparkApplicationDataTest.join(sparkPosCashDataMax, sparkApplicationDataTest.SK_ID_CURR == sparkPosCashDataMax.SK_ID_CURR_MAX, how='left')\n",
    "sparkApplicationDataTest = sparkApplicationDataTest.join(sparkBureauDataMin, sparkApplicationDataTest.SK_ID_CURR == sparkBureauDataMin.SK_ID_CURR_BUR_MIN, how='left')\n",
    "sparkApplicationDataTest = sparkApplicationDataTest.join(sparkBureauDataMax, sparkApplicationDataTest.SK_ID_CURR == sparkBureauDataMax.SK_ID_CURR_BUR_MAX, how='left')"
   ]
  },
  {
   "cell_type": "markdown",
   "metadata": {},
   "source": [
    "Columns and null values"
   ]
  },
  {
   "cell_type": "code",
   "execution_count": 8,
   "metadata": {},
   "outputs": [
    {
     "name": "stdout",
     "output_type": "stream",
     "text": [
      "root\n",
      " |-- SK_ID_CURR: integer (nullable = true)\n",
      " |-- TARGET: integer (nullable = true)\n",
      " |-- NAME_CONTRACT_TYPE: string (nullable = true)\n",
      " |-- CODE_GENDER: string (nullable = true)\n",
      " |-- FLAG_OWN_CAR: string (nullable = true)\n",
      " |-- FLAG_OWN_REALTY: string (nullable = true)\n",
      " |-- CNT_CHILDREN: integer (nullable = true)\n",
      " |-- AMT_INCOME_TOTAL: double (nullable = true)\n",
      " |-- AMT_CREDIT: double (nullable = true)\n",
      " |-- AMT_ANNUITY: double (nullable = true)\n",
      " |-- AMT_GOODS_PRICE: double (nullable = true)\n",
      " |-- NAME_TYPE_SUITE: string (nullable = true)\n",
      " |-- NAME_INCOME_TYPE: string (nullable = true)\n",
      " |-- NAME_EDUCATION_TYPE: string (nullable = true)\n",
      " |-- NAME_FAMILY_STATUS: string (nullable = true)\n",
      " |-- NAME_HOUSING_TYPE: string (nullable = true)\n",
      " |-- REGION_POPULATION_RELATIVE: double (nullable = true)\n",
      " |-- DAYS_BIRTH: integer (nullable = true)\n",
      " |-- DAYS_EMPLOYED: integer (nullable = true)\n",
      " |-- DAYS_REGISTRATION: double (nullable = true)\n",
      " |-- DAYS_ID_PUBLISH: integer (nullable = true)\n",
      " |-- OWN_CAR_AGE: double (nullable = true)\n",
      " |-- FLAG_MOBIL: integer (nullable = true)\n",
      " |-- FLAG_EMP_PHONE: integer (nullable = true)\n",
      " |-- FLAG_WORK_PHONE: integer (nullable = true)\n",
      " |-- FLAG_CONT_MOBILE: integer (nullable = true)\n",
      " |-- FLAG_PHONE: integer (nullable = true)\n",
      " |-- FLAG_EMAIL: integer (nullable = true)\n",
      " |-- OCCUPATION_TYPE: string (nullable = true)\n",
      " |-- CNT_FAM_MEMBERS: double (nullable = true)\n",
      " |-- REGION_RATING_CLIENT: integer (nullable = true)\n",
      " |-- REGION_RATING_CLIENT_W_CITY: integer (nullable = true)\n",
      " |-- WEEKDAY_APPR_PROCESS_START: string (nullable = true)\n",
      " |-- HOUR_APPR_PROCESS_START: integer (nullable = true)\n",
      " |-- REG_REGION_NOT_LIVE_REGION: integer (nullable = true)\n",
      " |-- REG_REGION_NOT_WORK_REGION: integer (nullable = true)\n",
      " |-- LIVE_REGION_NOT_WORK_REGION: integer (nullable = true)\n",
      " |-- REG_CITY_NOT_LIVE_CITY: integer (nullable = true)\n",
      " |-- REG_CITY_NOT_WORK_CITY: integer (nullable = true)\n",
      " |-- LIVE_CITY_NOT_WORK_CITY: integer (nullable = true)\n",
      " |-- ORGANIZATION_TYPE: string (nullable = true)\n",
      " |-- EXT_SOURCE_1: double (nullable = true)\n",
      " |-- EXT_SOURCE_2: double (nullable = true)\n",
      " |-- EXT_SOURCE_3: double (nullable = true)\n",
      " |-- APARTMENTS_AVG: double (nullable = true)\n",
      " |-- BASEMENTAREA_AVG: double (nullable = true)\n",
      " |-- YEARS_BEGINEXPLUATATION_AVG: double (nullable = true)\n",
      " |-- YEARS_BUILD_AVG: double (nullable = true)\n",
      " |-- COMMONAREA_AVG: double (nullable = true)\n",
      " |-- ELEVATORS_AVG: double (nullable = true)\n",
      " |-- ENTRANCES_AVG: double (nullable = true)\n",
      " |-- FLOORSMAX_AVG: double (nullable = true)\n",
      " |-- FLOORSMIN_AVG: double (nullable = true)\n",
      " |-- LANDAREA_AVG: double (nullable = true)\n",
      " |-- LIVINGAPARTMENTS_AVG: double (nullable = true)\n",
      " |-- LIVINGAREA_AVG: double (nullable = true)\n",
      " |-- NONLIVINGAPARTMENTS_AVG: double (nullable = true)\n",
      " |-- NONLIVINGAREA_AVG: double (nullable = true)\n",
      " |-- APARTMENTS_MODE: double (nullable = true)\n",
      " |-- BASEMENTAREA_MODE: double (nullable = true)\n",
      " |-- YEARS_BEGINEXPLUATATION_MODE: double (nullable = true)\n",
      " |-- YEARS_BUILD_MODE: double (nullable = true)\n",
      " |-- COMMONAREA_MODE: double (nullable = true)\n",
      " |-- ELEVATORS_MODE: double (nullable = true)\n",
      " |-- ENTRANCES_MODE: double (nullable = true)\n",
      " |-- FLOORSMAX_MODE: double (nullable = true)\n",
      " |-- FLOORSMIN_MODE: double (nullable = true)\n",
      " |-- LANDAREA_MODE: double (nullable = true)\n",
      " |-- LIVINGAPARTMENTS_MODE: double (nullable = true)\n",
      " |-- LIVINGAREA_MODE: double (nullable = true)\n",
      " |-- NONLIVINGAPARTMENTS_MODE: double (nullable = true)\n",
      " |-- NONLIVINGAREA_MODE: double (nullable = true)\n",
      " |-- APARTMENTS_MEDI: double (nullable = true)\n",
      " |-- BASEMENTAREA_MEDI: double (nullable = true)\n",
      " |-- YEARS_BEGINEXPLUATATION_MEDI: double (nullable = true)\n",
      " |-- YEARS_BUILD_MEDI: double (nullable = true)\n",
      " |-- COMMONAREA_MEDI: double (nullable = true)\n",
      " |-- ELEVATORS_MEDI: double (nullable = true)\n",
      " |-- ENTRANCES_MEDI: double (nullable = true)\n",
      " |-- FLOORSMAX_MEDI: double (nullable = true)\n",
      " |-- FLOORSMIN_MEDI: double (nullable = true)\n",
      " |-- LANDAREA_MEDI: double (nullable = true)\n",
      " |-- LIVINGAPARTMENTS_MEDI: double (nullable = true)\n",
      " |-- LIVINGAREA_MEDI: double (nullable = true)\n",
      " |-- NONLIVINGAPARTMENTS_MEDI: double (nullable = true)\n",
      " |-- NONLIVINGAREA_MEDI: double (nullable = true)\n",
      " |-- FONDKAPREMONT_MODE: string (nullable = true)\n",
      " |-- HOUSETYPE_MODE: string (nullable = true)\n",
      " |-- TOTALAREA_MODE: double (nullable = true)\n",
      " |-- WALLSMATERIAL_MODE: string (nullable = true)\n",
      " |-- EMERGENCYSTATE_MODE: string (nullable = true)\n",
      " |-- OBS_30_CNT_SOCIAL_CIRCLE: double (nullable = true)\n",
      " |-- DEF_30_CNT_SOCIAL_CIRCLE: double (nullable = true)\n",
      " |-- OBS_60_CNT_SOCIAL_CIRCLE: double (nullable = true)\n",
      " |-- DEF_60_CNT_SOCIAL_CIRCLE: double (nullable = true)\n",
      " |-- DAYS_LAST_PHONE_CHANGE: double (nullable = true)\n",
      " |-- FLAG_DOCUMENT_2: integer (nullable = true)\n",
      " |-- FLAG_DOCUMENT_3: integer (nullable = true)\n",
      " |-- FLAG_DOCUMENT_4: integer (nullable = true)\n",
      " |-- FLAG_DOCUMENT_5: integer (nullable = true)\n",
      " |-- FLAG_DOCUMENT_6: integer (nullable = true)\n",
      " |-- FLAG_DOCUMENT_7: integer (nullable = true)\n",
      " |-- FLAG_DOCUMENT_8: integer (nullable = true)\n",
      " |-- FLAG_DOCUMENT_9: integer (nullable = true)\n",
      " |-- FLAG_DOCUMENT_10: integer (nullable = true)\n",
      " |-- FLAG_DOCUMENT_11: integer (nullable = true)\n",
      " |-- FLAG_DOCUMENT_12: integer (nullable = true)\n",
      " |-- FLAG_DOCUMENT_13: integer (nullable = true)\n",
      " |-- FLAG_DOCUMENT_14: integer (nullable = true)\n",
      " |-- FLAG_DOCUMENT_15: integer (nullable = true)\n",
      " |-- FLAG_DOCUMENT_16: integer (nullable = true)\n",
      " |-- FLAG_DOCUMENT_17: integer (nullable = true)\n",
      " |-- FLAG_DOCUMENT_18: integer (nullable = true)\n",
      " |-- FLAG_DOCUMENT_19: integer (nullable = true)\n",
      " |-- FLAG_DOCUMENT_20: integer (nullable = true)\n",
      " |-- FLAG_DOCUMENT_21: integer (nullable = true)\n",
      " |-- AMT_REQ_CREDIT_BUREAU_HOUR: double (nullable = true)\n",
      " |-- AMT_REQ_CREDIT_BUREAU_DAY: double (nullable = true)\n",
      " |-- AMT_REQ_CREDIT_BUREAU_WEEK: double (nullable = true)\n",
      " |-- AMT_REQ_CREDIT_BUREAU_MON: double (nullable = true)\n",
      " |-- AMT_REQ_CREDIT_BUREAU_QRT: double (nullable = true)\n",
      " |-- AMT_REQ_CREDIT_BUREAU_YEAR: double (nullable = true)\n",
      " |-- SK_ID_CURR_MIN: integer (nullable = true)\n",
      " |-- min(SK_ID_PREV): integer (nullable = true)\n",
      " |-- min(SK_ID_CURR_MIN): integer (nullable = true)\n",
      " |-- min(MONTHS_BALANCE): integer (nullable = true)\n",
      " |-- min(CNT_INSTALMENT): double (nullable = true)\n",
      " |-- min(CNT_INSTALMENT_FUTURE): double (nullable = true)\n",
      " |-- min(SK_DPD): integer (nullable = true)\n",
      " |-- min(SK_DPD_DEF): integer (nullable = true)\n",
      " |-- SK_ID_CURR_MAX: integer (nullable = true)\n",
      " |-- max(SK_ID_PREV): integer (nullable = true)\n",
      " |-- max(SK_ID_CURR_MAX): integer (nullable = true)\n",
      " |-- max(MONTHS_BALANCE): integer (nullable = true)\n",
      " |-- max(CNT_INSTALMENT): double (nullable = true)\n",
      " |-- max(CNT_INSTALMENT_FUTURE): double (nullable = true)\n",
      " |-- max(SK_DPD): integer (nullable = true)\n",
      " |-- max(SK_DPD_DEF): integer (nullable = true)\n",
      " |-- SK_ID_CURR_BUR_MIN: integer (nullable = true)\n",
      " |-- min(SK_ID_CURR_BUR_MIN): integer (nullable = true)\n",
      " |-- min(SK_ID_BUREAU): integer (nullable = true)\n",
      " |-- min(DAYS_CREDIT): integer (nullable = true)\n",
      " |-- min(CREDIT_DAY_OVERDUE): integer (nullable = true)\n",
      " |-- min(DAYS_CREDIT_ENDDATE): double (nullable = true)\n",
      " |-- min(DAYS_ENDDATE_FACT): double (nullable = true)\n",
      " |-- min(AMT_CREDIT_MAX_OVERDUE): double (nullable = true)\n",
      " |-- min(CNT_CREDIT_PROLONG): integer (nullable = true)\n",
      " |-- min(AMT_CREDIT_SUM): double (nullable = true)\n",
      " |-- min(AMT_CREDIT_SUM_DEBT): double (nullable = true)\n",
      " |-- min(AMT_CREDIT_SUM_LIMIT): double (nullable = true)\n",
      " |-- min(AMT_CREDIT_SUM_OVERDUE): double (nullable = true)\n",
      " |-- min(DAYS_CREDIT_UPDATE): integer (nullable = true)\n",
      " |-- min(AMT_ANNUITY): double (nullable = true)\n",
      " |-- SK_ID_CURR_BUR_MAX: integer (nullable = true)\n",
      " |-- max(SK_ID_CURR_BUR_MAX): integer (nullable = true)\n",
      " |-- max(SK_ID_BUREAU): integer (nullable = true)\n",
      " |-- max(DAYS_CREDIT): integer (nullable = true)\n",
      " |-- max(CREDIT_DAY_OVERDUE): integer (nullable = true)\n",
      " |-- max(DAYS_CREDIT_ENDDATE): double (nullable = true)\n",
      " |-- max(DAYS_ENDDATE_FACT): double (nullable = true)\n",
      " |-- max(AMT_CREDIT_MAX_OVERDUE): double (nullable = true)\n",
      " |-- max(CNT_CREDIT_PROLONG): integer (nullable = true)\n",
      " |-- max(AMT_CREDIT_SUM): double (nullable = true)\n",
      " |-- max(AMT_CREDIT_SUM_DEBT): double (nullable = true)\n",
      " |-- max(AMT_CREDIT_SUM_LIMIT): double (nullable = true)\n",
      " |-- max(AMT_CREDIT_SUM_OVERDUE): double (nullable = true)\n",
      " |-- max(DAYS_CREDIT_UPDATE): integer (nullable = true)\n",
      " |-- max(AMT_ANNUITY): double (nullable = true)\n",
      "\n"
     ]
    }
   ],
   "source": [
    "sparkApplicationData\\\n",
    "  .printSchema()"
   ]
  },
  {
   "cell_type": "code",
   "execution_count": 9,
   "metadata": {},
   "outputs": [
    {
     "data": {
      "text/html": [
       "Column <b>SK_ID_CURR</b> has <b>0</b> null records"
      ],
      "text/plain": [
       "<IPython.core.display.HTML object>"
      ]
     },
     "metadata": {},
     "output_type": "display_data"
    },
    {
     "data": {
      "text/html": [
       "Column <b>TARGET</b> has <b>0</b> null records"
      ],
      "text/plain": [
       "<IPython.core.display.HTML object>"
      ]
     },
     "metadata": {},
     "output_type": "display_data"
    },
    {
     "data": {
      "text/html": [
       "Column <b>NAME_CONTRACT_TYPE</b> has <b>0</b> null records"
      ],
      "text/plain": [
       "<IPython.core.display.HTML object>"
      ]
     },
     "metadata": {},
     "output_type": "display_data"
    },
    {
     "data": {
      "text/html": [
       "Column <b>CODE_GENDER</b> has <b>0</b> null records"
      ],
      "text/plain": [
       "<IPython.core.display.HTML object>"
      ]
     },
     "metadata": {},
     "output_type": "display_data"
    },
    {
     "data": {
      "text/html": [
       "Column <b>FLAG_OWN_CAR</b> has <b>0</b> null records"
      ],
      "text/plain": [
       "<IPython.core.display.HTML object>"
      ]
     },
     "metadata": {},
     "output_type": "display_data"
    },
    {
     "data": {
      "text/html": [
       "Column <b>FLAG_OWN_REALTY</b> has <b>0</b> null records"
      ],
      "text/plain": [
       "<IPython.core.display.HTML object>"
      ]
     },
     "metadata": {},
     "output_type": "display_data"
    },
    {
     "data": {
      "text/html": [
       "Column <b>CNT_CHILDREN</b> has <b>0</b> null records"
      ],
      "text/plain": [
       "<IPython.core.display.HTML object>"
      ]
     },
     "metadata": {},
     "output_type": "display_data"
    },
    {
     "data": {
      "text/html": [
       "Column <b>AMT_INCOME_TOTAL</b> has <b>0</b> null records"
      ],
      "text/plain": [
       "<IPython.core.display.HTML object>"
      ]
     },
     "metadata": {},
     "output_type": "display_data"
    },
    {
     "data": {
      "text/html": [
       "Column <b>AMT_CREDIT</b> has <b>0</b> null records"
      ],
      "text/plain": [
       "<IPython.core.display.HTML object>"
      ]
     },
     "metadata": {},
     "output_type": "display_data"
    },
    {
     "data": {
      "text/html": [
       "Column <b>AMT_ANNUITY</b> has <b>12</b> null records"
      ],
      "text/plain": [
       "<IPython.core.display.HTML object>"
      ]
     },
     "metadata": {},
     "output_type": "display_data"
    },
    {
     "data": {
      "text/html": [
       "Column <b>AMT_GOODS_PRICE</b> has <b>278</b> null records"
      ],
      "text/plain": [
       "<IPython.core.display.HTML object>"
      ]
     },
     "metadata": {},
     "output_type": "display_data"
    },
    {
     "data": {
      "text/html": [
       "Column <b>NAME_TYPE_SUITE</b> has <b>1292</b> null records"
      ],
      "text/plain": [
       "<IPython.core.display.HTML object>"
      ]
     },
     "metadata": {},
     "output_type": "display_data"
    },
    {
     "data": {
      "text/html": [
       "Column <b>NAME_INCOME_TYPE</b> has <b>0</b> null records"
      ],
      "text/plain": [
       "<IPython.core.display.HTML object>"
      ]
     },
     "metadata": {},
     "output_type": "display_data"
    },
    {
     "data": {
      "text/html": [
       "Column <b>NAME_EDUCATION_TYPE</b> has <b>0</b> null records"
      ],
      "text/plain": [
       "<IPython.core.display.HTML object>"
      ]
     },
     "metadata": {},
     "output_type": "display_data"
    },
    {
     "data": {
      "text/html": [
       "Column <b>NAME_FAMILY_STATUS</b> has <b>0</b> null records"
      ],
      "text/plain": [
       "<IPython.core.display.HTML object>"
      ]
     },
     "metadata": {},
     "output_type": "display_data"
    },
    {
     "data": {
      "text/html": [
       "Column <b>NAME_HOUSING_TYPE</b> has <b>0</b> null records"
      ],
      "text/plain": [
       "<IPython.core.display.HTML object>"
      ]
     },
     "metadata": {},
     "output_type": "display_data"
    },
    {
     "data": {
      "text/html": [
       "Column <b>REGION_POPULATION_RELATIVE</b> has <b>0</b> null records"
      ],
      "text/plain": [
       "<IPython.core.display.HTML object>"
      ]
     },
     "metadata": {},
     "output_type": "display_data"
    },
    {
     "data": {
      "text/html": [
       "Column <b>DAYS_BIRTH</b> has <b>0</b> null records"
      ],
      "text/plain": [
       "<IPython.core.display.HTML object>"
      ]
     },
     "metadata": {},
     "output_type": "display_data"
    },
    {
     "data": {
      "text/html": [
       "Column <b>DAYS_EMPLOYED</b> has <b>0</b> null records"
      ],
      "text/plain": [
       "<IPython.core.display.HTML object>"
      ]
     },
     "metadata": {},
     "output_type": "display_data"
    },
    {
     "data": {
      "text/html": [
       "Column <b>DAYS_REGISTRATION</b> has <b>0</b> null records"
      ],
      "text/plain": [
       "<IPython.core.display.HTML object>"
      ]
     },
     "metadata": {},
     "output_type": "display_data"
    },
    {
     "data": {
      "text/html": [
       "Column <b>DAYS_ID_PUBLISH</b> has <b>0</b> null records"
      ],
      "text/plain": [
       "<IPython.core.display.HTML object>"
      ]
     },
     "metadata": {},
     "output_type": "display_data"
    },
    {
     "data": {
      "text/html": [
       "Column <b>OWN_CAR_AGE</b> has <b>202929</b> null records"
      ],
      "text/plain": [
       "<IPython.core.display.HTML object>"
      ]
     },
     "metadata": {},
     "output_type": "display_data"
    },
    {
     "data": {
      "text/html": [
       "Column <b>FLAG_MOBIL</b> has <b>0</b> null records"
      ],
      "text/plain": [
       "<IPython.core.display.HTML object>"
      ]
     },
     "metadata": {},
     "output_type": "display_data"
    },
    {
     "data": {
      "text/html": [
       "Column <b>FLAG_EMP_PHONE</b> has <b>0</b> null records"
      ],
      "text/plain": [
       "<IPython.core.display.HTML object>"
      ]
     },
     "metadata": {},
     "output_type": "display_data"
    },
    {
     "data": {
      "text/html": [
       "Column <b>FLAG_WORK_PHONE</b> has <b>0</b> null records"
      ],
      "text/plain": [
       "<IPython.core.display.HTML object>"
      ]
     },
     "metadata": {},
     "output_type": "display_data"
    },
    {
     "data": {
      "text/html": [
       "Column <b>FLAG_CONT_MOBILE</b> has <b>0</b> null records"
      ],
      "text/plain": [
       "<IPython.core.display.HTML object>"
      ]
     },
     "metadata": {},
     "output_type": "display_data"
    },
    {
     "data": {
      "text/html": [
       "Column <b>FLAG_PHONE</b> has <b>0</b> null records"
      ],
      "text/plain": [
       "<IPython.core.display.HTML object>"
      ]
     },
     "metadata": {},
     "output_type": "display_data"
    },
    {
     "data": {
      "text/html": [
       "Column <b>FLAG_EMAIL</b> has <b>0</b> null records"
      ],
      "text/plain": [
       "<IPython.core.display.HTML object>"
      ]
     },
     "metadata": {},
     "output_type": "display_data"
    },
    {
     "data": {
      "text/html": [
       "Column <b>OCCUPATION_TYPE</b> has <b>96391</b> null records"
      ],
      "text/plain": [
       "<IPython.core.display.HTML object>"
      ]
     },
     "metadata": {},
     "output_type": "display_data"
    },
    {
     "data": {
      "text/html": [
       "Column <b>CNT_FAM_MEMBERS</b> has <b>2</b> null records"
      ],
      "text/plain": [
       "<IPython.core.display.HTML object>"
      ]
     },
     "metadata": {},
     "output_type": "display_data"
    },
    {
     "data": {
      "text/html": [
       "Column <b>REGION_RATING_CLIENT</b> has <b>0</b> null records"
      ],
      "text/plain": [
       "<IPython.core.display.HTML object>"
      ]
     },
     "metadata": {},
     "output_type": "display_data"
    },
    {
     "data": {
      "text/html": [
       "Column <b>REGION_RATING_CLIENT_W_CITY</b> has <b>0</b> null records"
      ],
      "text/plain": [
       "<IPython.core.display.HTML object>"
      ]
     },
     "metadata": {},
     "output_type": "display_data"
    },
    {
     "data": {
      "text/html": [
       "Column <b>WEEKDAY_APPR_PROCESS_START</b> has <b>0</b> null records"
      ],
      "text/plain": [
       "<IPython.core.display.HTML object>"
      ]
     },
     "metadata": {},
     "output_type": "display_data"
    },
    {
     "data": {
      "text/html": [
       "Column <b>HOUR_APPR_PROCESS_START</b> has <b>0</b> null records"
      ],
      "text/plain": [
       "<IPython.core.display.HTML object>"
      ]
     },
     "metadata": {},
     "output_type": "display_data"
    },
    {
     "data": {
      "text/html": [
       "Column <b>REG_REGION_NOT_LIVE_REGION</b> has <b>0</b> null records"
      ],
      "text/plain": [
       "<IPython.core.display.HTML object>"
      ]
     },
     "metadata": {},
     "output_type": "display_data"
    },
    {
     "data": {
      "text/html": [
       "Column <b>REG_REGION_NOT_WORK_REGION</b> has <b>0</b> null records"
      ],
      "text/plain": [
       "<IPython.core.display.HTML object>"
      ]
     },
     "metadata": {},
     "output_type": "display_data"
    },
    {
     "data": {
      "text/html": [
       "Column <b>LIVE_REGION_NOT_WORK_REGION</b> has <b>0</b> null records"
      ],
      "text/plain": [
       "<IPython.core.display.HTML object>"
      ]
     },
     "metadata": {},
     "output_type": "display_data"
    },
    {
     "data": {
      "text/html": [
       "Column <b>REG_CITY_NOT_LIVE_CITY</b> has <b>0</b> null records"
      ],
      "text/plain": [
       "<IPython.core.display.HTML object>"
      ]
     },
     "metadata": {},
     "output_type": "display_data"
    },
    {
     "data": {
      "text/html": [
       "Column <b>REG_CITY_NOT_WORK_CITY</b> has <b>0</b> null records"
      ],
      "text/plain": [
       "<IPython.core.display.HTML object>"
      ]
     },
     "metadata": {},
     "output_type": "display_data"
    },
    {
     "data": {
      "text/html": [
       "Column <b>LIVE_CITY_NOT_WORK_CITY</b> has <b>0</b> null records"
      ],
      "text/plain": [
       "<IPython.core.display.HTML object>"
      ]
     },
     "metadata": {},
     "output_type": "display_data"
    },
    {
     "data": {
      "text/html": [
       "Column <b>ORGANIZATION_TYPE</b> has <b>0</b> null records"
      ],
      "text/plain": [
       "<IPython.core.display.HTML object>"
      ]
     },
     "metadata": {},
     "output_type": "display_data"
    },
    {
     "data": {
      "text/html": [
       "Column <b>EXT_SOURCE_1</b> has <b>173378</b> null records"
      ],
      "text/plain": [
       "<IPython.core.display.HTML object>"
      ]
     },
     "metadata": {},
     "output_type": "display_data"
    },
    {
     "data": {
      "text/html": [
       "Column <b>EXT_SOURCE_2</b> has <b>660</b> null records"
      ],
      "text/plain": [
       "<IPython.core.display.HTML object>"
      ]
     },
     "metadata": {},
     "output_type": "display_data"
    },
    {
     "data": {
      "text/html": [
       "Column <b>EXT_SOURCE_3</b> has <b>60965</b> null records"
      ],
      "text/plain": [
       "<IPython.core.display.HTML object>"
      ]
     },
     "metadata": {},
     "output_type": "display_data"
    },
    {
     "data": {
      "text/html": [
       "Column <b>APARTMENTS_AVG</b> has <b>156061</b> null records"
      ],
      "text/plain": [
       "<IPython.core.display.HTML object>"
      ]
     },
     "metadata": {},
     "output_type": "display_data"
    },
    {
     "data": {
      "text/html": [
       "Column <b>BASEMENTAREA_AVG</b> has <b>179943</b> null records"
      ],
      "text/plain": [
       "<IPython.core.display.HTML object>"
      ]
     },
     "metadata": {},
     "output_type": "display_data"
    },
    {
     "data": {
      "text/html": [
       "Column <b>YEARS_BEGINEXPLUATATION_AVG</b> has <b>150007</b> null records"
      ],
      "text/plain": [
       "<IPython.core.display.HTML object>"
      ]
     },
     "metadata": {},
     "output_type": "display_data"
    },
    {
     "data": {
      "text/html": [
       "Column <b>YEARS_BUILD_AVG</b> has <b>204488</b> null records"
      ],
      "text/plain": [
       "<IPython.core.display.HTML object>"
      ]
     },
     "metadata": {},
     "output_type": "display_data"
    },
    {
     "data": {
      "text/html": [
       "Column <b>COMMONAREA_AVG</b> has <b>214865</b> null records"
      ],
      "text/plain": [
       "<IPython.core.display.HTML object>"
      ]
     },
     "metadata": {},
     "output_type": "display_data"
    },
    {
     "data": {
      "text/html": [
       "Column <b>ELEVATORS_AVG</b> has <b>163891</b> null records"
      ],
      "text/plain": [
       "<IPython.core.display.HTML object>"
      ]
     },
     "metadata": {},
     "output_type": "display_data"
    },
    {
     "data": {
      "text/html": [
       "Column <b>ENTRANCES_AVG</b> has <b>154828</b> null records"
      ],
      "text/plain": [
       "<IPython.core.display.HTML object>"
      ]
     },
     "metadata": {},
     "output_type": "display_data"
    },
    {
     "data": {
      "text/html": [
       "Column <b>FLOORSMAX_AVG</b> has <b>153020</b> null records"
      ],
      "text/plain": [
       "<IPython.core.display.HTML object>"
      ]
     },
     "metadata": {},
     "output_type": "display_data"
    },
    {
     "data": {
      "text/html": [
       "Column <b>FLOORSMIN_AVG</b> has <b>208642</b> null records"
      ],
      "text/plain": [
       "<IPython.core.display.HTML object>"
      ]
     },
     "metadata": {},
     "output_type": "display_data"
    },
    {
     "data": {
      "text/html": [
       "Column <b>LANDAREA_AVG</b> has <b>182590</b> null records"
      ],
      "text/plain": [
       "<IPython.core.display.HTML object>"
      ]
     },
     "metadata": {},
     "output_type": "display_data"
    },
    {
     "data": {
      "text/html": [
       "Column <b>LIVINGAPARTMENTS_AVG</b> has <b>210199</b> null records"
      ],
      "text/plain": [
       "<IPython.core.display.HTML object>"
      ]
     },
     "metadata": {},
     "output_type": "display_data"
    },
    {
     "data": {
      "text/html": [
       "Column <b>LIVINGAREA_AVG</b> has <b>154350</b> null records"
      ],
      "text/plain": [
       "<IPython.core.display.HTML object>"
      ]
     },
     "metadata": {},
     "output_type": "display_data"
    },
    {
     "data": {
      "text/html": [
       "Column <b>NONLIVINGAPARTMENTS_AVG</b> has <b>213514</b> null records"
      ],
      "text/plain": [
       "<IPython.core.display.HTML object>"
      ]
     },
     "metadata": {},
     "output_type": "display_data"
    },
    {
     "data": {
      "text/html": [
       "Column <b>NONLIVINGAREA_AVG</b> has <b>169682</b> null records"
      ],
      "text/plain": [
       "<IPython.core.display.HTML object>"
      ]
     },
     "metadata": {},
     "output_type": "display_data"
    },
    {
     "data": {
      "text/html": [
       "Column <b>APARTMENTS_MODE</b> has <b>156061</b> null records"
      ],
      "text/plain": [
       "<IPython.core.display.HTML object>"
      ]
     },
     "metadata": {},
     "output_type": "display_data"
    },
    {
     "data": {
      "text/html": [
       "Column <b>BASEMENTAREA_MODE</b> has <b>179943</b> null records"
      ],
      "text/plain": [
       "<IPython.core.display.HTML object>"
      ]
     },
     "metadata": {},
     "output_type": "display_data"
    },
    {
     "data": {
      "text/html": [
       "Column <b>YEARS_BEGINEXPLUATATION_MODE</b> has <b>150007</b> null records"
      ],
      "text/plain": [
       "<IPython.core.display.HTML object>"
      ]
     },
     "metadata": {},
     "output_type": "display_data"
    },
    {
     "data": {
      "text/html": [
       "Column <b>YEARS_BUILD_MODE</b> has <b>204488</b> null records"
      ],
      "text/plain": [
       "<IPython.core.display.HTML object>"
      ]
     },
     "metadata": {},
     "output_type": "display_data"
    },
    {
     "data": {
      "text/html": [
       "Column <b>COMMONAREA_MODE</b> has <b>214865</b> null records"
      ],
      "text/plain": [
       "<IPython.core.display.HTML object>"
      ]
     },
     "metadata": {},
     "output_type": "display_data"
    },
    {
     "data": {
      "text/html": [
       "Column <b>ELEVATORS_MODE</b> has <b>163891</b> null records"
      ],
      "text/plain": [
       "<IPython.core.display.HTML object>"
      ]
     },
     "metadata": {},
     "output_type": "display_data"
    },
    {
     "data": {
      "text/html": [
       "Column <b>ENTRANCES_MODE</b> has <b>154828</b> null records"
      ],
      "text/plain": [
       "<IPython.core.display.HTML object>"
      ]
     },
     "metadata": {},
     "output_type": "display_data"
    },
    {
     "data": {
      "text/html": [
       "Column <b>FLOORSMAX_MODE</b> has <b>153020</b> null records"
      ],
      "text/plain": [
       "<IPython.core.display.HTML object>"
      ]
     },
     "metadata": {},
     "output_type": "display_data"
    },
    {
     "data": {
      "text/html": [
       "Column <b>FLOORSMIN_MODE</b> has <b>208642</b> null records"
      ],
      "text/plain": [
       "<IPython.core.display.HTML object>"
      ]
     },
     "metadata": {},
     "output_type": "display_data"
    },
    {
     "data": {
      "text/html": [
       "Column <b>LANDAREA_MODE</b> has <b>182590</b> null records"
      ],
      "text/plain": [
       "<IPython.core.display.HTML object>"
      ]
     },
     "metadata": {},
     "output_type": "display_data"
    },
    {
     "data": {
      "text/html": [
       "Column <b>LIVINGAPARTMENTS_MODE</b> has <b>210199</b> null records"
      ],
      "text/plain": [
       "<IPython.core.display.HTML object>"
      ]
     },
     "metadata": {},
     "output_type": "display_data"
    },
    {
     "data": {
      "text/html": [
       "Column <b>LIVINGAREA_MODE</b> has <b>154350</b> null records"
      ],
      "text/plain": [
       "<IPython.core.display.HTML object>"
      ]
     },
     "metadata": {},
     "output_type": "display_data"
    },
    {
     "data": {
      "text/html": [
       "Column <b>NONLIVINGAPARTMENTS_MODE</b> has <b>213514</b> null records"
      ],
      "text/plain": [
       "<IPython.core.display.HTML object>"
      ]
     },
     "metadata": {},
     "output_type": "display_data"
    },
    {
     "data": {
      "text/html": [
       "Column <b>NONLIVINGAREA_MODE</b> has <b>169682</b> null records"
      ],
      "text/plain": [
       "<IPython.core.display.HTML object>"
      ]
     },
     "metadata": {},
     "output_type": "display_data"
    },
    {
     "data": {
      "text/html": [
       "Column <b>APARTMENTS_MEDI</b> has <b>156061</b> null records"
      ],
      "text/plain": [
       "<IPython.core.display.HTML object>"
      ]
     },
     "metadata": {},
     "output_type": "display_data"
    },
    {
     "data": {
      "text/html": [
       "Column <b>BASEMENTAREA_MEDI</b> has <b>179943</b> null records"
      ],
      "text/plain": [
       "<IPython.core.display.HTML object>"
      ]
     },
     "metadata": {},
     "output_type": "display_data"
    },
    {
     "data": {
      "text/html": [
       "Column <b>YEARS_BEGINEXPLUATATION_MEDI</b> has <b>150007</b> null records"
      ],
      "text/plain": [
       "<IPython.core.display.HTML object>"
      ]
     },
     "metadata": {},
     "output_type": "display_data"
    },
    {
     "data": {
      "text/html": [
       "Column <b>YEARS_BUILD_MEDI</b> has <b>204488</b> null records"
      ],
      "text/plain": [
       "<IPython.core.display.HTML object>"
      ]
     },
     "metadata": {},
     "output_type": "display_data"
    },
    {
     "data": {
      "text/html": [
       "Column <b>COMMONAREA_MEDI</b> has <b>214865</b> null records"
      ],
      "text/plain": [
       "<IPython.core.display.HTML object>"
      ]
     },
     "metadata": {},
     "output_type": "display_data"
    },
    {
     "data": {
      "text/html": [
       "Column <b>ELEVATORS_MEDI</b> has <b>163891</b> null records"
      ],
      "text/plain": [
       "<IPython.core.display.HTML object>"
      ]
     },
     "metadata": {},
     "output_type": "display_data"
    },
    {
     "data": {
      "text/html": [
       "Column <b>ENTRANCES_MEDI</b> has <b>154828</b> null records"
      ],
      "text/plain": [
       "<IPython.core.display.HTML object>"
      ]
     },
     "metadata": {},
     "output_type": "display_data"
    },
    {
     "data": {
      "text/html": [
       "Column <b>FLOORSMAX_MEDI</b> has <b>153020</b> null records"
      ],
      "text/plain": [
       "<IPython.core.display.HTML object>"
      ]
     },
     "metadata": {},
     "output_type": "display_data"
    },
    {
     "data": {
      "text/html": [
       "Column <b>FLOORSMIN_MEDI</b> has <b>208642</b> null records"
      ],
      "text/plain": [
       "<IPython.core.display.HTML object>"
      ]
     },
     "metadata": {},
     "output_type": "display_data"
    },
    {
     "data": {
      "text/html": [
       "Column <b>LANDAREA_MEDI</b> has <b>182590</b> null records"
      ],
      "text/plain": [
       "<IPython.core.display.HTML object>"
      ]
     },
     "metadata": {},
     "output_type": "display_data"
    },
    {
     "data": {
      "text/html": [
       "Column <b>LIVINGAPARTMENTS_MEDI</b> has <b>210199</b> null records"
      ],
      "text/plain": [
       "<IPython.core.display.HTML object>"
      ]
     },
     "metadata": {},
     "output_type": "display_data"
    },
    {
     "data": {
      "text/html": [
       "Column <b>LIVINGAREA_MEDI</b> has <b>154350</b> null records"
      ],
      "text/plain": [
       "<IPython.core.display.HTML object>"
      ]
     },
     "metadata": {},
     "output_type": "display_data"
    },
    {
     "data": {
      "text/html": [
       "Column <b>NONLIVINGAPARTMENTS_MEDI</b> has <b>213514</b> null records"
      ],
      "text/plain": [
       "<IPython.core.display.HTML object>"
      ]
     },
     "metadata": {},
     "output_type": "display_data"
    },
    {
     "data": {
      "text/html": [
       "Column <b>NONLIVINGAREA_MEDI</b> has <b>169682</b> null records"
      ],
      "text/plain": [
       "<IPython.core.display.HTML object>"
      ]
     },
     "metadata": {},
     "output_type": "display_data"
    },
    {
     "data": {
      "text/html": [
       "Column <b>FONDKAPREMONT_MODE</b> has <b>210295</b> null records"
      ],
      "text/plain": [
       "<IPython.core.display.HTML object>"
      ]
     },
     "metadata": {},
     "output_type": "display_data"
    },
    {
     "data": {
      "text/html": [
       "Column <b>HOUSETYPE_MODE</b> has <b>154297</b> null records"
      ],
      "text/plain": [
       "<IPython.core.display.HTML object>"
      ]
     },
     "metadata": {},
     "output_type": "display_data"
    },
    {
     "data": {
      "text/html": [
       "Column <b>TOTALAREA_MODE</b> has <b>148431</b> null records"
      ],
      "text/plain": [
       "<IPython.core.display.HTML object>"
      ]
     },
     "metadata": {},
     "output_type": "display_data"
    },
    {
     "data": {
      "text/html": [
       "Column <b>WALLSMATERIAL_MODE</b> has <b>156341</b> null records"
      ],
      "text/plain": [
       "<IPython.core.display.HTML object>"
      ]
     },
     "metadata": {},
     "output_type": "display_data"
    },
    {
     "data": {
      "text/html": [
       "Column <b>EMERGENCYSTATE_MODE</b> has <b>145755</b> null records"
      ],
      "text/plain": [
       "<IPython.core.display.HTML object>"
      ]
     },
     "metadata": {},
     "output_type": "display_data"
    },
    {
     "data": {
      "text/html": [
       "Column <b>OBS_30_CNT_SOCIAL_CIRCLE</b> has <b>1021</b> null records"
      ],
      "text/plain": [
       "<IPython.core.display.HTML object>"
      ]
     },
     "metadata": {},
     "output_type": "display_data"
    },
    {
     "data": {
      "text/html": [
       "Column <b>DEF_30_CNT_SOCIAL_CIRCLE</b> has <b>1021</b> null records"
      ],
      "text/plain": [
       "<IPython.core.display.HTML object>"
      ]
     },
     "metadata": {},
     "output_type": "display_data"
    },
    {
     "data": {
      "text/html": [
       "Column <b>OBS_60_CNT_SOCIAL_CIRCLE</b> has <b>1021</b> null records"
      ],
      "text/plain": [
       "<IPython.core.display.HTML object>"
      ]
     },
     "metadata": {},
     "output_type": "display_data"
    },
    {
     "data": {
      "text/html": [
       "Column <b>DEF_60_CNT_SOCIAL_CIRCLE</b> has <b>1021</b> null records"
      ],
      "text/plain": [
       "<IPython.core.display.HTML object>"
      ]
     },
     "metadata": {},
     "output_type": "display_data"
    },
    {
     "data": {
      "text/html": [
       "Column <b>DAYS_LAST_PHONE_CHANGE</b> has <b>1</b> null records"
      ],
      "text/plain": [
       "<IPython.core.display.HTML object>"
      ]
     },
     "metadata": {},
     "output_type": "display_data"
    },
    {
     "data": {
      "text/html": [
       "Column <b>FLAG_DOCUMENT_2</b> has <b>0</b> null records"
      ],
      "text/plain": [
       "<IPython.core.display.HTML object>"
      ]
     },
     "metadata": {},
     "output_type": "display_data"
    },
    {
     "data": {
      "text/html": [
       "Column <b>FLAG_DOCUMENT_3</b> has <b>0</b> null records"
      ],
      "text/plain": [
       "<IPython.core.display.HTML object>"
      ]
     },
     "metadata": {},
     "output_type": "display_data"
    },
    {
     "data": {
      "text/html": [
       "Column <b>FLAG_DOCUMENT_4</b> has <b>0</b> null records"
      ],
      "text/plain": [
       "<IPython.core.display.HTML object>"
      ]
     },
     "metadata": {},
     "output_type": "display_data"
    },
    {
     "data": {
      "text/html": [
       "Column <b>FLAG_DOCUMENT_5</b> has <b>0</b> null records"
      ],
      "text/plain": [
       "<IPython.core.display.HTML object>"
      ]
     },
     "metadata": {},
     "output_type": "display_data"
    },
    {
     "data": {
      "text/html": [
       "Column <b>FLAG_DOCUMENT_6</b> has <b>0</b> null records"
      ],
      "text/plain": [
       "<IPython.core.display.HTML object>"
      ]
     },
     "metadata": {},
     "output_type": "display_data"
    },
    {
     "data": {
      "text/html": [
       "Column <b>FLAG_DOCUMENT_7</b> has <b>0</b> null records"
      ],
      "text/plain": [
       "<IPython.core.display.HTML object>"
      ]
     },
     "metadata": {},
     "output_type": "display_data"
    },
    {
     "data": {
      "text/html": [
       "Column <b>FLAG_DOCUMENT_8</b> has <b>0</b> null records"
      ],
      "text/plain": [
       "<IPython.core.display.HTML object>"
      ]
     },
     "metadata": {},
     "output_type": "display_data"
    },
    {
     "data": {
      "text/html": [
       "Column <b>FLAG_DOCUMENT_9</b> has <b>0</b> null records"
      ],
      "text/plain": [
       "<IPython.core.display.HTML object>"
      ]
     },
     "metadata": {},
     "output_type": "display_data"
    },
    {
     "data": {
      "text/html": [
       "Column <b>FLAG_DOCUMENT_10</b> has <b>0</b> null records"
      ],
      "text/plain": [
       "<IPython.core.display.HTML object>"
      ]
     },
     "metadata": {},
     "output_type": "display_data"
    },
    {
     "data": {
      "text/html": [
       "Column <b>FLAG_DOCUMENT_11</b> has <b>0</b> null records"
      ],
      "text/plain": [
       "<IPython.core.display.HTML object>"
      ]
     },
     "metadata": {},
     "output_type": "display_data"
    },
    {
     "data": {
      "text/html": [
       "Column <b>FLAG_DOCUMENT_12</b> has <b>0</b> null records"
      ],
      "text/plain": [
       "<IPython.core.display.HTML object>"
      ]
     },
     "metadata": {},
     "output_type": "display_data"
    },
    {
     "data": {
      "text/html": [
       "Column <b>FLAG_DOCUMENT_13</b> has <b>0</b> null records"
      ],
      "text/plain": [
       "<IPython.core.display.HTML object>"
      ]
     },
     "metadata": {},
     "output_type": "display_data"
    },
    {
     "data": {
      "text/html": [
       "Column <b>FLAG_DOCUMENT_14</b> has <b>0</b> null records"
      ],
      "text/plain": [
       "<IPython.core.display.HTML object>"
      ]
     },
     "metadata": {},
     "output_type": "display_data"
    },
    {
     "data": {
      "text/html": [
       "Column <b>FLAG_DOCUMENT_15</b> has <b>0</b> null records"
      ],
      "text/plain": [
       "<IPython.core.display.HTML object>"
      ]
     },
     "metadata": {},
     "output_type": "display_data"
    },
    {
     "data": {
      "text/html": [
       "Column <b>FLAG_DOCUMENT_16</b> has <b>0</b> null records"
      ],
      "text/plain": [
       "<IPython.core.display.HTML object>"
      ]
     },
     "metadata": {},
     "output_type": "display_data"
    },
    {
     "data": {
      "text/html": [
       "Column <b>FLAG_DOCUMENT_17</b> has <b>0</b> null records"
      ],
      "text/plain": [
       "<IPython.core.display.HTML object>"
      ]
     },
     "metadata": {},
     "output_type": "display_data"
    },
    {
     "data": {
      "text/html": [
       "Column <b>FLAG_DOCUMENT_18</b> has <b>0</b> null records"
      ],
      "text/plain": [
       "<IPython.core.display.HTML object>"
      ]
     },
     "metadata": {},
     "output_type": "display_data"
    },
    {
     "data": {
      "text/html": [
       "Column <b>FLAG_DOCUMENT_19</b> has <b>0</b> null records"
      ],
      "text/plain": [
       "<IPython.core.display.HTML object>"
      ]
     },
     "metadata": {},
     "output_type": "display_data"
    },
    {
     "data": {
      "text/html": [
       "Column <b>FLAG_DOCUMENT_20</b> has <b>0</b> null records"
      ],
      "text/plain": [
       "<IPython.core.display.HTML object>"
      ]
     },
     "metadata": {},
     "output_type": "display_data"
    },
    {
     "data": {
      "text/html": [
       "Column <b>FLAG_DOCUMENT_21</b> has <b>0</b> null records"
      ],
      "text/plain": [
       "<IPython.core.display.HTML object>"
      ]
     },
     "metadata": {},
     "output_type": "display_data"
    },
    {
     "data": {
      "text/html": [
       "Column <b>AMT_REQ_CREDIT_BUREAU_HOUR</b> has <b>41519</b> null records"
      ],
      "text/plain": [
       "<IPython.core.display.HTML object>"
      ]
     },
     "metadata": {},
     "output_type": "display_data"
    },
    {
     "data": {
      "text/html": [
       "Column <b>AMT_REQ_CREDIT_BUREAU_DAY</b> has <b>41519</b> null records"
      ],
      "text/plain": [
       "<IPython.core.display.HTML object>"
      ]
     },
     "metadata": {},
     "output_type": "display_data"
    },
    {
     "data": {
      "text/html": [
       "Column <b>AMT_REQ_CREDIT_BUREAU_WEEK</b> has <b>41519</b> null records"
      ],
      "text/plain": [
       "<IPython.core.display.HTML object>"
      ]
     },
     "metadata": {},
     "output_type": "display_data"
    },
    {
     "data": {
      "text/html": [
       "Column <b>AMT_REQ_CREDIT_BUREAU_MON</b> has <b>41519</b> null records"
      ],
      "text/plain": [
       "<IPython.core.display.HTML object>"
      ]
     },
     "metadata": {},
     "output_type": "display_data"
    },
    {
     "data": {
      "text/html": [
       "Column <b>AMT_REQ_CREDIT_BUREAU_QRT</b> has <b>41519</b> null records"
      ],
      "text/plain": [
       "<IPython.core.display.HTML object>"
      ]
     },
     "metadata": {},
     "output_type": "display_data"
    },
    {
     "data": {
      "text/html": [
       "Column <b>AMT_REQ_CREDIT_BUREAU_YEAR</b> has <b>41519</b> null records"
      ],
      "text/plain": [
       "<IPython.core.display.HTML object>"
      ]
     },
     "metadata": {},
     "output_type": "display_data"
    },
    {
     "data": {
      "text/html": [
       "Column <b>SK_ID_CURR_MIN</b> has <b>18067</b> null records"
      ],
      "text/plain": [
       "<IPython.core.display.HTML object>"
      ]
     },
     "metadata": {},
     "output_type": "display_data"
    },
    {
     "data": {
      "text/html": [
       "Column <b>min(SK_ID_PREV)</b> has <b>18067</b> null records"
      ],
      "text/plain": [
       "<IPython.core.display.HTML object>"
      ]
     },
     "metadata": {},
     "output_type": "display_data"
    },
    {
     "data": {
      "text/html": [
       "Column <b>min(SK_ID_CURR_MIN)</b> has <b>18067</b> null records"
      ],
      "text/plain": [
       "<IPython.core.display.HTML object>"
      ]
     },
     "metadata": {},
     "output_type": "display_data"
    },
    {
     "data": {
      "text/html": [
       "Column <b>min(MONTHS_BALANCE)</b> has <b>18067</b> null records"
      ],
      "text/plain": [
       "<IPython.core.display.HTML object>"
      ]
     },
     "metadata": {},
     "output_type": "display_data"
    },
    {
     "data": {
      "text/html": [
       "Column <b>min(CNT_INSTALMENT)</b> has <b>18091</b> null records"
      ],
      "text/plain": [
       "<IPython.core.display.HTML object>"
      ]
     },
     "metadata": {},
     "output_type": "display_data"
    },
    {
     "data": {
      "text/html": [
       "Column <b>min(CNT_INSTALMENT_FUTURE)</b> has <b>18091</b> null records"
      ],
      "text/plain": [
       "<IPython.core.display.HTML object>"
      ]
     },
     "metadata": {},
     "output_type": "display_data"
    },
    {
     "data": {
      "text/html": [
       "Column <b>min(SK_DPD)</b> has <b>18067</b> null records"
      ],
      "text/plain": [
       "<IPython.core.display.HTML object>"
      ]
     },
     "metadata": {},
     "output_type": "display_data"
    },
    {
     "data": {
      "text/html": [
       "Column <b>min(SK_DPD_DEF)</b> has <b>18067</b> null records"
      ],
      "text/plain": [
       "<IPython.core.display.HTML object>"
      ]
     },
     "metadata": {},
     "output_type": "display_data"
    },
    {
     "data": {
      "text/html": [
       "Column <b>SK_ID_CURR_MAX</b> has <b>18067</b> null records"
      ],
      "text/plain": [
       "<IPython.core.display.HTML object>"
      ]
     },
     "metadata": {},
     "output_type": "display_data"
    },
    {
     "data": {
      "text/html": [
       "Column <b>max(SK_ID_PREV)</b> has <b>18067</b> null records"
      ],
      "text/plain": [
       "<IPython.core.display.HTML object>"
      ]
     },
     "metadata": {},
     "output_type": "display_data"
    },
    {
     "data": {
      "text/html": [
       "Column <b>max(SK_ID_CURR_MAX)</b> has <b>18067</b> null records"
      ],
      "text/plain": [
       "<IPython.core.display.HTML object>"
      ]
     },
     "metadata": {},
     "output_type": "display_data"
    },
    {
     "data": {
      "text/html": [
       "Column <b>max(MONTHS_BALANCE)</b> has <b>18067</b> null records"
      ],
      "text/plain": [
       "<IPython.core.display.HTML object>"
      ]
     },
     "metadata": {},
     "output_type": "display_data"
    },
    {
     "data": {
      "text/html": [
       "Column <b>max(CNT_INSTALMENT)</b> has <b>18091</b> null records"
      ],
      "text/plain": [
       "<IPython.core.display.HTML object>"
      ]
     },
     "metadata": {},
     "output_type": "display_data"
    },
    {
     "data": {
      "text/html": [
       "Column <b>max(CNT_INSTALMENT_FUTURE)</b> has <b>18091</b> null records"
      ],
      "text/plain": [
       "<IPython.core.display.HTML object>"
      ]
     },
     "metadata": {},
     "output_type": "display_data"
    },
    {
     "data": {
      "text/html": [
       "Column <b>max(SK_DPD)</b> has <b>18067</b> null records"
      ],
      "text/plain": [
       "<IPython.core.display.HTML object>"
      ]
     },
     "metadata": {},
     "output_type": "display_data"
    },
    {
     "data": {
      "text/html": [
       "Column <b>max(SK_DPD_DEF)</b> has <b>18067</b> null records"
      ],
      "text/plain": [
       "<IPython.core.display.HTML object>"
      ]
     },
     "metadata": {},
     "output_type": "display_data"
    },
    {
     "data": {
      "text/html": [
       "Column <b>SK_ID_CURR_BUR_MIN</b> has <b>44020</b> null records"
      ],
      "text/plain": [
       "<IPython.core.display.HTML object>"
      ]
     },
     "metadata": {},
     "output_type": "display_data"
    },
    {
     "data": {
      "text/html": [
       "Column <b>min(SK_ID_CURR_BUR_MIN)</b> has <b>44020</b> null records"
      ],
      "text/plain": [
       "<IPython.core.display.HTML object>"
      ]
     },
     "metadata": {},
     "output_type": "display_data"
    },
    {
     "data": {
      "text/html": [
       "Column <b>min(SK_ID_BUREAU)</b> has <b>44020</b> null records"
      ],
      "text/plain": [
       "<IPython.core.display.HTML object>"
      ]
     },
     "metadata": {},
     "output_type": "display_data"
    },
    {
     "data": {
      "text/html": [
       "Column <b>min(DAYS_CREDIT)</b> has <b>44020</b> null records"
      ],
      "text/plain": [
       "<IPython.core.display.HTML object>"
      ]
     },
     "metadata": {},
     "output_type": "display_data"
    },
    {
     "data": {
      "text/html": [
       "Column <b>min(CREDIT_DAY_OVERDUE)</b> has <b>44020</b> null records"
      ],
      "text/plain": [
       "<IPython.core.display.HTML object>"
      ]
     },
     "metadata": {},
     "output_type": "display_data"
    },
    {
     "data": {
      "text/html": [
       "Column <b>min(DAYS_CREDIT_ENDDATE)</b> has <b>46269</b> null records"
      ],
      "text/plain": [
       "<IPython.core.display.HTML object>"
      ]
     },
     "metadata": {},
     "output_type": "display_data"
    },
    {
     "data": {
      "text/html": [
       "Column <b>min(DAYS_ENDDATE_FACT)</b> has <b>77156</b> null records"
      ],
      "text/plain": [
       "<IPython.core.display.HTML object>"
      ]
     },
     "metadata": {},
     "output_type": "display_data"
    },
    {
     "data": {
      "text/html": [
       "Column <b>min(AMT_CREDIT_MAX_OVERDUE)</b> has <b>123625</b> null records"
      ],
      "text/plain": [
       "<IPython.core.display.HTML object>"
      ]
     },
     "metadata": {},
     "output_type": "display_data"
    },
    {
     "data": {
      "text/html": [
       "Column <b>min(CNT_CREDIT_PROLONG)</b> has <b>44020</b> null records"
      ],
      "text/plain": [
       "<IPython.core.display.HTML object>"
      ]
     },
     "metadata": {},
     "output_type": "display_data"
    },
    {
     "data": {
      "text/html": [
       "Column <b>min(AMT_CREDIT_SUM)</b> has <b>44021</b> null records"
      ],
      "text/plain": [
       "<IPython.core.display.HTML object>"
      ]
     },
     "metadata": {},
     "output_type": "display_data"
    },
    {
     "data": {
      "text/html": [
       "Column <b>min(AMT_CREDIT_SUM_DEBT)</b> has <b>51380</b> null records"
      ],
      "text/plain": [
       "<IPython.core.display.HTML object>"
      ]
     },
     "metadata": {},
     "output_type": "display_data"
    },
    {
     "data": {
      "text/html": [
       "Column <b>min(AMT_CREDIT_SUM_LIMIT)</b> has <b>65069</b> null records"
      ],
      "text/plain": [
       "<IPython.core.display.HTML object>"
      ]
     },
     "metadata": {},
     "output_type": "display_data"
    },
    {
     "data": {
      "text/html": [
       "Column <b>min(AMT_CREDIT_SUM_OVERDUE)</b> has <b>44020</b> null records"
      ],
      "text/plain": [
       "<IPython.core.display.HTML object>"
      ]
     },
     "metadata": {},
     "output_type": "display_data"
    },
    {
     "data": {
      "text/html": [
       "Column <b>min(DAYS_CREDIT_UPDATE)</b> has <b>44020</b> null records"
      ],
      "text/plain": [
       "<IPython.core.display.HTML object>"
      ]
     },
     "metadata": {},
     "output_type": "display_data"
    },
    {
     "data": {
      "text/html": [
       "Column <b>min(AMT_ANNUITY)</b> has <b>227502</b> null records"
      ],
      "text/plain": [
       "<IPython.core.display.HTML object>"
      ]
     },
     "metadata": {},
     "output_type": "display_data"
    },
    {
     "data": {
      "text/html": [
       "Column <b>SK_ID_CURR_BUR_MAX</b> has <b>44020</b> null records"
      ],
      "text/plain": [
       "<IPython.core.display.HTML object>"
      ]
     },
     "metadata": {},
     "output_type": "display_data"
    },
    {
     "data": {
      "text/html": [
       "Column <b>max(SK_ID_CURR_BUR_MAX)</b> has <b>44020</b> null records"
      ],
      "text/plain": [
       "<IPython.core.display.HTML object>"
      ]
     },
     "metadata": {},
     "output_type": "display_data"
    },
    {
     "data": {
      "text/html": [
       "Column <b>max(SK_ID_BUREAU)</b> has <b>44020</b> null records"
      ],
      "text/plain": [
       "<IPython.core.display.HTML object>"
      ]
     },
     "metadata": {},
     "output_type": "display_data"
    },
    {
     "data": {
      "text/html": [
       "Column <b>max(DAYS_CREDIT)</b> has <b>44020</b> null records"
      ],
      "text/plain": [
       "<IPython.core.display.HTML object>"
      ]
     },
     "metadata": {},
     "output_type": "display_data"
    },
    {
     "data": {
      "text/html": [
       "Column <b>max(CREDIT_DAY_OVERDUE)</b> has <b>44020</b> null records"
      ],
      "text/plain": [
       "<IPython.core.display.HTML object>"
      ]
     },
     "metadata": {},
     "output_type": "display_data"
    },
    {
     "data": {
      "text/html": [
       "Column <b>max(DAYS_CREDIT_ENDDATE)</b> has <b>46269</b> null records"
      ],
      "text/plain": [
       "<IPython.core.display.HTML object>"
      ]
     },
     "metadata": {},
     "output_type": "display_data"
    },
    {
     "data": {
      "text/html": [
       "Column <b>max(DAYS_ENDDATE_FACT)</b> has <b>77156</b> null records"
      ],
      "text/plain": [
       "<IPython.core.display.HTML object>"
      ]
     },
     "metadata": {},
     "output_type": "display_data"
    },
    {
     "data": {
      "text/html": [
       "Column <b>max(AMT_CREDIT_MAX_OVERDUE)</b> has <b>123625</b> null records"
      ],
      "text/plain": [
       "<IPython.core.display.HTML object>"
      ]
     },
     "metadata": {},
     "output_type": "display_data"
    },
    {
     "data": {
      "text/html": [
       "Column <b>max(CNT_CREDIT_PROLONG)</b> has <b>44020</b> null records"
      ],
      "text/plain": [
       "<IPython.core.display.HTML object>"
      ]
     },
     "metadata": {},
     "output_type": "display_data"
    },
    {
     "data": {
      "text/html": [
       "Column <b>max(AMT_CREDIT_SUM)</b> has <b>44021</b> null records"
      ],
      "text/plain": [
       "<IPython.core.display.HTML object>"
      ]
     },
     "metadata": {},
     "output_type": "display_data"
    },
    {
     "data": {
      "text/html": [
       "Column <b>max(AMT_CREDIT_SUM_DEBT)</b> has <b>51380</b> null records"
      ],
      "text/plain": [
       "<IPython.core.display.HTML object>"
      ]
     },
     "metadata": {},
     "output_type": "display_data"
    },
    {
     "data": {
      "text/html": [
       "Column <b>max(AMT_CREDIT_SUM_LIMIT)</b> has <b>65069</b> null records"
      ],
      "text/plain": [
       "<IPython.core.display.HTML object>"
      ]
     },
     "metadata": {},
     "output_type": "display_data"
    },
    {
     "data": {
      "text/html": [
       "Column <b>max(AMT_CREDIT_SUM_OVERDUE)</b> has <b>44020</b> null records"
      ],
      "text/plain": [
       "<IPython.core.display.HTML object>"
      ]
     },
     "metadata": {},
     "output_type": "display_data"
    },
    {
     "data": {
      "text/html": [
       "Column <b>max(DAYS_CREDIT_UPDATE)</b> has <b>44020</b> null records"
      ],
      "text/plain": [
       "<IPython.core.display.HTML object>"
      ]
     },
     "metadata": {},
     "output_type": "display_data"
    },
    {
     "data": {
      "text/html": [
       "Column <b>max(AMT_ANNUITY)</b> has <b>227502</b> null records"
      ],
      "text/plain": [
       "<IPython.core.display.HTML object>"
      ]
     },
     "metadata": {},
     "output_type": "display_data"
    }
   ],
   "source": [
    "from pyspark.sql.functions import isnull\n",
    "from IPython.core.display import HTML\n",
    "for c in sparkApplicationData.columns:\n",
    "  nullCnt = sparkApplicationData.where(isnull(c)).count()\n",
    "  display(HTML('Column <b>{}</b> has <b>{}</b> null records'.format(str(c), nullCnt))) "
   ]
  },
  {
   "cell_type": "code",
   "execution_count": 10,
   "metadata": {},
   "outputs": [],
   "source": [
    "def displayPandas(sparkData):\n",
    "    display(\n",
    "    sparkData\n",
    "      .limit(5)\n",
    "      .toPandas()\n",
    "    )"
   ]
  },
  {
   "cell_type": "markdown",
   "metadata": {},
   "source": [
    "First 5 rows."
   ]
  },
  {
   "cell_type": "code",
   "execution_count": 11,
   "metadata": {},
   "outputs": [
    {
     "data": {
      "text/html": [
       "<div>\n",
       "<style scoped>\n",
       "    .dataframe tbody tr th:only-of-type {\n",
       "        vertical-align: middle;\n",
       "    }\n",
       "\n",
       "    .dataframe tbody tr th {\n",
       "        vertical-align: top;\n",
       "    }\n",
       "\n",
       "    .dataframe thead th {\n",
       "        text-align: right;\n",
       "    }\n",
       "</style>\n",
       "<table border=\"1\" class=\"dataframe\">\n",
       "  <thead>\n",
       "    <tr style=\"text-align: right;\">\n",
       "      <th></th>\n",
       "      <th>SK_ID_CURR</th>\n",
       "      <th>TARGET</th>\n",
       "      <th>NAME_CONTRACT_TYPE</th>\n",
       "      <th>CODE_GENDER</th>\n",
       "      <th>FLAG_OWN_CAR</th>\n",
       "      <th>FLAG_OWN_REALTY</th>\n",
       "      <th>CNT_CHILDREN</th>\n",
       "      <th>AMT_INCOME_TOTAL</th>\n",
       "      <th>AMT_CREDIT</th>\n",
       "      <th>AMT_ANNUITY</th>\n",
       "      <th>...</th>\n",
       "      <th>max(DAYS_CREDIT_ENDDATE)</th>\n",
       "      <th>max(DAYS_ENDDATE_FACT)</th>\n",
       "      <th>max(AMT_CREDIT_MAX_OVERDUE)</th>\n",
       "      <th>max(CNT_CREDIT_PROLONG)</th>\n",
       "      <th>max(AMT_CREDIT_SUM)</th>\n",
       "      <th>max(AMT_CREDIT_SUM_DEBT)</th>\n",
       "      <th>max(AMT_CREDIT_SUM_LIMIT)</th>\n",
       "      <th>max(AMT_CREDIT_SUM_OVERDUE)</th>\n",
       "      <th>max(DAYS_CREDIT_UPDATE)</th>\n",
       "      <th>max(AMT_ANNUITY)</th>\n",
       "    </tr>\n",
       "  </thead>\n",
       "  <tbody>\n",
       "    <tr>\n",
       "      <td>0</td>\n",
       "      <td>351232</td>\n",
       "      <td>0</td>\n",
       "      <td>Cash loans</td>\n",
       "      <td>F</td>\n",
       "      <td>N</td>\n",
       "      <td>N</td>\n",
       "      <td>0</td>\n",
       "      <td>180000.0</td>\n",
       "      <td>495000.0</td>\n",
       "      <td>25146.0</td>\n",
       "      <td>...</td>\n",
       "      <td>333.0</td>\n",
       "      <td>NaN</td>\n",
       "      <td>0.0</td>\n",
       "      <td>0</td>\n",
       "      <td>450000.0</td>\n",
       "      <td>153814.455</td>\n",
       "      <td>0.0</td>\n",
       "      <td>0.0</td>\n",
       "      <td>-30</td>\n",
       "      <td>NaN</td>\n",
       "    </tr>\n",
       "    <tr>\n",
       "      <td>1</td>\n",
       "      <td>100003</td>\n",
       "      <td>0</td>\n",
       "      <td>Cash loans</td>\n",
       "      <td>F</td>\n",
       "      <td>N</td>\n",
       "      <td>N</td>\n",
       "      <td>0</td>\n",
       "      <td>270000.0</td>\n",
       "      <td>1293502.5</td>\n",
       "      <td>35698.5</td>\n",
       "      <td>...</td>\n",
       "      <td>1216.0</td>\n",
       "      <td>-540.0</td>\n",
       "      <td>0.0</td>\n",
       "      <td>0</td>\n",
       "      <td>810000.0</td>\n",
       "      <td>0.000</td>\n",
       "      <td>810000.0</td>\n",
       "      <td>0.0</td>\n",
       "      <td>-43</td>\n",
       "      <td>NaN</td>\n",
       "    </tr>\n",
       "    <tr>\n",
       "      <td>2</td>\n",
       "      <td>351234</td>\n",
       "      <td>0</td>\n",
       "      <td>Cash loans</td>\n",
       "      <td>F</td>\n",
       "      <td>N</td>\n",
       "      <td>Y</td>\n",
       "      <td>1</td>\n",
       "      <td>90000.0</td>\n",
       "      <td>107820.0</td>\n",
       "      <td>7798.5</td>\n",
       "      <td>...</td>\n",
       "      <td>1612.0</td>\n",
       "      <td>-195.0</td>\n",
       "      <td>NaN</td>\n",
       "      <td>0</td>\n",
       "      <td>882900.0</td>\n",
       "      <td>830155.500</td>\n",
       "      <td>0.0</td>\n",
       "      <td>0.0</td>\n",
       "      <td>-10</td>\n",
       "      <td>NaN</td>\n",
       "    </tr>\n",
       "    <tr>\n",
       "      <td>3</td>\n",
       "      <td>100007</td>\n",
       "      <td>0</td>\n",
       "      <td>Cash loans</td>\n",
       "      <td>M</td>\n",
       "      <td>N</td>\n",
       "      <td>Y</td>\n",
       "      <td>0</td>\n",
       "      <td>121500.0</td>\n",
       "      <td>513000.0</td>\n",
       "      <td>21865.5</td>\n",
       "      <td>...</td>\n",
       "      <td>-783.0</td>\n",
       "      <td>-783.0</td>\n",
       "      <td>0.0</td>\n",
       "      <td>0</td>\n",
       "      <td>146250.0</td>\n",
       "      <td>0.000</td>\n",
       "      <td>0.0</td>\n",
       "      <td>0.0</td>\n",
       "      <td>-783</td>\n",
       "      <td>NaN</td>\n",
       "    </tr>\n",
       "    <tr>\n",
       "      <td>4</td>\n",
       "      <td>373969</td>\n",
       "      <td>0</td>\n",
       "      <td>Cash loans</td>\n",
       "      <td>M</td>\n",
       "      <td>N</td>\n",
       "      <td>Y</td>\n",
       "      <td>0</td>\n",
       "      <td>202500.0</td>\n",
       "      <td>463284.0</td>\n",
       "      <td>22662.0</td>\n",
       "      <td>...</td>\n",
       "      <td>10151.0</td>\n",
       "      <td>-197.0</td>\n",
       "      <td>30798.0</td>\n",
       "      <td>0</td>\n",
       "      <td>1165500.0</td>\n",
       "      <td>121221.000</td>\n",
       "      <td>0.0</td>\n",
       "      <td>0.0</td>\n",
       "      <td>-29</td>\n",
       "      <td>29907.0</td>\n",
       "    </tr>\n",
       "  </tbody>\n",
       "</table>\n",
       "<p>5 rows × 168 columns</p>\n",
       "</div>"
      ],
      "text/plain": [
       "   SK_ID_CURR  TARGET NAME_CONTRACT_TYPE CODE_GENDER FLAG_OWN_CAR  \\\n",
       "0      351232       0         Cash loans           F            N   \n",
       "1      100003       0         Cash loans           F            N   \n",
       "2      351234       0         Cash loans           F            N   \n",
       "3      100007       0         Cash loans           M            N   \n",
       "4      373969       0         Cash loans           M            N   \n",
       "\n",
       "  FLAG_OWN_REALTY  CNT_CHILDREN  AMT_INCOME_TOTAL  AMT_CREDIT  AMT_ANNUITY  \\\n",
       "0               N             0          180000.0    495000.0      25146.0   \n",
       "1               N             0          270000.0   1293502.5      35698.5   \n",
       "2               Y             1           90000.0    107820.0       7798.5   \n",
       "3               Y             0          121500.0    513000.0      21865.5   \n",
       "4               Y             0          202500.0    463284.0      22662.0   \n",
       "\n",
       "   ...  max(DAYS_CREDIT_ENDDATE) max(DAYS_ENDDATE_FACT)  \\\n",
       "0  ...                     333.0                    NaN   \n",
       "1  ...                    1216.0                 -540.0   \n",
       "2  ...                    1612.0                 -195.0   \n",
       "3  ...                    -783.0                 -783.0   \n",
       "4  ...                   10151.0                 -197.0   \n",
       "\n",
       "  max(AMT_CREDIT_MAX_OVERDUE) max(CNT_CREDIT_PROLONG) max(AMT_CREDIT_SUM)  \\\n",
       "0                         0.0                       0            450000.0   \n",
       "1                         0.0                       0            810000.0   \n",
       "2                         NaN                       0            882900.0   \n",
       "3                         0.0                       0            146250.0   \n",
       "4                     30798.0                       0           1165500.0   \n",
       "\n",
       "  max(AMT_CREDIT_SUM_DEBT)  max(AMT_CREDIT_SUM_LIMIT)  \\\n",
       "0               153814.455                        0.0   \n",
       "1                    0.000                   810000.0   \n",
       "2               830155.500                        0.0   \n",
       "3                    0.000                        0.0   \n",
       "4               121221.000                        0.0   \n",
       "\n",
       "   max(AMT_CREDIT_SUM_OVERDUE)  max(DAYS_CREDIT_UPDATE)  max(AMT_ANNUITY)  \n",
       "0                          0.0                      -30               NaN  \n",
       "1                          0.0                      -43               NaN  \n",
       "2                          0.0                      -10               NaN  \n",
       "3                          0.0                     -783               NaN  \n",
       "4                          0.0                      -29           29907.0  \n",
       "\n",
       "[5 rows x 168 columns]"
      ]
     },
     "metadata": {},
     "output_type": "display_data"
    }
   ],
   "source": [
    "displayPandas(sparkApplicationData)"
   ]
  },
  {
   "cell_type": "markdown",
   "metadata": {},
   "source": [
    "# Data Preparation"
   ]
  },
  {
   "cell_type": "markdown",
   "metadata": {},
   "source": [
    "Null values replaced with average value."
   ]
  },
  {
   "cell_type": "code",
   "execution_count": 12,
   "metadata": {},
   "outputs": [],
   "source": [
    "## filter numeric cols\n",
    "num_cols = [col_type[0] for col_type in filter(lambda dtype: dtype[1] in {\"bigint\", \"double\", \"int\"}, sparkApplicationData.dtypes)]\n",
    "### Compute a dict with <col_name, median_value>\n",
    "median_dict = dict()\n",
    "for c in num_cols:\n",
    "   median_dict[c] = sparkApplicationData.stat.approxQuantile(c, [0.5], 0.001)[0]"
   ]
  },
  {
   "cell_type": "code",
   "execution_count": 13,
   "metadata": {},
   "outputs": [],
   "source": [
    "sparkApplicationData = sparkApplicationData.na.fill(median_dict)"
   ]
  },
  {
   "cell_type": "code",
   "execution_count": 14,
   "metadata": {},
   "outputs": [],
   "source": [
    "sparkApplicationData.write\\\n",
    "        .format(\"com.databricks.spark.csv\")\\\n",
    "        .option(\"header\", \"true\")\\\n",
    "        .mode(\"overwrite\")\\\n",
    "        .save('Data/preparedTrain.csv')\\"
   ]
  },
  {
   "cell_type": "markdown",
   "metadata": {},
   "source": [
    "# Modeling"
   ]
  },
  {
   "cell_type": "markdown",
   "metadata": {},
   "source": [
    "Data is transfered to H20"
   ]
  },
  {
   "cell_type": "code",
   "execution_count": 15,
   "metadata": {},
   "outputs": [
    {
     "name": "stdout",
     "output_type": "stream",
     "text": [
      "Checking whether there is an H2O instance running at http://localhost:54321..... not found.\n",
      "Attempting to start a local H2O server...\n",
      "  Java Version: openjdk version \"1.8.0_152-release\"; OpenJDK Runtime Environment (build 1.8.0_152-release-1056-b12); OpenJDK 64-Bit Server VM (build 25.152-b12, mixed mode)\n",
      "  Starting server from /opt/anaconda3/lib/python3.7/site-packages/h2o/backend/bin/h2o.jar\n",
      "  Ice root: /var/folders/nn/9m2w7tv942d9z8drr7__jjk40000gp/T/tmp9jgeweio\n",
      "  JVM stdout: /var/folders/nn/9m2w7tv942d9z8drr7__jjk40000gp/T/tmp9jgeweio/h2o_lukas_sykora_started_from_python.out\n",
      "  JVM stderr: /var/folders/nn/9m2w7tv942d9z8drr7__jjk40000gp/T/tmp9jgeweio/h2o_lukas_sykora_started_from_python.err\n",
      "  Server is running at http://127.0.0.1:54321\n",
      "Connecting to H2O server at http://127.0.0.1:54321... successful.\n",
      "Warning: Your H2O cluster version is too old (2 years, 1 month and 17 days)! Please download and install the latest version from http://h2o.ai/download/\n"
     ]
    },
    {
     "data": {
      "text/html": [
       "<div style=\"overflow:auto\"><table style=\"width:50%\"><tr><td>H2O cluster uptime:</td>\n",
       "<td>02 secs</td></tr>\n",
       "<tr><td>H2O cluster timezone:</td>\n",
       "<td>Europe/Prague</td></tr>\n",
       "<tr><td>H2O data parsing timezone:</td>\n",
       "<td>UTC</td></tr>\n",
       "<tr><td>H2O cluster version:</td>\n",
       "<td>3.18.0.2</td></tr>\n",
       "<tr><td>H2O cluster version age:</td>\n",
       "<td>2 years, 1 month and 17 days !!!</td></tr>\n",
       "<tr><td>H2O cluster name:</td>\n",
       "<td>H2O_from_python_lukas_sykora_sp8jdj</td></tr>\n",
       "<tr><td>H2O cluster total nodes:</td>\n",
       "<td>1</td></tr>\n",
       "<tr><td>H2O cluster free memory:</td>\n",
       "<td>3.556 Gb</td></tr>\n",
       "<tr><td>H2O cluster total cores:</td>\n",
       "<td>16</td></tr>\n",
       "<tr><td>H2O cluster allowed cores:</td>\n",
       "<td>16</td></tr>\n",
       "<tr><td>H2O cluster status:</td>\n",
       "<td>accepting new members, healthy</td></tr>\n",
       "<tr><td>H2O connection url:</td>\n",
       "<td>http://127.0.0.1:54321</td></tr>\n",
       "<tr><td>H2O connection proxy:</td>\n",
       "<td>None</td></tr>\n",
       "<tr><td>H2O internal security:</td>\n",
       "<td>False</td></tr>\n",
       "<tr><td>H2O API Extensions:</td>\n",
       "<td>XGBoost, Algos, AutoML, Core V3, Core V4</td></tr>\n",
       "<tr><td>Python version:</td>\n",
       "<td>3.7.4 final</td></tr></table></div>"
      ],
      "text/plain": [
       "--------------------------  ----------------------------------------\n",
       "H2O cluster uptime:         02 secs\n",
       "H2O cluster timezone:       Europe/Prague\n",
       "H2O data parsing timezone:  UTC\n",
       "H2O cluster version:        3.18.0.2\n",
       "H2O cluster version age:    2 years, 1 month and 17 days !!!\n",
       "H2O cluster name:           H2O_from_python_lukas_sykora_sp8jdj\n",
       "H2O cluster total nodes:    1\n",
       "H2O cluster free memory:    3.556 Gb\n",
       "H2O cluster total cores:    16\n",
       "H2O cluster allowed cores:  16\n",
       "H2O cluster status:         accepting new members, healthy\n",
       "H2O connection url:         http://127.0.0.1:54321\n",
       "H2O connection proxy:\n",
       "H2O internal security:      False\n",
       "H2O API Extensions:         XGBoost, Algos, AutoML, Core V3, Core V4\n",
       "Python version:             3.7.4 final\n",
       "--------------------------  ----------------------------------------"
      ]
     },
     "metadata": {},
     "output_type": "display_data"
    }
   ],
   "source": [
    "import h2o\n",
    "h2o.init()"
   ]
  },
  {
   "cell_type": "code",
   "execution_count": 16,
   "metadata": {},
   "outputs": [
    {
     "name": "stdout",
     "output_type": "stream",
     "text": [
      "Parse progress: |█████████████████████████████████████████████████████████| 100%\n"
     ]
    }
   ],
   "source": [
    "df_train = h2o.import_file('Data/preparedTrain.csv')"
   ]
  },
  {
   "cell_type": "markdown",
   "metadata": {},
   "source": [
    "Select predictors:"
   ]
  },
  {
   "cell_type": "code",
   "execution_count": 17,
   "metadata": {},
   "outputs": [],
   "source": [
    "notFeatures = ['TARGET', 'SK_ID_CURR', 'SK_ID_CURR_MIN', 'SK_ID_CURR_MAX', 'SK_ID_CURR_BUR_MIN', 'SK_ID_CURR_BUR_MAX']\n",
    "predictors = df_train.drop(notFeatures).names"
   ]
  },
  {
   "cell_type": "markdown",
   "metadata": {},
   "source": [
    "Nominal target"
   ]
  },
  {
   "cell_type": "code",
   "execution_count": 19,
   "metadata": {},
   "outputs": [],
   "source": [
    "df_train[\"TARGET\"] = df_train[\"TARGET\"].asfactor()"
   ]
  },
  {
   "cell_type": "markdown",
   "metadata": {},
   "source": [
    "## Gradient Boosting"
   ]
  },
  {
   "cell_type": "code",
   "execution_count": 20,
   "metadata": {},
   "outputs": [
    {
     "name": "stdout",
     "output_type": "stream",
     "text": [
      "gbm Model Build progress: |███████████████████████████████████████████████| 100%\n"
     ]
    }
   ],
   "source": [
    "from h2o.estimators import H2OGradientBoostingEstimator\n",
    "\n",
    "gbm_model = H2OGradientBoostingEstimator(stopping_metric=\"logloss\",\n",
    "                                         stopping_rounds= 5,  # early stopping\n",
    "                                         score_tree_interval=5,\n",
    "                                         ntrees=40,\n",
    "                                         model_id=\"gbm\",\n",
    "                                         nfolds=5,\n",
    "                                         seed=25,\n",
    "                                         fold_assignment='stratified')\n",
    "gbm_model.train(\n",
    "    x = predictors,\n",
    "    y = \"TARGET\",\n",
    "    training_frame = df_train\n",
    ")"
   ]
  },
  {
   "cell_type": "markdown",
   "metadata": {},
   "source": [
    "## Auto ML"
   ]
  },
  {
   "cell_type": "code",
   "execution_count": 21,
   "metadata": {},
   "outputs": [
    {
     "name": "stdout",
     "output_type": "stream",
     "text": [
      "AutoML progress: |████████████████████████████████████████████████████████| 100%\n",
      "Parse progress: |█████████████████████████████████████████████████████████| 100%\n"
     ]
    }
   ],
   "source": [
    "from h2o.automl import H2OAutoML\n",
    "\n",
    "aml = H2OAutoML(max_models=3, seed=42)\n",
    "aml.train(\n",
    "    x=predictors, \n",
    "    y='TARGET', \n",
    "    training_frame = df_train\n",
    ")"
   ]
  },
  {
   "cell_type": "markdown",
   "metadata": {},
   "source": [
    "# Evaluation"
   ]
  },
  {
   "cell_type": "markdown",
   "metadata": {},
   "source": [
    "The performance of models."
   ]
  },
  {
   "cell_type": "markdown",
   "metadata": {},
   "source": [
    "## Gradient Boosting"
   ]
  },
  {
   "cell_type": "code",
   "execution_count": 22,
   "metadata": {},
   "outputs": [
    {
     "name": "stdout",
     "output_type": "stream",
     "text": [
      "Model Details\n",
      "=============\n",
      "H2OGradientBoostingEstimator :  Gradient Boosting Machine\n",
      "Model Key:  gbm\n",
      "\n",
      "\n",
      "ModelMetricsBinomial: gbm\n",
      "** Reported on train data. **\n",
      "\n",
      "MSE: 0.06683380015571444\n",
      "RMSE: 0.25852233976141104\n",
      "LogLoss: 0.2433360599210961\n",
      "Mean Per-Class Error: 0.300548621699398\n",
      "AUC: 0.7703246188934564\n",
      "Gini: 0.5406492377869128\n",
      "Confusion Matrix (Act/Pred) for max f1 @ threshold = 0.14985395575779423: \n"
     ]
    },
    {
     "data": {
      "text/html": [
       "<div style=\"overflow:auto\"><table style=\"width:50%\"><tr><td><b></b></td>\n",
       "<td><b>0</b></td>\n",
       "<td><b>1</b></td>\n",
       "<td><b>Error</b></td>\n",
       "<td><b>Rate</b></td></tr>\n",
       "<tr><td>0</td>\n",
       "<td>256180.0</td>\n",
       "<td>26506.0</td>\n",
       "<td>0.0938</td>\n",
       "<td> (26506.0/282686.0)</td></tr>\n",
       "<tr><td>1</td>\n",
       "<td>14897.0</td>\n",
       "<td>9928.0</td>\n",
       "<td>0.6001</td>\n",
       "<td> (14897.0/24825.0)</td></tr>\n",
       "<tr><td>Total</td>\n",
       "<td>271077.0</td>\n",
       "<td>36434.0</td>\n",
       "<td>0.1346</td>\n",
       "<td> (41403.0/307511.0)</td></tr></table></div>"
      ],
      "text/plain": [
       "       0       1      Error    Rate\n",
       "-----  ------  -----  -------  ------------------\n",
       "0      256180  26506  0.0938   (26506.0/282686.0)\n",
       "1      14897   9928   0.6001   (14897.0/24825.0)\n",
       "Total  271077  36434  0.1346   (41403.0/307511.0)"
      ]
     },
     "metadata": {},
     "output_type": "display_data"
    },
    {
     "name": "stdout",
     "output_type": "stream",
     "text": [
      "Maximum Metrics: Maximum metrics at their respective thresholds\n",
      "\n"
     ]
    },
    {
     "data": {
      "text/html": [
       "<div style=\"overflow:auto\"><table style=\"width:50%\"><tr><td><b>metric</b></td>\n",
       "<td><b>threshold</b></td>\n",
       "<td><b>value</b></td>\n",
       "<td><b>idx</b></td></tr>\n",
       "<tr><td>max f1</td>\n",
       "<td>0.1498540</td>\n",
       "<td>0.3241320</td>\n",
       "<td>197.0</td></tr>\n",
       "<tr><td>max f2</td>\n",
       "<td>0.0907007</td>\n",
       "<td>0.4316254</td>\n",
       "<td>268.0</td></tr>\n",
       "<tr><td>max f0point5</td>\n",
       "<td>0.2341826</td>\n",
       "<td>0.3273533</td>\n",
       "<td>130.0</td></tr>\n",
       "<tr><td>max accuracy</td>\n",
       "<td>0.3951250</td>\n",
       "<td>0.9208874</td>\n",
       "<td>56.0</td></tr>\n",
       "<tr><td>max precision</td>\n",
       "<td>0.8277505</td>\n",
       "<td>1.0</td>\n",
       "<td>0.0</td></tr>\n",
       "<tr><td>max recall</td>\n",
       "<td>0.0194946</td>\n",
       "<td>1.0</td>\n",
       "<td>397.0</td></tr>\n",
       "<tr><td>max specificity</td>\n",
       "<td>0.8277505</td>\n",
       "<td>1.0</td>\n",
       "<td>0.0</td></tr>\n",
       "<tr><td>max absolute_mcc</td>\n",
       "<td>0.1498540</td>\n",
       "<td>0.2580702</td>\n",
       "<td>197.0</td></tr>\n",
       "<tr><td>max min_per_class_accuracy</td>\n",
       "<td>0.0802692</td>\n",
       "<td>0.6984089</td>\n",
       "<td>284.0</td></tr>\n",
       "<tr><td>max mean_per_class_accuracy</td>\n",
       "<td>0.0834671</td>\n",
       "<td>0.6994514</td>\n",
       "<td>279.0</td></tr></table></div>"
      ],
      "text/plain": [
       "metric                       threshold    value     idx\n",
       "---------------------------  -----------  --------  -----\n",
       "max f1                       0.149854     0.324132  197\n",
       "max f2                       0.0907007    0.431625  268\n",
       "max f0point5                 0.234183     0.327353  130\n",
       "max accuracy                 0.395125     0.920887  56\n",
       "max precision                0.827751     1         0\n",
       "max recall                   0.0194946    1         397\n",
       "max specificity              0.827751     1         0\n",
       "max absolute_mcc             0.149854     0.25807   197\n",
       "max min_per_class_accuracy   0.0802692    0.698409  284\n",
       "max mean_per_class_accuracy  0.0834671    0.699451  279"
      ]
     },
     "metadata": {},
     "output_type": "display_data"
    },
    {
     "name": "stdout",
     "output_type": "stream",
     "text": [
      "Gains/Lift Table: Avg response rate:  8.07 %\n",
      "\n"
     ]
    },
    {
     "data": {
      "text/html": [
       "<div style=\"overflow:auto\"><table style=\"width:50%\"><tr><td><b></b></td>\n",
       "<td><b>group</b></td>\n",
       "<td><b>cumulative_data_fraction</b></td>\n",
       "<td><b>lower_threshold</b></td>\n",
       "<td><b>lift</b></td>\n",
       "<td><b>cumulative_lift</b></td>\n",
       "<td><b>response_rate</b></td>\n",
       "<td><b>cumulative_response_rate</b></td>\n",
       "<td><b>capture_rate</b></td>\n",
       "<td><b>cumulative_capture_rate</b></td>\n",
       "<td><b>gain</b></td>\n",
       "<td><b>cumulative_gain</b></td></tr>\n",
       "<tr><td></td>\n",
       "<td>1</td>\n",
       "<td>0.0100029</td>\n",
       "<td>0.3499006</td>\n",
       "<td>7.0593869</td>\n",
       "<td>7.0593869</td>\n",
       "<td>0.5698960</td>\n",
       "<td>0.5698960</td>\n",
       "<td>0.0706143</td>\n",
       "<td>0.0706143</td>\n",
       "<td>605.9386879</td>\n",
       "<td>605.9386879</td></tr>\n",
       "<tr><td></td>\n",
       "<td>2</td>\n",
       "<td>0.0200025</td>\n",
       "<td>0.2934035</td>\n",
       "<td>4.8904066</td>\n",
       "<td>5.9750730</td>\n",
       "<td>0.3947967</td>\n",
       "<td>0.4823606</td>\n",
       "<td>0.0489023</td>\n",
       "<td>0.1195166</td>\n",
       "<td>389.0406556</td>\n",
       "<td>497.5073029</td></tr>\n",
       "<tr><td></td>\n",
       "<td>3</td>\n",
       "<td>0.0300022</td>\n",
       "<td>0.2607298</td>\n",
       "<td>3.9034629</td>\n",
       "<td>5.2846112</td>\n",
       "<td>0.3151220</td>\n",
       "<td>0.4266204</td>\n",
       "<td>0.0390332</td>\n",
       "<td>0.1585498</td>\n",
       "<td>290.3462894</td>\n",
       "<td>428.4611164</td></tr>\n",
       "<tr><td></td>\n",
       "<td>4</td>\n",
       "<td>0.0400018</td>\n",
       "<td>0.2371098</td>\n",
       "<td>3.6013373</td>\n",
       "<td>4.8638269</td>\n",
       "<td>0.2907317</td>\n",
       "<td>0.3926510</td>\n",
       "<td>0.0360121</td>\n",
       "<td>0.1945619</td>\n",
       "<td>260.1337283</td>\n",
       "<td>386.3826904</td></tr>\n",
       "<tr><td></td>\n",
       "<td>5</td>\n",
       "<td>0.0500015</td>\n",
       "<td>0.2186717</td>\n",
       "<td>3.1985031</td>\n",
       "<td>4.5307838</td>\n",
       "<td>0.2582114</td>\n",
       "<td>0.3657648</td>\n",
       "<td>0.0319839</td>\n",
       "<td>0.2265458</td>\n",
       "<td>219.8503135</td>\n",
       "<td>353.0783811</td></tr>\n",
       "<tr><td></td>\n",
       "<td>6</td>\n",
       "<td>0.1000029</td>\n",
       "<td>0.1624727</td>\n",
       "<td>2.6182517</td>\n",
       "<td>3.5745177</td>\n",
       "<td>0.2113684</td>\n",
       "<td>0.2885666</td>\n",
       "<td>0.1309164</td>\n",
       "<td>0.3574622</td>\n",
       "<td>161.8251669</td>\n",
       "<td>257.4517740</td></tr>\n",
       "<tr><td></td>\n",
       "<td>7</td>\n",
       "<td>0.1500011</td>\n",
       "<td>0.1317826</td>\n",
       "<td>2.0036971</td>\n",
       "<td>3.0509335</td>\n",
       "<td>0.1617561</td>\n",
       "<td>0.2462983</td>\n",
       "<td>0.1001813</td>\n",
       "<td>0.4576435</td>\n",
       "<td>100.3697052</td>\n",
       "<td>205.0933547</td></tr>\n",
       "<tr><td></td>\n",
       "<td>8</td>\n",
       "<td>0.2000026</td>\n",
       "<td>0.1119895</td>\n",
       "<td>1.5999532</td>\n",
       "<td>2.6881826</td>\n",
       "<td>0.1291623</td>\n",
       "<td>0.2170138</td>\n",
       "<td>0.08</td>\n",
       "<td>0.5376435</td>\n",
       "<td>59.9953174</td>\n",
       "<td>168.8182556</td></tr>\n",
       "<tr><td></td>\n",
       "<td>9</td>\n",
       "<td>0.3000023</td>\n",
       "<td>0.0861439</td>\n",
       "<td>1.2837907</td>\n",
       "<td>2.2200570</td>\n",
       "<td>0.1036389</td>\n",
       "<td>0.1792226</td>\n",
       "<td>0.1283787</td>\n",
       "<td>0.6660222</td>\n",
       "<td>28.3790680</td>\n",
       "<td>122.0057005</td></tr>\n",
       "<tr><td></td>\n",
       "<td>10</td>\n",
       "<td>0.4000020</td>\n",
       "<td>0.0694689</td>\n",
       "<td>0.9325307</td>\n",
       "<td>1.8981781</td>\n",
       "<td>0.0752821</td>\n",
       "<td>0.1532377</td>\n",
       "<td>0.0932528</td>\n",
       "<td>0.7592749</td>\n",
       "<td>-6.7469274</td>\n",
       "<td>89.8178052</td></tr>\n",
       "<tr><td></td>\n",
       "<td>11</td>\n",
       "<td>0.5000016</td>\n",
       "<td>0.0573996</td>\n",
       "<td>0.7331343</td>\n",
       "<td>1.6651708</td>\n",
       "<td>0.0591851</td>\n",
       "<td>0.1344273</td>\n",
       "<td>0.0733132</td>\n",
       "<td>0.8325881</td>\n",
       "<td>-26.6865692</td>\n",
       "<td>66.5170819</td></tr>\n",
       "<tr><td></td>\n",
       "<td>12</td>\n",
       "<td>0.6000013</td>\n",
       "<td>0.0483291</td>\n",
       "<td>0.5800623</td>\n",
       "<td>1.4843204</td>\n",
       "<td>0.0468277</td>\n",
       "<td>0.1198274</td>\n",
       "<td>0.0580060</td>\n",
       "<td>0.8905942</td>\n",
       "<td>-41.9937691</td>\n",
       "<td>48.4320381</td></tr>\n",
       "<tr><td></td>\n",
       "<td>13</td>\n",
       "<td>0.7000010</td>\n",
       "<td>0.0412053</td>\n",
       "<td>0.4165170</td>\n",
       "<td>1.3317777</td>\n",
       "<td>0.0336249</td>\n",
       "<td>0.1075128</td>\n",
       "<td>0.0416516</td>\n",
       "<td>0.9322457</td>\n",
       "<td>-58.3483036</td>\n",
       "<td>33.1777744</td></tr>\n",
       "<tr><td></td>\n",
       "<td>14</td>\n",
       "<td>0.8000007</td>\n",
       "<td>0.0351895</td>\n",
       "<td>0.3218540</td>\n",
       "<td>1.2055378</td>\n",
       "<td>0.0259829</td>\n",
       "<td>0.0973216</td>\n",
       "<td>0.0321853</td>\n",
       "<td>0.9644310</td>\n",
       "<td>-67.8145983</td>\n",
       "<td>20.5537791</td></tr>\n",
       "<tr><td></td>\n",
       "<td>15</td>\n",
       "<td>0.9000003</td>\n",
       "<td>0.0293236</td>\n",
       "<td>0.2388729</td>\n",
       "<td>1.0981310</td>\n",
       "<td>0.0192839</td>\n",
       "<td>0.0886508</td>\n",
       "<td>0.0238872</td>\n",
       "<td>0.9883182</td>\n",
       "<td>-76.1127118</td>\n",
       "<td>9.8130967</td></tr>\n",
       "<tr><td></td>\n",
       "<td>16</td>\n",
       "<td>1.0</td>\n",
       "<td>0.0132766</td>\n",
       "<td>0.1168181</td>\n",
       "<td>1.0</td>\n",
       "<td>0.0094306</td>\n",
       "<td>0.0807288</td>\n",
       "<td>0.0116818</td>\n",
       "<td>1.0</td>\n",
       "<td>-88.3181896</td>\n",
       "<td>0.0</td></tr></table></div>"
      ],
      "text/plain": [
       "    group    cumulative_data_fraction    lower_threshold    lift      cumulative_lift    response_rate    cumulative_response_rate    capture_rate    cumulative_capture_rate    gain      cumulative_gain\n",
       "--  -------  --------------------------  -----------------  --------  -----------------  ---------------  --------------------------  --------------  -------------------------  --------  -----------------\n",
       "    1        0.0100029                   0.349901           7.05939   7.05939            0.569896         0.569896                    0.0706143       0.0706143                  605.939   605.939\n",
       "    2        0.0200025                   0.293404           4.89041   5.97507            0.394797         0.482361                    0.0489023       0.119517                   389.041   497.507\n",
       "    3        0.0300022                   0.26073            3.90346   5.28461            0.315122         0.42662                     0.0390332       0.15855                    290.346   428.461\n",
       "    4        0.0400018                   0.23711            3.60134   4.86383            0.290732         0.392651                    0.0360121       0.194562                   260.134   386.383\n",
       "    5        0.0500015                   0.218672           3.1985    4.53078            0.258211         0.365765                    0.0319839       0.226546                   219.85    353.078\n",
       "    6        0.100003                    0.162473           2.61825   3.57452            0.211368         0.288567                    0.130916        0.357462                   161.825   257.452\n",
       "    7        0.150001                    0.131783           2.0037    3.05093            0.161756         0.246298                    0.100181        0.457644                   100.37    205.093\n",
       "    8        0.200003                    0.111989           1.59995   2.68818            0.129162         0.217014                    0.08            0.537644                   59.9953   168.818\n",
       "    9        0.300002                    0.0861439          1.28379   2.22006            0.103639         0.179223                    0.128379        0.666022                   28.3791   122.006\n",
       "    10       0.400002                    0.0694689          0.932531  1.89818            0.0752821        0.153238                    0.0932528       0.759275                   -6.74693  89.8178\n",
       "    11       0.500002                    0.0573996          0.733134  1.66517            0.0591851        0.134427                    0.0733132       0.832588                   -26.6866  66.5171\n",
       "    12       0.600001                    0.0483291          0.580062  1.48432            0.0468277        0.119827                    0.058006        0.890594                   -41.9938  48.432\n",
       "    13       0.700001                    0.0412053          0.416517  1.33178            0.0336249        0.107513                    0.0416516       0.932246                   -58.3483  33.1778\n",
       "    14       0.800001                    0.0351895          0.321854  1.20554            0.0259829        0.0973216                   0.0321853       0.964431                   -67.8146  20.5538\n",
       "    15       0.9                         0.0293236          0.238873  1.09813            0.0192839        0.0886508                   0.0238872       0.988318                   -76.1127  9.8131\n",
       "    16       1                           0.0132766          0.116818  1                  0.00943059       0.0807288                   0.0116818       1                          -88.3182  0"
      ]
     },
     "metadata": {},
     "output_type": "display_data"
    },
    {
     "name": "stdout",
     "output_type": "stream",
     "text": [
      "\n",
      "\n",
      "ModelMetricsBinomial: gbm\n",
      "** Reported on cross-validation data. **\n",
      "\n",
      "MSE: 0.06826177032113541\n",
      "RMSE: 0.2612695357693572\n",
      "LogLoss: 0.24868813908894\n",
      "Mean Per-Class Error: 0.3131241969078399\n",
      "AUC: 0.7529813036002019\n",
      "Gini: 0.5059626072004038\n",
      "Confusion Matrix (Act/Pred) for max f1 @ threshold = 0.13841240204063657: \n"
     ]
    },
    {
     "data": {
      "text/html": [
       "<div style=\"overflow:auto\"><table style=\"width:50%\"><tr><td><b></b></td>\n",
       "<td><b>0</b></td>\n",
       "<td><b>1</b></td>\n",
       "<td><b>Error</b></td>\n",
       "<td><b>Rate</b></td></tr>\n",
       "<tr><td>0</td>\n",
       "<td>250343.0</td>\n",
       "<td>32343.0</td>\n",
       "<td>0.1144</td>\n",
       "<td> (32343.0/282686.0)</td></tr>\n",
       "<tr><td>1</td>\n",
       "<td>14716.0</td>\n",
       "<td>10109.0</td>\n",
       "<td>0.5928</td>\n",
       "<td> (14716.0/24825.0)</td></tr>\n",
       "<tr><td>Total</td>\n",
       "<td>265059.0</td>\n",
       "<td>42452.0</td>\n",
       "<td>0.153</td>\n",
       "<td> (47059.0/307511.0)</td></tr></table></div>"
      ],
      "text/plain": [
       "       0       1      Error    Rate\n",
       "-----  ------  -----  -------  ------------------\n",
       "0      250343  32343  0.1144   (32343.0/282686.0)\n",
       "1      14716   10109  0.5928   (14716.0/24825.0)\n",
       "Total  265059  42452  0.153    (47059.0/307511.0)"
      ]
     },
     "metadata": {},
     "output_type": "display_data"
    },
    {
     "name": "stdout",
     "output_type": "stream",
     "text": [
      "Maximum Metrics: Maximum metrics at their respective thresholds\n",
      "\n"
     ]
    },
    {
     "data": {
      "text/html": [
       "<div style=\"overflow:auto\"><table style=\"width:50%\"><tr><td><b>metric</b></td>\n",
       "<td><b>threshold</b></td>\n",
       "<td><b>value</b></td>\n",
       "<td><b>idx</b></td></tr>\n",
       "<tr><td>max f1</td>\n",
       "<td>0.1384124</td>\n",
       "<td>0.3005188</td>\n",
       "<td>209.0</td></tr>\n",
       "<tr><td>max f2</td>\n",
       "<td>0.0832978</td>\n",
       "<td>0.4166709</td>\n",
       "<td>277.0</td></tr>\n",
       "<tr><td>max f0point5</td>\n",
       "<td>0.2168802</td>\n",
       "<td>0.2908935</td>\n",
       "<td>142.0</td></tr>\n",
       "<tr><td>max accuracy</td>\n",
       "<td>0.4546194</td>\n",
       "<td>0.9195899</td>\n",
       "<td>37.0</td></tr>\n",
       "<tr><td>max precision</td>\n",
       "<td>0.8324132</td>\n",
       "<td>1.0</td>\n",
       "<td>0.0</td></tr>\n",
       "<tr><td>max recall</td>\n",
       "<td>0.0164796</td>\n",
       "<td>1.0</td>\n",
       "<td>399.0</td></tr>\n",
       "<tr><td>max specificity</td>\n",
       "<td>0.8324132</td>\n",
       "<td>1.0</td>\n",
       "<td>0.0</td></tr>\n",
       "<tr><td>max absolute_mcc</td>\n",
       "<td>0.1216591</td>\n",
       "<td>0.2318183</td>\n",
       "<td>226.0</td></tr>\n",
       "<tr><td>max min_per_class_accuracy</td>\n",
       "<td>0.0785170</td>\n",
       "<td>0.6860826</td>\n",
       "<td>285.0</td></tr>\n",
       "<tr><td>max mean_per_class_accuracy</td>\n",
       "<td>0.0800652</td>\n",
       "<td>0.6868758</td>\n",
       "<td>282.0</td></tr></table></div>"
      ],
      "text/plain": [
       "metric                       threshold    value     idx\n",
       "---------------------------  -----------  --------  -----\n",
       "max f1                       0.138412     0.300519  209\n",
       "max f2                       0.0832978    0.416671  277\n",
       "max f0point5                 0.21688      0.290894  142\n",
       "max accuracy                 0.454619     0.91959   37\n",
       "max precision                0.832413     1         0\n",
       "max recall                   0.0164796    1         399\n",
       "max specificity              0.832413     1         0\n",
       "max absolute_mcc             0.121659     0.231818  226\n",
       "max min_per_class_accuracy   0.078517     0.686083  285\n",
       "max mean_per_class_accuracy  0.0800652    0.686876  282"
      ]
     },
     "metadata": {},
     "output_type": "display_data"
    },
    {
     "name": "stdout",
     "output_type": "stream",
     "text": [
      "Gains/Lift Table: Avg response rate:  8.07 %\n",
      "\n"
     ]
    },
    {
     "data": {
      "text/html": [
       "<div style=\"overflow:auto\"><table style=\"width:50%\"><tr><td><b></b></td>\n",
       "<td><b>group</b></td>\n",
       "<td><b>cumulative_data_fraction</b></td>\n",
       "<td><b>lower_threshold</b></td>\n",
       "<td><b>lift</b></td>\n",
       "<td><b>cumulative_lift</b></td>\n",
       "<td><b>response_rate</b></td>\n",
       "<td><b>cumulative_response_rate</b></td>\n",
       "<td><b>capture_rate</b></td>\n",
       "<td><b>cumulative_capture_rate</b></td>\n",
       "<td><b>gain</b></td>\n",
       "<td><b>cumulative_gain</b></td></tr>\n",
       "<tr><td></td>\n",
       "<td>1</td>\n",
       "<td>0.0100029</td>\n",
       "<td>0.3471080</td>\n",
       "<td>5.6620068</td>\n",
       "<td>5.6620068</td>\n",
       "<td>0.4570871</td>\n",
       "<td>0.4570871</td>\n",
       "<td>0.0566365</td>\n",
       "<td>0.0566365</td>\n",
       "<td>466.2006818</td>\n",
       "<td>466.2006818</td></tr>\n",
       "<tr><td></td>\n",
       "<td>2</td>\n",
       "<td>0.0200025</td>\n",
       "<td>0.2930355</td>\n",
       "<td>4.3062970</td>\n",
       "<td>4.9842621</td>\n",
       "<td>0.3476423</td>\n",
       "<td>0.4023736</td>\n",
       "<td>0.0430614</td>\n",
       "<td>0.0996979</td>\n",
       "<td>330.6297042</td>\n",
       "<td>398.4262132</td></tr>\n",
       "<tr><td></td>\n",
       "<td>3</td>\n",
       "<td>0.0300022</td>\n",
       "<td>0.2601220</td>\n",
       "<td>3.6496774</td>\n",
       "<td>4.5394488</td>\n",
       "<td>0.2946341</td>\n",
       "<td>0.3664643</td>\n",
       "<td>0.0364955</td>\n",
       "<td>0.1361934</td>\n",
       "<td>264.9677381</td>\n",
       "<td>353.9448767</td></tr>\n",
       "<tr><td></td>\n",
       "<td>4</td>\n",
       "<td>0.0400018</td>\n",
       "<td>0.2375157</td>\n",
       "<td>3.4482603</td>\n",
       "<td>4.2666738</td>\n",
       "<td>0.2783740</td>\n",
       "<td>0.3444435</td>\n",
       "<td>0.0344814</td>\n",
       "<td>0.1706747</td>\n",
       "<td>244.8260307</td>\n",
       "<td>326.6673828</td></tr>\n",
       "<tr><td></td>\n",
       "<td>5</td>\n",
       "<td>0.0500015</td>\n",
       "<td>0.2191293</td>\n",
       "<td>3.1179363</td>\n",
       "<td>4.0369413</td>\n",
       "<td>0.2517073</td>\n",
       "<td>0.3258975</td>\n",
       "<td>0.0311782</td>\n",
       "<td>0.2018530</td>\n",
       "<td>211.7936305</td>\n",
       "<td>303.6941266</td></tr>\n",
       "<tr><td></td>\n",
       "<td>6</td>\n",
       "<td>0.1000029</td>\n",
       "<td>0.1627861</td>\n",
       "<td>2.5336620</td>\n",
       "<td>3.2853016</td>\n",
       "<td>0.2045395</td>\n",
       "<td>0.2652185</td>\n",
       "<td>0.1266868</td>\n",
       "<td>0.3285398</td>\n",
       "<td>153.3662000</td>\n",
       "<td>228.5301633</td></tr>\n",
       "<tr><td></td>\n",
       "<td>7</td>\n",
       "<td>0.1500011</td>\n",
       "<td>0.1319836</td>\n",
       "<td>2.0101424</td>\n",
       "<td>2.8602670</td>\n",
       "<td>0.1622764</td>\n",
       "<td>0.2309060</td>\n",
       "<td>0.1005035</td>\n",
       "<td>0.4290433</td>\n",
       "<td>101.0142398</td>\n",
       "<td>186.0266984</td></tr>\n",
       "<tr><td></td>\n",
       "<td>8</td>\n",
       "<td>0.2000026</td>\n",
       "<td>0.1118975</td>\n",
       "<td>1.6337890</td>\n",
       "<td>2.5536425</td>\n",
       "<td>0.1318939</td>\n",
       "<td>0.2061525</td>\n",
       "<td>0.0816918</td>\n",
       "<td>0.5107351</td>\n",
       "<td>63.3789042</td>\n",
       "<td>155.3642513</td></tr>\n",
       "<tr><td></td>\n",
       "<td>9</td>\n",
       "<td>0.3000023</td>\n",
       "<td>0.0860182</td>\n",
       "<td>1.3111825</td>\n",
       "<td>2.1394937</td>\n",
       "<td>0.1058502</td>\n",
       "<td>0.1727188</td>\n",
       "<td>0.1311178</td>\n",
       "<td>0.6418530</td>\n",
       "<td>31.1182512</td>\n",
       "<td>113.9493669</td></tr>\n",
       "<tr><td></td>\n",
       "<td>10</td>\n",
       "<td>0.4000020</td>\n",
       "<td>0.0694396</td>\n",
       "<td>0.9768410</td>\n",
       "<td>1.8488329</td>\n",
       "<td>0.0788592</td>\n",
       "<td>0.1492541</td>\n",
       "<td>0.0976838</td>\n",
       "<td>0.7395368</td>\n",
       "<td>-2.3158958</td>\n",
       "<td>84.8832875</td></tr>\n",
       "<tr><td></td>\n",
       "<td>11</td>\n",
       "<td>0.5000016</td>\n",
       "<td>0.0574929</td>\n",
       "<td>0.7629431</td>\n",
       "<td>1.6316563</td>\n",
       "<td>0.0615915</td>\n",
       "<td>0.1317217</td>\n",
       "<td>0.0762941</td>\n",
       "<td>0.8158308</td>\n",
       "<td>-23.7056935</td>\n",
       "<td>63.1656325</td></tr>\n",
       "<tr><td></td>\n",
       "<td>12</td>\n",
       "<td>0.6000013</td>\n",
       "<td>0.0484533</td>\n",
       "<td>0.6114824</td>\n",
       "<td>1.4616283</td>\n",
       "<td>0.0493642</td>\n",
       "<td>0.1179955</td>\n",
       "<td>0.0611480</td>\n",
       "<td>0.8769789</td>\n",
       "<td>-38.8517649</td>\n",
       "<td>46.1628251</td></tr>\n",
       "<tr><td></td>\n",
       "<td>13</td>\n",
       "<td>0.7000010</td>\n",
       "<td>0.0411924</td>\n",
       "<td>0.4664668</td>\n",
       "<td>1.3194630</td>\n",
       "<td>0.0376573</td>\n",
       "<td>0.1065187</td>\n",
       "<td>0.0466465</td>\n",
       "<td>0.9236254</td>\n",
       "<td>-53.3533226</td>\n",
       "<td>31.9462986</td></tr>\n",
       "<tr><td></td>\n",
       "<td>14</td>\n",
       "<td>0.8000007</td>\n",
       "<td>0.0349766</td>\n",
       "<td>0.3399810</td>\n",
       "<td>1.1970282</td>\n",
       "<td>0.0274463</td>\n",
       "<td>0.0966347</td>\n",
       "<td>0.0339980</td>\n",
       "<td>0.9576234</td>\n",
       "<td>-66.0019035</td>\n",
       "<td>19.7028231</td></tr>\n",
       "<tr><td></td>\n",
       "<td>15</td>\n",
       "<td>0.9000003</td>\n",
       "<td>0.0290254</td>\n",
       "<td>0.2654591</td>\n",
       "<td>1.0935209</td>\n",
       "<td>0.0214302</td>\n",
       "<td>0.0882787</td>\n",
       "<td>0.0265458</td>\n",
       "<td>0.9841692</td>\n",
       "<td>-73.4540929</td>\n",
       "<td>9.3520921</td></tr>\n",
       "<tr><td></td>\n",
       "<td>16</td>\n",
       "<td>1.0</td>\n",
       "<td>0.0133133</td>\n",
       "<td>0.1583087</td>\n",
       "<td>1.0</td>\n",
       "<td>0.0127801</td>\n",
       "<td>0.0807288</td>\n",
       "<td>0.0158308</td>\n",
       "<td>1.0</td>\n",
       "<td>-84.1691328</td>\n",
       "<td>0.0</td></tr></table></div>"
      ],
      "text/plain": [
       "    group    cumulative_data_fraction    lower_threshold    lift      cumulative_lift    response_rate    cumulative_response_rate    capture_rate    cumulative_capture_rate    gain      cumulative_gain\n",
       "--  -------  --------------------------  -----------------  --------  -----------------  ---------------  --------------------------  --------------  -------------------------  --------  -----------------\n",
       "    1        0.0100029                   0.347108           5.66201   5.66201            0.457087         0.457087                    0.0566365       0.0566365                  466.201   466.201\n",
       "    2        0.0200025                   0.293035           4.3063    4.98426            0.347642         0.402374                    0.0430614       0.0996979                  330.63    398.426\n",
       "    3        0.0300022                   0.260122           3.64968   4.53945            0.294634         0.366464                    0.0364955       0.136193                   264.968   353.945\n",
       "    4        0.0400018                   0.237516           3.44826   4.26667            0.278374         0.344444                    0.0344814       0.170675                   244.826   326.667\n",
       "    5        0.0500015                   0.219129           3.11794   4.03694            0.251707         0.325898                    0.0311782       0.201853                   211.794   303.694\n",
       "    6        0.100003                    0.162786           2.53366   3.2853             0.20454          0.265219                    0.126687        0.32854                    153.366   228.53\n",
       "    7        0.150001                    0.131984           2.01014   2.86027            0.162276         0.230906                    0.100504        0.429043                   101.014   186.027\n",
       "    8        0.200003                    0.111898           1.63379   2.55364            0.131894         0.206153                    0.0816918       0.510735                   63.3789   155.364\n",
       "    9        0.300002                    0.0860182          1.31118   2.13949            0.10585          0.172719                    0.131118        0.641853                   31.1183   113.949\n",
       "    10       0.400002                    0.0694396          0.976841  1.84883            0.0788592        0.149254                    0.0976838       0.739537                   -2.3159   84.8833\n",
       "    11       0.500002                    0.0574929          0.762943  1.63166            0.0615915        0.131722                    0.0762941       0.815831                   -23.7057  63.1656\n",
       "    12       0.600001                    0.0484533          0.611482  1.46163            0.0493642        0.117996                    0.061148        0.876979                   -38.8518  46.1628\n",
       "    13       0.700001                    0.0411924          0.466467  1.31946            0.0376573        0.106519                    0.0466465       0.923625                   -53.3533  31.9463\n",
       "    14       0.800001                    0.0349766          0.339981  1.19703            0.0274463        0.0966347                   0.033998        0.957623                   -66.0019  19.7028\n",
       "    15       0.9                         0.0290254          0.265459  1.09352            0.0214302        0.0882787                   0.0265458       0.984169                   -73.4541  9.35209\n",
       "    16       1                           0.0133133          0.158309  1                  0.0127801        0.0807288                   0.0158308       1                          -84.1691  0"
      ]
     },
     "metadata": {},
     "output_type": "display_data"
    },
    {
     "name": "stdout",
     "output_type": "stream",
     "text": [
      "\n",
      "Cross-Validation Metrics Summary: \n"
     ]
    },
    {
     "data": {
      "text/html": [
       "<div style=\"overflow:auto\"><table style=\"width:50%\"><tr><td><b></b></td>\n",
       "<td><b>mean</b></td>\n",
       "<td><b>sd</b></td>\n",
       "<td><b>cv_1_valid</b></td>\n",
       "<td><b>cv_2_valid</b></td>\n",
       "<td><b>cv_3_valid</b></td>\n",
       "<td><b>cv_4_valid</b></td>\n",
       "<td><b>cv_5_valid</b></td></tr>\n",
       "<tr><td>accuracy</td>\n",
       "<td>0.8470631</td>\n",
       "<td>0.0083039</td>\n",
       "<td>0.8255897</td>\n",
       "<td>0.8475317</td>\n",
       "<td>0.8605924</td>\n",
       "<td>0.8478647</td>\n",
       "<td>0.8537371</td></tr>\n",
       "<tr><td>auc</td>\n",
       "<td>0.7529815</td>\n",
       "<td>0.0029371</td>\n",
       "<td>0.7519946</td>\n",
       "<td>0.7548814</td>\n",
       "<td>0.7475570</td>\n",
       "<td>0.7598242</td>\n",
       "<td>0.7506501</td></tr>\n",
       "<tr><td>err</td>\n",
       "<td>0.1529369</td>\n",
       "<td>0.0083039</td>\n",
       "<td>0.1744103</td>\n",
       "<td>0.1524683</td>\n",
       "<td>0.1394076</td>\n",
       "<td>0.1521353</td>\n",
       "<td>0.1462629</td></tr>\n",
       "<tr><td>err_count</td>\n",
       "<td>9406.6</td>\n",
       "<td>516.932</td>\n",
       "<td>10736.0</td>\n",
       "<td>9423.0</td>\n",
       "<td>8556.0</td>\n",
       "<td>9330.0</td>\n",
       "<td>8988.0</td></tr>\n",
       "<tr><td>f0point5</td>\n",
       "<td>0.2614461</td>\n",
       "<td>0.0051428</td>\n",
       "<td>0.2475002</td>\n",
       "<td>0.2657943</td>\n",
       "<td>0.2611075</td>\n",
       "<td>0.2655162</td>\n",
       "<td>0.2673122</td></tr>\n",
       "<tr><td>f1</td>\n",
       "<td>0.3019180</td>\n",
       "<td>0.0043084</td>\n",
       "<td>0.2996739</td>\n",
       "<td>0.3062652</td>\n",
       "<td>0.2910176</td>\n",
       "<td>0.3077608</td>\n",
       "<td>0.3048724</td></tr>\n",
       "<tr><td>f2</td>\n",
       "<td>0.3580730</td>\n",
       "<td>0.0119061</td>\n",
       "<td>0.3797196</td>\n",
       "<td>0.3612742</td>\n",
       "<td>0.3286666</td>\n",
       "<td>0.3659914</td>\n",
       "<td>0.3547133</td></tr>\n",
       "<tr><td>lift_top_group</td>\n",
       "<td>5.6957946</td>\n",
       "<td>0.1789705</td>\n",
       "<td>5.928988</td>\n",
       "<td>5.969321</td>\n",
       "<td>5.2620068</td>\n",
       "<td>5.6475587</td>\n",
       "<td>5.671099</td></tr>\n",
       "<tr><td>logloss</td>\n",
       "<td>0.2486851</td>\n",
       "<td>0.0007861</td>\n",
       "<td>0.2488645</td>\n",
       "<td>0.2506464</td>\n",
       "<td>0.2475719</td>\n",
       "<td>0.2476552</td>\n",
       "<td>0.2486877</td></tr>\n",
       "<tr><td>max_per_class_error</td>\n",
       "<td>0.5901968</td>\n",
       "<td>0.0233522</td>\n",
       "<td>0.5380129</td>\n",
       "<td>0.5895817</td>\n",
       "<td>0.6403114</td>\n",
       "<td>0.5811793</td>\n",
       "<td>0.6018986</td></tr>\n",
       "<tr><td>mcc</td>\n",
       "<td>0.2333806</td>\n",
       "<td>0.0043752</td>\n",
       "<td>0.2327312</td>\n",
       "<td>0.2364219</td>\n",
       "<td>0.2218152</td>\n",
       "<td>0.2396877</td>\n",
       "<td>0.2362472</td></tr>\n",
       "<tr><td>mean_per_class_accuracy</td>\n",
       "<td>0.6476229</td>\n",
       "<td>0.0065028</td>\n",
       "<td>0.6597632</td>\n",
       "<td>0.6484981</td>\n",
       "<td>0.6317844</td>\n",
       "<td>0.6521864</td>\n",
       "<td>0.6458826</td></tr>\n",
       "<tr><td>mean_per_class_error</td>\n",
       "<td>0.3523771</td>\n",
       "<td>0.0065028</td>\n",
       "<td>0.3402368</td>\n",
       "<td>0.3515019</td>\n",
       "<td>0.3682156</td>\n",
       "<td>0.3478136</td>\n",
       "<td>0.3541175</td></tr>\n",
       "<tr><td>mse</td>\n",
       "<td>0.0682608</td>\n",
       "<td>0.0002860</td>\n",
       "<td>0.0682910</td>\n",
       "<td>0.0689736</td>\n",
       "<td>0.0677247</td>\n",
       "<td>0.0681496</td>\n",
       "<td>0.0681649</td></tr>\n",
       "<tr><td>precision</td>\n",
       "<td>0.2401358</td>\n",
       "<td>0.0065561</td>\n",
       "<td>0.2217610</td>\n",
       "<td>0.2442748</td>\n",
       "<td>0.2443640</td>\n",
       "<td>0.2432559</td>\n",
       "<td>0.2470234</td></tr>\n",
       "<tr><td>r2</td>\n",
       "<td>0.0801382</td>\n",
       "<td>0.0020580</td>\n",
       "<td>0.0802293</td>\n",
       "<td>0.0837490</td>\n",
       "<td>0.0750228</td>\n",
       "<td>0.0818793</td>\n",
       "<td>0.0798105</td></tr>\n",
       "<tr><td>recall</td>\n",
       "<td>0.4098032</td>\n",
       "<td>0.0233522</td>\n",
       "<td>0.4619871</td>\n",
       "<td>0.4104183</td>\n",
       "<td>0.3596886</td>\n",
       "<td>0.4188207</td>\n",
       "<td>0.3981014</td></tr>\n",
       "<tr><td>rmse</td>\n",
       "<td>0.2612665</td>\n",
       "<td>0.0005469</td>\n",
       "<td>0.2613255</td>\n",
       "<td>0.2626283</td>\n",
       "<td>0.2602396</td>\n",
       "<td>0.2610548</td>\n",
       "<td>0.2610841</td></tr>\n",
       "<tr><td>specificity</td>\n",
       "<td>0.8854426</td>\n",
       "<td>0.0108969</td>\n",
       "<td>0.8575392</td>\n",
       "<td>0.8865780</td>\n",
       "<td>0.9038802</td>\n",
       "<td>0.8855521</td>\n",
       "<td>0.8936637</td></tr></table></div>"
      ],
      "text/plain": [
       "                         mean       sd           cv_1_valid    cv_2_valid    cv_3_valid    cv_4_valid    cv_5_valid\n",
       "-----------------------  ---------  -----------  ------------  ------------  ------------  ------------  ------------\n",
       "accuracy                 0.847063   0.00830394   0.82559       0.847532      0.860592      0.847865      0.853737\n",
       "auc                      0.752981   0.0029371    0.751995      0.754881      0.747557      0.759824      0.75065\n",
       "err                      0.152937   0.00830394   0.17441       0.152468      0.139408      0.152135      0.146263\n",
       "err_count                9406.6     516.932      10736         9423          8556          9330          8988\n",
       "f0point5                 0.261446   0.00514282   0.2475        0.265794      0.261107      0.265516      0.267312\n",
       "f1                       0.301918   0.00430837   0.299674      0.306265      0.291018      0.307761      0.304872\n",
       "f2                       0.358073   0.0119061    0.37972       0.361274      0.328667      0.365991      0.354713\n",
       "lift_top_group           5.69579    0.17897      5.92899       5.96932       5.26201       5.64756       5.6711\n",
       "logloss                  0.248685   0.000786063  0.248864      0.250646      0.247572      0.247655      0.248688\n",
       "max_per_class_error      0.590197   0.0233522    0.538013      0.589582      0.640311      0.581179      0.601899\n",
       "mcc                      0.233381   0.00437523   0.232731      0.236422      0.221815      0.239688      0.236247\n",
       "mean_per_class_accuracy  0.647623   0.0065028    0.659763      0.648498      0.631784      0.652186      0.645883\n",
       "mean_per_class_error     0.352377   0.0065028    0.340237      0.351502      0.368216      0.347814      0.354117\n",
       "mse                      0.0682608  0.00028601   0.068291      0.0689736     0.0677247     0.0681496     0.0681649\n",
       "precision                0.240136   0.00655606   0.221761      0.244275      0.244364      0.243256      0.247023\n",
       "r2                       0.0801382  0.00205795   0.0802293     0.083749      0.0750228     0.0818793     0.0798105\n",
       "recall                   0.409803   0.0233522    0.461987      0.410418      0.359689      0.418821      0.398101\n",
       "rmse                     0.261266   0.000546853  0.261325      0.262628      0.26024       0.261055      0.261084\n",
       "specificity              0.885443   0.0108969    0.857539      0.886578      0.90388       0.885552      0.893664"
      ]
     },
     "metadata": {},
     "output_type": "display_data"
    },
    {
     "name": "stdout",
     "output_type": "stream",
     "text": [
      "Scoring History: \n"
     ]
    },
    {
     "data": {
      "text/html": [
       "<div style=\"overflow:auto\"><table style=\"width:50%\"><tr><td><b></b></td>\n",
       "<td><b>timestamp</b></td>\n",
       "<td><b>duration</b></td>\n",
       "<td><b>number_of_trees</b></td>\n",
       "<td><b>training_rmse</b></td>\n",
       "<td><b>training_logloss</b></td>\n",
       "<td><b>training_auc</b></td>\n",
       "<td><b>training_lift</b></td>\n",
       "<td><b>training_classification_error</b></td></tr>\n",
       "<tr><td></td>\n",
       "<td>2020-04-07 10:33:33</td>\n",
       "<td> 1 min 52.648 sec</td>\n",
       "<td>0.0</td>\n",
       "<td>0.2724182</td>\n",
       "<td>0.2805458</td>\n",
       "<td>0.5</td>\n",
       "<td>1.0</td>\n",
       "<td>0.9192712</td></tr>\n",
       "<tr><td></td>\n",
       "<td>2020-04-07 10:33:35</td>\n",
       "<td> 1 min 55.171 sec</td>\n",
       "<td>5.0</td>\n",
       "<td>0.2668205</td>\n",
       "<td>0.2637221</td>\n",
       "<td>0.7272605</td>\n",
       "<td>5.1727002</td>\n",
       "<td>0.1596658</td></tr>\n",
       "<tr><td></td>\n",
       "<td>2020-04-07 10:33:37</td>\n",
       "<td> 1 min 57.316 sec</td>\n",
       "<td>10.0</td>\n",
       "<td>0.2642831</td>\n",
       "<td>0.2571275</td>\n",
       "<td>0.7354499</td>\n",
       "<td>5.5411959</td>\n",
       "<td>0.1580952</td></tr>\n",
       "<tr><td></td>\n",
       "<td>2020-04-07 10:33:39</td>\n",
       "<td> 1 min 59.416 sec</td>\n",
       "<td>15.0</td>\n",
       "<td>0.2628213</td>\n",
       "<td>0.2533722</td>\n",
       "<td>0.7422729</td>\n",
       "<td>5.8821887</td>\n",
       "<td>0.1514157</td></tr>\n",
       "<tr><td></td>\n",
       "<td>2020-04-07 10:33:41</td>\n",
       "<td> 2 min  1.572 sec</td>\n",
       "<td>20.0</td>\n",
       "<td>0.2616419</td>\n",
       "<td>0.2504927</td>\n",
       "<td>0.7502079</td>\n",
       "<td>6.2298183</td>\n",
       "<td>0.1476272</td></tr>\n",
       "<tr><td></td>\n",
       "<td>2020-04-07 10:33:44</td>\n",
       "<td> 2 min  3.697 sec</td>\n",
       "<td>25.0</td>\n",
       "<td>0.2606626</td>\n",
       "<td>0.2481332</td>\n",
       "<td>0.7572697</td>\n",
       "<td>6.5358727</td>\n",
       "<td>0.1432372</td></tr>\n",
       "<tr><td></td>\n",
       "<td>2020-04-07 10:33:46</td>\n",
       "<td> 2 min  5.854 sec</td>\n",
       "<td>30.0</td>\n",
       "<td>0.2598579</td>\n",
       "<td>0.2463295</td>\n",
       "<td>0.7622283</td>\n",
       "<td>6.7050081</td>\n",
       "<td>0.1325676</td></tr>\n",
       "<tr><td></td>\n",
       "<td>2020-04-07 10:33:48</td>\n",
       "<td> 2 min  7.986 sec</td>\n",
       "<td>35.0</td>\n",
       "<td>0.2591319</td>\n",
       "<td>0.2446676</td>\n",
       "<td>0.7668006</td>\n",
       "<td>6.9103867</td>\n",
       "<td>0.1372504</td></tr>\n",
       "<tr><td></td>\n",
       "<td>2020-04-07 10:33:50</td>\n",
       "<td> 2 min 10.132 sec</td>\n",
       "<td>40.0</td>\n",
       "<td>0.2585223</td>\n",
       "<td>0.2433361</td>\n",
       "<td>0.7703246</td>\n",
       "<td>7.0593869</td>\n",
       "<td>0.1346391</td></tr></table></div>"
      ],
      "text/plain": [
       "    timestamp            duration          number_of_trees    training_rmse    training_logloss    training_auc    training_lift    training_classification_error\n",
       "--  -------------------  ----------------  -----------------  ---------------  ------------------  --------------  ---------------  -------------------------------\n",
       "    2020-04-07 10:33:33  1 min 52.648 sec  0                  0.272418         0.280546            0.5             1                0.919271\n",
       "    2020-04-07 10:33:35  1 min 55.171 sec  5                  0.266821         0.263722            0.72726         5.1727           0.159666\n",
       "    2020-04-07 10:33:37  1 min 57.316 sec  10                 0.264283         0.257127            0.73545         5.5412           0.158095\n",
       "    2020-04-07 10:33:39  1 min 59.416 sec  15                 0.262821         0.253372            0.742273        5.88219          0.151416\n",
       "    2020-04-07 10:33:41  2 min  1.572 sec  20                 0.261642         0.250493            0.750208        6.22982          0.147627\n",
       "    2020-04-07 10:33:44  2 min  3.697 sec  25                 0.260663         0.248133            0.75727         6.53587          0.143237\n",
       "    2020-04-07 10:33:46  2 min  5.854 sec  30                 0.259858         0.24633             0.762228        6.70501          0.132568\n",
       "    2020-04-07 10:33:48  2 min  7.986 sec  35                 0.259132         0.244668            0.766801        6.91039          0.13725\n",
       "    2020-04-07 10:33:50  2 min 10.132 sec  40                 0.258522         0.243336            0.770325        7.05939          0.134639"
      ]
     },
     "metadata": {},
     "output_type": "display_data"
    },
    {
     "name": "stdout",
     "output_type": "stream",
     "text": [
      "Variable Importances: \n"
     ]
    },
    {
     "data": {
      "text/html": [
       "<div style=\"overflow:auto\"><table style=\"width:50%\"><tr><td><b>variable</b></td>\n",
       "<td><b>relative_importance</b></td>\n",
       "<td><b>scaled_importance</b></td>\n",
       "<td><b>percentage</b></td></tr>\n",
       "<tr><td>EXT_SOURCE_3</td>\n",
       "<td>3074.6318359</td>\n",
       "<td>1.0</td>\n",
       "<td>0.2882274</td></tr>\n",
       "<tr><td>EXT_SOURCE_2</td>\n",
       "<td>2961.3374023</td>\n",
       "<td>0.9631519</td>\n",
       "<td>0.2776068</td></tr>\n",
       "<tr><td>ORGANIZATION_TYPE</td>\n",
       "<td>979.1815186</td>\n",
       "<td>0.3184711</td>\n",
       "<td>0.0917921</td></tr>\n",
       "<tr><td>EXT_SOURCE_1</td>\n",
       "<td>691.2372437</td>\n",
       "<td>0.2248195</td>\n",
       "<td>0.0647992</td></tr>\n",
       "<tr><td>OCCUPATION_TYPE</td>\n",
       "<td>268.5284729</td>\n",
       "<td>0.0873368</td>\n",
       "<td>0.0251729</td></tr>\n",
       "<tr><td>---</td>\n",
       "<td>---</td>\n",
       "<td>---</td>\n",
       "<td>---</td></tr>\n",
       "<tr><td>max(CREDIT_DAY_OVERDUE)</td>\n",
       "<td>0.0</td>\n",
       "<td>0.0</td>\n",
       "<td>0.0</td></tr>\n",
       "<tr><td>max(AMT_CREDIT_MAX_OVERDUE)</td>\n",
       "<td>0.0</td>\n",
       "<td>0.0</td>\n",
       "<td>0.0</td></tr>\n",
       "<tr><td>max(CNT_CREDIT_PROLONG)</td>\n",
       "<td>0.0</td>\n",
       "<td>0.0</td>\n",
       "<td>0.0</td></tr>\n",
       "<tr><td>max(AMT_CREDIT_SUM)</td>\n",
       "<td>0.0</td>\n",
       "<td>0.0</td>\n",
       "<td>0.0</td></tr>\n",
       "<tr><td>max(AMT_ANNUITY)</td>\n",
       "<td>0.0</td>\n",
       "<td>0.0</td>\n",
       "<td>0.0</td></tr></table></div>"
      ],
      "text/plain": [
       "variable                     relative_importance    scaled_importance    percentage\n",
       "---------------------------  ---------------------  -------------------  -------------------\n",
       "EXT_SOURCE_3                 3074.6318359375        1.0                  0.2882274316567876\n",
       "EXT_SOURCE_2                 2961.33740234375       0.9631518699996792   0.2776067897854397\n",
       "ORGANIZATION_TYPE            979.1815185546875      0.31847114412516997  0.09179211992799638\n",
       "EXT_SOURCE_1                 691.2372436523438      0.22481951678665796  0.06479915190973846\n",
       "OCCUPATION_TYPE              268.5284729003906      0.08733678932278159  0.02517285847565529\n",
       "---                          ---                    ---                  ---\n",
       "max(CREDIT_DAY_OVERDUE)      0.0                    0.0                  0.0\n",
       "max(AMT_CREDIT_MAX_OVERDUE)  0.0                    0.0                  0.0\n",
       "max(CNT_CREDIT_PROLONG)      0.0                    0.0                  0.0\n",
       "max(AMT_CREDIT_SUM)          0.0                    0.0                  0.0\n",
       "max(AMT_ANNUITY)             0.0                    0.0                  0.0"
      ]
     },
     "metadata": {},
     "output_type": "display_data"
    },
    {
     "name": "stdout",
     "output_type": "stream",
     "text": [
      "\n",
      "See the whole table with table.as_data_frame()\n"
     ]
    },
    {
     "data": {
      "text/plain": []
     },
     "execution_count": 22,
     "metadata": {},
     "output_type": "execute_result"
    }
   ],
   "source": [
    "gbm_model"
   ]
  },
  {
   "cell_type": "code",
   "execution_count": 31,
   "metadata": {},
   "outputs": [
    {
     "name": "stdout",
     "output_type": "stream",
     "text": [
      "Training Data\n"
     ]
    },
    {
     "data": {
      "image/png": "[encoded data removed]",
      "text/plain": [
       "<Figure size 432x288 with 1 Axes>"
      ]
     },
     "metadata": {
      "needs_background": "light"
     },
     "output_type": "display_data"
    },
    {
     "name": "stdout",
     "output_type": "stream",
     "text": [
      "X-Val\n"
     ]
    },
    {
     "data": {
      "image/png": "[encoded data removed]",
      "text/plain": [
       "<Figure size 432x288 with 1 Axes>"
      ]
     },
     "metadata": {
      "needs_background": "light"
     },
     "output_type": "display_data"
    }
   ],
   "source": [
    "print(\"Training Data\")\n",
    "gbm_model.model_performance(train = True).plot()\n",
    "print(\"X-Val\")\n",
    "gbm_model.model_performance(xval=True).plot()"
   ]
  },
  {
   "cell_type": "code",
   "execution_count": 23,
   "metadata": {},
   "outputs": [
    {
     "data": {
      "text/plain": [
       "<Figure size 1400x1000 with 1 Axes>"
      ]
     },
     "metadata": {},
     "output_type": "display_data"
    }
   ],
   "source": [
    "gbm_model.varimp_plot(20)"
   ]
  },
  {
   "cell_type": "markdown",
   "metadata": {},
   "source": [
    "## Auto ML"
   ]
  },
  {
   "cell_type": "code",
   "execution_count": 24,
   "metadata": {},
   "outputs": [
    {
     "data": {
      "text/html": [
       "<table>\n",
       "<thead>\n",
       "<tr><th>model_id                                             </th><th style=\"text-align: right;\">     auc</th><th style=\"text-align: right;\">  logloss</th></tr>\n",
       "</thead>\n",
       "<tbody>\n",
       "<tr><td>StackedEnsemble_AllModels_0_AutoML_20200407_103351   </td><td style=\"text-align: right;\">0.752267</td><td style=\"text-align: right;\"> 0.252742</td></tr>\n",
       "<tr><td>StackedEnsemble_BestOfFamily_0_AutoML_20200407_103351</td><td style=\"text-align: right;\">0.752267</td><td style=\"text-align: right;\"> 0.252742</td></tr>\n",
       "<tr><td>GLM_grid_0_AutoML_20200407_103351_model_0            </td><td style=\"text-align: right;\">0.752038</td><td style=\"text-align: right;\"> 0.249813</td></tr>\n",
       "<tr><td>DRF_0_AutoML_20200407_103351                         </td><td style=\"text-align: right;\">0.720168</td><td style=\"text-align: right;\"> 0.25738 </td></tr>\n",
       "<tr><td>XRT_0_AutoML_20200407_103351                         </td><td style=\"text-align: right;\">0.718164</td><td style=\"text-align: right;\"> 0.258593</td></tr>\n",
       "</tbody>\n",
       "</table>"
      ]
     },
     "metadata": {},
     "output_type": "display_data"
    },
    {
     "data": {
      "text/plain": []
     },
     "execution_count": 24,
     "metadata": {},
     "output_type": "execute_result"
    }
   ],
   "source": [
    "aml.leaderboard"
   ]
  },
  {
   "cell_type": "markdown",
   "metadata": {},
   "source": [
    "# Deployment"
   ]
  },
  {
   "cell_type": "markdown",
   "metadata": {},
   "source": [
    "Use the model for new data."
   ]
  },
  {
   "cell_type": "code",
   "execution_count": 25,
   "metadata": {},
   "outputs": [
    {
     "name": "stdout",
     "output_type": "stream",
     "text": [
      "Parse progress: |█████████████████████████████████████████████████████████| 100%\n",
      "stackedensemble prediction progress: |████████████████████████████████████| 100%\n"
     ]
    }
   ],
   "source": [
    "notFeatures = ['TARGET', 'SK_ID_CURR', 'SK_ID_CURR_MIN', 'SK_ID_CURR_MAX', 'SK_ID_CURR_BUR_MIN', 'SK_ID_CURR_BUR_MAX']\n",
    "for notFeature in notFeatures:\n",
    "    del median_dict[notFeature]\n",
    "sparkApplicationDataTest = sparkApplicationDataTest.na.fill(median_dict)\n",
    "sparkApplicationDataTest.write\\\n",
    "        .format(\"com.databricks.spark.csv\")\\\n",
    "        .option(\"header\", \"true\")\\\n",
    "        .mode(\"overwrite\")\\\n",
    "        .save('Data/preparedTest.csv')\n",
    "df_test = h2o.import_file('Data/preparedTest.csv')\n",
    "pred = aml.leader.predict(df_test)"
   ]
  },
  {
   "cell_type": "code",
   "execution_count": 26,
   "metadata": {},
   "outputs": [],
   "source": [
    "predFrame = pred.as_data_frame()\n",
    "predFrame.to_csv('Data/pred.csv', index=False) "
   ]
  },
  {
   "cell_type": "code",
   "execution_count": 30,
   "metadata": {},
   "outputs": [],
   "source": [
    "spark.stop() #closing the spark session"
   ]
  },
  {
   "cell_type": "code",
   "execution_count": null,
   "metadata": {},
   "outputs": [],
   "source": []
  }
 ],
 "metadata": {
  "kernelspec": {
   "display_name": "Python 3",
   "language": "python",
   "name": "python3"
  },
  "language_info": {
   "codemirror_mode": {
    "name": "ipython",
    "version": 3
   },
   "file_extension": ".py",
   "mimetype": "text/x-python",
   "name": "python",
   "nbconvert_exporter": "python",
   "pygments_lexer": "ipython3",
   "version": "3.7.4"
  }
 },
 "nbformat": 4,
 "nbformat_minor": 2
}
